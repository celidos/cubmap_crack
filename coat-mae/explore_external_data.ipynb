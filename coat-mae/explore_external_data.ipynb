{
 "cells": [
  {
   "cell_type": "code",
   "execution_count": 1,
   "metadata": {},
   "outputs": [],
   "source": [
    "import os\n",
    "from glob import glob\n",
    "import sys\n",
    "\n",
    "\n",
    "import cv2 as cv\n",
    "from matplotlib import pyplot as plt\n",
    "from tqdm import tqdm"
   ]
  },
  {
   "cell_type": "markdown",
   "metadata": {},
   "source": [
    "# reading data"
   ]
  },
  {
   "cell_type": "code",
   "execution_count": 5,
   "metadata": {},
   "outputs": [],
   "source": [
    "# !cd ./data && wget -L \"https://warwick.ac.uk/fac/cross_fac/tia/data/glascontest/download/warwick_qu_dataset_released_2016_07_08.zip\""
   ]
  },
  {
   "cell_type": "code",
   "execution_count": 6,
   "metadata": {},
   "outputs": [],
   "source": [
    "# !cd ./data && unzip warwick_qu_dataset_released_2016_07_08.zip"
   ]
  },
  {
   "cell_type": "code",
   "execution_count": 7,
   "metadata": {},
   "outputs": [],
   "source": [
    "# !rm -rf ./data/__MACOSX/"
   ]
  },
  {
   "cell_type": "code",
   "execution_count": 9,
   "metadata": {},
   "outputs": [
    {
     "name": "stdout",
     "output_type": "stream",
     "text": [
      "Grade.csv\t   testA_47_anno.bmp  train_12.bmp\t train_5.bmp\r\n",
      "testA_1.bmp\t   testA_48.bmp       train_12_anno.bmp  train_50.bmp\r\n",
      "testA_10.bmp\t   testA_48_anno.bmp  train_13.bmp\t train_50_anno.bmp\r\n",
      "testA_10_anno.bmp  testA_49.bmp       train_13_anno.bmp  train_51.bmp\r\n",
      "testA_11.bmp\t   testA_49_anno.bmp  train_14.bmp\t train_51_anno.bmp\r\n",
      "testA_11_anno.bmp  testA_4_anno.bmp   train_14_anno.bmp  train_52.bmp\r\n",
      "testA_12.bmp\t   testA_5.bmp\t      train_15.bmp\t train_52_anno.bmp\r\n",
      "testA_12_anno.bmp  testA_50.bmp       train_15_anno.bmp  train_53.bmp\r\n",
      "testA_13.bmp\t   testA_50_anno.bmp  train_16.bmp\t train_53_anno.bmp\r\n",
      "testA_13_anno.bmp  testA_51.bmp       train_16_anno.bmp  train_54.bmp\r\n",
      "testA_14.bmp\t   testA_51_anno.bmp  train_17.bmp\t train_54_anno.bmp\r\n",
      "testA_14_anno.bmp  testA_52.bmp       train_17_anno.bmp  train_55.bmp\r\n",
      "testA_15.bmp\t   testA_52_anno.bmp  train_18.bmp\t train_55_anno.bmp\r\n",
      "testA_15_anno.bmp  testA_53.bmp       train_18_anno.bmp  train_56.bmp\r\n",
      "testA_16.bmp\t   testA_53_anno.bmp  train_19.bmp\t train_56_anno.bmp\r\n",
      "testA_16_anno.bmp  testA_54.bmp       train_19_anno.bmp  train_57.bmp\r\n",
      "testA_17.bmp\t   testA_54_anno.bmp  train_1_anno.bmp\t train_57_anno.bmp\r\n",
      "testA_17_anno.bmp  testA_55.bmp       train_2.bmp\t train_58.bmp\r\n",
      "testA_18.bmp\t   testA_55_anno.bmp  train_20.bmp\t train_58_anno.bmp\r\n",
      "testA_18_anno.bmp  testA_56.bmp       train_20_anno.bmp  train_59.bmp\r\n",
      "testA_19.bmp\t   testA_56_anno.bmp  train_21.bmp\t train_59_anno.bmp\r\n",
      "testA_19_anno.bmp  testA_57.bmp       train_21_anno.bmp  train_5_anno.bmp\r\n",
      "testA_1_anno.bmp   testA_57_anno.bmp  train_22.bmp\t train_6.bmp\r\n",
      "testA_2.bmp\t   testA_58.bmp       train_22_anno.bmp  train_60.bmp\r\n",
      "testA_20.bmp\t   testA_58_anno.bmp  train_23.bmp\t train_60_anno.bmp\r\n",
      "testA_20_anno.bmp  testA_59.bmp       train_23_anno.bmp  train_61.bmp\r\n",
      "testA_21.bmp\t   testA_59_anno.bmp  train_24.bmp\t train_61_anno.bmp\r\n",
      "testA_21_anno.bmp  testA_5_anno.bmp   train_24_anno.bmp  train_62.bmp\r\n",
      "testA_22.bmp\t   testA_6.bmp\t      train_25.bmp\t train_62_anno.bmp\r\n",
      "testA_22_anno.bmp  testA_60.bmp       train_25_anno.bmp  train_63.bmp\r\n",
      "testA_23.bmp\t   testA_60_anno.bmp  train_26.bmp\t train_63_anno.bmp\r\n",
      "testA_23_anno.bmp  testA_6_anno.bmp   train_26_anno.bmp  train_64.bmp\r\n",
      "testA_24.bmp\t   testA_7.bmp\t      train_27.bmp\t train_64_anno.bmp\r\n",
      "testA_24_anno.bmp  testA_7_anno.bmp   train_27_anno.bmp  train_65.bmp\r\n",
      "testA_25.bmp\t   testA_8.bmp\t      train_28.bmp\t train_65_anno.bmp\r\n",
      "testA_25_anno.bmp  testA_8_anno.bmp   train_28_anno.bmp  train_66.bmp\r\n",
      "testA_26.bmp\t   testA_9.bmp\t      train_29.bmp\t train_66_anno.bmp\r\n",
      "testA_26_anno.bmp  testA_9_anno.bmp   train_29_anno.bmp  train_67.bmp\r\n",
      "testA_27.bmp\t   testB_1.bmp\t      train_2_anno.bmp\t train_67_anno.bmp\r\n",
      "testA_27_anno.bmp  testB_10.bmp       train_3.bmp\t train_68.bmp\r\n",
      "testA_28.bmp\t   testB_10_anno.bmp  train_30.bmp\t train_68_anno.bmp\r\n",
      "testA_28_anno.bmp  testB_11.bmp       train_30_anno.bmp  train_69.bmp\r\n",
      "testA_29.bmp\t   testB_11_anno.bmp  train_31.bmp\t train_69_anno.bmp\r\n",
      "testA_29_anno.bmp  testB_12.bmp       train_31_anno.bmp  train_6_anno.bmp\r\n",
      "testA_2_anno.bmp   testB_12_anno.bmp  train_32.bmp\t train_7.bmp\r\n",
      "testA_3.bmp\t   testB_13.bmp       train_32_anno.bmp  train_70.bmp\r\n",
      "testA_30.bmp\t   testB_13_anno.bmp  train_33.bmp\t train_70_anno.bmp\r\n",
      "testA_30_anno.bmp  testB_14.bmp       train_33_anno.bmp  train_71.bmp\r\n",
      "testA_31.bmp\t   testB_14_anno.bmp  train_34.bmp\t train_71_anno.bmp\r\n",
      "testA_31_anno.bmp  testB_15.bmp       train_34_anno.bmp  train_72.bmp\r\n",
      "testA_32.bmp\t   testB_15_anno.bmp  train_35.bmp\t train_72_anno.bmp\r\n",
      "testA_32_anno.bmp  testB_16.bmp       train_35_anno.bmp  train_73.bmp\r\n",
      "testA_33.bmp\t   testB_16_anno.bmp  train_36.bmp\t train_73_anno.bmp\r\n",
      "testA_33_anno.bmp  testB_17.bmp       train_36_anno.bmp  train_74.bmp\r\n",
      "testA_34.bmp\t   testB_17_anno.bmp  train_37.bmp\t train_74_anno.bmp\r\n",
      "testA_34_anno.bmp  testB_18.bmp       train_37_anno.bmp  train_75.bmp\r\n",
      "testA_35.bmp\t   testB_18_anno.bmp  train_38.bmp\t train_75_anno.bmp\r\n",
      "testA_35_anno.bmp  testB_19.bmp       train_38_anno.bmp  train_76.bmp\r\n",
      "testA_36.bmp\t   testB_19_anno.bmp  train_39.bmp\t train_76_anno.bmp\r\n",
      "testA_36_anno.bmp  testB_1_anno.bmp   train_39_anno.bmp  train_77.bmp\r\n",
      "testA_37.bmp\t   testB_2.bmp\t      train_3_anno.bmp\t train_77_anno.bmp\r\n",
      "testA_37_anno.bmp  testB_20.bmp       train_4.bmp\t train_78.bmp\r\n",
      "testA_38.bmp\t   testB_20_anno.bmp  train_40.bmp\t train_78_anno.bmp\r\n",
      "testA_38_anno.bmp  testB_2_anno.bmp   train_40_anno.bmp  train_79.bmp\r\n",
      "testA_39.bmp\t   testB_3.bmp\t      train_41.bmp\t train_79_anno.bmp\r\n",
      "testA_39_anno.bmp  testB_3_anno.bmp   train_41_anno.bmp  train_7_anno.bmp\r\n",
      "testA_3_anno.bmp   testB_4.bmp\t      train_42.bmp\t train_8.bmp\r\n",
      "testA_4.bmp\t   testB_4_anno.bmp   train_42_anno.bmp  train_80.bmp\r\n",
      "testA_40.bmp\t   testB_5.bmp\t      train_43.bmp\t train_80_anno.bmp\r\n",
      "testA_40_anno.bmp  testB_5_anno.bmp   train_43_anno.bmp  train_81.bmp\r\n",
      "testA_41.bmp\t   testB_6.bmp\t      train_44.bmp\t train_81_anno.bmp\r\n",
      "testA_41_anno.bmp  testB_6_anno.bmp   train_44_anno.bmp  train_82.bmp\r\n",
      "testA_42.bmp\t   testB_7.bmp\t      train_45.bmp\t train_82_anno.bmp\r\n",
      "testA_42_anno.bmp  testB_7_anno.bmp   train_45_anno.bmp  train_83.bmp\r\n",
      "testA_43.bmp\t   testB_8.bmp\t      train_46.bmp\t train_83_anno.bmp\r\n",
      "testA_43_anno.bmp  testB_8_anno.bmp   train_46_anno.bmp  train_84.bmp\r\n",
      "testA_44.bmp\t   testB_9.bmp\t      train_47.bmp\t train_84_anno.bmp\r\n",
      "testA_44_anno.bmp  testB_9_anno.bmp   train_47_anno.bmp  train_85.bmp\r\n",
      "testA_45.bmp\t   train_1.bmp\t      train_48.bmp\t train_85_anno.bmp\r\n",
      "testA_45_anno.bmp  train_10.bmp       train_48_anno.bmp  train_8_anno.bmp\r\n",
      "testA_46.bmp\t   train_10_anno.bmp  train_49.bmp\t train_9.bmp\r\n",
      "testA_46_anno.bmp  train_11.bmp       train_49_anno.bmp  train_9_anno.bmp\r\n",
      "testA_47.bmp\t   train_11_anno.bmp  train_4_anno.bmp\r\n"
     ]
    }
   ],
   "source": [
    "!cd ./data && ls Warwick\\ QU\\ Dataset\\ \\(Released\\ 2016_07_08\\)"
   ]
  },
  {
   "cell_type": "code",
   "execution_count": null,
   "metadata": {
    "scrolled": false
   },
   "outputs": [],
   "source": [
    "for fname in glob('./data/Warwick QU Dataset (Released 2016_07_08)/*.bmp'):\n",
    "    if '_anno' not in fname:\n",
    "        img = cv.imread(fname)[:, :, ::-1]\n",
    "        plt.imshow(img)\n",
    "        plt.show()\n",
    "        break"
   ]
  },
  {
   "cell_type": "code",
   "execution_count": 2,
   "metadata": {},
   "outputs": [
    {
     "name": "stdout",
     "output_type": "stream",
     "text": [
      "The name is too long, 452 chars total.\n",
      "Trying to shorten...\n",
      "New name is ADt3v-NSCEK7awzq1Hwb7Bnp7geKGmKHVX36nBNdtWLXPnIaqizS_dkItVcAYdOxaPMTrX_40KbNAsxKX4Zd2h9sFM6ptZKt5K8qSqZtoneVKQk1Jxc7FSOnEzyZpFert5zR372EH2NBYHxCzvreZYyvn_7WF8n9YEjsjVYv6jePX9zaYpUUiC5lVvJaNdj4tIZYNdZj_IsG0ZeTuBW_vzsDw0Hp12EQgkpKvGoZWEat.\n",
      "--2022-09-02 21:24:12--  https://doc-7g-6o-drive-data-export.googleusercontent.com/download/4emg3lm7l76e177bmk1eh33660hkjquk/aeo11k4vetsl58iara1tf1j0khvrjsbc/1662151500000/ebb179f4-01ed-4cd6-b8a9-08d42a6136c1/106109785466818022806/ADt3v-NSCEK7awzq1Hwb7Bnp7geKGmKHVX36nBNdtWLXPnIaqizS_dkItVcAYdOxaPMTrX_40KbNAsxKX4Zd2h9sFM6ptZKt5K8qSqZtoneVKQk1Jxc7FSOnEzyZpFert5zR372EH2NBYHxCzvreZYyvn_7WF8n9YEjsjVYv6jePX9zaYpUUiC5lVvJaNdj4tIZYNdZj_IsG0ZeTuBW_vzsDw0Hp12EQgkpKvGoZWEatvH4JJ6BVUU0ejT3AcwBVETUol98cIC6Se82xKPh4wAOWlRWvUaaI21-w0YbpoHT3KB3t9V0WbQ3NIWkxT-kU92kEBXyAugLGNAMydLHj778mkpc53Tvxlw==?authuser=0&nonce=a9mpgutreqr1i&user=106109785466818022806&hash=r4i76uinf49c88b5ndit2sskeird1ba8\n",
      "Resolving doc-7g-6o-drive-data-export.googleusercontent.com (doc-7g-6o-drive-data-export.googleusercontent.com)... 142.250.189.193, 2607:f8b0:4005:80d::2001\n",
      "Connecting to doc-7g-6o-drive-data-export.googleusercontent.com (doc-7g-6o-drive-data-export.googleusercontent.com)|142.250.189.193|:443... connected.\n",
      "HTTP request sent, awaiting response... 302 Found\n",
      "Location: https://takeout.google.com/u/0/settings/takeout/download/authenticate?nonce=4uva7tbhrl0l4&continue=https://doc-7g-6o-drive-data-export.googleusercontent.com/download/4emg3lm7l76e177bmk1eh33660hkjquk/aeo11k4vetsl58iara1tf1j0khvrjsbc/1662151500000/ebb179f4-01ed-4cd6-b8a9-08d42a6136c1/106109785466818022806/ADt3v-NSCEK7awzq1Hwb7Bnp7geKGmKHVX36nBNdtWLXPnIaqizS_dkItVcAYdOxaPMTrX_40KbNAsxKX4Zd2h9sFM6ptZKt5K8qSqZtoneVKQk1Jxc7FSOnEzyZpFert5zR372EH2NBYHxCzvreZYyvn_7WF8n9YEjsjVYv6jePX9zaYpUUiC5lVvJaNdj4tIZYNdZj_IsG0ZeTuBW_vzsDw0Hp12EQgkpKvGoZWEatvH4JJ6BVUU0ejT3AcwBVETUol98cIC6Se82xKPh4wAOWlRWvUaaI21-w0YbpoHT3KB3t9V0WbQ3NIWkxT-kU92kEBXyAugLGNAMydLHj778mkpc53Tvxlw%3D%3D?nonce%3Da9mpgutreqr1i%26user%3D106109785466818022806%26authuser%3D0%26hash%3Dr4i76uinf49c88b5ndit2sskeird1ba8&hash=jk8npl8k0av1vtsdrgltes532gmgdr8a [following]\n",
      "The name is too long, 452 chars total.\n",
      "Trying to shorten...\n",
      "New name is ADt3v-NSCEK7awzq1Hwb7Bnp7geKGmKHVX36nBNdtWLXPnIaqizS_dkItVcAYdOxaPMTrX_40KbNAsxKX4Zd2h9sFM6ptZKt5K8qSqZtoneVKQk1Jxc7FSOnEzyZpFert5zR372EH2NBYHxCzvreZYyvn_7WF8n9YEjsjVYv6jePX9zaYpUUiC5lVvJaNdj4tIZYNdZj_IsG0ZeTuBW_vzsDw0Hp12EQgkpKvGoZWEat.\n",
      "--2022-09-02 21:24:12--  https://takeout.google.com/u/0/settings/takeout/download/authenticate?nonce=4uva7tbhrl0l4&continue=https://doc-7g-6o-drive-data-export.googleusercontent.com/download/4emg3lm7l76e177bmk1eh33660hkjquk/aeo11k4vetsl58iara1tf1j0khvrjsbc/1662151500000/ebb179f4-01ed-4cd6-b8a9-08d42a6136c1/106109785466818022806/ADt3v-NSCEK7awzq1Hwb7Bnp7geKGmKHVX36nBNdtWLXPnIaqizS_dkItVcAYdOxaPMTrX_40KbNAsxKX4Zd2h9sFM6ptZKt5K8qSqZtoneVKQk1Jxc7FSOnEzyZpFert5zR372EH2NBYHxCzvreZYyvn_7WF8n9YEjsjVYv6jePX9zaYpUUiC5lVvJaNdj4tIZYNdZj_IsG0ZeTuBW_vzsDw0Hp12EQgkpKvGoZWEatvH4JJ6BVUU0ejT3AcwBVETUol98cIC6Se82xKPh4wAOWlRWvUaaI21-w0YbpoHT3KB3t9V0WbQ3NIWkxT-kU92kEBXyAugLGNAMydLHj778mkpc53Tvxlw%3D%3D?nonce%3Da9mpgutreqr1i%26user%3D106109785466818022806%26authuser%3D0%26hash%3Dr4i76uinf49c88b5ndit2sskeird1ba8&hash=jk8npl8k0av1vtsdrgltes532gmgdr8a\n",
      "Resolving takeout.google.com (takeout.google.com)... 142.250.191.46, 2607:f8b0:4005:80d::200e\n",
      "Connecting to takeout.google.com (takeout.google.com)|142.250.191.46|:443... connected.\n",
      "HTTP request sent, awaiting response... 302 Found\n",
      "Location: https://accounts.google.com/ServiceLogin?passive=1209600&osid=1&continue=https://takeout.google.com/u/0/settings/takeout/download/authenticate?nonce%3D4uva7tbhrl0l4%26continue%3Dhttps://doc-7g-6o-drive-data-export.googleusercontent.com/download/4emg3lm7l76e177bmk1eh33660hkjquk/aeo11k4vetsl58iara1tf1j0khvrjsbc/1662151500000/ebb179f4-01ed-4cd6-b8a9-08d42a6136c1/106109785466818022806/ADt3v-NSCEK7awzq1Hwb7Bnp7geKGmKHVX36nBNdtWLXPnIaqizS_dkItVcAYdOxaPMTrX_40KbNAsxKX4Zd2h9sFM6ptZKt5K8qSqZtoneVKQk1Jxc7FSOnEzyZpFert5zR372EH2NBYHxCzvreZYyvn_7WF8n9YEjsjVYv6jePX9zaYpUUiC5lVvJaNdj4tIZYNdZj_IsG0ZeTuBW_vzsDw0Hp12EQgkpKvGoZWEatvH4JJ6BVUU0ejT3AcwBVETUol98cIC6Se82xKPh4wAOWlRWvUaaI21-w0YbpoHT3KB3t9V0WbQ3NIWkxT-kU92kEBXyAugLGNAMydLHj778mkpc53Tvxlw%253D%253D?nonce%253Da9mpgutreqr1i%2526user%253D106109785466818022806%2526authuser%253D0%2526hash%253Dr4i76uinf49c88b5ndit2sskeird1ba8%26hash%3Djk8npl8k0av1vtsdrgltes532gmgdr8a&followup=https://takeout.google.com/u/0/settings/takeout/download/authenticate?nonce%3D4uva7tbhrl0l4%26continue%3Dhttps://doc-7g-6o-drive-data-export.googleusercontent.com/download/4emg3lm7l76e177bmk1eh33660hkjquk/aeo11k4vetsl58iara1tf1j0khvrjsbc/1662151500000/ebb179f4-01ed-4cd6-b8a9-08d42a6136c1/106109785466818022806/ADt3v-NSCEK7awzq1Hwb7Bnp7geKGmKHVX36nBNdtWLXPnIaqizS_dkItVcAYdOxaPMTrX_40KbNAsxKX4Zd2h9sFM6ptZKt5K8qSqZtoneVKQk1Jxc7FSOnEzyZpFert5zR372EH2NBYHxCzvreZYyvn_7WF8n9YEjsjVYv6jePX9zaYpUUiC5lVvJaNdj4tIZYNdZj_IsG0ZeTuBW_vzsDw0Hp12EQgkpKvGoZWEatvH4JJ6BVUU0ejT3AcwBVETUol98cIC6Se82xKPh4wAOWlRWvUaaI21-w0YbpoHT3KB3t9V0WbQ3NIWkxT-kU92kEBXyAugLGNAMydLHj778mkpc53Tvxlw%253D%253D?nonce%253Da9mpgutreqr1i%2526user%253D106109785466818022806%2526authuser%253D0%2526hash%253Dr4i76uinf49c88b5ndit2sskeird1ba8%26hash%3Djk8npl8k0av1vtsdrgltes532gmgdr8a [following]\n",
      "The name is too long, 452 chars total.\n",
      "Trying to shorten...\n",
      "New name is ADt3v-NSCEK7awzq1Hwb7Bnp7geKGmKHVX36nBNdtWLXPnIaqizS_dkItVcAYdOxaPMTrX_40KbNAsxKX4Zd2h9sFM6ptZKt5K8qSqZtoneVKQk1Jxc7FSOnEzyZpFert5zR372EH2NBYHxCzvreZYyvn_7WF8n9YEjsjVYv6jePX9zaYpUUiC5lVvJaNdj4tIZYNdZj_IsG0ZeTuBW_vzsDw0Hp12EQgkpKvGoZWEat.\n",
      "--2022-09-02 21:24:12--  https://accounts.google.com/ServiceLogin?passive=1209600&osid=1&continue=https://takeout.google.com/u/0/settings/takeout/download/authenticate?nonce%3D4uva7tbhrl0l4%26continue%3Dhttps://doc-7g-6o-drive-data-export.googleusercontent.com/download/4emg3lm7l76e177bmk1eh33660hkjquk/aeo11k4vetsl58iara1tf1j0khvrjsbc/1662151500000/ebb179f4-01ed-4cd6-b8a9-08d42a6136c1/106109785466818022806/ADt3v-NSCEK7awzq1Hwb7Bnp7geKGmKHVX36nBNdtWLXPnIaqizS_dkItVcAYdOxaPMTrX_40KbNAsxKX4Zd2h9sFM6ptZKt5K8qSqZtoneVKQk1Jxc7FSOnEzyZpFert5zR372EH2NBYHxCzvreZYyvn_7WF8n9YEjsjVYv6jePX9zaYpUUiC5lVvJaNdj4tIZYNdZj_IsG0ZeTuBW_vzsDw0Hp12EQgkpKvGoZWEatvH4JJ6BVUU0ejT3AcwBVETUol98cIC6Se82xKPh4wAOWlRWvUaaI21-w0YbpoHT3KB3t9V0WbQ3NIWkxT-kU92kEBXyAugLGNAMydLHj778mkpc53Tvxlw%253D%253D?nonce%253Da9mpgutreqr1i%2526user%253D106109785466818022806%2526authuser%253D0%2526hash%253Dr4i76uinf49c88b5ndit2sskeird1ba8%26hash%3Djk8npl8k0av1vtsdrgltes532gmgdr8a&followup=https://takeout.google.com/u/0/settings/takeout/download/authenticate?nonce%3D4uva7tbhrl0l4%26continue%3Dhttps://doc-7g-6o-drive-data-export.googleusercontent.com/download/4emg3lm7l76e177bmk1eh33660hkjquk/aeo11k4vetsl58iara1tf1j0khvrjsbc/1662151500000/ebb179f4-01ed-4cd6-b8a9-08d42a6136c1/106109785466818022806/ADt3v-NSCEK7awzq1Hwb7Bnp7geKGmKHVX36nBNdtWLXPnIaqizS_dkItVcAYdOxaPMTrX_40KbNAsxKX4Zd2h9sFM6ptZKt5K8qSqZtoneVKQk1Jxc7FSOnEzyZpFert5zR372EH2NBYHxCzvreZYyvn_7WF8n9YEjsjVYv6jePX9zaYpUUiC5lVvJaNdj4tIZYNdZj_IsG0ZeTuBW_vzsDw0Hp12EQgkpKvGoZWEatvH4JJ6BVUU0ejT3AcwBVETUol98cIC6Se82xKPh4wAOWlRWvUaaI21-w0YbpoHT3KB3t9V0WbQ3NIWkxT-kU92kEBXyAugLGNAMydLHj778mkpc53Tvxlw%253D%253D?nonce%253Da9mpgutreqr1i%2526user%253D106109785466818022806%2526authuser%253D0%2526hash%253Dr4i76uinf49c88b5ndit2sskeird1ba8%26hash%3Djk8npl8k0av1vtsdrgltes532gmgdr8a\n",
      "Resolving accounts.google.com (accounts.google.com)... 142.250.189.205, 2607:f8b0:4005:802::200d\n",
      "Connecting to accounts.google.com (accounts.google.com)|142.250.189.205|:443... connected.\n",
      "HTTP request sent, awaiting response... 302 Moved Temporarily\n",
      "Location: https://accounts.google.com/v3/signin/identifier?dsh=S2063687759%3A1662153853025081&continue=https%3A%2F%2Ftakeout.google.com%2Fu%2F0%2Fsettings%2Ftakeout%2Fdownload%2Fauthenticate%3Fnonce%3D4uva7tbhrl0l4%26continue%3Dhttps%3A%2F%2Fdoc-7g-6o-drive-data-export.googleusercontent.com%2Fdownload%2F4emg3lm7l76e177bmk1eh33660hkjquk%2Faeo11k4vetsl58iara1tf1j0khvrjsbc%2F1662151500000%2Febb179f4-01ed-4cd6-b8a9-08d42a6136c1%2F106109785466818022806%2FADt3v-NSCEK7awzq1Hwb7Bnp7geKGmKHVX36nBNdtWLXPnIaqizS_dkItVcAYdOxaPMTrX_40KbNAsxKX4Zd2h9sFM6ptZKt5K8qSqZtoneVKQk1Jxc7FSOnEzyZpFert5zR372EH2NBYHxCzvreZYyvn_7WF8n9YEjsjVYv6jePX9zaYpUUiC5lVvJaNdj4tIZYNdZj_IsG0ZeTuBW_vzsDw0Hp12EQgkpKvGoZWEatvH4JJ6BVUU0ejT3AcwBVETUol98cIC6Se82xKPh4wAOWlRWvUaaI21-w0YbpoHT3KB3t9V0WbQ3NIWkxT-kU92kEBXyAugLGNAMydLHj778mkpc53Tvxlw%253D%253D%3Fnonce%253Da9mpgutreqr1i%2526user%253D106109785466818022806%2526authuser%253D0%2526hash%253Dr4i76uinf49c88b5ndit2sskeird1ba8%26hash%3Djk8npl8k0av1vtsdrgltes532gmgdr8a&followup=https%3A%2F%2Ftakeout.google.com%2Fu%2F0%2Fsettings%2Ftakeout%2Fdownload%2Fauthenticate%3Fnonce%3D4uva7tbhrl0l4%26continue%3Dhttps%3A%2F%2Fdoc-7g-6o-drive-data-export.googleusercontent.com%2Fdownload%2F4emg3lm7l76e177bmk1eh33660hkjquk%2Faeo11k4vetsl58iara1tf1j0khvrjsbc%2F1662151500000%2Febb179f4-01ed-4cd6-b8a9-08d42a6136c1%2F106109785466818022806%2FADt3v-NSCEK7awzq1Hwb7Bnp7geKGmKHVX36nBNdtWLXPnIaqizS_dkItVcAYdOxaPMTrX_40KbNAsxKX4Zd2h9sFM6ptZKt5K8qSqZtoneVKQk1Jxc7FSOnEzyZpFert5zR372EH2NBYHxCzvreZYyvn_7WF8n9YEjsjVYv6jePX9zaYpUUiC5lVvJaNdj4tIZYNdZj_IsG0ZeTuBW_vzsDw0Hp12EQgkpKvGoZWEatvH4JJ6BVUU0ejT3AcwBVETUol98cIC6Se82xKPh4wAOWlRWvUaaI21-w0YbpoHT3KB3t9V0WbQ3NIWkxT-kU92kEBXyAugLGNAMydLHj778mkpc53Tvxlw%253D%253D%3Fnonce%253Da9mpgutreqr1i%2526user%253D106109785466818022806%2526authuser%253D0%2526hash%253Dr4i76uinf49c88b5ndit2sskeird1ba8%26hash%3Djk8npl8k0av1vtsdrgltes532gmgdr8a&osid=1&passive=1209600&flowName=WebLiteSignIn&flowEntry=ServiceLogin&ifkv=AQN2RmUM3UNNAas0SlG4PabKTyGmccSDKylqL3vFvu9jJEAMQAXz4n0wUY66keYiB--U9JJDCr15 [following]\n",
      "The name is too long, 452 chars total.\n",
      "Trying to shorten...\n",
      "New name is ADt3v-NSCEK7awzq1Hwb7Bnp7geKGmKHVX36nBNdtWLXPnIaqizS_dkItVcAYdOxaPMTrX_40KbNAsxKX4Zd2h9sFM6ptZKt5K8qSqZtoneVKQk1Jxc7FSOnEzyZpFert5zR372EH2NBYHxCzvreZYyvn_7WF8n9YEjsjVYv6jePX9zaYpUUiC5lVvJaNdj4tIZYNdZj_IsG0ZeTuBW_vzsDw0Hp12EQgkpKvGoZWEat.\n",
      "--2022-09-02 21:24:13--  https://accounts.google.com/v3/signin/identifier?dsh=S2063687759%3A1662153853025081&continue=https%3A%2F%2Ftakeout.google.com%2Fu%2F0%2Fsettings%2Ftakeout%2Fdownload%2Fauthenticate%3Fnonce%3D4uva7tbhrl0l4%26continue%3Dhttps%3A%2F%2Fdoc-7g-6o-drive-data-export.googleusercontent.com%2Fdownload%2F4emg3lm7l76e177bmk1eh33660hkjquk%2Faeo11k4vetsl58iara1tf1j0khvrjsbc%2F1662151500000%2Febb179f4-01ed-4cd6-b8a9-08d42a6136c1%2F106109785466818022806%2FADt3v-NSCEK7awzq1Hwb7Bnp7geKGmKHVX36nBNdtWLXPnIaqizS_dkItVcAYdOxaPMTrX_40KbNAsxKX4Zd2h9sFM6ptZKt5K8qSqZtoneVKQk1Jxc7FSOnEzyZpFert5zR372EH2NBYHxCzvreZYyvn_7WF8n9YEjsjVYv6jePX9zaYpUUiC5lVvJaNdj4tIZYNdZj_IsG0ZeTuBW_vzsDw0Hp12EQgkpKvGoZWEatvH4JJ6BVUU0ejT3AcwBVETUol98cIC6Se82xKPh4wAOWlRWvUaaI21-w0YbpoHT3KB3t9V0WbQ3NIWkxT-kU92kEBXyAugLGNAMydLHj778mkpc53Tvxlw%253D%253D%3Fnonce%253Da9mpgutreqr1i%2526user%253D106109785466818022806%2526authuser%253D0%2526hash%253Dr4i76uinf49c88b5ndit2sskeird1ba8%26hash%3Djk8npl8k0av1vtsdrgltes532gmgdr8a&followup=https%3A%2F%2Ftakeout.google.com%2Fu%2F0%2Fsettings%2Ftakeout%2Fdownload%2Fauthenticate%3Fnonce%3D4uva7tbhrl0l4%26continue%3Dhttps%3A%2F%2Fdoc-7g-6o-drive-data-export.googleusercontent.com%2Fdownload%2F4emg3lm7l76e177bmk1eh33660hkjquk%2Faeo11k4vetsl58iara1tf1j0khvrjsbc%2F1662151500000%2Febb179f4-01ed-4cd6-b8a9-08d42a6136c1%2F106109785466818022806%2FADt3v-NSCEK7awzq1Hwb7Bnp7geKGmKHVX36nBNdtWLXPnIaqizS_dkItVcAYdOxaPMTrX_40KbNAsxKX4Zd2h9sFM6ptZKt5K8qSqZtoneVKQk1Jxc7FSOnEzyZpFert5zR372EH2NBYHxCzvreZYyvn_7WF8n9YEjsjVYv6jePX9zaYpUUiC5lVvJaNdj4tIZYNdZj_IsG0ZeTuBW_vzsDw0Hp12EQgkpKvGoZWEatvH4JJ6BVUU0ejT3AcwBVETUol98cIC6Se82xKPh4wAOWlRWvUaaI21-w0YbpoHT3KB3t9V0WbQ3NIWkxT-kU92kEBXyAugLGNAMydLHj778mkpc53Tvxlw%253D%253D%3Fnonce%253Da9mpgutreqr1i%2526user%253D106109785466818022806%2526authuser%253D0%2526hash%253Dr4i76uinf49c88b5ndit2sskeird1ba8%26hash%3Djk8npl8k0av1vtsdrgltes532gmgdr8a&osid=1&passive=1209600&flowName=WebLiteSignIn&flowEntry=ServiceLogin&ifkv=AQN2RmUM3UNNAas0SlG4PabKTyGmccSDKylqL3vFvu9jJEAMQAXz4n0wUY66keYiB--U9JJDCr15\n",
      "Reusing existing connection to accounts.google.com:443.\n"
     ]
    },
    {
     "name": "stdout",
     "output_type": "stream",
     "text": [
      "HTTP request sent, awaiting response... 200 OK\n",
      "Length: unspecified [text/html]\n",
      "Saving to: ‘ADt3v-NSCEK7awzq1Hwb7Bnp7geKGmKHVX36nBNdtWLXPnIaqizS_dkItVcAYdOxaPMTrX_40KbNAsxKX4Zd2h9sFM6ptZKt5K8qSqZtoneVKQk1Jxc7FSOnEzyZpFert5zR372EH2NBYHxCzvreZYyvn_7WF8n9YEjsjVYv6jePX9zaYpUUiC5lVvJaNdj4tIZYNdZj_IsG0ZeTuBW_vzsDw0Hp12EQgkpKvGoZWEat’\n",
      "\n",
      "ADt3v-NSCEK7awzq1Hw     [ <=>                ] 125.92K  --.-KB/s    in 0.06s   \n",
      "\n",
      "2022-09-02 21:24:13 (1.97 MB/s) - ‘ADt3v-NSCEK7awzq1Hwb7Bnp7geKGmKHVX36nBNdtWLXPnIaqizS_dkItVcAYdOxaPMTrX_40KbNAsxKX4Zd2h9sFM6ptZKt5K8qSqZtoneVKQk1Jxc7FSOnEzyZpFert5zR372EH2NBYHxCzvreZYyvn_7WF8n9YEjsjVYv6jePX9zaYpUUiC5lVvJaNdj4tIZYNdZj_IsG0ZeTuBW_vzsDw0Hp12EQgkpKvGoZWEat’ saved [128941]\n",
      "\n"
     ]
    }
   ],
   "source": [
    "!cd ./data && wget -L \"https://doc-7g-6o-drive-data-export.googleusercontent.com/download/4emg3lm7l76e177bmk1eh33660hkjquk/aeo11k4vetsl58iara1tf1j0khvrjsbc/1662151500000/ebb179f4-01ed-4cd6-b8a9-08d42a6136c1/106109785466818022806/ADt3v-NSCEK7awzq1Hwb7Bnp7geKGmKHVX36nBNdtWLXPnIaqizS_dkItVcAYdOxaPMTrX_40KbNAsxKX4Zd2h9sFM6ptZKt5K8qSqZtoneVKQk1Jxc7FSOnEzyZpFert5zR372EH2NBYHxCzvreZYyvn_7WF8n9YEjsjVYv6jePX9zaYpUUiC5lVvJaNdj4tIZYNdZj_IsG0ZeTuBW_vzsDw0Hp12EQgkpKvGoZWEatvH4JJ6BVUU0ejT3AcwBVETUol98cIC6Se82xKPh4wAOWlRWvUaaI21-w0YbpoHT3KB3t9V0WbQ3NIWkxT-kU92kEBXyAugLGNAMydLHj778mkpc53Tvxlw==?authuser=0&nonce=a9mpgutreqr1i&user=106109785466818022806&hash=r4i76uinf49c88b5ndit2sskeird1ba8\""
   ]
  },
  {
   "cell_type": "code",
   "execution_count": 3,
   "metadata": {},
   "outputs": [
    {
     "name": "stdout",
     "output_type": "stream",
     "text": [
      "Collecting gdown\n",
      "  Downloading gdown-4.5.1.tar.gz (14 kB)\n",
      "  Installing build dependencies ... \u001b[?25ldone\n",
      "\u001b[?25h  Getting requirements to build wheel ... \u001b[?25ldone\n",
      "\u001b[?25h    Preparing wheel metadata ... \u001b[?25ldone\n",
      "\u001b[?25hRequirement already satisfied: tqdm in /opt/conda/lib/python3.6/site-packages (from gdown) (4.64.0)\n",
      "Requirement already satisfied: six in /opt/conda/lib/python3.6/site-packages (from gdown) (1.16.0)\n",
      "Requirement already satisfied: requests[socks] in /opt/conda/lib/python3.6/site-packages (from gdown) (2.27.1)\n",
      "Requirement already satisfied: filelock in /opt/conda/lib/python3.6/site-packages (from gdown) (3.0.12)\n",
      "Requirement already satisfied: beautifulsoup4 in /opt/conda/lib/python3.6/site-packages (from gdown) (4.9.3)\n",
      "Requirement already satisfied: importlib-resources; python_version < \"3.7\" in /opt/conda/lib/python3.6/site-packages (from tqdm->gdown) (5.4.0)\n",
      "Requirement already satisfied: charset-normalizer~=2.0.0; python_version >= \"3\" in /opt/conda/lib/python3.6/site-packages (from requests[socks]->gdown) (2.0.12)\n",
      "Requirement already satisfied: urllib3<1.27,>=1.21.1 in /opt/conda/lib/python3.6/site-packages (from requests[socks]->gdown) (1.26.11)\n",
      "Requirement already satisfied: certifi>=2017.4.17 in /opt/conda/lib/python3.6/site-packages (from requests[socks]->gdown) (2022.6.15)\n",
      "Requirement already satisfied: idna<4,>=2.5; python_version >= \"3\" in /opt/conda/lib/python3.6/site-packages (from requests[socks]->gdown) (3.3)\n",
      "Requirement already satisfied: PySocks!=1.5.7,>=1.5.6; extra == \"socks\" in /opt/conda/lib/python3.6/site-packages (from requests[socks]->gdown) (1.7.1)\n",
      "Requirement already satisfied: soupsieve>1.2; python_version >= \"3.0\" in /opt/conda/lib/python3.6/site-packages (from beautifulsoup4->gdown) (2.0.1)\n",
      "Requirement already satisfied: zipp>=3.1.0; python_version < \"3.10\" in /opt/conda/lib/python3.6/site-packages (from importlib-resources; python_version < \"3.7\"->tqdm->gdown) (3.6.0)\n",
      "Building wheels for collected packages: gdown\n",
      "  Building wheel for gdown (PEP 517) ... \u001b[?25ldone\n",
      "\u001b[?25h  Created wheel for gdown: filename=gdown-4.5.1-py3-none-any.whl size=14951 sha256=2f1d46a028e2d218cbe5896f29a2da831ffdb2ae706b16f67814c57eb4cfb0ed\n",
      "  Stored in directory: /root/.cache/pip/wheels/9b/0f/b5/18491a0b635e27a4ca24e38909932443118ce3874d682514a8\n",
      "Successfully built gdown\n",
      "Installing collected packages: gdown\n",
      "Successfully installed gdown-4.5.1\n"
     ]
    }
   ],
   "source": [
    "!pip install gdown"
   ]
  },
  {
   "cell_type": "code",
   "execution_count": 6,
   "metadata": {},
   "outputs": [],
   "source": [
    "import gdown"
   ]
  },
  {
   "cell_type": "code",
   "execution_count": 11,
   "metadata": {},
   "outputs": [
    {
     "name": "stdout",
     "output_type": "stream",
     "text": [
      "Access denied with the following error:\n"
     ]
    },
    {
     "name": "stderr",
     "output_type": "stream",
     "text": [
      "\n",
      " \tCannot retrieve the public link of the file. You may need to change\n",
      "\tthe permission to 'Anyone with the link', or have had many accesses. \n",
      "\n",
      "You may still be able to access the file from the browser:\n",
      "\n",
      "\t https://drive.google.com/uc?id=1zqbdkQF8i5cEmZOGmbdQm-EP8dRYtvss \n",
      "\n"
     ]
    }
   ],
   "source": [
    "url = 'https://drive.google.com/uc?id=1zqbdkQF8i5cEmZOGmbdQm-EP8dRYtvss'\n",
    "output = 'nucls.zip'\n",
    "gdown.download(url, output, quiet=False)"
   ]
  },
  {
   "cell_type": "code",
   "execution_count": null,
   "metadata": {},
   "outputs": [],
   "source": []
  },
  {
   "cell_type": "code",
   "execution_count": null,
   "metadata": {},
   "outputs": [],
   "source": []
  },
  {
   "cell_type": "code",
   "execution_count": null,
   "metadata": {},
   "outputs": [],
   "source": []
  },
  {
   "cell_type": "code",
   "execution_count": null,
   "metadata": {},
   "outputs": [],
   "source": []
  },
  {
   "cell_type": "code",
   "execution_count": null,
   "metadata": {},
   "outputs": [],
   "source": []
  },
  {
   "cell_type": "code",
   "execution_count": null,
   "metadata": {},
   "outputs": [],
   "source": []
  },
  {
   "cell_type": "code",
   "execution_count": null,
   "metadata": {},
   "outputs": [],
   "source": []
  },
  {
   "cell_type": "code",
   "execution_count": null,
   "metadata": {},
   "outputs": [],
   "source": []
  },
  {
   "cell_type": "code",
   "execution_count": null,
   "metadata": {},
   "outputs": [],
   "source": []
  },
  {
   "cell_type": "code",
   "execution_count": null,
   "metadata": {},
   "outputs": [],
   "source": []
  },
  {
   "cell_type": "code",
   "execution_count": null,
   "metadata": {},
   "outputs": [],
   "source": []
  },
  {
   "cell_type": "code",
   "execution_count": null,
   "metadata": {},
   "outputs": [],
   "source": []
  },
  {
   "cell_type": "code",
   "execution_count": null,
   "metadata": {},
   "outputs": [],
   "source": []
  },
  {
   "cell_type": "code",
   "execution_count": null,
   "metadata": {},
   "outputs": [],
   "source": []
  },
  {
   "cell_type": "code",
   "execution_count": null,
   "metadata": {},
   "outputs": [],
   "source": []
  },
  {
   "cell_type": "code",
   "execution_count": null,
   "metadata": {},
   "outputs": [],
   "source": []
  },
  {
   "cell_type": "code",
   "execution_count": null,
   "metadata": {},
   "outputs": [],
   "source": []
  },
  {
   "cell_type": "code",
   "execution_count": null,
   "metadata": {},
   "outputs": [],
   "source": []
  },
  {
   "cell_type": "code",
   "execution_count": null,
   "metadata": {},
   "outputs": [],
   "source": []
  },
  {
   "cell_type": "code",
   "execution_count": null,
   "metadata": {},
   "outputs": [],
   "source": []
  },
  {
   "cell_type": "code",
   "execution_count": null,
   "metadata": {},
   "outputs": [],
   "source": []
  },
  {
   "cell_type": "code",
   "execution_count": null,
   "metadata": {},
   "outputs": [],
   "source": []
  },
  {
   "cell_type": "code",
   "execution_count": null,
   "metadata": {},
   "outputs": [],
   "source": []
  }
 ],
 "metadata": {
  "kernelspec": {
   "display_name": "Python 3",
   "language": "python",
   "name": "python3"
  },
  "language_info": {
   "codemirror_mode": {
    "name": "ipython",
    "version": 3
   },
   "file_extension": ".py",
   "mimetype": "text/x-python",
   "name": "python",
   "nbconvert_exporter": "python",
   "pygments_lexer": "ipython3",
   "version": "3.6.10"
  }
 },
 "nbformat": 4,
 "nbformat_minor": 4
}
