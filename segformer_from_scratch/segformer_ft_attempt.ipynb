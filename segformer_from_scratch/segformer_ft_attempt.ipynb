{
 "cells": [
  {
   "cell_type": "code",
   "execution_count": 1,
   "metadata": {},
   "outputs": [],
   "source": [
    "# !pip install -U openmim"
   ]
  },
  {
   "cell_type": "code",
   "execution_count": 2,
   "metadata": {},
   "outputs": [],
   "source": [
    "# !mim install mmcv-full==1.6.0"
   ]
  },
  {
   "cell_type": "code",
   "execution_count": 3,
   "metadata": {},
   "outputs": [],
   "source": [
    "# !pip install mmsegmentation --force-reinstall"
   ]
  },
  {
   "cell_type": "code",
   "execution_count": 4,
   "metadata": {},
   "outputs": [],
   "source": [
    "# !pip install transformers"
   ]
  },
  {
   "cell_type": "code",
   "execution_count": 5,
   "metadata": {},
   "outputs": [],
   "source": [
    "# !pip install datasets"
   ]
  },
  {
   "cell_type": "code",
   "execution_count": 28,
   "metadata": {},
   "outputs": [],
   "source": [
    "from transformers import SegformerFeatureExtractor, SegformerModel\n",
    "import torch\n",
    "import torch.nn as nn\n",
    "from datasets import load_dataset"
   ]
  },
  {
   "cell_type": "markdown",
   "metadata": {},
   "source": [
    "# build a model"
   ]
  },
  {
   "cell_type": "code",
   "execution_count": 32,
   "metadata": {},
   "outputs": [],
   "source": [
    "class CustomSegFormerBase(nn.Module):\n",
    "    def __init__(self):\n",
    "        super(CustomSegFormerBase, self).__init__()\n",
    "        self.model = SegformerModel.from_pretrained(\"nvidia/mit-b5\", output_hidden_states=True)\n",
    "    \n",
    "    def forward(self, x, **inputs):\n",
    "        return self.model(x, **inputs).hidden_states"
   ]
  },
  {
   "cell_type": "code",
   "execution_count": 33,
   "metadata": {},
   "outputs": [
    {
     "name": "stderr",
     "output_type": "stream",
     "text": [
      "Some weights of the model checkpoint at nvidia/mit-b5 were not used when initializing SegformerModel: ['classifier.bias', 'classifier.weight']\n",
      "- This IS expected if you are initializing SegformerModel from the checkpoint of a model trained on another task or with another architecture (e.g. initializing a BertForSequenceClassification model from a BertForPreTraining model).\n",
      "- This IS NOT expected if you are initializing SegformerModel from the checkpoint of a model that you expect to be exactly identical (initializing a BertForSequenceClassification model from a BertForSequenceClassification model).\n"
     ]
    }
   ],
   "source": [
    "bb = CustomSegFormerBase()"
   ]
  },
  {
   "cell_type": "code",
   "execution_count": 38,
   "metadata": {},
   "outputs": [],
   "source": [
    "out = bb(torch.randn(1, 3, 255, 255))"
   ]
  },
  {
   "cell_type": "code",
   "execution_count": 39,
   "metadata": {},
   "outputs": [
    {
     "name": "stdout",
     "output_type": "stream",
     "text": [
      "torch.Size([1, 64, 64, 64])\n",
      "torch.Size([1, 128, 32, 32])\n",
      "torch.Size([1, 320, 16, 16])\n",
      "torch.Size([1, 512, 8, 8])\n"
     ]
    }
   ],
   "source": [
    "for el in out:\n",
    "    print(el.shape)"
   ]
  },
  {
   "cell_type": "code",
   "execution_count": null,
   "metadata": {},
   "outputs": [],
   "source": [
    "class CustomSegFormerPretrain(nn.Module):\n",
    "    def __init__(self, hidden_sizes, decoder_dim=512, num_classes=1, backbone=None):\n",
    "        super(CustomSegFormerPretrain, self).__init__()\n",
    "        if backbone is not None:\n",
    "            self.backbone = backbone\n",
    "        else:\n",
    "            self.backbone = CustomSegFormerBase()\n",
    "        self.hidden_sizes = hidden_sizes\n",
    "        self.decoder_dim = decoder_dim\n",
    "        self.num_classes = num_classes\n",
    "        \n",
    "        self.linears = []\n",
    "        for hs in self.hidden_sizes:\n",
    "            self.linears.append(nn.Conv2d(in_channels=hs, out_channels=self.decoder_dim, kernel_size=(1, 1)))\n",
    "            \n",
    "        self.ups = [\n",
    "            nn.Identity(),\n",
    "            nn.Upsample(scale_factor=2),\n",
    "            nn.Upsample(scale_factor=4),\n",
    "            nn.Upsample(scale_factor=8)\n",
    "       ]\n",
    "            \n",
    "        self.linears = nn.ModuleList(self.linears)\n",
    "        self.ups = nn.ModuleList(self.ups)\n",
    "        \n",
    "        self.to_segmentation = nn.Sequential(\n",
    "            nn.Conv2d(4 * decoder_dim, decoder_dim, 3),\n",
    "            nn.Conv2d(decoder_dim, num_classes, 3),\n",
    "        )\n",
    "        \n",
    "    def forward(self, x, **kwargs):\n",
    "        hs = list(self.backbone(x, **kwargs))\n",
    "        \n",
    "        for i in range(len(self.linears)):\n",
    "            hs[i] = self.linears[i](hs[i])\n",
    "            hs[i] = self.ups[i](hs[i])\n",
    "            \n",
    "        fused = torch.cat(hs, dim=1)\n",
    "        out = self.to_segmentation(fused)\n",
    "        return out"
   ]
  },
  {
   "cell_type": "code",
   "execution_count": 63,
   "metadata": {},
   "outputs": [],
   "source": [
    "class CustomSegFormerSegmentation(nn.Module):\n",
    "    def __init__(self, hidden_sizes, decoder_dim=512, num_classes=1, backbone=None):\n",
    "        super(CustomSegFormerSegmentation, self).__init__()\n",
    "        if backbone is not None:\n",
    "            self.backbone = backbone\n",
    "        else:\n",
    "            self.backbone = CustomSegFormerBase()\n",
    "        self.hidden_sizes = hidden_sizes\n",
    "        self.decoder_dim = decoder_dim\n",
    "        self.num_classes = num_classes\n",
    "        \n",
    "        self.linears = []\n",
    "        for hs in self.hidden_sizes:\n",
    "            self.linears.append(nn.Conv2d(in_channels=hs, out_channels=self.decoder_dim, kernel_size=(1, 1)))\n",
    "            \n",
    "        self.ups = [\n",
    "            nn.Identity(),\n",
    "            nn.Upsample(scale_factor=2),\n",
    "            nn.Upsample(scale_factor=4),\n",
    "            nn.Upsample(scale_factor=8)\n",
    "       ]\n",
    "            \n",
    "        self.linears = nn.ModuleList(self.linears)\n",
    "        self.ups = nn.ModuleList(self.ups)\n",
    "        \n",
    "        self.to_segmentation = nn.Sequential(\n",
    "            nn.Conv2d(4 * decoder_dim, decoder_dim, 1),\n",
    "            nn.Conv2d(decoder_dim, num_classes, 1),\n",
    "        )\n",
    "        \n",
    "    def forward(self, x, **kwargs):\n",
    "        hs = list(self.backbone(x, **kwargs))\n",
    "        \n",
    "        for i in range(len(self.linears)):\n",
    "            hs[i] = self.linears[i](hs[i])\n",
    "            hs[i] = self.ups[i](hs[i])\n",
    "            \n",
    "        fused = torch.cat(hs, dim=1)\n",
    "        out = self.to_segmentation(fused)\n",
    "        return out"
   ]
  },
  {
   "cell_type": "code",
   "execution_count": 66,
   "metadata": {},
   "outputs": [
    {
     "name": "stderr",
     "output_type": "stream",
     "text": [
      "Some weights of the model checkpoint at nvidia/mit-b5 were not used when initializing SegformerModel: ['classifier.bias', 'classifier.weight']\n",
      "- This IS expected if you are initializing SegformerModel from the checkpoint of a model trained on another task or with another architecture (e.g. initializing a BertForSequenceClassification model from a BertForPreTraining model).\n",
      "- This IS NOT expected if you are initializing SegformerModel from the checkpoint of a model that you expect to be exactly identical (initializing a BertForSequenceClassification model from a BertForSequenceClassification model).\n"
     ]
    }
   ],
   "source": [
    "ftuner = CustomSegFormerPretrain(hidden_sizes=[64, 128, 320, 512], decoder_dim=512)"
   ]
  },
  {
   "cell_type": "code",
   "execution_count": 68,
   "metadata": {},
   "outputs": [
    {
     "name": "stdout",
     "output_type": "stream",
     "text": [
      "???? torch.Size([1, 64, 64, 64])\n",
      "???? torch.Size([1, 128, 32, 32])\n",
      "???? torch.Size([1, 320, 16, 16])\n",
      "???? torch.Size([1, 512, 8, 8])\n",
      "torch.Size([1, 1, 64, 64])\n"
     ]
    }
   ],
   "source": [
    "_ = ftuner(torch.randn(1, 3, 256, 256))"
   ]
  },
  {
   "cell_type": "code",
   "execution_count": null,
   "metadata": {},
   "outputs": [],
   "source": []
  },
  {
   "cell_type": "code",
   "execution_count": null,
   "metadata": {},
   "outputs": [],
   "source": []
  },
  {
   "cell_type": "code",
   "execution_count": null,
   "metadata": {},
   "outputs": [],
   "source": []
  },
  {
   "cell_type": "code",
   "execution_count": null,
   "metadata": {},
   "outputs": [],
   "source": []
  }
 ],
 "metadata": {
  "kernelspec": {
   "display_name": "Python 3",
   "language": "python",
   "name": "python3"
  },
  "language_info": {
   "codemirror_mode": {
    "name": "ipython",
    "version": 3
   },
   "file_extension": ".py",
   "mimetype": "text/x-python",
   "name": "python",
   "nbconvert_exporter": "python",
   "pygments_lexer": "ipython3",
   "version": "3.6.10"
  }
 },
 "nbformat": 4,
 "nbformat_minor": 4
}
