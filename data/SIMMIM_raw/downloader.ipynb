{
 "cells": [
  {
   "cell_type": "code",
   "execution_count": 1,
   "metadata": {},
   "outputs": [
    {
     "name": "stdout",
     "output_type": "stream",
     "text": [
      "--2022-09-06 22:37:00--  https://zenodo.org/record/1485967/files/peso_testset_wsi_1.zip?download=1\n",
      "Resolving zenodo.org (zenodo.org)... 188.184.117.155\n",
      "Connecting to zenodo.org (zenodo.org)|188.184.117.155|:443... connected.\n",
      "HTTP request sent, awaiting response... 200 OK\n",
      "Length: 13057075743 (12G) [application/octet-stream]\n",
      "Saving to: ‘peso_testset_wsi_1.zip?download=1’\n",
      "\n",
      "peso_testset_wsi_1. 100%[===================>]  12.16G  19.8MB/s    in 13m 13s \n",
      "\n",
      "2022-09-06 22:50:16 (15.7 MB/s) - ‘peso_testset_wsi_1.zip?download=1’ saved [13057075743/13057075743]\n",
      "\n"
     ]
    }
   ],
   "source": [
    "!wget -L \"https://zenodo.org/record/1485967/files/peso_testset_wsi_1.zip?download=1\""
   ]
  },
  {
   "cell_type": "code",
   "execution_count": 2,
   "metadata": {},
   "outputs": [
    {
     "data": {
      "text/plain": [
       "4"
      ]
     },
     "execution_count": 2,
     "metadata": {},
     "output_type": "execute_result"
    }
   ],
   "source": [
    "2+2"
   ]
  },
  {
   "cell_type": "code",
   "execution_count": 3,
   "metadata": {},
   "outputs": [
    {
     "name": "stdout",
     "output_type": "stream",
     "text": [
      "Archive:  peso_testset_wsi_1.zip\n",
      "  inflating: pds_13_HE.tif           \n",
      "  inflating: pds_15_HE.tif           \n",
      "  inflating: pds_16_HE.tif           \n",
      "  inflating: pds_17_HE.tif           \n",
      "  inflating: pds_18_HE.tif           \n",
      "  inflating: pds_19_HE.tif           \n",
      "  inflating: pds_1_HE.tif            \n",
      "  inflating: pds_5_HE.tif            \n",
      "  inflating: pds_7_HE.tif            \n",
      "  inflating: pds_9_HE.tif            \n"
     ]
    }
   ],
   "source": [
    "!unzip peso_testset_wsi_1.zip"
   ]
  },
  {
   "cell_type": "code",
   "execution_count": 4,
   "metadata": {},
   "outputs": [
    {
     "name": "stdout",
     "output_type": "stream",
     "text": [
      "--2022-09-06 23:39:36--  https://zenodo.org/record/53169/files/Kather_texture_2016_larger_images_10.zip?download=1\n",
      "Resolving zenodo.org (zenodo.org)... 188.184.117.155\n",
      "Connecting to zenodo.org (zenodo.org)|188.184.117.155|:443... connected.\n",
      "HTTP request sent, awaiting response... 200 OK\n",
      "Length: 742020106 (708M) [application/octet-stream]\n",
      "Saving to: ‘Kather_texture_2016_larger_images_10.zip?download=1’\n",
      "\n",
      "Kather_texture_2016 100%[===================>] 707.65M  16.2MB/s    in 61s     \n",
      "\n",
      "2022-09-06 23:40:40 (11.5 MB/s) - ‘Kather_texture_2016_larger_images_10.zip?download=1’ saved [742020106/742020106]\n",
      "\n"
     ]
    }
   ],
   "source": [
    "!wget -L \"https://zenodo.org/record/53169/files/Kather_texture_2016_larger_images_10.zip?download=1\""
   ]
  },
  {
   "cell_type": "code",
   "execution_count": 5,
   "metadata": {},
   "outputs": [
    {
     "name": "stdout",
     "output_type": "stream",
     "text": [
      "Archive:  Kather_texture_2016_larger_images_10.zip\n",
      "  inflating: Kather_texture_2016_larger_images_10/CRC-Prim-HE-01_APPLICATION.tif  \n",
      "  inflating: Kather_texture_2016_larger_images_10/CRC-Prim-HE-02-APPLICATION.tif  \n",
      "  inflating: Kather_texture_2016_larger_images_10/CRC-Prim-HE-03_APPLICATION.tif  \n",
      "  inflating: Kather_texture_2016_larger_images_10/CRC-Prim-HE-04_APPLICATION.tif  \n",
      "  inflating: Kather_texture_2016_larger_images_10/CRC-Prim-HE-05_APPLICATION.tif  \n",
      "  inflating: Kather_texture_2016_larger_images_10/CRC-Prim-HE-06_APPLICATION.tif  \n",
      "  inflating: Kather_texture_2016_larger_images_10/CRC-Prim-HE-07_APPLICATION.tif  \n",
      "  inflating: Kather_texture_2016_larger_images_10/CRC-Prim-HE-08_APPLICATION.tif  \n",
      "  inflating: Kather_texture_2016_larger_images_10/CRC-Prim-HE-09_APPLICATION.tif  \n",
      "  inflating: Kather_texture_2016_larger_images_10/CRC-Prim-HE-10_APPLICATION.tif  \n"
     ]
    }
   ],
   "source": [
    "!unzip Kather_texture_2016_larger_images_10.zip"
   ]
  },
  {
   "cell_type": "code",
   "execution_count": null,
   "metadata": {},
   "outputs": [],
   "source": []
  }
 ],
 "metadata": {
  "kernelspec": {
   "display_name": "Python 3",
   "language": "python",
   "name": "python3"
  },
  "language_info": {
   "codemirror_mode": {
    "name": "ipython",
    "version": 3
   },
   "file_extension": ".py",
   "mimetype": "text/x-python",
   "name": "python",
   "nbconvert_exporter": "python",
   "pygments_lexer": "ipython3",
   "version": "3.6.10"
  }
 },
 "nbformat": 4,
 "nbformat_minor": 4
}
