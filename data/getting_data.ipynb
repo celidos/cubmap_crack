{
 "cells": [
  {
   "cell_type": "code",
   "execution_count": 5,
   "metadata": {},
   "outputs": [],
   "source": [
    "# !wget --tries=10 \"https://storage.googleapis.com/kaggle-competitions-data/kaggle-v2/34547/3897958/bundle/archive.zip?GoogleAccessId=web-data@kaggle-161607.iam.gserviceaccount.com&Expires=1659044427&Signature=lItvNyBOJaTQVvhL0QX9KADnl411YZZnl1Y88Px8m2Jk5ZUSGfyXtdK9zdysjmKSEzd4L0lsqbhs37sTTRaPNFOGeE5DE89wDPO23gLQJyLmH3BraGaUEZ2YIAkxhhtWPDdkNGcLQV4dIa0RhuqGDfOL7Iv3e%2BAHxTHjqGZcKekitO3nLUm7EhTtuw8oDMQB%2FmLgpJOXStkToyr3wbY1a%2BGhHyIL0JygjSXwIVywj8x9Wkb9NETDwZd9ta8hI1mZij7aLMtuC42UmB%2F89OklwksW7a4GQIgcfFOhc4lVn4DDZJd1auuGLEULSgpoV9pHKI2iMlN%2FJBbhUuLWtgVrSQ%3D%3D&response-content-disposition=attachment%3B+filename%3Dhubmap-organ-segmentation.zip\""
   ]
  },
  {
   "cell_type": "code",
   "execution_count": null,
   "metadata": {},
   "outputs": [],
   "source": [
    "# !unzip data.zip"
   ]
  },
  {
   "cell_type": "code",
   "execution_count": null,
   "metadata": {},
   "outputs": [],
   "source": []
  },
  {
   "cell_type": "code",
   "execution_count": null,
   "metadata": {},
   "outputs": [],
   "source": []
  },
  {
   "cell_type": "code",
   "execution_count": null,
   "metadata": {},
   "outputs": [],
   "source": []
  },
  {
   "cell_type": "code",
   "execution_count": null,
   "metadata": {},
   "outputs": [],
   "source": []
  },
  {
   "cell_type": "code",
   "execution_count": null,
   "metadata": {},
   "outputs": [],
   "source": []
  }
 ],
 "metadata": {
  "kernelspec": {
   "display_name": "Python 3",
   "language": "python",
   "name": "python3"
  },
  "language_info": {
   "codemirror_mode": {
    "name": "ipython",
    "version": 3
   },
   "file_extension": ".py",
   "mimetype": "text/x-python",
   "name": "python",
   "nbconvert_exporter": "python",
   "pygments_lexer": "ipython3",
   "version": "3.6.10"
  }
 },
 "nbformat": 4,
 "nbformat_minor": 4
}
