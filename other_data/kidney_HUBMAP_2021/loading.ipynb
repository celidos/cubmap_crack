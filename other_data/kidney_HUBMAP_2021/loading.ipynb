{
 "cells": [
  {
   "cell_type": "code",
   "execution_count": 1,
   "metadata": {},
   "outputs": [
    {
     "name": "stdout",
     "output_type": "stream",
     "text": [
      "The name is too long, 536 chars total.\n",
      "Trying to shorten...\n",
      "New name is archive.zip?GoogleAccessId=web-data@kaggle-161607.iam.gserviceaccount.com&Expires=1659456108&Signature=1ztRkiHlcUc25049hVprOrVprHFzbZWoN+Rjv8+FRCYHwLgZwSoydaX0W9IU0tF+GKv2FLFpxokAu2toVZADdEWvL7Bp6Es9%2FLV5vLkmF5DSITSjYGKkyTAP1ux2IKs%2Fc.\n",
      "--2022-07-30 16:03:15--  https://storage.googleapis.com/kaggle-data-sets/1136396/2008726/bundle/archive.zip?GoogleAccessId=web-data@kaggle-161607.iam.gserviceaccount.com&Expires=1659456108&Signature=1ztRkiHlcUc25049hVprOrVprHFzbZWoN%2BRjv8%2BFRCYHwLgZwSoydaX0W9IU0tF%2BGKv2FLFpxokAu2toVZADdEWvL7Bp6Es9%2FLV5vLkmF5DSITSjYGKkyTAP1ux2IKs%2FcufzJtFxu4Im8jxLRCv3ddgM60rDDK8J5iHAi6Eme56FD99LRqCCIhmGSDEiKBxDzrJ2zEh2vYRu9onQgkM6YLA1ecMdNktGmoyDxiE3xEJqQF5lJtnjkOHQvqlSM4ps6cRPvJuvQCUI%2FQrk3NNX%2BiNoti7qxB%2Bt3AbZphZbDd90Zk80CF6xB2%2B6h%2BoXW%2Fx5UuRZT1E5uwy0uw6iBp7vRA%3D%3D&response-content-disposition=attachment%3B+filename%3Dhubmap-kidney-segmentation.zip\n",
      "Resolving storage.googleapis.com (storage.googleapis.com)... 172.217.164.112, 142.250.189.176, 142.250.191.48, ...\n",
      "Connecting to storage.googleapis.com (storage.googleapis.com)|172.217.164.112|:443... connected.\n",
      "HTTP request sent, awaiting response... 200 OK\n",
      "Length: 27914694488 (26G) [application/zip]\n",
      "Saving to: ‘archive.zip?GoogleAccessId=web-data@kaggle-161607.iam.gserviceaccount.com&Expires=1659456108&Signature=1ztRkiHlcUc25049hVprOrVprHFzbZWoN+Rjv8+FRCYHwLgZwSoydaX0W9IU0tF+GKv2FLFpxokAu2toVZADdEWvL7Bp6Es9%2FLV5vLkmF5DSITSjYGKkyTAP1ux2IKs%2Fc’\n",
      "\n",
      "archive.zip?GoogleA 100%[===================>]  26.00G  70.4MB/s    in 6m 51s  \n",
      "\n",
      "2022-07-30 16:10:07 (64.8 MB/s) - ‘archive.zip?GoogleAccessId=web-data@kaggle-161607.iam.gserviceaccount.com&Expires=1659456108&Signature=1ztRkiHlcUc25049hVprOrVprHFzbZWoN+Rjv8+FRCYHwLgZwSoydaX0W9IU0tF+GKv2FLFpxokAu2toVZADdEWvL7Bp6Es9%2FLV5vLkmF5DSITSjYGKkyTAP1ux2IKs%2Fc’ saved [27914694488/27914694488]\n",
      "\n"
     ]
    }
   ],
   "source": [
    "!wget \"https://storage.googleapis.com/kaggle-data-sets/1136396/2008726/bundle/archive.zip?GoogleAccessId=web-data@kaggle-161607.iam.gserviceaccount.com&Expires=1659456108&Signature=1ztRkiHlcUc25049hVprOrVprHFzbZWoN%2BRjv8%2BFRCYHwLgZwSoydaX0W9IU0tF%2BGKv2FLFpxokAu2toVZADdEWvL7Bp6Es9%2FLV5vLkmF5DSITSjYGKkyTAP1ux2IKs%2FcufzJtFxu4Im8jxLRCv3ddgM60rDDK8J5iHAi6Eme56FD99LRqCCIhmGSDEiKBxDzrJ2zEh2vYRu9onQgkM6YLA1ecMdNktGmoyDxiE3xEJqQF5lJtnjkOHQvqlSM4ps6cRPvJuvQCUI%2FQrk3NNX%2BiNoti7qxB%2Bt3AbZphZbDd90Zk80CF6xB2%2B6h%2BoXW%2Fx5UuRZT1E5uwy0uw6iBp7vRA%3D%3D&response-content-disposition=attachment%3B+filename%3Dhubmap-kidney-segmentation.zip\""
   ]
  },
  {
   "cell_type": "code",
   "execution_count": null,
   "metadata": {},
   "outputs": [],
   "source": [
    "!"
   ]
  }
 ],
 "metadata": {
  "kernelspec": {
   "display_name": "Python 3",
   "language": "python",
   "name": "python3"
  },
  "language_info": {
   "codemirror_mode": {
    "name": "ipython",
    "version": 3
   },
   "file_extension": ".py",
   "mimetype": "text/x-python",
   "name": "python",
   "nbconvert_exporter": "python",
   "pygments_lexer": "ipython3",
   "version": "3.6.10"
  }
 },
 "nbformat": 4,
 "nbformat_minor": 4
}
