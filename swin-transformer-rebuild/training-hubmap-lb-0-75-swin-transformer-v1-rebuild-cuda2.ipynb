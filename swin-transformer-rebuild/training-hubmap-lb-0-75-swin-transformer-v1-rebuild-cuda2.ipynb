{
 "cells": [
  {
   "cell_type": "markdown",
   "metadata": {},
   "source": [
    "<div style=\"height:200px;width:100%;margin: 0;\">\n",
    "    <img src=\"https://storage.googleapis.com/kaggle-competitions/kaggle/34547/logos/header.png?t=2022-02-15-22-37-27\" style=\"width:100%;\" />\n",
    "</div>"
   ]
  },
  {
   "cell_type": "markdown",
   "metadata": {},
   "source": [
    "<h3 class=\"list-group-item list-group-item-action active\" data-toggle=\"list\" style=\"color:#c3448b; background:#efe9e9; border:1px dashed #efe50b;\" role=\"tab\" aria-controls=\"credits\"><center>Credits</center></h3>"
   ]
  },
  {
   "cell_type": "markdown",
   "metadata": {},
   "source": [
    "This is the reverse engineering of the [hengck23 discussion](https://www.kaggle.com/code/hengck23/lb-0-75-variable-size-swin-transformer-v1-and-v2).<br>\n",
    "Please upvote both discussion/notebooks if you are planning to use Swin Transformers or any part of the code.\n",
    "\n",
    "**hengck23 owner Disclaimer**\n",
    "\n",
    "[1] the code is taken from a larger project and is by no means complete. It will has missing import modules, etc. But these are trival functions that you can ignore or fill in yourself.\n",
    "\n",
    "[2] you are free to use, modify the code for your own notebook or submission"
   ]
  },
  {
   "cell_type": "markdown",
   "metadata": {},
   "source": [
    "<h3 class=\"list-group-item list-group-item-action active\" data-toggle=\"list\" style=\"color:#c3448b; background:#efe9e9; border:1px dashed #efe50b;\" role=\"tab\" aria-controls=\"imports\"><center>Imports</center></h3>"
   ]
  },
  {
   "cell_type": "code",
   "execution_count": 1,
   "metadata": {},
   "outputs": [],
   "source": [
    "FOLD = 1"
   ]
  },
  {
   "cell_type": "code",
   "execution_count": 2,
   "metadata": {},
   "outputs": [],
   "source": [
    "import os \n",
    "os.environ[\"CUDA_DEVICE_ORDER\"]=\"PCI_BUS_ID\"\n",
    "os.environ[\"CUDA_VISIBLE_DEVICES\"]=\"2\""
   ]
  },
  {
   "cell_type": "code",
   "execution_count": 3,
   "metadata": {
    "_cell_guid": "b1076dfc-b9ad-4769-8c92-a6c4dae69d19",
    "_kg_hide-input": true,
    "_kg_hide-output": true,
    "_uuid": "8f2839f25d086af736a60e9eeb907d3b93b6e0e5"
   },
   "outputs": [],
   "source": [
    "import os\n",
    "import cv2\n",
    "import time\n",
    "import random\n",
    "\n",
    "import matplotlib.pyplot as plt\n",
    "import torch\n",
    "from torch import nn\n",
    "import torch.cuda.amp as amp\n",
    "from torch.utils.data import Dataset\n",
    "from torch.utils.data import DataLoader\n",
    "from torch.utils.data import RandomSampler \n",
    "from torch.utils.data import SequentialSampler\n",
    "import torch.nn.functional as F\n",
    "from torchmetrics.functional import dice_score\n",
    "from torch.optim.lr_scheduler import StepLR\n",
    "\n",
    "is_amp = True\n",
    "import logging\n",
    "import pandas as pd\n",
    "from sklearn.model_selection import KFold\n",
    "\n",
    "import numpy as np\n",
    "from itertools import repeat\n",
    "import collections.abc\n",
    "\n",
    "import warnings\n",
    "warnings.filterwarnings('ignore')\n",
    "\n",
    "from IPython.display import clear_output\n",
    "\n",
    "from tqdm import tqdm\n",
    "from glob import glob\n",
    "import tifffile\n",
    "import cv2 as cv"
   ]
  },
  {
   "cell_type": "markdown",
   "metadata": {},
   "source": [
    "<h3 class=\"list-group-item list-group-item-action active\" data-toggle=\"list\" style=\"color:#c3448b; background:#efe9e9; border:1px dashed #efe50b;\" role=\"tab\" aria-controls=\"paths\"><center>Paths</center></h3>"
   ]
  },
  {
   "cell_type": "code",
   "execution_count": 4,
   "metadata": {},
   "outputs": [],
   "source": [
    "# SPATIAL_SIZE = 1500\n",
    "# for fname in tqdm(glob('./../data/train_images/*.tiff')):\n",
    "#     image = tifffile.imread(fname)\n",
    "#     image = cv.resize(image, (SPATIAL_SIZE, SPATIAL_SIZE))\n",
    "#     image = image[:, :, ::-1]\n",
    "#     newfname = './../data/train_images_{}/'.format(SPATIAL_SIZE) +\\\n",
    "#         os.path.splitext(os.path.basename(fname))[0] + '.png'\n",
    "#     cv.imwrite(newfname, image)"
   ]
  },
  {
   "cell_type": "code",
   "execution_count": 5,
   "metadata": {},
   "outputs": [],
   "source": [
    "# for fname in tqdm(glob('./../data/train_masks/*.npy')):\n",
    "#     mask = np.load(fname)\n",
    "#     mask = cv.resize(mask, (SPATIAL_SIZE, SPATIAL_SIZE))\n",
    "#     newfname = './../data/train_masks_{}/'.format(SPATIAL_SIZE) +\\\n",
    "#         os.path.splitext(os.path.basename(fname))[0] + '.npy'\n",
    "#     np.save(newfname, mask)"
   ]
  },
  {
   "cell_type": "code",
   "execution_count": 6,
   "metadata": {},
   "outputs": [],
   "source": [
    "pretrain_dir = '.'\n",
    "root_dir = '.'\n",
    "\n",
    "TRAIN = '../data/train_images_1500/'\n",
    "MASKS = '../data/train_masks_1500/'\n",
    "LABELS = '../data/train.csv'"
   ]
  },
  {
   "cell_type": "code",
   "execution_count": 7,
   "metadata": {},
   "outputs": [],
   "source": [
    "data = np.load('./../data/train_masks_1500/10044.npy')"
   ]
  },
  {
   "cell_type": "code",
   "execution_count": 8,
   "metadata": {},
   "outputs": [
    {
     "data": {
      "image/png": "[encoded data removed]",
      "text/plain": [
       "<Figure size 432x288 with 1 Axes>"
      ]
     },
     "metadata": {
      "needs_background": "light"
     },
     "output_type": "display_data"
    }
   ],
   "source": [
    "plt.imshow(data)\n",
    "plt.show()"
   ]
  },
  {
   "cell_type": "code",
   "execution_count": 9,
   "metadata": {},
   "outputs": [
    {
     "data": {
      "text/plain": [
       "(0, 1)"
      ]
     },
     "execution_count": 9,
     "metadata": {},
     "output_type": "execute_result"
    }
   ],
   "source": [
    "data.min(), data.max()"
   ]
  },
  {
   "cell_type": "markdown",
   "metadata": {},
   "source": [
    "<h3 class=\"list-group-item list-group-item-action active\" data-toggle=\"list\" style=\"color:#c3448b; background:#efe9e9; border:1px dashed #efe50b;\" role=\"tab\" aria-controls=\"additionals\"><center>Additionals</center></h3>"
   ]
  },
  {
   "cell_type": "code",
   "execution_count": 10,
   "metadata": {
    "_kg_hide-input": true,
    "_kg_hide-output": true
   },
   "outputs": [],
   "source": [
    "# OK, BUT NOT ALL PRESENTED\n",
    "\n",
    "def image_to_tensor(image, mode='bgr'): #image mode\n",
    "    if mode=='bgr':\n",
    "        image = image[:,:,::-1]\n",
    "    x = image\n",
    "    x = x.transpose(2,0,1)\n",
    "    x = np.ascontiguousarray(x)\n",
    "    x = torch.tensor(x, dtype=torch.float)\n",
    "    return x\n",
    "\n",
    "\n",
    "def mask_to_tensor(mask):\n",
    "    x = mask\n",
    "    x = torch.tensor(x, dtype=torch.float)\n",
    "    return x\n",
    "\n",
    "\n",
    "tensor_list = ['mask', 'image', 'organ']\n",
    "\n",
    "def null_collate(batch):\n",
    "    d = {}\n",
    "    key = batch[0].keys()\n",
    "    for k in key:\n",
    "        v = [b[k] for b in batch]\n",
    "        if k in tensor_list:\n",
    "            v = torch.stack(v)\n",
    "        d[k] = v\n",
    "\n",
    "    d['mask'] = d['mask'].unsqueeze(1)\n",
    "    d['organ'] = d['organ'].reshape(-1)\n",
    "    return d"
   ]
  },
  {
   "cell_type": "code",
   "execution_count": 11,
   "metadata": {
    "_kg_hide-input": true,
    "_kg_hide-output": true
   },
   "outputs": [],
   "source": [
    "def _ntuple(n):\n",
    "    def parse(x):\n",
    "        if isinstance(x, collections.abc.Iterable):\n",
    "            return x\n",
    "        return tuple(repeat(x, n))\n",
    "    return parse\n",
    "\n",
    "\n",
    "to_2tuple = _ntuple(2)\n",
    "    \n",
    "# ok\n",
    "def message(mode='print'):\n",
    "    asterisk = ' '\n",
    "    if mode==('print'):\n",
    "        loss = batch_loss\n",
    "    if mode==('log'):\n",
    "        loss = train_loss\n",
    "        if (iteration % iter_save == 0): asterisk = '*'\n",
    "\n",
    "    text = \\\n",
    "        ('%0.2e   %08d%s %6.2f | '%(rate, iteration, asterisk, epoch,)).replace('e-0','e-').replace('e+0','e+') + \\\n",
    "        '%4.3f  %4.3f  %4.4f  %4.3f   | '%(*valid_loss,) + \\\n",
    "        '%4.3f  %4.3f   | '%(*loss,) + \\\n",
    "        '%s' % ((time.time() - start_timer))\n",
    "\n",
    "    return text"
   ]
  },
  {
   "cell_type": "markdown",
   "metadata": {},
   "source": [
    "<h3 class=\"list-group-item list-group-item-action active\" data-toggle=\"list\" style=\"color:#c3448b; background:#efe9e9; border:1px dashed #efe50b;\" role=\"tab\" aria-controls=\"randoms\"><center>Random choice</center></h3>"
   ]
  },
  {
   "cell_type": "code",
   "execution_count": 12,
   "metadata": {},
   "outputs": [],
   "source": [
    "# ok\n",
    "\n",
    "def valid_augment5(image, mask, organ):\n",
    "    #image, mask  = do_crop(image, mask, image_size, xy=(None,None))\n",
    "    return image, mask\n",
    "\n",
    "def train_augment5b(image, mask, organ):\n",
    "    image, mask = do_random_flip(image, mask)\n",
    "    image, mask = do_random_rot90(image, mask)\n",
    "\n",
    "    for fn in np.random.choice([\n",
    "        lambda image, mask: (image, mask),\n",
    "        lambda image, mask: do_random_noise(image, mask, mag=0.1),\n",
    "        lambda image, mask: do_random_contast(image, mask, mag=0.40),\n",
    "        lambda image, mask: do_random_hsv(image, mask, mag=[0.40, 0.40, 0])\n",
    "    ], 2): image, mask = fn(image, mask)\n",
    "\n",
    "    for fn in np.random.choice([\n",
    "        lambda image, mask: (image, mask),\n",
    "        lambda image, mask: do_random_rotate_scale(image, mask, angle=45, scale=[0.50, 2.0]),\n",
    "    ], 1): image, mask = fn(image, mask)\n",
    "\n",
    "    return image, mask"
   ]
  },
  {
   "cell_type": "markdown",
   "metadata": {},
   "source": [
    "<h3 class=\"list-group-item list-group-item-action active\" data-toggle=\"list\" style=\"color:#c3448b; background:#efe9e9; border:1px dashed #efe50b;\" role=\"tab\" aria-controls=\"augmentations\"><center>Augmentations</center></h3>"
   ]
  },
  {
   "cell_type": "code",
   "execution_count": 13,
   "metadata": {
    "_kg_hide-input": true,
    "_kg_hide-output": true
   },
   "outputs": [],
   "source": [
    "# TODO CUTOUT\n",
    "# NOT EVERY AUGMENTATION IS PRESENTED FROM THE ORIGINAL CODE\n",
    "# other is ok\n",
    "\n",
    "def do_random_flip(image, mask):\n",
    "    if np.random.rand()>0.5:\n",
    "        image = cv2.flip(image,0)\n",
    "        mask = cv2.flip(mask,0)\n",
    "    if np.random.rand()>0.5:\n",
    "        image = cv2.flip(image,1)\n",
    "        mask = cv2.flip(mask,1)\n",
    "    if np.random.rand()>0.5:\n",
    "        image = image.transpose(1,0,2)\n",
    "        mask = mask.transpose(1,0)\n",
    "    \n",
    "    image = np.ascontiguousarray(image)\n",
    "    mask = np.ascontiguousarray(mask)\n",
    "    return image, mask\n",
    "\n",
    "def do_random_rot90(image, mask):\n",
    "    r = np.random.choice([\n",
    "        0,\n",
    "        cv2.ROTATE_90_CLOCKWISE,\n",
    "        cv2.ROTATE_90_COUNTERCLOCKWISE,\n",
    "        cv2.ROTATE_180,\n",
    "    ])\n",
    "    if r==0:\n",
    "        return image, mask\n",
    "    else:\n",
    "        image = cv2.rotate(image, r)\n",
    "        mask = cv2.rotate(mask, r)\n",
    "        return image, mask\n",
    "    \n",
    "def do_random_contast(image, mask, mag=0.3):\n",
    "    alpha = 1 + random.uniform(-1,1)*mag\n",
    "    image = image * alpha\n",
    "    image = np.clip(image,0,1)\n",
    "    return image, mask\n",
    "\n",
    "def do_random_hsv(image, mask, mag=[0.15,0.25,0.25]):\n",
    "    image = (image*255).astype(np.uint8)\n",
    "    hsv = cv2.cvtColor(image, cv2.COLOR_BGR2HSV)\n",
    "\n",
    "    h = hsv[:, :, 0].astype(np.float32)  # hue\n",
    "    s = hsv[:, :, 1].astype(np.float32)  # saturation\n",
    "    v = hsv[:, :, 2].astype(np.float32)  # value\n",
    "    h = (h*(1 + random.uniform(-1,1)*mag[0]))%180\n",
    "    s =  s*(1 + random.uniform(-1,1)*mag[1])\n",
    "    v =  v*(1 + random.uniform(-1,1)*mag[2])\n",
    "\n",
    "    hsv[:, :, 0] = np.clip(h,0,180).astype(np.uint8)\n",
    "    hsv[:, :, 1] = np.clip(s,0,255).astype(np.uint8)\n",
    "    hsv[:, :, 2] = np.clip(v,0,255).astype(np.uint8)\n",
    "    image = cv2.cvtColor(hsv, cv2.COLOR_HSV2BGR)\n",
    "    image = image.astype(np.float32)/255\n",
    "    return image, mask\n",
    "\n",
    "def do_random_noise(image, mask, mag=0.1):\n",
    "    height, width = image.shape[:2]\n",
    "    noise = np.random.uniform(-1,1, (height, width,1))*mag\n",
    "    image = image + noise\n",
    "    image = np.clip(image,0,1)\n",
    "    return image, mask\n",
    "\n",
    "def do_random_rotate_scale(image, mask, angle=30, scale=[0.8,1.2] ):\n",
    "    angle = np.random.uniform(-angle, angle)\n",
    "    scale = np.random.uniform(*scale) if scale is not None else 1\n",
    "    \n",
    "    height, width = image.shape[:2]\n",
    "    center = (height // 2, width // 2)\n",
    "    \n",
    "    transform = cv2.getRotationMatrix2D(center, angle, scale)\n",
    "    image = cv2.warpAffine( image, transform, (width, height), flags=cv2.INTER_LINEAR,\n",
    "                            borderMode=cv2.BORDER_CONSTANT, borderValue=(0,0,0))\n",
    "    mask  = cv2.warpAffine( mask, transform, (width, height), flags=cv2.INTER_LINEAR,\n",
    "                            borderMode=cv2.BORDER_CONSTANT, borderValue=0)\n",
    "    return image, mask\n",
    "\n"
   ]
  },
  {
   "cell_type": "markdown",
   "metadata": {},
   "source": [
    "<h3 class=\"list-group-item list-group-item-action active\" data-toggle=\"list\" style=\"color:#c3448b; background:#efe9e9; border:1px dashed #efe50b;\" role=\"tab\" aria-controls=\"dataset\"><center>Dataset</center></h3>"
   ]
  },
  {
   "cell_type": "code",
   "execution_count": 14,
   "metadata": {},
   "outputs": [],
   "source": [
    "# NOTOK\n",
    "# Recheck input\n",
    "\n",
    "image_size = 768\n",
    "\n",
    "class HubmapDataset(Dataset):\n",
    "    def __init__(self, df, augment=None):\n",
    "\n",
    "        self.df = df\n",
    "        self.augment = augment\n",
    "        self.length = len(self.df)\n",
    "#         ids = pd.read_csv(LABELS).id.astype(str).values\n",
    "#         self.fnames = [fname for fname in os.listdir(TRAIN)]# if fname.split('_')[0] in ids]\n",
    "        self.organ_to_label = {'kidney' : 0,\n",
    "                               'prostate' : 1,\n",
    "                               'largeintestine' : 2,\n",
    "                               'spleen' : 3,\n",
    "                               'lung' : 4}\n",
    "\n",
    "    def __str__(self):\n",
    "        string = ''\n",
    "        string += '\\tlen = %d\\n' % len(self)\n",
    "\n",
    "        d = self.df.organ.value_counts().to_dict()\n",
    "        for k in ['kidney', 'prostate', 'largeintestine', 'spleen', 'lung']:\n",
    "            string +=  '%24s %3d (%0.3f) \\n'%(k,d.get(k,0),d.get(k,0)/len(self.df))\n",
    "        return string\n",
    "\n",
    "    def __len__(self):\n",
    "        return self.length\n",
    "\n",
    "    def __getitem__(self, index):\n",
    "        d = self.df.iloc[index]\n",
    "        id = d['id']\n",
    "        organ = self.organ_to_label[d.organ]\n",
    "\n",
    "        fname_img = os.path.join(TRAIN, '{}.png'.format(id))\n",
    "        fname_msk = os.path.join(MASKS, '{}.npy'.format(id))\n",
    "        \n",
    "        image = cv2.cvtColor(cv2.imread(fname_img), cv2.COLOR_BGR2RGB)\n",
    "#         mask = cv2.imread(os.path.join(MASKS,fname),cv2.IMREAD_GRAYSCALE)\n",
    "        mask = np.load(fname_msk, cv2.IMREAD_GRAYSCALE)\n",
    "\n",
    "        \n",
    "        image = image.astype(np.float32)/255\n",
    "        mask  = mask.astype(np.float32) #/255\n",
    "\n",
    "#         s = d.pixel_size/0.4 * (image_size/3000)\n",
    "        image = cv2.resize(image,dsize=(image_size,image_size),interpolation=cv2.INTER_LINEAR)\n",
    "        mask  = cv2.resize(mask, dsize=(image_size,image_size),interpolation=cv2.INTER_LINEAR)\n",
    "\n",
    "        if self.augment is not None:\n",
    "            image, mask = self.augment(image, mask, organ)\n",
    "\n",
    "\n",
    "        r ={}\n",
    "        r['index']= index\n",
    "        r['id'] = id\n",
    "        r['organ'] = torch.tensor([organ], dtype=torch.long)\n",
    "        r['image'] = image_to_tensor(image, mode='rgb')\n",
    "        r['mask' ] = mask_to_tensor(mask>0.5)\n",
    "        return r"
   ]
  },
  {
   "cell_type": "markdown",
   "metadata": {},
   "source": [
    "<h3 class=\"list-group-item list-group-item-action active\" data-toggle=\"list\" style=\"color:#c3448b; background:#efe9e9; border:1px dashed #efe50b;\" role=\"tab\" aria-controls=\"patching\"><center>NETWORK</center></h3>"
   ]
  },
  {
   "cell_type": "code",
   "execution_count": 15,
   "metadata": {
    "_kg_hide-input": true,
    "_kg_hide-output": true
   },
   "outputs": [],
   "source": [
    "from swintransformer import *"
   ]
  },
  {
   "cell_type": "code",
   "execution_count": 16,
   "metadata": {},
   "outputs": [],
   "source": [
    "# ok\n",
    "\n",
    "cfg = dict(\n",
    "\n",
    "        #configs/_base_/models/upernet_swin.py\n",
    "        basic = dict(\n",
    "            swin=dict(\n",
    "                embed_dim=96,\n",
    "                depths=[2, 2, 6, 2],\n",
    "                num_heads=[3, 6, 12, 24],\n",
    "                window_size=7,\n",
    "                mlp_ratio=4.,\n",
    "                qkv_bias=True,\n",
    "                qk_scale=None,\n",
    "                drop_rate=0.,\n",
    "                attn_drop_rate=0.,\n",
    "                drop_path_rate=0.3,\n",
    "                ape=False,\n",
    "                patch_norm=True,\n",
    "                out_indices=(0, 1, 2, 3),\n",
    "                use_checkpoint=False\n",
    "            ),\n",
    "\n",
    "        ),\n",
    "\n",
    "        #configs/swin/upernet_swin_tiny_patch4_window7_512x512_160k_ade20k.py\n",
    "        swin_tiny_patch4_window7_224=dict(\n",
    "            checkpoint = pretrain_dir+'/swin_tiny_patch4_window7_224_22k.pth',\n",
    "\n",
    "            swin = dict(\n",
    "                embed_dim=96,\n",
    "                depths=[2, 2, 6, 2],\n",
    "                num_heads=[3, 6, 12, 24],\n",
    "                window_size=7,\n",
    "                ape=False,\n",
    "                drop_path_rate=0.3,\n",
    "                patch_norm=True,\n",
    "                use_checkpoint=False,\n",
    "            ),\n",
    "            upernet=dict(\n",
    "                in_channels=[96, 192, 384, 768],\n",
    "            ),\n",
    "        ),\n",
    "\n",
    "        #/configs/swin/upernet_swin_small_patch4_window7_512x512_160k_ade20k.py\n",
    "        swin_small_patch4_window7_224_22k=dict(\n",
    "            checkpoint = pretrain_dir+'/swin_small_patch4_window7_224_22k.pth',\n",
    "\n",
    "            swin = dict(\n",
    "                embed_dim=96,\n",
    "                depths=[2, 2, 18, 2],\n",
    "                num_heads=[3, 6, 12, 24],\n",
    "                window_size=7,\n",
    "                ape=False,\n",
    "                drop_path_rate=0.3,\n",
    "                patch_norm=True,\n",
    "                use_checkpoint=False\n",
    "            ),\n",
    "            upernet=dict(\n",
    "                in_channels=[96, 192, 384, 768],\n",
    "            ),\n",
    "        ),\n",
    "    )"
   ]
  },
  {
   "cell_type": "markdown",
   "metadata": {},
   "source": [
    "<h3 class=\"list-group-item list-group-item-action active\" data-toggle=\"list\" style=\"color:#c3448b; background:#efe9e9; border:1px dashed #efe50b;\" role=\"tab\" aria-controls=\"folds\"><center>Folds</center></h3>"
   ]
  },
  {
   "cell_type": "code",
   "execution_count": 17,
   "metadata": {},
   "outputs": [],
   "source": [
    "# ok\n",
    "\n",
    "def make_fold(fold=0):\n",
    "    df = pd.read_csv(root_dir + '/../data/train.csv')\n",
    "\n",
    "    num_fold = 5\n",
    "    skf = KFold(n_splits=num_fold, shuffle=True, random_state=42)\n",
    "\n",
    "    df.loc[:,'fold']=-1\n",
    "    for f,(t_idx, v_idx) in enumerate(skf.split(X=df['id'], y=df['organ'])):\n",
    "        df.iloc[v_idx,-1]=f\n",
    "\n",
    "    #check\n",
    "    if 0:\n",
    "        for f in range(num_fold):\n",
    "            train_df=df[df.fold!=f].reset_index(drop=True)\n",
    "            valid_df=df[df.fold==f].reset_index(drop=True)\n",
    "\n",
    "            print('fold %d'%f)\n",
    "            t = train_df.organ.value_counts().to_dict()\n",
    "            v = valid_df.organ.value_counts().to_dict()\n",
    "            for k in ['kidney', 'prostate', 'largeintestine', 'spleen', 'lung']:\n",
    "                print('%32s %3d (%0.3f)  %3d (%0.3f)'%(k,t.get(k,0),t.get(k,0)/len(train_df),v.get(k,0),v.get(k,0)/len(valid_df)))\n",
    "\n",
    "            print('')\n",
    "            zz=0\n",
    "\n",
    "    train_df=df[df.fold!=fold].reset_index(drop=True)\n",
    "    valid_df=df[df.fold==fold].reset_index(drop=True)\n",
    "    return train_df,valid_df"
   ]
  },
  {
   "cell_type": "markdown",
   "metadata": {},
   "source": [
    "<h3 class=\"list-group-item list-group-item-action active\" data-toggle=\"list\" style=\"color:#c3448b; background:#efe9e9; border:1px dashed #efe50b;\" role=\"tab\" aria-controls=\"dice_score\"><center>Competition Metric</center></h3>"
   ]
  },
  {
   "cell_type": "code",
   "execution_count": 18,
   "metadata": {},
   "outputs": [],
   "source": [
    "def compute_dice_score(probability, mask):\n",
    "    N = len(probability)\n",
    "    p = probability.reshape(N,-1)\n",
    "    t = mask.reshape(N,-1)\n",
    "\n",
    "    p = p>0.5\n",
    "    t = t>0.5\n",
    "    uion = p.sum(-1) + t.sum(-1)\n",
    "    overlap = (p*t).sum(-1)\n",
    "    dice = 2*overlap/(uion+0.0001)\n",
    "    return dice"
   ]
  },
  {
   "cell_type": "markdown",
   "metadata": {},
   "source": [
    "<h3 class=\"list-group-item list-group-item-action active\" data-toggle=\"list\" style=\"color:#c3448b; background:#efe9e9; border:1px dashed #efe50b;\" role=\"tab\" aria-controls=\"validation\"><center>Validation</center></h3>"
   ]
  },
  {
   "cell_type": "code",
   "execution_count": 19,
   "metadata": {},
   "outputs": [],
   "source": [
    "# ok\n",
    "\n",
    "def validate(net, valid_loader):\n",
    "\n",
    "    valid_num = 0\n",
    "    valid_probability = []\n",
    "    valid_mask = []\n",
    "    valid_loss = 0\n",
    "\n",
    "    net = net.eval()\n",
    "    start_timer = time.time()\n",
    "    for t, batch in enumerate(valid_loader):\n",
    "\n",
    "        net.output_type = ['loss', 'inference']\n",
    "        with torch.no_grad():\n",
    "            with amp.autocast(enabled = is_amp):\n",
    "\n",
    "                batch_size = len(batch['index'])\n",
    "                batch['image'] = batch['image'].cuda()\n",
    "                batch['mask' ] = batch['mask' ].cuda()\n",
    "                batch['organ'] = batch['organ'].cuda()\n",
    "\n",
    "                output = net(batch)\n",
    "                loss0  = output['bce_loss'].mean()\n",
    "\n",
    "        valid_probability.append(output['probability'].data.cpu().numpy())\n",
    "        valid_mask.append(batch['mask'].data.cpu().numpy())\n",
    "        valid_num += batch_size\n",
    "        valid_loss += batch_size*loss0.item()\n",
    "\n",
    "        #debug\n",
    "        if 0 :\n",
    "            pass\n",
    "            organ = batch['organ'].data.cpu().numpy()\n",
    "            image = batch['image']\n",
    "            mask  = batch['mask']\n",
    "            probability  = output['probability']\n",
    "\n",
    "            for b in range(batch_size):\n",
    "                m = tensor_to_image(image[b])\n",
    "                t = tensor_to_mask(mask[b,0])\n",
    "                p = tensor_to_mask(probability[b,0])\n",
    "                overlay = result_to_overlay(m, t, p )\n",
    "\n",
    "                text = label_to_organ[organ[b]]\n",
    "                draw_shadow_text(overlay,text,(5,15),0.7,(1,1,1),1)\n",
    "\n",
    "                image_show_norm('overlay',overlay,min=0,max=1,resize=1)\n",
    "                cv2.waitKey(0)\n",
    "\n",
    "        print('\\r %8d / %d  %s'%(valid_num, len(valid_loader.dataset),(time.time() - start_timer)),end='',flush=True)\n",
    "\n",
    "    assert(valid_num == len(valid_loader.dataset))\n",
    "\n",
    "    probability = np.concatenate(valid_probability)\n",
    "    mask = np.concatenate(valid_mask)\n",
    "\n",
    "    loss = valid_loss/valid_num\n",
    "\n",
    "    dice = compute_dice_score(probability, mask)\n",
    "    dice = dice.mean()\n",
    "    \n",
    "    return [dice, loss,  0, 0]"
   ]
  },
  {
   "cell_type": "markdown",
   "metadata": {},
   "source": [
    "<h3 class=\"list-group-item list-group-item-action active\" data-toggle=\"list\" style=\"color:#c3448b; background:#efe9e9; border:1px dashed #efe50b;\" role=\"tab\" aria-controls=\"init\"><center>Initialization</center></h3>"
   ]
  },
  {
   "cell_type": "code",
   "execution_count": 20,
   "metadata": {},
   "outputs": [],
   "source": [
    "def get_learning_rate(optimizer):\n",
    "    return optimizer.param_groups[0]['lr']"
   ]
  },
  {
   "cell_type": "code",
   "execution_count": 21,
   "metadata": {},
   "outputs": [
    {
     "name": "stdout",
     "output_type": "stream",
     "text": [
      "loading ./swin_tiny_patch4_window7_224_22k.pth ...\n",
      "_IncompatibleKeys(missing_keys=['out_norm.0.weight', 'out_norm.0.bias', 'out_norm.1.weight', 'out_norm.1.bias', 'out_norm.2.weight', 'out_norm.2.bias', 'out_norm.3.weight', 'out_norm.3.bias'], unexpected_keys=['norm.weight', 'norm.bias', 'head.weight', 'head.bias', 'layers.0.blocks.1.attn_mask', 'layers.1.blocks.1.attn_mask', 'layers.2.blocks.1.attn_mask', 'layers.2.blocks.3.attn_mask', 'layers.2.blocks.5.attn_mask'])\n"
     ]
    }
   ],
   "source": [
    "# ok\n",
    "\n",
    "fold = FOLD\n",
    "\n",
    "out_dir = root_dir + '/fold-%d' % (fold)\n",
    "initial_checkpoint = None\n",
    "\n",
    "start_lr   = 5e-5 #0.0001\n",
    "batch_size = 8 #32 #32\n",
    "\n",
    "\n",
    "## setup  ----------------------------------------\n",
    "for f in ['checkpoint','train','valid','backup'] : os.makedirs(out_dir +'/'+f, exist_ok=True)\n",
    "\n",
    "    \n",
    "log = open(out_dir+'/log.train.txt',mode='a')\n",
    "log.write('\\n--- [START %s] %s\\n\\n' % ('Swin', '-' * 64))\n",
    "log.write('\\n')\n",
    "\n",
    "\n",
    "## dataset ----------------------------------------\n",
    "log.write('** dataset setting **\\n')\n",
    "\n",
    "train_df, valid_df = make_fold(fold)\n",
    "\n",
    "train_dataset = HubmapDataset(train_df, train_augment5b)\n",
    "valid_dataset = HubmapDataset(valid_df, valid_augment5)\n",
    "\n",
    "train_loader  = DataLoader(\n",
    "    train_dataset,\n",
    "    sampler = RandomSampler(train_dataset),\n",
    "    batch_size  = batch_size,\n",
    "    drop_last   = True,\n",
    "    num_workers = 8,\n",
    "    pin_memory  = False,\n",
    "    worker_init_fn = lambda id: np.random.seed(torch.initial_seed() // 2 ** 32 + id),\n",
    "    collate_fn = null_collate,\n",
    ")\n",
    "\n",
    "valid_loader = DataLoader(\n",
    "    valid_dataset,\n",
    "    sampler = SequentialSampler(valid_dataset),\n",
    "    batch_size  = 8,\n",
    "    drop_last   = False,\n",
    "    num_workers = 4,\n",
    "    pin_memory  = False,\n",
    "    collate_fn = null_collate,\n",
    ")\n",
    "\n",
    "\n",
    "log.write('fold = %s\\n'%str(fold))\n",
    "log.write('train_dataset : \\n%s\\n'%(train_dataset))\n",
    "log.write('valid_dataset : \\n%s\\n'%(valid_dataset))\n",
    "log.write('\\n')\n",
    "\n",
    "\n",
    "## net ----------------------------------------\n",
    "log.write('** net setting **\\n')\n",
    "\n",
    "scaler = amp.GradScaler(enabled = is_amp)\n",
    "net = Net(cfg).cuda()\n",
    "\n",
    "if initial_checkpoint is not None:\n",
    "    f = torch.load(initial_checkpoint, map_location=lambda storage, loc: storage)\n",
    "    start_iteration = f['iteration']\n",
    "    start_epoch = f['epoch']\n",
    "    state_dict  = f['state_dict']\n",
    "    net.load_state_dict(state_dict,strict=False)  #True\n",
    "else:\n",
    "    start_iteration = 0\n",
    "    start_epoch = 0\n",
    "    net.load_pretrain()\n",
    "\n",
    "\n",
    "log.write('\\tinitial_checkpoint = %s\\n' % initial_checkpoint)\n",
    "log.write('\\n')\n",
    "\n",
    "\n",
    "## optimiser ----------------------------------\n",
    "if 0: ##freeze\n",
    "    for p in net.stem.parameters():   p.requires_grad = False\n",
    "    pass\n",
    "\n",
    "def freeze_bn(net):\n",
    "    for m in net.modules():\n",
    "        if isinstance(m, nn.BatchNorm2d):\n",
    "            m.eval()\n",
    "            m.weight.requires_grad = False\n",
    "            m.bias.requires_grad = False\n",
    "            \n",
    "#freeze_bn(net)\n",
    "\n",
    "#-----------------------------------------------\n",
    "\n",
    "optimizer = torch.optim.AdamW(filter(lambda p: p.requires_grad, net.parameters()),\n",
    "                              lr=start_lr)\n",
    "#optimizer = Lookahead(RAdam(filter(lambda p: p.requires_grad, net.parameters()),lr=start_lr), alpha=0.5, k=5)\n",
    "    \n",
    "log.write('optimizer\\n  %s\\n'%(optimizer))\n",
    "log.write('\\n')\n",
    "\n",
    "num_iteration = 1000*len(train_loader)\n",
    "iter_log   = len(train_loader)*3 #479\n",
    "iter_valid = iter_log\n",
    "iter_save  = iter_log"
   ]
  },
  {
   "cell_type": "markdown",
   "metadata": {},
   "source": [
    "<h3 class=\"list-group-item list-group-item-action active\" data-toggle=\"list\" style=\"color:#c3448b; background:#efe9e9; border:1px dashed #efe50b;\" role=\"tab\" aria-controls=\"training\"><center>Training</center></h3>"
   ]
  },
  {
   "cell_type": "code",
   "execution_count": null,
   "metadata": {},
   "outputs": [
    {
     "name": "stdout",
     "output_type": "stream",
     "text": [
      "       70 / 70  3.2726294994354258  0.097  0.0000  0.000   | 0.054  0.061   | 6221.1282169818885.731  0.674   | 15.1110198497772225.00e-5   00000105*   3.00 | 0.452  0.266  0.0000  0.000   | 0.342  0.408   | 87.647510766983035.00e-5   00000210*   6.00 | 0.571  0.228  0.0000  0.000   | 0.250  0.291   | 160.878808975219735.00e-5   00000315*   9.00 | 0.671  0.209  0.0000  0.000   | 0.217  0.240   | 233.820704698562625.00e-5   00000420*  12.00 | 0.685  0.140  0.0000  0.000   | 0.177  0.198   | 306.77571129798895.00e-5   00000525*  15.00 | 0.689  0.147  0.0000  0.000   | 0.156  0.172   | 379.567993640899665.00e-5   00000630*  18.00 | 0.684  0.149  0.0000  0.000   | 0.150  0.164   | 452.66546821594245.00e-5   00000735*  21.00 | 0.712  0.130  0.0000  0.000   | 0.144  0.154   | 526.48542761802675.00e-5   00000840*  24.00 | 0.723  0.118  0.0000  0.000   | 0.123  0.133   | 599.73002076148995.00e-5   00000945*  27.00 | 0.719  0.109  0.0000  0.000   | 0.127  0.134   | 672.59456157684335.00e-5   00001050*  30.00 | 0.742  0.102  0.0000  0.000   | 0.112  0.123   | 745.81257677078255.00e-5   00001155*  33.00 | 0.744  0.097  0.0000  0.000   | 0.115  0.123   | 819.27284765243535.00e-5   00001260*  36.00 | 0.713  0.117  0.0000  0.000   | 0.108  0.118   | 892.98849511146555.00e-5   00001365*  39.00 | 0.738  0.105  0.0000  0.000   | 0.113  0.121   | 966.405228137975.00e-5   00001470*  42.00 | 0.752  0.098  0.0000  0.000   | 0.116  0.121   | 1040.14171242713935.00e-5   00001575*  45.00 | 0.754  0.094  0.0000  0.000   | 0.104  0.111   | 1112.97711944580085.00e-5   00001680*  48.00 | 0.758  0.092  0.0000  0.000   | 0.110  0.116   | 1186.14139723777775.00e-5   00001785*  51.00 | 0.759  0.090  0.0000  0.000   | 0.104  0.112   | 1259.08702039718635.00e-5   00001890*  54.00 | 0.761  0.096  0.0000  0.000   | 0.093  0.101   | 1331.90835690498355.00e-5   00001995*  57.00 | 0.757  0.090  0.0000  0.000   | 0.097  0.104   | 1404.77375006675725.00e-5   00002100*  60.00 | 0.758  0.090  0.0000  0.000   | 0.090  0.098   | 1478.27401494979865.00e-5   00002205*  63.00 | 0.742  0.100  0.0000  0.000   | 0.083  0.092   | 1552.29306435585025.00e-5   00002310*  66.00 | 0.767  0.088  0.0000  0.000   | 0.087  0.094   | 1625.3705346584325.00e-5   00002415*  69.00 | 0.765  0.098  0.0000  0.000   | 0.086  0.095   | 1699.0125446319585.00e-5   00002520*  72.00 | 0.762  0.097  0.0000  0.000   | 0.081  0.089   | 1772.02932929992685.00e-5   00002625*  75.00 | 0.762  0.092  0.0000  0.000   | 0.081  0.090   | 1845.55277562141425.00e-5   00002730*  78.00 | 0.758  0.090  0.0000  0.000   | 0.081  0.088   | 1918.52690482139595.00e-5   00002835*  81.00 | 0.774  0.091  0.0000  0.000   | 0.082  0.089   | 1991.5738658905035.00e-5   00002940*  84.00 | 0.771  0.098  0.0000  0.000   | 0.080  0.087   | 2064.42273640632635.00e-5   00003045*  87.00 | 0.761  0.091  0.0000  0.000   | 0.083  0.092   | 2137.88781619071965.00e-5   00003150*  90.00 | 0.779  0.092  0.0000  0.000   | 0.081  0.090   | 2211.3485307693485.00e-5   00003255*  93.00 | 0.771  0.091  0.0000  0.000   | 0.075  0.083   | 2284.32726216316225.00e-5   00003360*  96.00 | 0.767  0.094  0.0000  0.000   | 0.073  0.081   | 2357.66496443748475.00e-5   00003465*  99.00 | 0.774  0.093  0.0000  0.000   | 0.073  0.081   | 2430.82587432861335.00e-5   00003570* 102.00 | 0.759  0.096  0.0000  0.000   | 0.073  0.080   | 2503.23675036430365.00e-5   00003675* 105.00 | 0.767  0.093  0.0000  0.000   | 0.080  0.087   | 2576.32913589477545.00e-5   00003780* 108.00 | 0.763  0.098  0.0000  0.000   | 0.078  0.085   | 2649.211335182195.00e-5   00003885* 111.00 | 0.766  0.103  0.0000  0.000   | 0.072  0.079   | 2722.5252592563635.00e-5   00003990* 114.00 | 0.769  0.097  0.0000  0.000   | 0.075  0.082   | 2795.40137600898745.00e-5   00004095* 117.00 | 0.765  0.092  0.0000  0.000   | 0.070  0.078   | 2867.91694259643555.00e-5   00004200* 120.00 | 0.766  0.103  0.0000  0.000   | 0.067  0.075   | 2940.7506067752845.00e-5   00004305* 123.00 | 0.782  0.093  0.0000  0.000   | 0.067  0.074   | 3014.21288347244265.00e-5   00004410* 126.00 | 0.768  0.109  0.0000  0.000   | 0.066  0.074   | 3087.53226757049565.00e-5   00004515* 129.00 | 0.771  0.098  0.0000  0.000   | 0.066  0.074   | 3160.67857027053835.00e-5   00004620* 132.00 | 0.760  0.103  0.0000  0.000   | 0.072  0.080   | 3234.1683902740485.00e-5   00004725* 135.00 | 0.770  0.099  0.0000  0.000   | 0.068  0.077   | 3307.2432444095615.00e-5   00004830* 138.00 | 0.776  0.099  0.0000  0.000   | 0.069  0.076   | 3379.8378758430485.00e-5   00004935* 141.00 | 0.776  0.100  0.0000  0.000   | 0.064  0.072   | 3453.03261256217965.00e-5   00005040* 144.00 | 0.780  0.104  0.0000  0.000   | 0.066  0.074   | 3525.9756324291235.00e-5   00005145* 147.00 | 0.789  0.096  0.0000  0.000   | 0.063  0.070   | 3599.424408674245.00e-5   00005250* 150.00 | 0.787  0.093  0.0000  0.000   | 0.061  0.069   | 3672.1969211101535.00e-5   00005355* 153.00 | 0.782  0.101  0.0000  0.000   | 0.062  0.069   | 3745.22916960716255.00e-5   00005460* 156.00 | 0.786  0.101  0.0000  0.000   | 0.062  0.069   | 3817.97615885734565.00e-5   00005565* 159.00 | 0.793  0.095  0.0000  0.000   | 0.061  0.069   | 3891.27026629447945.00e-5   00005670* 162.00 | 0.787  0.101  0.0000  0.000   | 0.062  0.070   | 3964.14987492561345.00e-5   00005775* 165.00 | 0.799  0.105  0.0000  0.000   | 0.066  0.073   | 4036.86433625221255.00e-5   00005880* 168.00 | 0.797  0.090  0.0000  0.000   | 0.077  0.084   | 4109.9151103496555.00e-5   00005985* 171.00 | 0.782  0.100  0.0000  0.000   | 0.064  0.072   | 4183.5214724540715.00e-5   00006090* 174.00 | 0.787  0.087  0.0000  0.000   | 0.062  0.070   | 4256.6414792537695.00e-5   00006195* 177.00 | 0.791  0.093  0.0000  0.000   | 0.061  0.069   | 4329.7081687450415.00e-5   00006300* 180.00 | 0.774  0.099  0.0000  0.000   | 0.064  0.072   | 4402.3781399726875.00e-5   00006405* 183.00 | 0.779  0.091  0.0000  0.000   | 0.061  0.069   | 4475.1745579242715.00e-5   00006510* 186.00 | 0.793  0.090  0.0000  0.000   | 0.057  0.065   | 4548.2011797428135.00e-5   00006615* 189.00 | 0.790  0.098  0.0000  0.000   | 0.058  0.066   | 4621.1394734382635.00e-5   00006720* 192.00 | 0.787  0.097  0.0000  0.000   | 0.053  0.061   | 4693.5657486915595.00e-5   00006825* 195.00 | 0.791  0.096  0.0000  0.000   | 0.055  0.063   | 4766.8446748256685.00e-5   00006930* 198.00 | 0.792  0.098  0.0000  0.000   | 0.055  0.063   | 4840.3905906677255.00e-5   00007035* 201.00 | 0.795  0.093  0.0000  0.000   | 0.054  0.061   | 4913.61199569702155.00e-5   00007140* 204.00 | 0.792  0.098  0.0000  0.000   | 0.053  0.061   | 4987.2168903350835.00e-5   00007245* 207.00 | 0.790  0.106  0.0000  0.000   | 0.059  0.066   | 5060.4118747711185.00e-5   00007350* 210.00 | 0.788  0.103  0.0000  0.000   | 0.057  0.065   | 5133.06595563888555.00e-5   00007455* 213.00 | 0.782  0.098  0.0000  0.000   | 0.059  0.068   | 5206.2245361804965.00e-5   00007560* 216.00 | 0.770  0.103  0.0000  0.000   | 0.056  0.063   | 5279.43422055244455.00e-5   00007665* 219.00 | 0.784  0.095  0.0000  0.000   | 0.052  0.060   | 5352.3317184448245.00e-5   00007770* 222.00 | 0.788  0.095  0.0000  0.000   | 0.061  0.069   | 5425.4581935405735.00e-5   00007875* 225.00 | 0.793  0.093  0.0000  0.000   | 0.055  0.063   | 5498.8638134002695.00e-5   00007980* 228.00 | 0.795  0.095  0.0000  0.000   | 0.059  0.065   | 5572.2660057544715.00e-5   00008085* 231.00 | 0.789  0.102  0.0000  0.000   | 0.059  0.066   | 5645.3272199630745.00e-5   00008190* 234.00 | 0.795  0.098  0.0000  0.000   | 0.053  0.061   | 5718.1712880134585.00e-5   00008295* 237.00 | 0.791  0.096  0.0000  0.000   | 0.056  0.064   | 5791.2897760868075.00e-5   00008400* 240.00 | 0.792  0.098  0.0000  0.000   | 0.055  0.063   | 5864.8148019313815.00e-5   00008505* 243.00 | 0.794  0.103  0.0000  0.000   | 0.057  0.064   | 5937.7254314422615.00e-5   00008610* 246.00 | 0.791  0.091  0.0000  0.000   | 0.054  0.061   | 6010.8519353866585.00e-5   00008715* 249.00 | 0.800  0.090  0.0000  0.000   | 0.052  0.060   | 6083.7620244026185.00e-5   00008820* 252.00 | 0.798  0.097  0.0000  0.000   | 0.047  0.054   | 6156.729487180715.00e-5   00008925* 255.00 | 0.802  0.094  0.0000  0.000   | 0.053  0.062   | 6229.487426280975"
     ]
    },
    {
     "name": "stdout",
     "output_type": "stream",
     "text": [
      "       70 / 70  4.1432325839996348  0.107  0.0000  0.000   | 0.040  0.047   | 12787.9372336864475.00e-5   00009030* 258.00 | 0.802  0.093  0.0000  0.000   | 0.055  0.062   | 6302.2240648269655.00e-5   00009135* 261.00 | 0.796  0.094  0.0000  0.000   | 0.059  0.066   | 6375.7776031494145.00e-5   00009240* 264.00 | 0.792  0.099  0.0000  0.000   | 0.050  0.058   | 6448.5851223468785.00e-5   00009345* 267.00 | 0.790  0.103  0.0000  0.000   | 0.056  0.063   | 6521.5468401908875.00e-5   00009450* 270.00 | 0.800  0.093  0.0000  0.000   | 0.053  0.059   | 6594.1630201339725.00e-5   00009555* 273.00 | 0.798  0.093  0.0000  0.000   | 0.052  0.059   | 6666.7504034042365.00e-5   00009660* 276.00 | 0.790  0.100  0.0000  0.000   | 0.052  0.060   | 6740.0331554412845.00e-5   00009765* 279.00 | 0.792  0.098  0.0000  0.000   | 0.051  0.058   | 6812.6617774963385.00e-5   00009870* 282.00 | 0.795  0.087  0.0000  0.000   | 0.055  0.062   | 6885.55647778511055.00e-5   00009975* 285.00 | 0.796  0.097  0.0000  0.000   | 0.052  0.060   | 6959.0876364707955.00e-5   00010080* 288.00 | 0.798  0.100  0.0000  0.000   | 0.048  0.057   | 7031.7009346485145.00e-5   00010185* 291.00 | 0.787  0.104  0.0000  0.000   | 0.049  0.058   | 7104.9832594394685.00e-5   00010290* 294.00 | 0.798  0.103  0.0000  0.000   | 0.048  0.055   | 7177.7931275367745.00e-5   00010395* 297.00 | 0.793  0.103  0.0000  0.000   | 0.054  0.062   | 7250.9510262012485.00e-5   00010500* 300.00 | 0.804  0.099  0.0000  0.000   | 0.047  0.054   | 7323.9132797718055.00e-5   00010605* 303.00 | 0.804  0.096  0.0000  0.000   | 0.051  0.059   | 7397.1342248916635.00e-5   00010710* 306.00 | 0.805  0.097  0.0000  0.000   | 0.048  0.055   | 7476.245816946035.00e-5   00010815* 309.00 | 0.799  0.098  0.0000  0.000   | 0.052  0.060   | 7552.28399419784555.00e-5   00010920* 312.00 | 0.783  0.107  0.0000  0.000   | 0.052  0.060   | 7628.6192116737375.00e-5   00011025* 315.00 | 0.793  0.095  0.0000  0.000   | 0.050  0.058   | 7707.50064659118655.00e-5   00011130* 318.00 | 0.797  0.098  0.0000  0.000   | 0.050  0.056   | 7784.434830427175.00e-5   00011235* 321.00 | 0.807  0.102  0.0000  0.000   | 0.048  0.055   | 7862.71937394142155.00e-5   00011340* 324.00 | 0.807  0.100  0.0000  0.000   | 0.048  0.055   | 7941.4962992668155.00e-5   00011445* 327.00 | 0.803  0.093  0.0000  0.000   | 0.048  0.055   | 8020.0517535209665.00e-5   00011550* 330.00 | 0.799  0.098  0.0000  0.000   | 0.047  0.055   | 8098.4800586700445.00e-5   00011655* 333.00 | 0.800  0.099  0.0000  0.000   | 0.049  0.057   | 8176.6857576370245.00e-5   00011760* 336.00 | 0.801  0.098  0.0000  0.000   | 0.048  0.055   | 8254.0376439094545.00e-5   00011865* 339.00 | 0.801  0.096  0.0000  0.000   | 0.045  0.053   | 8331.8102056980135.00e-5   00011970* 342.00 | 0.799  0.096  0.0000  0.000   | 0.046  0.053   | 8411.2540364265445.00e-5   00012075* 345.00 | 0.770  0.110  0.0000  0.000   | 0.053  0.061   | 8489.3187563419345.00e-5   00012180* 348.00 | 0.793  0.108  0.0000  0.000   | 0.043  0.050   | 8568.8945305347445.00e-5   00012285* 351.00 | 0.797  0.098  0.0000  0.000   | 0.049  0.057   | 8647.0571303367615.00e-5   00012390* 354.00 | 0.778  0.120  0.0000  0.000   | 0.060  0.066   | 8725.437278509145.00e-5   00012495* 357.00 | 0.795  0.105  0.0000  0.000   | 0.047  0.054   | 8803.6821923255925.00e-5   00012600* 360.00 | 0.804  0.101  0.0000  0.000   | 0.043  0.051   | 8882.194139480595.00e-5   00012705* 363.00 | 0.796  0.105  0.0000  0.000   | 0.045  0.053   | 8960.7761504650125.00e-5   00012810* 366.00 | 0.798  0.104  0.0000  0.000   | 0.046  0.053   | 9038.6254911422735.00e-5   00012915* 369.00 | 0.795  0.107  0.0000  0.000   | 0.041  0.049   | 9116.6983911991125.00e-5   00013020* 372.00 | 0.796  0.107  0.0000  0.000   | 0.046  0.053   | 9195.357175350195.00e-5   00013125* 375.00 | 0.801  0.102  0.0000  0.000   | 0.044  0.052   | 9273.852909803395.00e-5   00013230* 378.00 | 0.796  0.109  0.0000  0.000   | 0.041  0.049   | 9352.3951213359835.00e-5   00013335* 381.00 | 0.792  0.104  0.0000  0.000   | 0.055  0.061   | 9430.7247736454015.00e-5   00013440* 384.00 | 0.800  0.100  0.0000  0.000   | 0.059  0.063   | 9508.3175854682925.00e-5   00013545* 387.00 | 0.799  0.106  0.0000  0.000   | 0.049  0.055   | 9586.4229106903085.00e-5   00013650* 390.00 | 0.810  0.100  0.0000  0.000   | 0.048  0.055   | 9664.8510229587555.00e-5   00013755* 393.00 | 0.809  0.102  0.0000  0.000   | 0.046  0.053   | 9743.5177216529855.00e-5   00013860* 396.00 | 0.800  0.107  0.0000  0.000   | 0.044  0.051   | 9822.0092594623575.00e-5   00013965* 399.00 | 0.796  0.107  0.0000  0.000   | 0.046  0.053   | 9899.9802331924445.00e-5   00014070* 402.00 | 0.798  0.110  0.0000  0.000   | 0.043  0.050   | 9977.8207445144655.00e-5   00014175* 405.00 | 0.802  0.107  0.0000  0.000   | 0.041  0.049   | 10056.283379316335.00e-5   00014280* 408.00 | 0.801  0.102  0.0000  0.000   | 0.044  0.052   | 10134.9390776157385.00e-5   00014385* 411.00 | 0.807  0.104  0.0000  0.000   | 0.043  0.050   | 10212.7623786926275.00e-5   00014490* 414.00 | 0.799  0.106  0.0000  0.000   | 0.043  0.050   | 10290.9751935005195.00e-5   00014595* 417.00 | 0.801  0.107  0.0000  0.000   | 0.045  0.052   | 10369.560095548635.00e-5   00014700* 420.00 | 0.792  0.108  0.0000  0.000   | 0.042  0.050   | 10448.1763744354255.00e-5   00014805* 423.00 | 0.794  0.113  0.0000  0.000   | 0.041  0.049   | 10527.256345987325.00e-5   00014910* 426.00 | 0.806  0.106  0.0000  0.000   | 0.041  0.049   | 10605.625209808355.00e-5   00015015* 429.00 | 0.805  0.103  0.0000  0.000   | 0.040  0.047   | 10684.1312043666845.00e-5   00015120* 432.00 | 0.797  0.105  0.0000  0.000   | 0.044  0.051   | 10762.317849159245.00e-5   00015225* 435.00 | 0.799  0.104  0.0000  0.000   | 0.042  0.049   | 10840.6060466766365.00e-5   00015330* 438.00 | 0.808  0.104  0.0000  0.000   | 0.040  0.047   | 10918.4998834133155.00e-5   00015435* 441.00 | 0.803  0.101  0.0000  0.000   | 0.044  0.051   | 10997.1587126255045.00e-5   00015540* 444.00 | 0.808  0.101  0.0000  0.000   | 0.043  0.050   | 11075.7080972194675.00e-5   00015645* 447.00 | 0.807  0.106  0.0000  0.000   | 0.042  0.049   | 11153.9358525276185.00e-5   00015750* 450.00 | 0.809  0.106  0.0000  0.000   | 0.044  0.051   | 11232.447710275655.00e-5   00015855* 453.00 | 0.805  0.109  0.0000  0.000   | 0.046  0.053   | 11311.8141455650335.00e-5   00015960* 456.00 | 0.796  0.108  0.0000  0.000   | 0.044  0.051   | 11389.762683629995.00e-5   00016065* 459.00 | 0.806  0.106  0.0000  0.000   | 0.040  0.047   | 11467.8600878715525.00e-5   00016170* 462.00 | 0.804  0.107  0.0000  0.000   | 0.042  0.049   | 11546.2116982936865.00e-5   00016275* 465.00 | 0.796  0.115  0.0000  0.000   | 0.042  0.050   | 11625.2879412174225.00e-5   00016380* 468.00 | 0.795  0.109  0.0000  0.000   | 0.041  0.047   | 11703.4600081443795.00e-5   00016485* 471.00 | 0.798  0.109  0.0000  0.000   | 0.044  0.050   | 11782.045173645025.00e-5   00016590* 474.00 | 0.792  0.104  0.0000  0.000   | 0.038  0.045   | 11860.243430852895.00e-5   00016695* 477.00 | 0.801  0.105  0.0000  0.000   | 0.042  0.049   | 11939.0593497753145.00e-5   00016800* 480.00 | 0.802  0.112  0.0000  0.000   | 0.044  0.051   | 12017.769910335545.00e-5   00016905* 483.00 | 0.800  0.109  0.0000  0.000   | 0.043  0.050   | 12096.2285025119785.00e-5   00017010* 486.00 | 0.790  0.118  0.0000  0.000   | 0.047  0.055   | 12174.2653896808625.00e-5   00017115* 489.00 | 0.783  0.111  0.0000  0.000   | 0.048  0.055   | 12252.382062435155.00e-5   00017220* 492.00 | 0.789  0.115  0.0000  0.000   | 0.037  0.045   | 12330.2920162677765.00e-5   00017325* 495.00 | 0.791  0.119  0.0000  0.000   | 0.041  0.048   | 12408.4783213138585.00e-5   00017430* 498.00 | 0.809  0.104  0.0000  0.000   | 0.044  0.051   | 12486.5552225112925.00e-5   00017535* 501.00 | 0.795  0.114  0.0000  0.000   | 0.043  0.051   | 12565.083428859715.00e-5   00017640* 504.00 | 0.809  0.106  0.0000  0.000   | 0.039  0.046   | 12643.1791329383855.00e-5   00017745* 507.00 | 0.807  0.107  0.0000  0.000   | 0.037  0.044   | 12721.3534131050115.00e-5   00017850* 510.00 | 0.788  0.116  0.0000  0.000   | 0.047  0.056   | 12798.634755373001"
     ]
    },
    {
     "name": "stdout",
     "output_type": "stream",
     "text": [
      "5.00e-5   00019170  547.71 | 0.794  0.129  0.0000  0.000   | 0.038  0.045   | 13783.3400392532355.00e-5   00017955* 513.00 | 0.804  0.113  0.0000  0.000   | 0.041  0.048   | 12877.0820667743685.00e-5   00018060* 516.00 | 0.811  0.105  0.0000  0.000   | 0.038  0.046   | 12954.5663471221925.00e-5   00018165* 519.00 | 0.806  0.105  0.0000  0.000   | 0.040  0.047   | 13032.992935895925.00e-5   00018270* 522.00 | 0.800  0.102  0.0000  0.000   | 0.043  0.050   | 13110.8818430900575.00e-5   00018375* 525.00 | 0.806  0.113  0.0000  0.000   | 0.041  0.048   | 13188.7972271442415.00e-5   00018480* 528.00 | 0.806  0.110  0.0000  0.000   | 0.038  0.045   | 13267.2650282382975.00e-5   00018585* 531.00 | 0.812  0.104  0.0000  0.000   | 0.039  0.046   | 13345.1863155364995.00e-5   00018690* 534.00 | 0.809  0.115  0.0000  0.000   | 0.041  0.048   | 13423.3549194335945.00e-5   00018795* 537.00 | 0.809  0.125  0.0000  0.000   | 0.038  0.046   | 13500.988140344625.00e-5   00018900* 540.00 | 0.803  0.119  0.0000  0.000   | 0.041  0.049   | 13586.9652907848365.00e-5   00019005* 543.00 | 0.802  0.109  0.0000  0.000   | 0.039  0.046   | 13665.7325701713565.00e-5   00019110* 546.00 | 0.794  0.129  0.0000  0.000   | 0.042  0.048   | 13744.252571105957"
     ]
    }
   ],
   "source": [
    "# ok\n",
    "\n",
    "log.write('** start training here! **\\n')\n",
    "log.write('   batch_size = %d \\n'%(batch_size))\n",
    "log.write('                     |-------------- VALID---------|---- TRAIN/BATCH ----------------\\n')\n",
    "log.write('rate     iter  epoch | dice   loss   tp     tn     | loss           | time           \\n')\n",
    "log.write('-------------------------------------------------------------------------------------\\n')\n",
    "\n",
    "valid_loss = np.zeros(4,np.float32)\n",
    "train_loss = np.zeros(2,np.float32)\n",
    "batch_loss = np.zeros_like(train_loss)\n",
    "sum_train_loss = np.zeros_like(train_loss)\n",
    "sum_train = 0\n",
    "\n",
    "start_timer = time.time()\n",
    "iteration = start_iteration\n",
    "epoch = start_epoch\n",
    "rate = 0\n",
    "\n",
    "while iteration < num_iteration:\n",
    "    for t, batch in enumerate(train_loader):\n",
    "\n",
    "        if iteration%iter_save==0:\n",
    "            if iteration != start_iteration:\n",
    "                torch.save({\n",
    "                    'state_dict': net.state_dict(),\n",
    "                    'iteration': iteration,\n",
    "                    'epoch': epoch,\n",
    "                }, out_dir + '/checkpoint/%08d.model.pth' %  (iteration))\n",
    "                pass\n",
    "\n",
    "\n",
    "        if (iteration%iter_valid==0):\n",
    "            valid_loss = validate(net, valid_loader)\n",
    "            pass\n",
    "\n",
    "\n",
    "        if (iteration%iter_log==0) or (iteration%iter_valid==0):\n",
    "            print('\\r', end='', flush=True)\n",
    "            log.write(message(mode='log') + '\\n')\n",
    "\n",
    "\n",
    "        # learning rate schduler ------------\n",
    "        rate = get_learning_rate(optimizer)\n",
    "\n",
    "        # one iteration update  -------------\n",
    "        batch_size = len(batch['index'])\n",
    "        batch['image'] = batch['image'].half().cuda()\n",
    "        batch['mask' ] = batch['mask' ].half().cuda()\n",
    "        batch['organ'] = batch['organ'].cuda()\n",
    "\n",
    "\n",
    "        net.train()\n",
    "        net.output_type = ['loss']\n",
    "        if 1:\n",
    "            with amp.autocast(enabled = is_amp):\n",
    "                output = net(batch)\n",
    "                loss0  = output['bce_loss'].mean()\n",
    "                loss1  = output['aux2_loss'].mean()\n",
    "\n",
    "            optimizer.zero_grad()\n",
    "            scaler.scale(loss0+0.2*loss1).backward()\n",
    "\n",
    "            scaler.unscale_(optimizer)\n",
    "            scaler.step(optimizer)\n",
    "            scaler.update()\n",
    "\n",
    "\n",
    "        # print statistics  --------\n",
    "        batch_loss[:2] = [loss0.item(),loss1.item()]\n",
    "        sum_train_loss += batch_loss\n",
    "        sum_train += 1\n",
    "        if t % 100 == 0:\n",
    "            train_loss = sum_train_loss / (sum_train + 1e-12)\n",
    "            sum_train_loss[...] = 0\n",
    "            sum_train = 0\n",
    "\n",
    "        print('\\r', end='', flush=True)\n",
    "        print(message(mode='log'), end='', flush=True)\n",
    "        epoch += 1 / len(train_loader)\n",
    "        iteration += 1\n",
    "        \n",
    "    torch.cuda.empty_cache()\n",
    "    log.flush()\n",
    "#     clear_output()\n",
    "    \n",
    "log.write('\\n')\n",
    "log.close()"
   ]
  },
  {
   "cell_type": "code",
   "execution_count": null,
   "metadata": {},
   "outputs": [],
   "source": []
  },
  {
   "cell_type": "code",
   "execution_count": null,
   "metadata": {},
   "outputs": [],
   "source": []
  },
  {
   "cell_type": "code",
   "execution_count": null,
   "metadata": {},
   "outputs": [],
   "source": []
  },
  {
   "cell_type": "code",
   "execution_count": null,
   "metadata": {},
   "outputs": [],
   "source": []
  }
 ],
 "metadata": {
  "kernelspec": {
   "display_name": "Python 3",
   "language": "python",
   "name": "python3"
  },
  "language_info": {
   "codemirror_mode": {
    "name": "ipython",
    "version": 3
   },
   "file_extension": ".py",
   "mimetype": "text/x-python",
   "name": "python",
   "nbconvert_exporter": "python",
   "pygments_lexer": "ipython3",
   "version": "3.6.10"
  }
 },
 "nbformat": 4,
 "nbformat_minor": 4
}
