{
 "cells": [
  {
   "cell_type": "markdown",
   "metadata": {},
   "source": [
    "# CLEAN BUILD FROM SCRATCH mitb2 on patches"
   ]
  },
  {
   "cell_type": "code",
   "execution_count": 1,
   "metadata": {},
   "outputs": [],
   "source": [
    "CURRENT_FOLD = 3"
   ]
  },
  {
   "cell_type": "code",
   "execution_count": 2,
   "metadata": {},
   "outputs": [
    {
     "name": "stdout",
     "output_type": "stream",
     "text": [
      "Thu Sep  1 13:42:51 2022       \n",
      "+-----------------------------------------------------------------------------+\n",
      "| NVIDIA-SMI 418.152.00   Driver Version: 418.152.00   CUDA Version: 11.1     |\n",
      "|-------------------------------+----------------------+----------------------+\n",
      "| GPU  Name        Persistence-M| Bus-Id        Disp.A | Volatile Uncorr. ECC |\n",
      "| Fan  Temp  Perf  Pwr:Usage/Cap|         Memory-Usage | GPU-Util  Compute M. |\n",
      "|===============================+======================+======================|\n",
      "|   0  Tesla V100-DGXS...  On   | 00000000:07:00.0 Off |                    0 |\n",
      "| N/A   47C    P0    41W / 300W |     57MiB / 32478MiB |      0%      Default |\n",
      "+-------------------------------+----------------------+----------------------+\n",
      "|   1  Tesla V100-DGXS...  On   | 00000000:08:00.0 Off |                    0 |\n",
      "| N/A   49C    P0    56W / 300W |   1905MiB / 32478MiB |      0%      Default |\n",
      "+-------------------------------+----------------------+----------------------+\n",
      "|   2  Tesla V100-DGXS...  On   | 00000000:0E:00.0 Off |                    0 |\n",
      "| N/A   49C    P0    52W / 300W |   1631MiB / 32478MiB |      0%      Default |\n",
      "+-------------------------------+----------------------+----------------------+\n",
      "|   3  Tesla V100-DGXS...  On   | 00000000:0F:00.0 Off |                    0 |\n",
      "| N/A   55C    P0   249W / 300W |  25299MiB / 32478MiB |     91%      Default |\n",
      "+-------------------------------+----------------------+----------------------+\n",
      "                                                                               \n",
      "+-----------------------------------------------------------------------------+\n",
      "| Processes:                                                       GPU Memory |\n",
      "|  GPU       PID   Type   Process name                             Usage      |\n",
      "|=============================================================================|\n",
      "+-----------------------------------------------------------------------------+\n"
     ]
    }
   ],
   "source": [
    "!nvidia-smi"
   ]
  },
  {
   "cell_type": "markdown",
   "metadata": {},
   "source": [
    "# imports"
   ]
  },
  {
   "cell_type": "code",
   "execution_count": 3,
   "metadata": {},
   "outputs": [],
   "source": [
    "import random\n",
    "\n",
    "import numpy as np\n",
    "import pandas as pd\n",
    "import cv2 as cv\n",
    "import os\n",
    "\n",
    "from matplotlib import pyplot as plt\n",
    "from glob import glob\n",
    "from sklearn.model_selection import StratifiedKFold\n",
    "from tqdm import tqdm\n",
    "from IPython.display import clear_output\n",
    "\n",
    "import albumentations as A\n",
    "import albumentations.pytorch\n",
    "\n",
    "import torch\n",
    "import torch.nn as nn\n",
    "import torch.nn.functional as F\n",
    "from torch.utils.data import Dataset\n",
    "from torch.utils.data import DataLoader\n",
    "\n",
    "import torch.cuda.amp as amp\n",
    "is_amp = True"
   ]
  },
  {
   "cell_type": "code",
   "execution_count": 4,
   "metadata": {},
   "outputs": [],
   "source": [
    "torch.multiprocessing.set_start_method('spawn')"
   ]
  },
  {
   "cell_type": "markdown",
   "metadata": {},
   "source": [
    "# data"
   ]
  },
  {
   "cell_type": "code",
   "execution_count": 5,
   "metadata": {},
   "outputs": [],
   "source": [
    "ORGAN2ID = {\n",
    "    'kidney' : 0,\n",
    "    'prostate' : 1,\n",
    "    'largeintestine' : 2,\n",
    "    'spleen' : 3,\n",
    "    'lung' : 4\n",
    "}\n",
    "ID2ORGAN = {v: k for k, v in ORGAN2ID.items()}"
   ]
  },
  {
   "cell_type": "markdown",
   "metadata": {},
   "source": [
    "# model testing"
   ]
  },
  {
   "cell_type": "code",
   "execution_count": 6,
   "metadata": {},
   "outputs": [],
   "source": [
    "from coat import *\n",
    "from daformer import *\n",
    "from torch.optim.swa_utils import AveragedModel, SWALR"
   ]
  },
  {
   "cell_type": "markdown",
   "metadata": {},
   "source": [
    "## data 512"
   ]
  },
  {
   "cell_type": "code",
   "execution_count": 7,
   "metadata": {},
   "outputs": [],
   "source": [
    "# img256 = cv.imread('./../data/train_data_eunet_patches/256/train/10044_0000.png')\n",
    "# img512 = cv.imread('./../data/train_data_eunet_patches/512/train/10044_0000.png')"
   ]
  },
  {
   "cell_type": "code",
   "execution_count": 8,
   "metadata": {},
   "outputs": [],
   "source": [
    "TRAIN_CSV = './../data/train.csv'\n",
    "TEST_CSV = './../data/test.csv'\n",
    "TRAIN_IMAGES_DIR = './../data/train_images_patches_768_overlap/'\n",
    "TRAIN_MASKS_DIR = './../data/train_masks_patches_768_overlap/'\n",
    "\n",
    "N_CROSS_VALID_SPLITS = 5\n",
    "RANDOM_SEED = 2022\n",
    "\n",
    "SPATIAL_SIZE = 512 # размер патча\n"
   ]
  },
  {
   "cell_type": "code",
   "execution_count": 9,
   "metadata": {},
   "outputs": [],
   "source": [
    "train_df = pd.read_csv(TRAIN_CSV)"
   ]
  },
  {
   "cell_type": "code",
   "execution_count": 10,
   "metadata": {},
   "outputs": [],
   "source": [
    "def make_train_image_path(row):\n",
    "    return os.path.join(TRAIN_IMAGES_DIR, str(row['id']) + '.png')\n",
    "\n",
    "def make_train_mask_path(row):\n",
    "    return os.path.join(TRAIN_MASKS_DIR, str(row['id']) + '.png')\n",
    "\n",
    "def create_folds(df: pd.DataFrame, n_splits: int, random_seed: int) -> pd.DataFrame:\n",
    "    skf = StratifiedKFold(n_splits=n_splits, shuffle=True, random_state=random_seed)\n",
    "    for fold, (_, val_idx) in enumerate(skf.split(X=df, y=df[\"organ\"])):\n",
    "        df.loc[val_idx, \"fold\"] = int(fold)\n",
    "\n",
    "    return df"
   ]
  },
  {
   "cell_type": "code",
   "execution_count": 11,
   "metadata": {},
   "outputs": [],
   "source": [
    "train_df = create_folds(train_df, n_splits=N_CROSS_VALID_SPLITS, random_seed=RANDOM_SEED)"
   ]
  },
  {
   "cell_type": "code",
   "execution_count": 12,
   "metadata": {},
   "outputs": [
    {
     "data": {
      "text/html": [
       "<div>\n",
       "<style scoped>\n",
       "    .dataframe tbody tr th:only-of-type {\n",
       "        vertical-align: middle;\n",
       "    }\n",
       "\n",
       "    .dataframe tbody tr th {\n",
       "        vertical-align: top;\n",
       "    }\n",
       "\n",
       "    .dataframe thead th {\n",
       "        text-align: right;\n",
       "    }\n",
       "</style>\n",
       "<table border=\"1\" class=\"dataframe\">\n",
       "  <thead>\n",
       "    <tr style=\"text-align: right;\">\n",
       "      <th></th>\n",
       "      <th>id</th>\n",
       "      <th>organ</th>\n",
       "      <th>data_source</th>\n",
       "      <th>img_height</th>\n",
       "      <th>img_width</th>\n",
       "      <th>pixel_size</th>\n",
       "      <th>tissue_thickness</th>\n",
       "      <th>rle</th>\n",
       "      <th>age</th>\n",
       "      <th>sex</th>\n",
       "      <th>fold</th>\n",
       "    </tr>\n",
       "  </thead>\n",
       "  <tbody>\n",
       "    <tr>\n",
       "      <th>0</th>\n",
       "      <td>10044</td>\n",
       "      <td>prostate</td>\n",
       "      <td>HPA</td>\n",
       "      <td>3000</td>\n",
       "      <td>3000</td>\n",
       "      <td>0.4</td>\n",
       "      <td>4</td>\n",
       "      <td>1459676 77 1462675 82 1465674 87 1468673 92 14...</td>\n",
       "      <td>37.0</td>\n",
       "      <td>Male</td>\n",
       "      <td>4.0</td>\n",
       "    </tr>\n",
       "    <tr>\n",
       "      <th>1</th>\n",
       "      <td>10274</td>\n",
       "      <td>prostate</td>\n",
       "      <td>HPA</td>\n",
       "      <td>3000</td>\n",
       "      <td>3000</td>\n",
       "      <td>0.4</td>\n",
       "      <td>4</td>\n",
       "      <td>715707 2 718705 8 721703 11 724701 18 727692 3...</td>\n",
       "      <td>76.0</td>\n",
       "      <td>Male</td>\n",
       "      <td>0.0</td>\n",
       "    </tr>\n",
       "    <tr>\n",
       "      <th>2</th>\n",
       "      <td>10392</td>\n",
       "      <td>spleen</td>\n",
       "      <td>HPA</td>\n",
       "      <td>3000</td>\n",
       "      <td>3000</td>\n",
       "      <td>0.4</td>\n",
       "      <td>4</td>\n",
       "      <td>1228631 20 1231629 24 1234624 40 1237623 47 12...</td>\n",
       "      <td>82.0</td>\n",
       "      <td>Male</td>\n",
       "      <td>0.0</td>\n",
       "    </tr>\n",
       "    <tr>\n",
       "      <th>3</th>\n",
       "      <td>10488</td>\n",
       "      <td>lung</td>\n",
       "      <td>HPA</td>\n",
       "      <td>3000</td>\n",
       "      <td>3000</td>\n",
       "      <td>0.4</td>\n",
       "      <td>4</td>\n",
       "      <td>3446519 15 3449517 17 3452514 20 3455510 24 34...</td>\n",
       "      <td>78.0</td>\n",
       "      <td>Male</td>\n",
       "      <td>0.0</td>\n",
       "    </tr>\n",
       "    <tr>\n",
       "      <th>4</th>\n",
       "      <td>10610</td>\n",
       "      <td>spleen</td>\n",
       "      <td>HPA</td>\n",
       "      <td>3000</td>\n",
       "      <td>3000</td>\n",
       "      <td>0.4</td>\n",
       "      <td>4</td>\n",
       "      <td>478925 68 481909 87 484893 105 487863 154 4908...</td>\n",
       "      <td>21.0</td>\n",
       "      <td>Female</td>\n",
       "      <td>4.0</td>\n",
       "    </tr>\n",
       "  </tbody>\n",
       "</table>\n",
       "</div>"
      ],
      "text/plain": [
       "      id     organ data_source  img_height  img_width  pixel_size  \\\n",
       "0  10044  prostate         HPA        3000       3000         0.4   \n",
       "1  10274  prostate         HPA        3000       3000         0.4   \n",
       "2  10392    spleen         HPA        3000       3000         0.4   \n",
       "3  10488      lung         HPA        3000       3000         0.4   \n",
       "4  10610    spleen         HPA        3000       3000         0.4   \n",
       "\n",
       "   tissue_thickness                                                rle   age  \\\n",
       "0                 4  1459676 77 1462675 82 1465674 87 1468673 92 14...  37.0   \n",
       "1                 4  715707 2 718705 8 721703 11 724701 18 727692 3...  76.0   \n",
       "2                 4  1228631 20 1231629 24 1234624 40 1237623 47 12...  82.0   \n",
       "3                 4  3446519 15 3449517 17 3452514 20 3455510 24 34...  78.0   \n",
       "4                 4  478925 68 481909 87 484893 105 487863 154 4908...  21.0   \n",
       "\n",
       "      sex  fold  \n",
       "0    Male   4.0  \n",
       "1    Male   0.0  \n",
       "2    Male   0.0  \n",
       "3    Male   0.0  \n",
       "4  Female   4.0  "
      ]
     },
     "execution_count": 12,
     "metadata": {},
     "output_type": "execute_result"
    }
   ],
   "source": [
    "train_df.head()"
   ]
  },
  {
   "cell_type": "code",
   "execution_count": 13,
   "metadata": {},
   "outputs": [],
   "source": [
    "def make_768_dataset(df):\n",
    "    new_df = []\n",
    "    for index, row in df.iterrows():\n",
    "        id = row['id']\n",
    "        glb = list(glob(TRAIN_IMAGES_DIR + '{}_*.png'.format(id)))\n",
    "        for fname in glb:\n",
    "            newrow = dict()\n",
    "            newrow['id'] = id\n",
    "            newrow['image'] = fname\n",
    "            newrow['mask'] = fname.replace('_images_', '_masks_')\n",
    "            newrow['organ'] = row['organ']\n",
    "            newrow['pixel_size'] = row['pixel_size']\n",
    "            newrow['fold'] = row['fold']\n",
    "            \n",
    "            new_df.append(newrow)\n",
    "    return pd.DataFrame(new_df)"
   ]
  },
  {
   "cell_type": "code",
   "execution_count": 14,
   "metadata": {},
   "outputs": [
    {
     "name": "stdout",
     "output_type": "stream",
     "text": [
      "(8658, 6)\n"
     ]
    },
    {
     "data": {
      "text/html": [
       "<div>\n",
       "<style scoped>\n",
       "    .dataframe tbody tr th:only-of-type {\n",
       "        vertical-align: middle;\n",
       "    }\n",
       "\n",
       "    .dataframe tbody tr th {\n",
       "        vertical-align: top;\n",
       "    }\n",
       "\n",
       "    .dataframe thead th {\n",
       "        text-align: right;\n",
       "    }\n",
       "</style>\n",
       "<table border=\"1\" class=\"dataframe\">\n",
       "  <thead>\n",
       "    <tr style=\"text-align: right;\">\n",
       "      <th></th>\n",
       "      <th>fold</th>\n",
       "      <th>id</th>\n",
       "      <th>image</th>\n",
       "      <th>mask</th>\n",
       "      <th>organ</th>\n",
       "      <th>pixel_size</th>\n",
       "    </tr>\n",
       "  </thead>\n",
       "  <tbody>\n",
       "    <tr>\n",
       "      <th>0</th>\n",
       "      <td>4.0</td>\n",
       "      <td>10044</td>\n",
       "      <td>./../data/train_images_patches_768_overlap/100...</td>\n",
       "      <td>./../data/train_masks_patches_768_overlap/1004...</td>\n",
       "      <td>prostate</td>\n",
       "      <td>0.4</td>\n",
       "    </tr>\n",
       "    <tr>\n",
       "      <th>1</th>\n",
       "      <td>4.0</td>\n",
       "      <td>10044</td>\n",
       "      <td>./../data/train_images_patches_768_overlap/100...</td>\n",
       "      <td>./../data/train_masks_patches_768_overlap/1004...</td>\n",
       "      <td>prostate</td>\n",
       "      <td>0.4</td>\n",
       "    </tr>\n",
       "    <tr>\n",
       "      <th>2</th>\n",
       "      <td>4.0</td>\n",
       "      <td>10044</td>\n",
       "      <td>./../data/train_images_patches_768_overlap/100...</td>\n",
       "      <td>./../data/train_masks_patches_768_overlap/1004...</td>\n",
       "      <td>prostate</td>\n",
       "      <td>0.4</td>\n",
       "    </tr>\n",
       "    <tr>\n",
       "      <th>3</th>\n",
       "      <td>4.0</td>\n",
       "      <td>10044</td>\n",
       "      <td>./../data/train_images_patches_768_overlap/100...</td>\n",
       "      <td>./../data/train_masks_patches_768_overlap/1004...</td>\n",
       "      <td>prostate</td>\n",
       "      <td>0.4</td>\n",
       "    </tr>\n",
       "    <tr>\n",
       "      <th>4</th>\n",
       "      <td>4.0</td>\n",
       "      <td>10044</td>\n",
       "      <td>./../data/train_images_patches_768_overlap/100...</td>\n",
       "      <td>./../data/train_masks_patches_768_overlap/1004...</td>\n",
       "      <td>prostate</td>\n",
       "      <td>0.4</td>\n",
       "    </tr>\n",
       "  </tbody>\n",
       "</table>\n",
       "</div>"
      ],
      "text/plain": [
       "   fold     id                                              image  \\\n",
       "0   4.0  10044  ./../data/train_images_patches_768_overlap/100...   \n",
       "1   4.0  10044  ./../data/train_images_patches_768_overlap/100...   \n",
       "2   4.0  10044  ./../data/train_images_patches_768_overlap/100...   \n",
       "3   4.0  10044  ./../data/train_images_patches_768_overlap/100...   \n",
       "4   4.0  10044  ./../data/train_images_patches_768_overlap/100...   \n",
       "\n",
       "                                                mask     organ  pixel_size  \n",
       "0  ./../data/train_masks_patches_768_overlap/1004...  prostate         0.4  \n",
       "1  ./../data/train_masks_patches_768_overlap/1004...  prostate         0.4  \n",
       "2  ./../data/train_masks_patches_768_overlap/1004...  prostate         0.4  \n",
       "3  ./../data/train_masks_patches_768_overlap/1004...  prostate         0.4  \n",
       "4  ./../data/train_masks_patches_768_overlap/1004...  prostate         0.4  "
      ]
     },
     "execution_count": 14,
     "metadata": {},
     "output_type": "execute_result"
    }
   ],
   "source": [
    "train_df_768 = make_768_dataset(train_df)\n",
    "print(train_df_768.shape)\n",
    "train_df_768.head()"
   ]
  },
  {
   "cell_type": "code",
   "execution_count": 15,
   "metadata": {},
   "outputs": [],
   "source": [
    "# ---------------------------------------------------------------\n",
    "# WARNING! THIS RESCALE IS INJECTED IN SWIN TRANSFORMER ALREADY!\n",
    "#   RGB LAYER\n",
    "# IT'S INPUTS HAVE TO BE IMAGE IN 0..1!\n",
    "# ---------------------------------------------------------------"
   ]
  },
  {
   "cell_type": "code",
   "execution_count": 16,
   "metadata": {},
   "outputs": [],
   "source": [
    "# mean = np.array([0.7720342, 0.74582646, 0.76392896])\n",
    "# std = np.array([0.24745085, 0.26182273, 0.25782376])"
   ]
  },
  {
   "cell_type": "code",
   "execution_count": 17,
   "metadata": {},
   "outputs": [],
   "source": [
    "train_transform= A.Compose([\n",
    "#     A.Resize(512, 512, interpolation=cv.INTER_LINEAR),\n",
    "    A.HorizontalFlip(p=0.5),\n",
    "    A.VerticalFlip(p=0.5),\n",
    "    A.RandomRotate90(p=0.5),\n",
    "    A.HueSaturationValue(p=0.25),\n",
    "    A.ShiftScaleRotate(shift_limit=0.02, scale_limit=(0.05, 0.6),rotate_limit=90, p=0.5),\n",
    "    A.ElasticTransform(p=0.1, alpha=90, sigma=120 * 0.05, alpha_affine=120 * 0.03),\n",
    "    A.GridDistortion(p=0.25),\n",
    "    A.Blur(blur_limit=5, p=0.1),\n",
    "    A.GaussNoise(var_limit=(20, 100), p=0.2),\n",
    "    A.ChannelDropout(p=0.05),\n",
    "    A.RandomGamma(p=0.1),\n",
    "    A.RandomBrightnessContrast(p=0.2),\n",
    "    A.Normalize(mean=[0, 0, 0], std=[1, 1, 1], \n",
    "                max_pixel_value=255, always_apply=True),\n",
    "    albumentations.pytorch.ToTensorV2()\n",
    "], p=1)"
   ]
  },
  {
   "cell_type": "code",
   "execution_count": 18,
   "metadata": {},
   "outputs": [],
   "source": [
    "val_transform = A.Compose([\n",
    "#     A.Resize(512, 512, interpolation = cv.INTER_LINEAR),\n",
    "    A.Normalize(mean=[0, 0, 0], std=[1, 1, 1],\n",
    "                 max_pixel_value=255, always_apply=True),\n",
    "    albumentations.pytorch.ToTensorV2()\n",
    "], p=1)"
   ]
  },
  {
   "cell_type": "code",
   "execution_count": 19,
   "metadata": {},
   "outputs": [],
   "source": [
    "class HubmapDataset768(Dataset):\n",
    "    def __init__(self, df, transform=None):\n",
    "\n",
    "        self.df = df\n",
    "        self.transform = transform\n",
    "        self.length = len(self.df)\n",
    "\n",
    "    def __str__(self):\n",
    "        string = ''\n",
    "        string += '\\tlen = %d\\n' % len(self)\n",
    "\n",
    "        d = self.df.organ.value_counts().to_dict()\n",
    "        for k in ['kidney', 'prostate', 'largeintestine', 'spleen', 'lung']:\n",
    "            string +=  '%24s %3d (%0.3f) \\n'%(k,d.get(k,0),d.get(k,0)/len(self.df))\n",
    "        return string\n",
    "\n",
    "    def __len__(self):\n",
    "        return self.length\n",
    "\n",
    "    def __getitem__(self, index):\n",
    "        print(index)\n",
    "        d = self.df.iloc[index]\n",
    "        organ = ORGAN2ID[d['organ']]\n",
    "\n",
    "        image = cv.cvtColor(cv.imread(d['image']), cv.COLOR_BGR2RGB) # .astype(np.float32) / 255.0\n",
    "        mask = cv.imread(d['mask'], cv.IMREAD_GRAYSCALE)\n",
    "\n",
    "        mask = mask / max(1, mask.max())\n",
    "        \n",
    "        mask_multiclass = mask * (organ + 1)\n",
    "        \n",
    "        data = {\n",
    "            'image': image,\n",
    "            'mask': mask_multiclass,\n",
    "            'organ': organ,\n",
    "        }\n",
    "        \n",
    "        upd_data = self.transform(image=data['image'], mask=data['mask'])\n",
    "        upd_data['image'] = upd_data['image'].to('cuda:2')\n",
    "\n",
    "        data.update(upd_data)\n",
    "        return data"
   ]
  },
  {
   "cell_type": "code",
   "execution_count": 20,
   "metadata": {},
   "outputs": [],
   "source": [
    "def worker_init_fn(worker_id):\n",
    "    torch_seed = torch.initial_seed()\n",
    "    random.seed(torch_seed + worker_id)\n",
    "    if torch_seed >= 2**30:  # make sure torch_seed + workder_id < 2**32\n",
    "        torch_seed = torch_seed % 2**30\n",
    "    np.random.seed(torch_seed + worker_id)\n",
    "    random.seed(torch_seed + worker_id + 77777)"
   ]
  },
  {
   "cell_type": "code",
   "execution_count": 21,
   "metadata": {},
   "outputs": [],
   "source": [
    "train_dataset = HubmapDataset768(train_df_768[train_df_768['fold'] != CURRENT_FOLD], train_transform)\n",
    "val_dataset = HubmapDataset768(train_df_768[train_df_768['fold'] == CURRENT_FOLD], val_transform)"
   ]
  },
  {
   "cell_type": "code",
   "execution_count": 22,
   "metadata": {},
   "outputs": [
    {
     "name": "stdout",
     "output_type": "stream",
     "text": [
      "1\n",
      "IMAGE\n",
      "torch.Size([3, 768, 768])\n",
      "image values:  0.0 0.960784375667572\n"
     ]
    },
    {
     "data": {
      "image/png": "[encoded data removed]",
      "text/plain": [
       "<Figure size 432x288 with 1 Axes>"
      ]
     },
     "metadata": {
      "needs_background": "light"
     },
     "output_type": "display_data"
    },
    {
     "name": "stdout",
     "output_type": "stream",
     "text": [
      "MASK\n",
      "torch.Size([768, 768])\n",
      "mask values:  tensor(0., dtype=torch.float64) tensor(2., dtype=torch.float64)\n"
     ]
    },
    {
     "data": {
      "image/png": "[encoded data removed]",
      "text/plain": [
       "<Figure size 432x288 with 1 Axes>"
      ]
     },
     "metadata": {
      "needs_background": "light"
     },
     "output_type": "display_data"
    }
   ],
   "source": [
    "sample = train_dataset[1]\n",
    "print('IMAGE')\n",
    "print(sample['image'].shape)\n",
    "print('image values: ', float(sample['image'].min()), float(sample['image'].max()))\n",
    "plt.imshow(sample['image'].detach().cpu().permute((1, 2, 0)))\n",
    "plt.show()\n",
    "\n",
    "print('MASK')\n",
    "print(sample['mask'].shape)\n",
    "print('mask values: ', sample['mask'].min(), sample['mask'].max())\n",
    "plt.imshow(sample['mask'])\n",
    "plt.show()"
   ]
  },
  {
   "cell_type": "code",
   "execution_count": 23,
   "metadata": {},
   "outputs": [],
   "source": [
    "BATCH_SIZE = 4"
   ]
  },
  {
   "cell_type": "code",
   "execution_count": 24,
   "metadata": {},
   "outputs": [],
   "source": [
    "loader_params = {'shuffle': True,\n",
    "                 'num_workers': 0,\n",
    "                 'worker_init_fn': worker_init_fn}\n",
    "loader_train = DataLoader(train_dataset, \n",
    "                          batch_size=BATCH_SIZE, \n",
    "                          shuffle=True,\n",
    "                          worker_init_fn=worker_init_fn,\n",
    "                          num_workers=0\n",
    "                         )\n",
    "loader_val = DataLoader(val_dataset, \n",
    "                        batch_size=1, \n",
    "                        shuffle=False,\n",
    "                        worker_init_fn=worker_init_fn,\n",
    "                        num_workers=0\n",
    "                       )"
   ]
  },
  {
   "cell_type": "code",
   "execution_count": 25,
   "metadata": {},
   "outputs": [
    {
     "name": "stdout",
     "output_type": "stream",
     "text": [
      "2\n",
      "IMAGE\n",
      "torch.Size([3, 768, 768])\n",
      "image values:  0.027450982481241226 1.0\n"
     ]
    },
    {
     "data": {
      "image/png": "[encoded data removed]",
      "text/plain": [
       "<Figure size 432x288 with 1 Axes>"
      ]
     },
     "metadata": {
      "needs_background": "light"
     },
     "output_type": "display_data"
    },
    {
     "name": "stdout",
     "output_type": "stream",
     "text": [
      "MASK\n",
      "torch.Size([768, 768])\n",
      "mask values:  tensor(0., dtype=torch.float64) tensor(1., dtype=torch.float64)\n"
     ]
    },
    {
     "data": {
      "image/png": "[encoded data removed]",
      "text/plain": [
       "<Figure size 432x288 with 1 Axes>"
      ]
     },
     "metadata": {
      "needs_background": "light"
     },
     "output_type": "display_data"
    }
   ],
   "source": [
    "sample = val_dataset[2]\n",
    "print('IMAGE')\n",
    "print(sample['image'].shape)\n",
    "print('image values: ', float(sample['image'].min()), float(sample['image'].max()))\n",
    "plt.imshow(sample['image'].detach().cpu().permute((1, 2, 0)))\n",
    "plt.show()\n",
    "\n",
    "print('MASK')\n",
    "print(sample['mask'].shape)\n",
    "print('mask values: ', sample['mask'].min(), sample['mask'].max())\n",
    "plt.imshow(sample['mask'])\n",
    "plt.show()"
   ]
  },
  {
   "cell_type": "markdown",
   "metadata": {},
   "source": [
    "# model"
   ]
  },
  {
   "cell_type": "code",
   "execution_count": 26,
   "metadata": {},
   "outputs": [],
   "source": [
    "from model_coat_daformer import *"
   ]
  },
  {
   "cell_type": "code",
   "execution_count": 92,
   "metadata": {},
   "outputs": [],
   "source": [
    "device = 'cuda:1'\n",
    "DEVICE = device"
   ]
  },
  {
   "cell_type": "code",
   "execution_count": 93,
   "metadata": {},
   "outputs": [],
   "source": [
    "encoder = coat_parallel_small\n",
    "decoder = UnetDecoder\n",
    "\n",
    "model = Net(encoder=encoder, decoder=decoder, n_classes=6).to(device)"
   ]
  },
  {
   "cell_type": "code",
   "execution_count": 94,
   "metadata": {},
   "outputs": [],
   "source": [
    "swa_model = AveragedModel(model).to(device)"
   ]
  },
  {
   "cell_type": "code",
   "execution_count": 95,
   "metadata": {},
   "outputs": [
    {
     "data": {
      "text/plain": [
       "<All keys matched successfully>"
      ]
     },
     "execution_count": 95,
     "metadata": {},
     "output_type": "execute_result"
    }
   ],
   "source": [
    "swa_model.load_state_dict(torch.load('./checkpoint_fold_3/coat-small-unet-swa-fold3_TOP_3_BEST.pt', \n",
    "                                     map_location=device))"
   ]
  },
  {
   "cell_type": "code",
   "execution_count": 65,
   "metadata": {},
   "outputs": [],
   "source": [
    "# model.load_state_dict(torch.load('./checkpoint_fold_3/coat-small_ep_003_dice_0.782424.pt', map_location=device))\n",
    "# model = model.eval()"
   ]
  },
  {
   "cell_type": "code",
   "execution_count": 66,
   "metadata": {
    "scrolled": true
   },
   "outputs": [],
   "source": [
    "# torch.optim.swa_utils.update_bn(loader_train, swa_model)"
   ]
  },
  {
   "cell_type": "code",
   "execution_count": 67,
   "metadata": {},
   "outputs": [],
   "source": [
    "# model = swa_model.eval()"
   ]
  },
  {
   "cell_type": "code",
   "execution_count": 96,
   "metadata": {},
   "outputs": [
    {
     "data": {
      "text/plain": [
       "38638418"
      ]
     },
     "execution_count": 96,
     "metadata": {},
     "output_type": "execute_result"
    }
   ],
   "source": [
    "sum(p.numel() for p in model.parameters() if p.requires_grad)"
   ]
  },
  {
   "cell_type": "markdown",
   "metadata": {},
   "source": [
    "# validation code"
   ]
  },
  {
   "cell_type": "code",
   "execution_count": 97,
   "metadata": {},
   "outputs": [],
   "source": [
    "import monai\n",
    "from monai.utils.enums import BlendMode, PytorchPadMode\n",
    "from monai.inferers import sliding_window_inference"
   ]
  },
  {
   "cell_type": "code",
   "execution_count": 98,
   "metadata": {},
   "outputs": [],
   "source": [
    "def dice_coef2(y_true, y_pred):\n",
    "    y_true_f = y_true.flatten()\n",
    "    y_pred_f = y_pred.flatten()\n",
    "    union = np.sum(y_true_f) + np.sum(y_pred_f)\n",
    "    if union < 1: \n",
    "        return 1\n",
    "    intersection = np.sum(y_true_f * y_pred_f)\n",
    "#     print('UNION', union)\n",
    "    return 2. * intersection / union"
   ]
  },
  {
   "cell_type": "code",
   "execution_count": 99,
   "metadata": {},
   "outputs": [],
   "source": [
    "class Predictor(nn.Module):\n",
    "    def __init__(self, model):\n",
    "        super().__init__()\n",
    "        self.model = model\n",
    "    \n",
    "    def forward(self, x):\n",
    "        out = self.model({'image' : x})\n",
    "        prob = F.softmax(out['logits'], dim=1)\n",
    "        return prob"
   ]
  },
  {
   "cell_type": "code",
   "execution_count": 100,
   "metadata": {},
   "outputs": [],
   "source": [
    "def infer_id_monai(predictor, id: str, organ: str, pixel_size=0.4, threshold=0.5):\n",
    "    THRESHOLD = threshold\n",
    "    \n",
    "    image = cv.imread('./../data/train_images/{}.tiff'.format(id))\n",
    "    image = cv.cvtColor(image, cv.COLOR_BGR2RGB)\n",
    "    \n",
    "    gt_mask  = np.load('./../data/train_masks/{}.npy'.format(id))\n",
    "    \n",
    "    scale_factor = 0.5 * (pixel_size / 0.4)\n",
    "    image1 = cv.resize(image, None, fx=scale_factor, fy=scale_factor, interpolation=cv.INTER_AREA)\n",
    "#     image2 = cv.resize(image, None, fx=scale_factor*1.2, fy=scale_factor*1.3, interpolation=cv.INTER_AREA)\n",
    "    \n",
    "    \n",
    "#     image_rot = image.copy()\n",
    "    masks = []\n",
    "    for cur_image in [image1]:\n",
    "        for img_flip in [None, 0, 1]:#, -1]:\n",
    "            if img_flip is not None:\n",
    "                image = cv.flip(image1, img_flip)\n",
    "            else:\n",
    "                image = image1.copy()\n",
    "\n",
    "            image_tensor = val_transform(image=image)['image']\n",
    "\n",
    "            image_tensor = image_tensor.unsqueeze(0).to(device)\n",
    "\n",
    "            with torch.no_grad():\n",
    "#                 infer_result = sliding_window_inference(\n",
    "#                     image_tensor, roi_size=(768, 768), sw_batch_size=2, predictor=predictor, \n",
    "#                     overlap=0.75, mode=BlendMode.GAUSSIAN, sigma_scale=0.15, \n",
    "#                     padding_mode=PytorchPadMode.REFLECT, cval=0.0,       \n",
    "#                 )\n",
    "                infer_result = sliding_window_inference(\n",
    "                    image_tensor, roi_size=(768, 768), sw_batch_size=2, predictor=predictor, \n",
    "                    overlap=0.33, mode=BlendMode.CONSTANT, sigma_scale=0.15, \n",
    "                    padding_mode=PytorchPadMode.REFLECT, cval=0.0,       \n",
    "                )\n",
    "\n",
    "            organ_id = ORGAN2ID[organ] + 1\n",
    "            pr_mask = infer_result.detach().cpu().numpy()[0, organ_id]\n",
    "    #         pr_mask = infer_result.detach().cpu().numpy()[0, 1:].sum(axis=1)\n",
    "            if img_flip is not None:\n",
    "                pr_mask = cv.flip(pr_mask, img_flip)\n",
    "            masks.append(pr_mask)\n",
    "    \n",
    "    masks = [cv.resize(x, gt_mask.shape, cv.INTER_NEAREST) for x in masks]\n",
    "#     pr_mask = (np.array(masks).mean(axis=0) > THRESHOLD).astype(np.uint8)\n",
    "    pr_mask = np.array(masks).mean(axis=0)\n",
    "    \n",
    "#     print(gt_mask.shape, gt_mask.dtype, pr_mask.dtype)\n",
    "\n",
    "    return pr_mask, gt_mask"
   ]
  },
  {
   "cell_type": "code",
   "execution_count": 101,
   "metadata": {},
   "outputs": [],
   "source": [
    "def check_dice_by_thresh(val_df, model, th, infer_id_function):\n",
    "    predictor = Predictor(model)\n",
    "    \n",
    "    dices = []\n",
    "    for index, row in tqdm(val_df.iterrows(), total=len(val_df)):\n",
    "        id = row['id']\n",
    "        organ = row['organ']\n",
    "        pixel_size = row['pixel_size']\n",
    "        pred_mask, gt_mask = infer_id_function(predictor, id, organ=organ, pixel_size=pixel_size, threshold=th)\n",
    "    \n",
    "        pred_mask = (pred_mask > th).astype(np.uint8)\n",
    "        dice = dice_coef2(gt_mask, pred_mask)\n",
    "        dices.append(dice)\n",
    "    return np.mean(dices)"
   ]
  },
  {
   "cell_type": "code",
   "execution_count": 87,
   "metadata": {},
   "outputs": [],
   "source": [
    "val_df_id = train_df[train_df['fold'] == CURRENT_FOLD]"
   ]
  },
  {
   "cell_type": "code",
   "execution_count": 88,
   "metadata": {},
   "outputs": [
    {
     "name": "stderr",
     "output_type": "stream",
     "text": [
      "  0%|          | 0/70 [00:12<?, ?it/s]\n"
     ]
    },
    {
     "ename": "KeyboardInterrupt",
     "evalue": "",
     "output_type": "error",
     "traceback": [
      "\u001b[0;31m---------------------------------------------------------------------------\u001b[0m",
      "\u001b[0;31mKeyboardInterrupt\u001b[0m                         Traceback (most recent call last)",
      "\u001b[0;32m<ipython-input-88-1b77977e2a84>\u001b[0m in \u001b[0;36m<module>\u001b[0;34m\u001b[0m\n\u001b[1;32m      1\u001b[0m \u001b[0;31m# gaussian o 0.75 s 0.15 3 flips\u001b[0m\u001b[0;34m\u001b[0m\u001b[0;34m\u001b[0m\u001b[0;34m\u001b[0m\u001b[0m\n\u001b[1;32m      2\u001b[0m \u001b[0;34m\u001b[0m\u001b[0m\n\u001b[0;32m----> 3\u001b[0;31m \u001b[0mcheck_dice_by_thresh\u001b[0m\u001b[0;34m(\u001b[0m\u001b[0mval_df_id\u001b[0m\u001b[0;34m,\u001b[0m \u001b[0mmodel\u001b[0m\u001b[0;34m,\u001b[0m \u001b[0mth\u001b[0m\u001b[0;34m=\u001b[0m\u001b[0;36m0.5\u001b[0m\u001b[0;34m,\u001b[0m \u001b[0minfer_id_function\u001b[0m\u001b[0;34m=\u001b[0m\u001b[0minfer_id_monai\u001b[0m\u001b[0;34m)\u001b[0m\u001b[0;34m\u001b[0m\u001b[0;34m\u001b[0m\u001b[0m\n\u001b[0m",
      "\u001b[0;32m<ipython-input-86-3f9871a59907>\u001b[0m in \u001b[0;36mcheck_dice_by_thresh\u001b[0;34m(val_df, model, th, infer_id_function)\u001b[0m\n\u001b[1;32m      7\u001b[0m         \u001b[0morgan\u001b[0m \u001b[0;34m=\u001b[0m \u001b[0mrow\u001b[0m\u001b[0;34m[\u001b[0m\u001b[0;34m'organ'\u001b[0m\u001b[0;34m]\u001b[0m\u001b[0;34m\u001b[0m\u001b[0;34m\u001b[0m\u001b[0m\n\u001b[1;32m      8\u001b[0m         \u001b[0mpixel_size\u001b[0m \u001b[0;34m=\u001b[0m \u001b[0mrow\u001b[0m\u001b[0;34m[\u001b[0m\u001b[0;34m'pixel_size'\u001b[0m\u001b[0;34m]\u001b[0m\u001b[0;34m\u001b[0m\u001b[0;34m\u001b[0m\u001b[0m\n\u001b[0;32m----> 9\u001b[0;31m         \u001b[0mpred_mask\u001b[0m\u001b[0;34m,\u001b[0m \u001b[0mgt_mask\u001b[0m \u001b[0;34m=\u001b[0m \u001b[0minfer_id_function\u001b[0m\u001b[0;34m(\u001b[0m\u001b[0mpredictor\u001b[0m\u001b[0;34m,\u001b[0m \u001b[0mid\u001b[0m\u001b[0;34m,\u001b[0m \u001b[0morgan\u001b[0m\u001b[0;34m=\u001b[0m\u001b[0morgan\u001b[0m\u001b[0;34m,\u001b[0m \u001b[0mpixel_size\u001b[0m\u001b[0;34m=\u001b[0m\u001b[0mpixel_size\u001b[0m\u001b[0;34m,\u001b[0m \u001b[0mthreshold\u001b[0m\u001b[0;34m=\u001b[0m\u001b[0mth\u001b[0m\u001b[0;34m)\u001b[0m\u001b[0;34m\u001b[0m\u001b[0;34m\u001b[0m\u001b[0m\n\u001b[0m\u001b[1;32m     10\u001b[0m \u001b[0;34m\u001b[0m\u001b[0m\n\u001b[1;32m     11\u001b[0m         \u001b[0mpred_mask\u001b[0m \u001b[0;34m=\u001b[0m \u001b[0;34m(\u001b[0m\u001b[0mpred_mask\u001b[0m \u001b[0;34m>\u001b[0m \u001b[0mth\u001b[0m\u001b[0;34m)\u001b[0m\u001b[0;34m.\u001b[0m\u001b[0mastype\u001b[0m\u001b[0;34m(\u001b[0m\u001b[0mnp\u001b[0m\u001b[0;34m.\u001b[0m\u001b[0muint8\u001b[0m\u001b[0;34m)\u001b[0m\u001b[0;34m\u001b[0m\u001b[0;34m\u001b[0m\u001b[0m\n",
      "\u001b[0;32m<ipython-input-85-65aacde5a71c>\u001b[0m in \u001b[0;36minfer_id_monai\u001b[0;34m(predictor, id, organ, pixel_size, threshold)\u001b[0m\n\u001b[1;32m     44\u001b[0m             \u001b[0mmasks\u001b[0m\u001b[0;34m.\u001b[0m\u001b[0mappend\u001b[0m\u001b[0;34m(\u001b[0m\u001b[0mpr_mask\u001b[0m\u001b[0;34m)\u001b[0m\u001b[0;34m\u001b[0m\u001b[0;34m\u001b[0m\u001b[0m\n\u001b[1;32m     45\u001b[0m \u001b[0;34m\u001b[0m\u001b[0m\n\u001b[0;32m---> 46\u001b[0;31m     \u001b[0mmasks\u001b[0m \u001b[0;34m=\u001b[0m \u001b[0;34m[\u001b[0m\u001b[0mcv\u001b[0m\u001b[0;34m.\u001b[0m\u001b[0mresize\u001b[0m\u001b[0;34m(\u001b[0m\u001b[0mx\u001b[0m\u001b[0;34m,\u001b[0m \u001b[0mgt_mask\u001b[0m\u001b[0;34m.\u001b[0m\u001b[0mshape\u001b[0m\u001b[0;34m,\u001b[0m \u001b[0mcv\u001b[0m\u001b[0;34m.\u001b[0m\u001b[0mINTER_NEAREST\u001b[0m\u001b[0;34m)\u001b[0m \u001b[0;32mfor\u001b[0m \u001b[0mx\u001b[0m \u001b[0;32min\u001b[0m \u001b[0mmasks\u001b[0m\u001b[0;34m]\u001b[0m\u001b[0;34m\u001b[0m\u001b[0;34m\u001b[0m\u001b[0m\n\u001b[0m\u001b[1;32m     47\u001b[0m \u001b[0;31m#     pr_mask = (np.array(masks).mean(axis=0) > THRESHOLD).astype(np.uint8)\u001b[0m\u001b[0;34m\u001b[0m\u001b[0;34m\u001b[0m\u001b[0;34m\u001b[0m\u001b[0m\n\u001b[1;32m     48\u001b[0m     \u001b[0mpr_mask\u001b[0m \u001b[0;34m=\u001b[0m \u001b[0mnp\u001b[0m\u001b[0;34m.\u001b[0m\u001b[0marray\u001b[0m\u001b[0;34m(\u001b[0m\u001b[0mmasks\u001b[0m\u001b[0;34m)\u001b[0m\u001b[0;34m.\u001b[0m\u001b[0mmean\u001b[0m\u001b[0;34m(\u001b[0m\u001b[0maxis\u001b[0m\u001b[0;34m=\u001b[0m\u001b[0;36m0\u001b[0m\u001b[0;34m)\u001b[0m\u001b[0;34m\u001b[0m\u001b[0;34m\u001b[0m\u001b[0m\n",
      "\u001b[0;32m<ipython-input-85-65aacde5a71c>\u001b[0m in \u001b[0;36m<listcomp>\u001b[0;34m(.0)\u001b[0m\n\u001b[1;32m     44\u001b[0m             \u001b[0mmasks\u001b[0m\u001b[0;34m.\u001b[0m\u001b[0mappend\u001b[0m\u001b[0;34m(\u001b[0m\u001b[0mpr_mask\u001b[0m\u001b[0;34m)\u001b[0m\u001b[0;34m\u001b[0m\u001b[0;34m\u001b[0m\u001b[0m\n\u001b[1;32m     45\u001b[0m \u001b[0;34m\u001b[0m\u001b[0m\n\u001b[0;32m---> 46\u001b[0;31m     \u001b[0mmasks\u001b[0m \u001b[0;34m=\u001b[0m \u001b[0;34m[\u001b[0m\u001b[0mcv\u001b[0m\u001b[0;34m.\u001b[0m\u001b[0mresize\u001b[0m\u001b[0;34m(\u001b[0m\u001b[0mx\u001b[0m\u001b[0;34m,\u001b[0m \u001b[0mgt_mask\u001b[0m\u001b[0;34m.\u001b[0m\u001b[0mshape\u001b[0m\u001b[0;34m,\u001b[0m \u001b[0mcv\u001b[0m\u001b[0;34m.\u001b[0m\u001b[0mINTER_NEAREST\u001b[0m\u001b[0;34m)\u001b[0m \u001b[0;32mfor\u001b[0m \u001b[0mx\u001b[0m \u001b[0;32min\u001b[0m \u001b[0mmasks\u001b[0m\u001b[0;34m]\u001b[0m\u001b[0;34m\u001b[0m\u001b[0;34m\u001b[0m\u001b[0m\n\u001b[0m\u001b[1;32m     47\u001b[0m \u001b[0;31m#     pr_mask = (np.array(masks).mean(axis=0) > THRESHOLD).astype(np.uint8)\u001b[0m\u001b[0;34m\u001b[0m\u001b[0;34m\u001b[0m\u001b[0;34m\u001b[0m\u001b[0m\n\u001b[1;32m     48\u001b[0m     \u001b[0mpr_mask\u001b[0m \u001b[0;34m=\u001b[0m \u001b[0mnp\u001b[0m\u001b[0;34m.\u001b[0m\u001b[0marray\u001b[0m\u001b[0;34m(\u001b[0m\u001b[0mmasks\u001b[0m\u001b[0;34m)\u001b[0m\u001b[0;34m.\u001b[0m\u001b[0mmean\u001b[0m\u001b[0;34m(\u001b[0m\u001b[0maxis\u001b[0m\u001b[0;34m=\u001b[0m\u001b[0;36m0\u001b[0m\u001b[0;34m)\u001b[0m\u001b[0;34m\u001b[0m\u001b[0;34m\u001b[0m\u001b[0m\n",
      "\u001b[0;31mKeyboardInterrupt\u001b[0m: "
     ]
    }
   ],
   "source": [
    "# gaussian o 0.75 s 0.15 3 flips\n",
    "\n",
    "check_dice_by_thresh(val_df_id, model, th=0.5, infer_id_function=infer_id_monai)"
   ]
  },
  {
   "cell_type": "code",
   "execution_count": 244,
   "metadata": {},
   "outputs": [
    {
     "name": "stderr",
     "output_type": "stream",
     "text": [
      "  0%|          | 0/70 [00:00<?, ?it/s]/opt/conda/lib/python3.6/site-packages/torch/nn/functional.py:3635: UserWarning: Default upsampling behavior when mode=bilinear is changed to align_corners=False since 0.4.0. Please specify align_corners=True if the old behavior is desired. See the documentation of nn.Upsample for details.\n",
      "  \"See the documentation of nn.Upsample for details.\".format(mode)\n",
      "100%|██████████| 70/70 [10:32<00:00,  9.03s/it]\n"
     ]
    },
    {
     "data": {
      "text/plain": [
       "0.7881673907757208"
      ]
     },
     "execution_count": 244,
     "metadata": {},
     "output_type": "execute_result"
    }
   ],
   "source": [
    "# gaussian o 0.75 s 0.15 3 flips\n",
    "\n",
    "check_dice_by_thresh(val_df_id, model, th=0.5, infer_id_function=infer_id_monai)"
   ]
  },
  {
   "cell_type": "code",
   "execution_count": 240,
   "metadata": {},
   "outputs": [
    {
     "name": "stderr",
     "output_type": "stream",
     "text": [
      "  0%|          | 0/70 [00:00<?, ?it/s]/opt/conda/lib/python3.6/site-packages/torch/nn/functional.py:3635: UserWarning: Default upsampling behavior when mode=bilinear is changed to align_corners=False since 0.4.0. Please specify align_corners=True if the old behavior is desired. See the documentation of nn.Upsample for details.\n",
      "  \"See the documentation of nn.Upsample for details.\".format(mode)\n",
      "100%|██████████| 70/70 [06:16<00:00,  5.38s/it]\n"
     ]
    },
    {
     "data": {
      "text/plain": [
       "0.7836296516139392"
      ]
     },
     "execution_count": 240,
     "metadata": {},
     "output_type": "execute_result"
    }
   ],
   "source": [
    "# constant o 0.25 s 0.15 no flips\n",
    "\n",
    "check_dice_by_thresh(val_df_id, model, th=0.5, infer_id_function=infer_id_monai)"
   ]
  },
  {
   "cell_type": "code",
   "execution_count": 53,
   "metadata": {},
   "outputs": [
    {
     "name": "stderr",
     "output_type": "stream",
     "text": [
      "100%|██████████| 70/70 [01:28<00:00,  1.27s/it]\n"
     ]
    },
    {
     "data": {
      "text/plain": [
       "0.7844629638303643"
      ]
     },
     "execution_count": 53,
     "metadata": {},
     "output_type": "execute_result"
    }
   ],
   "source": [
    "# gaussian o 0.15 s 0.15 4 flips\n",
    "\n",
    "check_dice_by_thresh(val_df_id, model, th=0.5, infer_id_function=infer_id_monai)"
   ]
  },
  {
   "cell_type": "code",
   "execution_count": 47,
   "metadata": {},
   "outputs": [
    {
     "name": "stderr",
     "output_type": "stream",
     "text": [
      "100%|██████████| 70/70 [06:23<00:00,  5.48s/it]\n"
     ]
    },
    {
     "data": {
      "text/plain": [
       "0.7869235435613754"
      ]
     },
     "execution_count": 47,
     "metadata": {},
     "output_type": "execute_result"
    }
   ],
   "source": [
    "# gaussian o 0.15 s 0.15 1 flip\n",
    "\n",
    "check_dice_by_thresh(val_df_id, model, th=0.5, infer_id_function=infer_id_monai)"
   ]
  },
  {
   "cell_type": "markdown",
   "metadata": {},
   "source": [
    "# thresholds"
   ]
  },
  {
   "cell_type": "code",
   "execution_count": 102,
   "metadata": {},
   "outputs": [],
   "source": [
    "def precalc_preds(val_df, model, th, infer_id_function):\n",
    "    predictor = Predictor(model)\n",
    "    \n",
    "    organ2mask = dict()\n",
    "    for index, row in tqdm(val_df.iterrows(), total=len(val_df)):\n",
    "        id = row['id']\n",
    "        organ = row['organ']\n",
    "        pixel_size = row['pixel_size']\n",
    "        if organ not in organ2mask:\n",
    "            organ2mask[organ] = []\n",
    "            \n",
    "        pred_mask, gt_mask = infer_id_function(predictor, id, organ=organ, pixel_size=pixel_size, threshold=th)\n",
    "        organ2mask[organ].append({'id': id, 'organ': organ, 'pred': pred_mask, 'gt': gt_mask})\n",
    "    return organ2mask"
   ]
  },
  {
   "cell_type": "code",
   "execution_count": 103,
   "metadata": {},
   "outputs": [
    {
     "name": "stderr",
     "output_type": "stream",
     "text": [
      "  0%|          | 0/70 [00:00<?, ?it/s]/opt/conda/lib/python3.6/site-packages/torch/nn/functional.py:3635: UserWarning: Default upsampling behavior when mode=bilinear is changed to align_corners=False since 0.4.0. Please specify align_corners=True if the old behavior is desired. See the documentation of nn.Upsample for details.\n",
      "  \"See the documentation of nn.Upsample for details.\".format(mode)\n",
      "100%|██████████| 70/70 [10:05<00:00,  8.64s/it]\n"
     ]
    }
   ],
   "source": [
    "organ2maskconst= precalc_preds(val_df_id, model, th=0.5, infer_id_function=infer_id_monai)"
   ]
  },
  {
   "cell_type": "code",
   "execution_count": 76,
   "metadata": {},
   "outputs": [
    {
     "name": "stderr",
     "output_type": "stream",
     "text": [
      "  0%|          | 0/70 [00:00<?, ?it/s]/opt/conda/lib/python3.6/site-packages/torch/nn/functional.py:3635: UserWarning: Default upsampling behavior when mode=bilinear is changed to align_corners=False since 0.4.0. Please specify align_corners=True if the old behavior is desired. See the documentation of nn.Upsample for details.\n",
      "  \"See the documentation of nn.Upsample for details.\".format(mode)\n",
      "100%|██████████| 70/70 [21:42<00:00, 18.61s/it]\n"
     ]
    }
   ],
   "source": [
    "organ2mask = precalc_preds(val_df_id, model, th=0.5, infer_id_function=infer_id_monai)"
   ]
  },
  {
   "cell_type": "code",
   "execution_count": 77,
   "metadata": {},
   "outputs": [
    {
     "data": {
      "text/plain": [
       "dict_keys(['kidney', 'spleen', 'prostate', 'lung', 'largeintestine'])"
      ]
     },
     "execution_count": 77,
     "metadata": {},
     "output_type": "execute_result"
    }
   ],
   "source": [
    "organ2mask.keys()"
   ]
  },
  {
   "cell_type": "code",
   "execution_count": 78,
   "metadata": {},
   "outputs": [
    {
     "data": {
      "text/plain": [
       "0.9991352"
      ]
     },
     "execution_count": 78,
     "metadata": {},
     "output_type": "execute_result"
    }
   ],
   "source": [
    "organ2mask['kidney'][0]['pred'].max()"
   ]
  },
  {
   "cell_type": "code",
   "execution_count": 79,
   "metadata": {},
   "outputs": [
    {
     "data": {
      "text/plain": [
       "5"
      ]
     },
     "execution_count": 79,
     "metadata": {},
     "output_type": "execute_result"
    }
   ],
   "source": [
    "len(organ2mask)"
   ]
  },
  {
   "cell_type": "code",
   "execution_count": 108,
   "metadata": {},
   "outputs": [],
   "source": [
    "organ2mask = organ2maskconst"
   ]
  },
  {
   "cell_type": "code",
   "execution_count": 109,
   "metadata": {},
   "outputs": [],
   "source": [
    "def try_threshold_for_organ(organ):\n",
    "    ths = []\n",
    "    scores = []\n",
    "    for th in tqdm(np.linspace(0, 1.0, 51)):\n",
    "#         print(th)\n",
    "        dices = []\n",
    "        for el in organ2mask[organ]:\n",
    "            dice = dice_coef2(el['gt'], (el['pred'] > th).astype(np.uint8))\n",
    "            dices.append(dice)\n",
    "        ths.append(th)\n",
    "        scores.append(np.mean(dices))\n",
    "    return ths, scores"
   ]
  },
  {
   "cell_type": "code",
   "execution_count": 110,
   "metadata": {},
   "outputs": [
    {
     "name": "stdout",
     "output_type": "stream",
     "text": [
      "kidney\n"
     ]
    },
    {
     "name": "stderr",
     "output_type": "stream",
     "text": [
      "100%|██████████| 51/51 [00:53<00:00,  1.06s/it]\n"
     ]
    },
    {
     "name": "stdout",
     "output_type": "stream",
     "text": [
      "prostate\n"
     ]
    },
    {
     "name": "stderr",
     "output_type": "stream",
     "text": [
      "100%|██████████| 51/51 [00:46<00:00,  1.10it/s]\n"
     ]
    },
    {
     "name": "stdout",
     "output_type": "stream",
     "text": [
      "largeintestine\n"
     ]
    },
    {
     "name": "stderr",
     "output_type": "stream",
     "text": [
      "100%|██████████| 51/51 [00:34<00:00,  1.46it/s]\n"
     ]
    },
    {
     "name": "stdout",
     "output_type": "stream",
     "text": [
      "spleen\n"
     ]
    },
    {
     "name": "stderr",
     "output_type": "stream",
     "text": [
      "100%|██████████| 51/51 [00:31<00:00,  1.63it/s]\n"
     ]
    },
    {
     "name": "stdout",
     "output_type": "stream",
     "text": [
      "lung\n"
     ]
    },
    {
     "name": "stderr",
     "output_type": "stream",
     "text": [
      "100%|██████████| 51/51 [00:27<00:00,  1.83it/s]\n"
     ]
    }
   ],
   "source": [
    "saved_data = dict()\n",
    "for organ in ORGAN2ID.keys():\n",
    "    print(organ)\n",
    "    ths, scores = try_threshold_for_organ(organ)\n",
    "    saved_data[organ] = ths, scores"
   ]
  },
  {
   "cell_type": "code",
   "execution_count": 111,
   "metadata": {},
   "outputs": [
    {
     "name": "stdout",
     "output_type": "stream",
     "text": [
      "kidney           0.052740\n",
      "prostate         0.323104\n",
      "largeintestine   0.339054\n",
      "spleen           0.126553\n",
      "lung             0.053029\n"
     ]
    }
   ],
   "source": [
    "for key in saved_data.keys():\n",
    "    argmax_index = np.argmax(saved_data[key][1])\n",
    "    argmax_value = saved_data[key][0][argmax_index]\n",
    "    print('{:16} {:7.6f}'.format(key, saved_data[key][1][argmax_index]))"
   ]
  },
  {
   "cell_type": "code",
   "execution_count": 106,
   "metadata": {},
   "outputs": [
    {
     "name": "stdout",
     "output_type": "stream",
     "text": [
      "kidney           0.956925\n",
      "prostate         0.847754\n",
      "largeintestine   0.901461\n",
      "spleen           0.758487\n",
      "lung             0.274035\n"
     ]
    }
   ],
   "source": [
    "for key in saved_data.keys():\n",
    "    argmax_index = np.argmax(saved_data[key][1])\n",
    "    argmax_value = saved_data[key][0][argmax_index]\n",
    "    print('{:16} {:7.6f}'.format(key, saved_data[key][1][argmax_index]))"
   ]
  },
  {
   "cell_type": "code",
   "execution_count": 61,
   "metadata": {},
   "outputs": [
    {
     "name": "stdout",
     "output_type": "stream",
     "text": [
      "kidney           0.958737\n",
      "prostate         0.841541\n",
      "largeintestine   0.900669\n",
      "spleen           0.761364\n",
      "lung             0.270796\n"
     ]
    }
   ],
   "source": [
    "for key in saved_data.keys():\n",
    "    argmax_index = np.argmax(saved_data[key][1])\n",
    "    argmax_value = saved_data[key][0][argmax_index]\n",
    "    print('{:16} {:7.6f}'.format(key, saved_data[key][1][argmax_index]))"
   ]
  },
  {
   "cell_type": "code",
   "execution_count": null,
   "metadata": {},
   "outputs": [],
   "source": [
    "ORG2TH = {\n",
    "    'kidney': 0.74,\n",
    "    'prostate': 0.28,\n",
    "    'largeintestine': 0.34,\n",
    "    'spleen': 0.26,\n",
    "    'lung': 0.10\n",
    "}\n",
    "dices = []\n",
    "for organ in ORGAN2ID.keys():\n",
    "    for el in organ2mask[organ]:\n",
    "        dice = dice_coef2(el['gt'], (el['pred'] > ORG2TH[organ]).astype(np.uint8))\n",
    "        dices.append(dice)\n",
    "#     dices.append()\n",
    "np.mean(dices)"
   ]
  },
  {
   "cell_type": "code",
   "execution_count": 84,
   "metadata": {},
   "outputs": [
    {
     "data": {
      "text/plain": [
       "0.790605665185213"
      ]
     },
     "execution_count": 84,
     "metadata": {},
     "output_type": "execute_result"
    }
   ],
   "source": [
    "ORG2TH = {\n",
    "    'kidney': 0.74,\n",
    "    'prostate': 0.28,\n",
    "    'largeintestine': 0.34,\n",
    "    'spleen': 0.26,\n",
    "    'lung': 0.10\n",
    "}\n",
    "dices = []\n",
    "for organ in ORGAN2ID.keys():\n",
    "    for el in organ2mask[organ]:\n",
    "        dice = dice_coef2(el['gt'], (el['pred'] > ORG2TH[organ]).astype(np.uint8))\n",
    "        dices.append(dice)\n",
    "#     dices.append()\n",
    "np.mean(dices)"
   ]
  },
  {
   "cell_type": "code",
   "execution_count": null,
   "metadata": {},
   "outputs": [],
   "source": []
  },
  {
   "cell_type": "code",
   "execution_count": 107,
   "metadata": {},
   "outputs": [
    {
     "data": {
      "image/png": "[encoded data removed]",
      "text/plain": [
       "<Figure size 1080x648 with 1 Axes>"
      ]
     },
     "metadata": {
      "needs_background": "light"
     },
     "output_type": "display_data"
    }
   ],
   "source": [
    "plt.figure(figsize=(15, 9))\n",
    "for key in saved_data.keys():\n",
    "    argmax_index = np.argmax(saved_data[key][1])\n",
    "    argmax_value = saved_data[key][0][argmax_index]\n",
    "    \n",
    "    plt.plot(saved_data[key][0], saved_data[key][1], marker='o', \n",
    "             label='{} (max at {:03.2f})'.format(key, argmax_value))\n",
    "    \n",
    "plt.grid()\n",
    "plt.legend()\n",
    "plt.xlabel('Threshold')\n",
    "plt.ylabel('Dice score')\n",
    "plt.title('Threshold vs Dice for CoaT fold3 on HPA')\n",
    "plt.show()"
   ]
  },
  {
   "cell_type": "markdown",
   "metadata": {},
   "source": [
    "# lung dilation-erosion"
   ]
  },
  {
   "cell_type": "code",
   "execution_count": 92,
   "metadata": {},
   "outputs": [],
   "source": [
    "lung_df = val_df_id[val_df_id['organ'] == 'lung']"
   ]
  },
  {
   "cell_type": "code",
   "execution_count": 189,
   "metadata": {},
   "outputs": [
    {
     "name": "stderr",
     "output_type": "stream",
     "text": [
      "  0%|          | 0/10 [00:00<?, ?it/s]/opt/conda/lib/python3.6/site-packages/torch/nn/functional.py:3635: UserWarning: Default upsampling behavior when mode=bilinear is changed to align_corners=False since 0.4.0. Please specify align_corners=True if the old behavior is desired. See the documentation of nn.Upsample for details.\n",
      "  \"See the documentation of nn.Upsample for details.\".format(mode)\n",
      "100%|██████████| 10/10 [00:54<00:00,  5.49s/it]\n"
     ]
    },
    {
     "data": {
      "text/plain": [
       "0.2861158972186218"
      ]
     },
     "execution_count": 189,
     "metadata": {},
     "output_type": "execute_result"
    }
   ],
   "source": [
    "check_dice_by_thresh(lung_df, model, th=0.15, infer_id_function=infer_id_monai)"
   ]
  },
  {
   "cell_type": "code",
   "execution_count": 211,
   "metadata": {},
   "outputs": [],
   "source": [
    "def make_reverse_mask(img):\n",
    "    blur = cv.GaussianBlur(img, (5,5), 0)\n",
    "    ret3, th3 = cv.threshold(blur.mean(axis=2).astype(np.uint8), 0, 255, cv.THRESH_BINARY + cv.THRESH_OTSU)\n",
    "    dilatation_size = 2\n",
    "    element = cv.getStructuringElement(cv.MORPH_RECT, (2 * dilatation_size + 1, 2 * dilatation_size + 1),\n",
    "                                       (dilatation_size, dilatation_size))\n",
    "    dilated = cv.dilate(255 - th3, element)\n",
    "    ffilled = cv.floodFill(dilated.copy(), None, (0, 0), newVal=255)[1]\n",
    "    \n",
    "    resid_mask = ffilled.astype(np.float32) - dilated.astype(np.float32)\n",
    "    resid_mask = (resid_mask > 128).astype(np.uint8)\n",
    "    return resid_mask"
   ]
  },
  {
   "cell_type": "code",
   "execution_count": null,
   "metadata": {},
   "outputs": [],
   "source": []
  },
  {
   "cell_type": "code",
   "execution_count": 218,
   "metadata": {},
   "outputs": [
    {
     "name": "stderr",
     "output_type": "stream",
     "text": [
      "100%|██████████| 10/10 [00:04<00:00,  2.08it/s]\n"
     ]
    }
   ],
   "source": [
    "dices = []\n",
    "for el in tqdm(organ2mask[organ]):\n",
    "    orig_img = cv.imread('./../data/train_images/{}.tiff'.format(el['id']))\n",
    "    orig_img = cv.cvtColor(orig_img, cv.COLOR_BGR2RGB)\n",
    "    res_mask =  make_mask(orig_img)\n",
    "    dice = dice_coef2(el['gt'], ((el['pred'] > 0.1) & (~res_mask)).astype(np.uint8))\n",
    "    dices.append(dice)"
   ]
  },
  {
   "cell_type": "code",
   "execution_count": 219,
   "metadata": {},
   "outputs": [
    {
     "data": {
      "text/plain": [
       "0.30123704248624905"
      ]
     },
     "execution_count": 219,
     "metadata": {},
     "output_type": "execute_result"
    }
   ],
   "source": [
    "np.mean(dices)"
   ]
  },
  {
   "cell_type": "markdown",
   "metadata": {},
   "source": [
    "# looking where can be a problem"
   ]
  },
  {
   "cell_type": "code",
   "execution_count": 226,
   "metadata": {},
   "outputs": [],
   "source": [
    "!mkdir fold3images"
   ]
  },
  {
   "cell_type": "code",
   "execution_count": 230,
   "metadata": {},
   "outputs": [
    {
     "name": "stdout",
     "output_type": "stream",
     "text": [
      "kidney\n",
      "saving fig...\n",
      "saving fig...\n",
      "saving fig...\n",
      "saving fig...\n",
      "saving fig...\n",
      "saving fig...\n",
      "saving fig...\n",
      "saving fig...\n",
      "saving fig...\n",
      "saving fig...\n",
      "saving fig...\n",
      "saving fig...\n",
      "saving fig...\n",
      "saving fig...\n",
      "saving fig...\n",
      "saving fig...\n",
      "saving fig...\n",
      "saving fig...\n",
      "saving fig...\n",
      "spleen\n",
      "saving fig...\n",
      "saving fig...\n",
      "saving fig...\n",
      "saving fig...\n",
      "saving fig...\n",
      "saving fig...\n",
      "saving fig...\n",
      "saving fig...\n",
      "saving fig...\n",
      "saving fig...\n",
      "saving fig...\n",
      "prostate\n",
      "saving fig...\n",
      "saving fig...\n",
      "saving fig...\n",
      "saving fig...\n",
      "saving fig...\n",
      "saving fig...\n",
      "saving fig...\n",
      "saving fig...\n",
      "saving fig...\n",
      "saving fig...\n",
      "saving fig...\n",
      "saving fig...\n",
      "saving fig...\n",
      "saving fig...\n",
      "saving fig...\n",
      "saving fig...\n",
      "saving fig...\n",
      "saving fig...\n",
      "lung\n",
      "saving fig...\n",
      "saving fig...\n",
      "saving fig...\n",
      "saving fig...\n",
      "saving fig...\n",
      "saving fig...\n",
      "saving fig...\n",
      "saving fig...\n",
      "saving fig...\n",
      "saving fig...\n",
      "largeintestine\n",
      "saving fig...\n",
      "saving fig...\n",
      "saving fig...\n",
      "saving fig...\n",
      "saving fig...\n",
      "saving fig...\n",
      "saving fig...\n",
      "saving fig...\n",
      "saving fig...\n",
      "saving fig...\n",
      "saving fig...\n",
      "saving fig...\n"
     ]
    }
   ],
   "source": [
    "for key in organ2mask.keys():\n",
    "    print(key)\n",
    "    for el in organ2mask[key]:\n",
    "        img = cv.imread('./../data/train_images/{}.tiff'.format(el['id']))\n",
    "        img = cv.cvtColor(img, cv.COLOR_BGR2RGB)\n",
    "        \n",
    "        fig, axs = plt.subplots(1, 3, figsize=(21, 8))\n",
    "        fig.suptitle(str(el['id']))\n",
    "        axs[0].imshow(img)\n",
    "        axs[1].imshow(el['pred'])\n",
    "        axs[2].imshow(el['gt'])\n",
    "        print('saving fig...')\n",
    "        fig.savefig('./fold3images/{}_{}.png'.format(key, el['id']))\n",
    "        plt.close()\n",
    "#         0/0"
   ]
  },
  {
   "cell_type": "code",
   "execution_count": 231,
   "metadata": {},
   "outputs": [
    {
     "name": "stdout",
     "output_type": "stream",
     "text": [
      "./fold3images/\n",
      "./fold3images/prostate_29213.png\n",
      "./fold3images/kidney_1157.png\n",
      "./fold3images/kidney_25620.png\n",
      "./fold3images/largeintestine_8450.png\n",
      "./fold3images/prostate_1229.png\n",
      "./fold3images/largeintestine_13507.png\n",
      "./fold3images/largeintestine_26319.png\n",
      "./fold3images/kidney_16362.png\n",
      "./fold3images/largeintestine_13396.png\n",
      "./fold3images/spleen_3057.png\n",
      "./fold3images/largeintestine_16728.png\n",
      "./fold3images/prostate_27471.png\n",
      "./fold3images/kidney_23243.png\n",
      "./fold3images/kidney_23051.png\n",
      "./fold3images/prostate_18422.png\n",
      "./fold3images/prostate_30355.png\n",
      "./fold3images/kidney_24222.png\n",
      "./fold3images/prostate_5317.png\n",
      "./fold3images/kidney_6021.png\n",
      "./fold3images/kidney_2500.png\n",
      "./fold3images/prostate_1955.png\n",
      "./fold3images/spleen_25472.png\n",
      "./fold3images/lung_5552.png\n",
      "./fold3images/prostate_28622.png\n",
      "./fold3images/prostate_25430.png\n",
      "./fold3images/kidney_4777.png\n",
      "./fold3images/spleen_11645.png\n",
      "./fold3images/lung_28189.png\n",
      "./fold3images/spleen_29143.png\n",
      "./fold3images/kidney_28940.png\n",
      "./fold3images/prostate_29296.png\n",
      "./fold3images/lung_15124.png\n",
      "./fold3images/lung_12827.png\n",
      "./fold3images/lung_13189.png\n",
      "./fold3images/largeintestine_26780.png\n",
      "./fold3images/lung_5777.png\n",
      "./fold3images/kidney_15005.png\n",
      "./fold3images/spleen_29690.png\n",
      "./fold3images/prostate_16659.png\n",
      "./fold3images/prostate_30765.png\n",
      "./fold3images/kidney_9517.png\n",
      "./fold3images/kidney_27879.png\n",
      "./fold3images/lung_7359.png\n",
      "./fold3images/prostate_16149.png\n",
      "./fold3images/lung_26480.png\n",
      "./fold3images/spleen_27803.png\n",
      "./fold3images/largeintestine_1850.png\n",
      "./fold3images/spleen_26664.png\n",
      "./fold3images/kidney_13034.png\n",
      "./fold3images/kidney_18449.png\n",
      "./fold3images/spleen_4404.png\n",
      "./fold3images/prostate_20955.png\n",
      "./fold3images/largeintestine_29424.png\n",
      "./fold3images/lung_4301.png\n",
      "./fold3images/prostate_31898.png\n",
      "./fold3images/prostate_17187.png\n",
      "./fold3images/spleen_19360.png\n",
      "./fold3images/prostate_1500.png\n",
      "./fold3images/kidney_31698.png\n",
      "./fold3images/prostate_20247.png\n",
      "./fold3images/largeintestine_9777.png\n",
      "./fold3images/kidney_24522.png\n",
      "./fold3images/largeintestine_27340.png\n",
      "./fold3images/.ipynb_checkpoints/\n",
      "./fold3images/largeintestine_8402.png\n",
      "./fold3images/largeintestine_29180.png\n",
      "./fold3images/spleen_19997.png\n",
      "./fold3images/kidney_10611.png\n",
      "./fold3images/kidney_19533.png\n",
      "./fold3images/spleen_9453.png\n",
      "./fold3images/lung_28429.png\n"
     ]
    }
   ],
   "source": [
    "!tar -czvf fold3images.tar.gz ./fold3images/"
   ]
  },
  {
   "cell_type": "code",
   "execution_count": null,
   "metadata": {},
   "outputs": [],
   "source": []
  },
  {
   "cell_type": "code",
   "execution_count": null,
   "metadata": {},
   "outputs": [],
   "source": []
  },
  {
   "cell_type": "markdown",
   "metadata": {},
   "source": [
    "# custom inference (no MONAI)"
   ]
  },
  {
   "cell_type": "code",
   "execution_count": null,
   "metadata": {},
   "outputs": [],
   "source": []
  },
  {
   "cell_type": "code",
   "execution_count": null,
   "metadata": {},
   "outputs": [],
   "source": []
  },
  {
   "cell_type": "code",
   "execution_count": null,
   "metadata": {},
   "outputs": [],
   "source": []
  },
  {
   "cell_type": "code",
   "execution_count": null,
   "metadata": {},
   "outputs": [],
   "source": []
  },
  {
   "cell_type": "code",
   "execution_count": null,
   "metadata": {},
   "outputs": [],
   "source": []
  },
  {
   "cell_type": "code",
   "execution_count": null,
   "metadata": {},
   "outputs": [],
   "source": []
  },
  {
   "cell_type": "code",
   "execution_count": null,
   "metadata": {},
   "outputs": [],
   "source": [
    "291 = 210 (hubmap) + 81 (hpa)"
   ]
  },
  {
   "cell_type": "code",
   "execution_count": null,
   "metadata": {},
   "outputs": [],
   "source": [
    "0.77 = 0.55 (hubmap) + 0.22"
   ]
  },
  {
   "cell_type": "code",
   "execution_count": null,
   "metadata": {},
   "outputs": [],
   "source": [
    "HuBMAP normalized = 0.55"
   ]
  },
  {
   "cell_type": "code",
   "execution_count": 245,
   "metadata": {},
   "outputs": [
    {
     "data": {
      "text/plain": [
       "0.7621428571428572"
      ]
     },
     "execution_count": 245,
     "metadata": {},
     "output_type": "execute_result"
    }
   ],
   "source": [
    "0.55 * (291 / 210)"
   ]
  },
  {
   "cell_type": "code",
   "execution_count": 246,
   "metadata": {},
   "outputs": [
    {
     "data": {
      "text/plain": [
       "0.7903703703703704"
      ]
     },
     "execution_count": 246,
     "metadata": {},
     "output_type": "execute_result"
    }
   ],
   "source": [
    "0.22 * (291 / 81)"
   ]
  },
  {
   "cell_type": "code",
   "execution_count": null,
   "metadata": {},
   "outputs": [],
   "source": []
  }
 ],
 "metadata": {
  "kernelspec": {
   "display_name": "Python 3",
   "language": "python",
   "name": "python3"
  },
  "language_info": {
   "codemirror_mode": {
    "name": "ipython",
    "version": 3
   },
   "file_extension": ".py",
   "mimetype": "text/x-python",
   "name": "python",
   "nbconvert_exporter": "python",
   "pygments_lexer": "ipython3",
   "version": "3.6.10"
  }
 },
 "nbformat": 4,
 "nbformat_minor": 4
}
