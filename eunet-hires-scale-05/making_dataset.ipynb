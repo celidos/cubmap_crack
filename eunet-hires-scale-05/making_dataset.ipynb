{
 "cells": [
  {
   "cell_type": "code",
   "execution_count": 2,
   "metadata": {},
   "outputs": [],
   "source": [
    "import os\n",
    "\n",
    "import numpy as np\n",
    "import pandas as pd\n",
    "import cv2 as cv\n",
    "from matplotlib import pyplot as plt\n",
    "\n",
    "from tqdm import tqdm\n",
    "from glob import glob\n",
    "\n",
    "from pathlib import Path\n",
    "\n",
    "import staintools"
   ]
  },
  {
   "cell_type": "markdown",
   "metadata": {},
   "source": [
    "# custom patched dataset"
   ]
  },
  {
   "cell_type": "code",
   "execution_count": 3,
   "metadata": {},
   "outputs": [],
   "source": [
    "SCALE_FACTOR = 0.5\n",
    "# PATCH_SIZE = 768"
   ]
  },
  {
   "cell_type": "code",
   "execution_count": 4,
   "metadata": {},
   "outputs": [],
   "source": [
    "def make_path_to_img(id: str):\n",
    "    ans = (\n",
    "        './../data/train_images/{}.tiff'.format(id),\n",
    "        './../data/train_masks/{}.npy'.format(id)\n",
    "    )\n",
    "    return ans"
   ]
  },
  {
   "cell_type": "code",
   "execution_count": null,
   "metadata": {},
   "outputs": [],
   "source": [
    "# img = staintools.LuminosityStandardizer.standardize(img)\n",
    "# augm = staintools.StainAugmentor(method='vahadane', sigma1=0.1, sigma2=0.4)\n",
    "# augm.fit(img)\n",
    "# aug_img = augm.pop()\n"
   ]
  },
  {
   "cell_type": "code",
   "execution_count": 9,
   "metadata": {},
   "outputs": [],
   "source": [
    "def patchify_image(id: str, output_dir_img: str, output_dir_mask: str):\n",
    "    Path(output_dir_img).mkdir(parents=True, exist_ok=True)\n",
    "    Path(output_dir_mask).mkdir(parents=True, exist_ok=True)\n",
    "    \n",
    "    iname, mname = make_path_to_img(id)\n",
    "    \n",
    "    img = cv.imread(iname)\n",
    "    img = cv.cvtColor(img, cv.COLOR_BGR2RGB)\n",
    "    \n",
    "    img = staintools.LuminosityStandardizer.standardize(img)\n",
    "    \n",
    "    mask = np.load(mname)\n",
    "    \n",
    "    img = cv.resize(img, None, fx=SCALE_FACTOR, fy=SCALE_FACTOR, interpolation=cv.INTER_AREA)\n",
    "    mask = cv.resize(mask, dsize=img.shape[:2], interpolation=cv.INTER_NEAREST)\n",
    "    \n",
    "    cv.imwrite(os.path.join(output_dir_img, '{}.png'.format(id)), img[:, :, ::-1])\n",
    "    cv.imwrite(os.path.join(output_dir_mask, '{}.png'.format(id)), mask)"
   ]
  },
  {
   "cell_type": "code",
   "execution_count": 10,
   "metadata": {
    "scrolled": false
   },
   "outputs": [],
   "source": [
    "patchify_image(\n",
    "    '10044', \n",
    "    './../data/train_images_scale_05/', \n",
    "    './../data/train_masks_scale_05/'\n",
    ")"
   ]
  },
  {
   "cell_type": "code",
   "execution_count": 11,
   "metadata": {},
   "outputs": [
    {
     "name": "stderr",
     "output_type": "stream",
     "text": [
      "100%|██████████| 351/351 [02:52<00:00,  2.03it/s]\n"
     ]
    }
   ],
   "source": [
    "for fname in tqdm(glob('./../data/train_images/*.tiff')):\n",
    "    bname = os.path.basename(fname)\n",
    "    id = bname.split('.')[0]\n",
    "    patchify_image(\n",
    "        id, \n",
    "        './../data/train_images_scale_05/', \n",
    "        './../data/train_masks_scale_05/'\n",
    "    )    "
   ]
  },
  {
   "cell_type": "code",
   "execution_count": null,
   "metadata": {},
   "outputs": [],
   "source": []
  },
  {
   "cell_type": "code",
   "execution_count": null,
   "metadata": {},
   "outputs": [],
   "source": []
  },
  {
   "cell_type": "code",
   "execution_count": null,
   "metadata": {},
   "outputs": [],
   "source": []
  }
 ],
 "metadata": {
  "kernelspec": {
   "display_name": "Python 3",
   "language": "python",
   "name": "python3"
  },
  "language_info": {
   "codemirror_mode": {
    "name": "ipython",
    "version": 3
   },
   "file_extension": ".py",
   "mimetype": "text/x-python",
   "name": "python",
   "nbconvert_exporter": "python",
   "pygments_lexer": "ipython3",
   "version": "3.6.10"
  }
 },
 "nbformat": 4,
 "nbformat_minor": 4
}
