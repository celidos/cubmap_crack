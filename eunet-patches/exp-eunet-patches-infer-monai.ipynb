{
 "cells": [
  {
   "cell_type": "markdown",
   "metadata": {},
   "source": [
    "# CLEAN BUILD FROM SCRATCH EFFNET-UNET b7 on patches"
   ]
  },
  {
   "cell_type": "code",
   "execution_count": 1,
   "metadata": {},
   "outputs": [],
   "source": [
    "CURRENT_FOLD = 1"
   ]
  },
  {
   "cell_type": "markdown",
   "metadata": {},
   "source": [
    "# imports"
   ]
  },
  {
   "cell_type": "code",
   "execution_count": 2,
   "metadata": {},
   "outputs": [],
   "source": [
    "import random\n",
    "\n",
    "import numpy as np\n",
    "import pandas as pd\n",
    "import cv2 as cv\n",
    "import os\n",
    "\n",
    "from matplotlib import pyplot as plt\n",
    "from glob import glob\n",
    "from sklearn.model_selection import StratifiedKFold\n",
    "from tqdm import tqdm\n",
    "from IPython.display import clear_output\n",
    "\n",
    "import albumentations as A\n",
    "import albumentations.pytorch\n",
    "\n",
    "import torch\n",
    "import torch.nn as nn\n",
    "import torch.nn.functional as F\n",
    "from torch.utils.data import Dataset\n",
    "from torch.utils.data import DataLoader"
   ]
  },
  {
   "cell_type": "code",
   "execution_count": 3,
   "metadata": {},
   "outputs": [],
   "source": [
    "from customeunet.utils import *\n",
    "from customeunet.layers import *\n",
    "from customeunet.efficientnet import *\n",
    "from customeunet.efficientunet import *"
   ]
  },
  {
   "cell_type": "markdown",
   "metadata": {},
   "source": [
    "# model"
   ]
  },
  {
   "cell_type": "code",
   "execution_count": 4,
   "metadata": {},
   "outputs": [],
   "source": [
    "def AUXhead(in_channels, mid_channels, out_channels, upsample=2):\n",
    "    return nn.Sequential(\n",
    "        nn.Conv2d(in_channels, mid_channels, kernel_size=3, stride=1, padding=1),\n",
    "        nn.BatchNorm2d(mid_channels),\n",
    "        nn.ReLU(inplace=True),\n",
    "        nn.Conv2d(mid_channels, out_channels, kernel_size=3, stride=1, padding=1),\n",
    "        nn.Upsample(scale_factor=upsample, mode='bilinear')\n",
    "    )"
   ]
  },
  {
   "cell_type": "code",
   "execution_count": 5,
   "metadata": {},
   "outputs": [],
   "source": [
    "class EfficientUnetAUX(nn.Module):\n",
    "    def __init__(self, backbone, n_classes=2, concat_input=True):\n",
    "        super().__init__()\n",
    "        \n",
    "        self.backbone = backbone\n",
    "        \n",
    "        self.encoder = EfficientNet.encoder(backbone, pretrained=True)\n",
    "        self.model = EfficientUnet(self.encoder, out_channels=n_classes, concat_input=True)\n",
    "        \n",
    "        self.aux3head = AUXhead(128, 256, n_classes, 4)\n",
    "        self.aux2head = AUXhead(256, 256, n_classes, 8)\n",
    "        \n",
    "    def forward(self, x):\n",
    "        data = self.model(x)\n",
    "        aux2 = self.aux2head(data['aux2'])\n",
    "        aux3 = self.aux3head(data['aux3'])\n",
    "        out = {\n",
    "            'logits': data['x'],\n",
    "            'aux2': aux2,\n",
    "            'aux3': aux3,\n",
    "        }\n",
    "        return out"
   ]
  },
  {
   "cell_type": "code",
   "execution_count": 6,
   "metadata": {},
   "outputs": [],
   "source": [
    "model = EfficientUnetAUX(backbone='efficientnet-b7', n_classes=6)"
   ]
  },
  {
   "cell_type": "markdown",
   "metadata": {},
   "source": [
    "# data"
   ]
  },
  {
   "cell_type": "code",
   "execution_count": 7,
   "metadata": {},
   "outputs": [],
   "source": [
    "ORGAN2ID = {\n",
    "    'kidney' : 0,\n",
    "    'prostate' : 1,\n",
    "    'largeintestine' : 2,\n",
    "    'spleen' : 3,\n",
    "    'lung' : 4\n",
    "}\n",
    "ID2ORGAN = {v: k for k, v in ORGAN2ID.items()}"
   ]
  },
  {
   "cell_type": "markdown",
   "metadata": {},
   "source": [
    "## data 512"
   ]
  },
  {
   "cell_type": "code",
   "execution_count": 8,
   "metadata": {},
   "outputs": [],
   "source": [
    "# img256 = cv.imread('./../data/train_data_eunet_patches/256/train/10044_0000.png')\n",
    "# img512 = cv.imread('./../data/train_data_eunet_patches/512/train/10044_0000.png')"
   ]
  },
  {
   "cell_type": "code",
   "execution_count": 9,
   "metadata": {},
   "outputs": [],
   "source": [
    "TRAIN_CSV = './../data/train.csv'\n",
    "TEST_CSV = './../data/test.csv'\n",
    "TRAIN_IMAGES_DIR = './../data/train_data_eunet_patches/512/train/'\n",
    "TRAIN_MASKS_DIR = './../data/train_data_eunet_patches/512/masks/'\n",
    "\n",
    "N_CROSS_VALID_SPLITS = 5\n",
    "RANDOM_SEED = 2022\n",
    "CURRENT_FOLD = 1\n",
    "\n",
    "SPATIAL_SIZE = 512 # размер патча\n"
   ]
  },
  {
   "cell_type": "code",
   "execution_count": 10,
   "metadata": {},
   "outputs": [],
   "source": [
    "train_df = pd.read_csv(TRAIN_CSV)"
   ]
  },
  {
   "cell_type": "code",
   "execution_count": 11,
   "metadata": {},
   "outputs": [],
   "source": [
    "def make_train_image_path(row):\n",
    "    return os.path.join(TRAIN_IMAGES_DIR, str(row['id']) + '.png')\n",
    "\n",
    "def make_train_mask_path(row):\n",
    "    return os.path.join(TRAIN_MASKS_DIR, str(row['id']) + '.png')\n",
    "\n",
    "def create_folds(df: pd.DataFrame, n_splits: int, random_seed: int) -> pd.DataFrame:\n",
    "    skf = StratifiedKFold(n_splits=n_splits, shuffle=True, random_state=random_seed)\n",
    "    for fold, (_, val_idx) in enumerate(skf.split(X=df, y=df[\"organ\"])):\n",
    "        df.loc[val_idx, \"fold\"] = int(fold)\n",
    "\n",
    "    return df"
   ]
  },
  {
   "cell_type": "code",
   "execution_count": 12,
   "metadata": {},
   "outputs": [],
   "source": [
    "train_df = create_folds(train_df, n_splits=N_CROSS_VALID_SPLITS, random_seed=RANDOM_SEED)"
   ]
  },
  {
   "cell_type": "code",
   "execution_count": 13,
   "metadata": {},
   "outputs": [],
   "source": [
    "def make_512_dataset(df):\n",
    "    new_df = []\n",
    "    for index, row in df.iterrows():\n",
    "        id = row['id']\n",
    "        glb = list(glob(TRAIN_IMAGES_DIR + '{}_*.png'.format(id)))\n",
    "        for fname in glb:\n",
    "            newrow = dict()\n",
    "            newrow['id'] = id\n",
    "            newrow['image'] = fname\n",
    "            newrow['mask'] = fname.replace('/train/', '/masks/')\n",
    "            newrow['organ'] = row['organ']\n",
    "            newrow['pixel_size'] = row['pixel_size']\n",
    "            newrow['fold'] = row['fold']\n",
    "            \n",
    "            new_df.append(newrow)\n",
    "    return pd.DataFrame(new_df)"
   ]
  },
  {
   "cell_type": "code",
   "execution_count": 14,
   "metadata": {},
   "outputs": [
    {
     "name": "stdout",
     "output_type": "stream",
     "text": [
      "(2895, 6)\n"
     ]
    },
    {
     "data": {
      "text/html": [
       "<div>\n",
       "<style scoped>\n",
       "    .dataframe tbody tr th:only-of-type {\n",
       "        vertical-align: middle;\n",
       "    }\n",
       "\n",
       "    .dataframe tbody tr th {\n",
       "        vertical-align: top;\n",
       "    }\n",
       "\n",
       "    .dataframe thead th {\n",
       "        text-align: right;\n",
       "    }\n",
       "</style>\n",
       "<table border=\"1\" class=\"dataframe\">\n",
       "  <thead>\n",
       "    <tr style=\"text-align: right;\">\n",
       "      <th></th>\n",
       "      <th>fold</th>\n",
       "      <th>id</th>\n",
       "      <th>image</th>\n",
       "      <th>mask</th>\n",
       "      <th>organ</th>\n",
       "      <th>pixel_size</th>\n",
       "    </tr>\n",
       "  </thead>\n",
       "  <tbody>\n",
       "    <tr>\n",
       "      <th>0</th>\n",
       "      <td>4.0</td>\n",
       "      <td>10044</td>\n",
       "      <td>./../data/train_data_eunet_patches/512/train/1...</td>\n",
       "      <td>./../data/train_data_eunet_patches/512/masks/1...</td>\n",
       "      <td>prostate</td>\n",
       "      <td>0.4</td>\n",
       "    </tr>\n",
       "    <tr>\n",
       "      <th>1</th>\n",
       "      <td>4.0</td>\n",
       "      <td>10044</td>\n",
       "      <td>./../data/train_data_eunet_patches/512/train/1...</td>\n",
       "      <td>./../data/train_data_eunet_patches/512/masks/1...</td>\n",
       "      <td>prostate</td>\n",
       "      <td>0.4</td>\n",
       "    </tr>\n",
       "    <tr>\n",
       "      <th>2</th>\n",
       "      <td>4.0</td>\n",
       "      <td>10044</td>\n",
       "      <td>./../data/train_data_eunet_patches/512/train/1...</td>\n",
       "      <td>./../data/train_data_eunet_patches/512/masks/1...</td>\n",
       "      <td>prostate</td>\n",
       "      <td>0.4</td>\n",
       "    </tr>\n",
       "    <tr>\n",
       "      <th>3</th>\n",
       "      <td>4.0</td>\n",
       "      <td>10044</td>\n",
       "      <td>./../data/train_data_eunet_patches/512/train/1...</td>\n",
       "      <td>./../data/train_data_eunet_patches/512/masks/1...</td>\n",
       "      <td>prostate</td>\n",
       "      <td>0.4</td>\n",
       "    </tr>\n",
       "    <tr>\n",
       "      <th>4</th>\n",
       "      <td>4.0</td>\n",
       "      <td>10044</td>\n",
       "      <td>./../data/train_data_eunet_patches/512/train/1...</td>\n",
       "      <td>./../data/train_data_eunet_patches/512/masks/1...</td>\n",
       "      <td>prostate</td>\n",
       "      <td>0.4</td>\n",
       "    </tr>\n",
       "  </tbody>\n",
       "</table>\n",
       "</div>"
      ],
      "text/plain": [
       "   fold     id                                              image  \\\n",
       "0   4.0  10044  ./../data/train_data_eunet_patches/512/train/1...   \n",
       "1   4.0  10044  ./../data/train_data_eunet_patches/512/train/1...   \n",
       "2   4.0  10044  ./../data/train_data_eunet_patches/512/train/1...   \n",
       "3   4.0  10044  ./../data/train_data_eunet_patches/512/train/1...   \n",
       "4   4.0  10044  ./../data/train_data_eunet_patches/512/train/1...   \n",
       "\n",
       "                                                mask     organ  pixel_size  \n",
       "0  ./../data/train_data_eunet_patches/512/masks/1...  prostate         0.4  \n",
       "1  ./../data/train_data_eunet_patches/512/masks/1...  prostate         0.4  \n",
       "2  ./../data/train_data_eunet_patches/512/masks/1...  prostate         0.4  \n",
       "3  ./../data/train_data_eunet_patches/512/masks/1...  prostate         0.4  \n",
       "4  ./../data/train_data_eunet_patches/512/masks/1...  prostate         0.4  "
      ]
     },
     "execution_count": 14,
     "metadata": {},
     "output_type": "execute_result"
    }
   ],
   "source": [
    "train_df_512 = make_512_dataset(train_df)\n",
    "print(train_df_512.shape)\n",
    "train_df_512.head()"
   ]
  },
  {
   "cell_type": "code",
   "execution_count": 15,
   "metadata": {},
   "outputs": [],
   "source": [
    "mean = np.array([0.7720342, 0.74582646, 0.76392896])\n",
    "std = np.array([0.24745085, 0.26182273, 0.25782376])"
   ]
  },
  {
   "cell_type": "code",
   "execution_count": 16,
   "metadata": {},
   "outputs": [],
   "source": [
    "# train_transform= A.Compose([\n",
    "#     A.Resize(512, 512, interpolation=cv.INTER_LINEAR),\n",
    "#     A.HorizontalFlip(p=0.5),\n",
    "#     A.VerticalFlip(p=0.5),\n",
    "#     A.HueSaturationValue(p=0.2),\n",
    "#     A.ShiftScaleRotate(shift_limit=0.02, scale_limit=(0.05, 0.6),rotate_limit=90, p=0.5),\n",
    "#     A.ElasticTransform(p=0.1, alpha=90, sigma=120 * 0.05, alpha_affine=120 * 0.03),\n",
    "#     A.GridDistortion(p=0.25),\n",
    "#     A.Blur(blur_limit=5, p=0.1),\n",
    "#     A.GaussNoise(var_limit=(20, 100), p=0.2),\n",
    "#     A.ChannelDropout(p=0.05),\n",
    "#     A.RandomGamma(p=0.1),\n",
    "#     A.RandomBrightnessContrast(p=0.2),\n",
    "#     A.Normalize(mean=mean, std=std, \n",
    "#                 max_pixel_value=255, always_apply=True),\n",
    "#     albumentations.pytorch.ToTensorV2()\n",
    "# ], p=1)"
   ]
  },
  {
   "cell_type": "code",
   "execution_count": 17,
   "metadata": {},
   "outputs": [],
   "source": [
    "test_transform = A.Compose([\n",
    "    A.Normalize(mean=mean, std=std, \n",
    "                 max_pixel_value=255, always_apply=True),\n",
    "    albumentations.pytorch.ToTensorV2()\n",
    "], p=1)"
   ]
  },
  {
   "cell_type": "code",
   "execution_count": 19,
   "metadata": {},
   "outputs": [],
   "source": [
    "def worker_init_fn(worker_id):\n",
    "    torch_seed = torch.initial_seed()\n",
    "    random.seed(torch_seed + worker_id)\n",
    "    if torch_seed >= 2**30:  # make sure torch_seed + workder_id < 2**32\n",
    "        torch_seed = torch_seed % 2**30\n",
    "    np.random.seed(torch_seed + worker_id)\n",
    "    random.seed(torch_seed + worker_id + 77777)"
   ]
  },
  {
   "cell_type": "markdown",
   "metadata": {},
   "source": [
    "# VALID"
   ]
  },
  {
   "cell_type": "code",
   "execution_count": 41,
   "metadata": {},
   "outputs": [],
   "source": [
    "def dice_coef2(y_true, y_pred):\n",
    "    y_true_f = y_true.flatten()\n",
    "    y_pred_f = y_pred.flatten()\n",
    "    union = np.sum(y_true_f) + np.sum(y_pred_f)\n",
    "    if union < 1: \n",
    "        return 1\n",
    "    intersection = np.sum(y_true_f * y_pred_f)\n",
    "#     print('UNION', union)\n",
    "    return 2. * intersection / union"
   ]
  },
  {
   "cell_type": "code",
   "execution_count": 21,
   "metadata": {},
   "outputs": [],
   "source": [
    "device = 'cuda:1'\n",
    "DEVICE = device"
   ]
  },
  {
   "cell_type": "code",
   "execution_count": 22,
   "metadata": {},
   "outputs": [],
   "source": [
    "model = EfficientUnetAUX(backbone='efficientnet-b7', n_classes=6).to(device)"
   ]
  },
  {
   "cell_type": "code",
   "execution_count": 96,
   "metadata": {},
   "outputs": [
    {
     "data": {
      "text/plain": [
       "<All keys matched successfully>"
      ]
     },
     "execution_count": 96,
     "metadata": {},
     "output_type": "execute_result"
    }
   ],
   "source": [
    "model.load_state_dict(torch.load('./checkpoint_fold_1/effunet_ep_150_dice_00000nan_loss_0.066483.pt', \n",
    "                                 map_location=device))"
   ]
  },
  {
   "cell_type": "code",
   "execution_count": 97,
   "metadata": {},
   "outputs": [],
   "source": [
    "_ = model.eval()"
   ]
  },
  {
   "cell_type": "code",
   "execution_count": 98,
   "metadata": {},
   "outputs": [],
   "source": [
    "import monai\n",
    "from monai.utils.enums import BlendMode, PytorchPadMode\n",
    "from monai.inferers import sliding_window_inference"
   ]
  },
  {
   "cell_type": "code",
   "execution_count": 99,
   "metadata": {},
   "outputs": [],
   "source": [
    "class Predictor(nn.Module):\n",
    "    def __init__(self, model):\n",
    "        super().__init__()\n",
    "        self.model = model\n",
    "    \n",
    "    def forward(self, x):\n",
    "        out = self.model(x)\n",
    "        prob = F.softmax(out['logits'], dim=1)\n",
    "        return prob"
   ]
  },
  {
   "cell_type": "code",
   "execution_count": 100,
   "metadata": {},
   "outputs": [],
   "source": [
    "predictor = Predictor(model)"
   ]
  },
  {
   "cell_type": "code",
   "execution_count": 101,
   "metadata": {},
   "outputs": [
    {
     "data": {
      "text/html": [
       "<div>\n",
       "<style scoped>\n",
       "    .dataframe tbody tr th:only-of-type {\n",
       "        vertical-align: middle;\n",
       "    }\n",
       "\n",
       "    .dataframe tbody tr th {\n",
       "        vertical-align: top;\n",
       "    }\n",
       "\n",
       "    .dataframe thead th {\n",
       "        text-align: right;\n",
       "    }\n",
       "</style>\n",
       "<table border=\"1\" class=\"dataframe\">\n",
       "  <thead>\n",
       "    <tr style=\"text-align: right;\">\n",
       "      <th></th>\n",
       "      <th>id</th>\n",
       "      <th>organ</th>\n",
       "      <th>data_source</th>\n",
       "      <th>img_height</th>\n",
       "      <th>img_width</th>\n",
       "      <th>pixel_size</th>\n",
       "      <th>tissue_thickness</th>\n",
       "      <th>rle</th>\n",
       "      <th>age</th>\n",
       "      <th>sex</th>\n",
       "      <th>fold</th>\n",
       "    </tr>\n",
       "  </thead>\n",
       "  <tbody>\n",
       "    <tr>\n",
       "      <th>10</th>\n",
       "      <td>10912</td>\n",
       "      <td>prostate</td>\n",
       "      <td>HPA</td>\n",
       "      <td>3000</td>\n",
       "      <td>3000</td>\n",
       "      <td>0.4</td>\n",
       "      <td>4</td>\n",
       "      <td>1147323 50 1150316 59 1153309 68 1156303 76 11...</td>\n",
       "      <td>60.0</td>\n",
       "      <td>Male</td>\n",
       "      <td>1.0</td>\n",
       "    </tr>\n",
       "    <tr>\n",
       "      <th>15</th>\n",
       "      <td>11448</td>\n",
       "      <td>spleen</td>\n",
       "      <td>HPA</td>\n",
       "      <td>3000</td>\n",
       "      <td>3000</td>\n",
       "      <td>0.4</td>\n",
       "      <td>4</td>\n",
       "      <td>3450282 28 3453278 33 3456272 53 3459271 56 34...</td>\n",
       "      <td>21.0</td>\n",
       "      <td>Female</td>\n",
       "      <td>1.0</td>\n",
       "    </tr>\n",
       "    <tr>\n",
       "      <th>16</th>\n",
       "      <td>11497</td>\n",
       "      <td>kidney</td>\n",
       "      <td>HPA</td>\n",
       "      <td>3000</td>\n",
       "      <td>3000</td>\n",
       "      <td>0.4</td>\n",
       "      <td>4</td>\n",
       "      <td>940436 51 943430 65 946427 76 949423 89 952417...</td>\n",
       "      <td>41.0</td>\n",
       "      <td>Female</td>\n",
       "      <td>1.0</td>\n",
       "    </tr>\n",
       "    <tr>\n",
       "      <th>22</th>\n",
       "      <td>1184</td>\n",
       "      <td>prostate</td>\n",
       "      <td>HPA</td>\n",
       "      <td>3000</td>\n",
       "      <td>3000</td>\n",
       "      <td>0.4</td>\n",
       "      <td>4</td>\n",
       "      <td>1916384 12 1919383 15 1922378 26 1925376 29 19...</td>\n",
       "      <td>60.0</td>\n",
       "      <td>Male</td>\n",
       "      <td>1.0</td>\n",
       "    </tr>\n",
       "    <tr>\n",
       "      <th>26</th>\n",
       "      <td>1220</td>\n",
       "      <td>lung</td>\n",
       "      <td>HPA</td>\n",
       "      <td>3000</td>\n",
       "      <td>3000</td>\n",
       "      <td>0.4</td>\n",
       "      <td>4</td>\n",
       "      <td>1429797 16 1432793 21 1435791 23 1438789 27 14...</td>\n",
       "      <td>59.0</td>\n",
       "      <td>Male</td>\n",
       "      <td>1.0</td>\n",
       "    </tr>\n",
       "  </tbody>\n",
       "</table>\n",
       "</div>"
      ],
      "text/plain": [
       "       id     organ data_source  img_height  img_width  pixel_size  \\\n",
       "10  10912  prostate         HPA        3000       3000         0.4   \n",
       "15  11448    spleen         HPA        3000       3000         0.4   \n",
       "16  11497    kidney         HPA        3000       3000         0.4   \n",
       "22   1184  prostate         HPA        3000       3000         0.4   \n",
       "26   1220      lung         HPA        3000       3000         0.4   \n",
       "\n",
       "    tissue_thickness                                                rle   age  \\\n",
       "10                 4  1147323 50 1150316 59 1153309 68 1156303 76 11...  60.0   \n",
       "15                 4  3450282 28 3453278 33 3456272 53 3459271 56 34...  21.0   \n",
       "16                 4  940436 51 943430 65 946427 76 949423 89 952417...  41.0   \n",
       "22                 4  1916384 12 1919383 15 1922378 26 1925376 29 19...  60.0   \n",
       "26                 4  1429797 16 1432793 21 1435791 23 1438789 27 14...  59.0   \n",
       "\n",
       "       sex  fold  \n",
       "10    Male   1.0  \n",
       "15  Female   1.0  \n",
       "16  Female   1.0  \n",
       "22    Male   1.0  \n",
       "26    Male   1.0  "
      ]
     },
     "execution_count": 101,
     "metadata": {},
     "output_type": "execute_result"
    }
   ],
   "source": [
    "train_df[train_df['fold'] == 1].head()"
   ]
  },
  {
   "cell_type": "code",
   "execution_count": 102,
   "metadata": {},
   "outputs": [],
   "source": [
    "def infer_id(predictor, id: str, organ: str, pixel_size=0.4):\n",
    "    THRESHOLD = 0.5\n",
    "    \n",
    "    image = cv.imread('./../data/train_images/{}.tiff'.format(id))\n",
    "    image = cv.cvtColor(image, cv.COLOR_BGR2RGB)\n",
    "    \n",
    "    gt_mask  = np.load('./../data/train_masks/{}.npy'.format(id))\n",
    "    \n",
    "    scale_factor = 0.5 * (pixel_size / 0.4)\n",
    "    image = cv.resize(image, None, fx=scale_factor, fy=scale_factor, interpolation=cv.INTER_AREA)\n",
    "    \n",
    "#     image_rot = image.copy()\n",
    "    masks = []\n",
    "    for _ in range(1):\n",
    "#         image_rot = cv.rotate(image, cv.ROTATE_90_CLOCKWISE)\n",
    "        \n",
    "        image_tensor = test_transform(image=image)['image']\n",
    "\n",
    "        image_tensor = image_tensor.unsqueeze(0).to(device)\n",
    "\n",
    "        with torch.no_grad():\n",
    "            infer_result = sliding_window_inference(\n",
    "                image_tensor, roi_size=(512, 512), sw_batch_size=2, predictor=predictor, \n",
    "                overlap=0.25, mode=BlendMode.CONSTANT, sigma_scale=0.125, \n",
    "                padding_mode=PytorchPadMode.CONSTANT, cval=0.0,       \n",
    "            )\n",
    "\n",
    "        organ_id = ORGAN2ID[organ] + 1\n",
    "        pr_mask = infer_result.detach().cpu().numpy()[0, organ_id]\n",
    "        masks.append(pr_mask)\n",
    "        \n",
    "    pr_mask = (np.array(masks).mean(axis=0) > THRESHOLD).astype(np.uint8)\n",
    "#     print(gt_mask.shape, gt_mask.dtype, pr_mask.dtype)\n",
    "    pr_mask = cv.resize(pr_mask, gt_mask.shape, cv.INTER_NEAREST)\n",
    "    \n",
    "    return pr_mask, gt_mask"
   ]
  },
  {
   "cell_type": "code",
   "execution_count": 103,
   "metadata": {},
   "outputs": [],
   "source": [
    "val_df = train_df[train_df['fold'] == 1]"
   ]
  },
  {
   "cell_type": "code",
   "execution_count": 104,
   "metadata": {},
   "outputs": [
    {
     "name": "stderr",
     "output_type": "stream",
     "text": [
      "  0%|          | 0/70 [00:00<?, ?it/s]/opt/conda/lib/python3.6/site-packages/torch/nn/functional.py:3635: UserWarning: Default upsampling behavior when mode=bilinear is changed to align_corners=False since 0.4.0. Please specify align_corners=True if the old behavior is desired. See the documentation of nn.Upsample for details.\n",
      "  \"See the documentation of nn.Upsample for details.\".format(mode)\n",
      "100%|██████████| 70/70 [02:52<00:00,  2.47s/it]\n"
     ]
    }
   ],
   "source": [
    "dices = []\n",
    "\n",
    "by_organ_dice = {key:[] for key in ORGAN2ID.keys()}\n",
    "for index, row in tqdm(val_df.iterrows(), total=len(val_df)):\n",
    "    id = row['id']\n",
    "    organ = row['organ']\n",
    "    pixel_size = row['pixel_size']\n",
    "    pred_mask, gt_mask = infer_id(predictor, id, organ=organ, pixel_size=pixel_size)\n",
    "    dice = dice_coef2(gt_mask, pred_mask)\n",
    "    dices.append(dice)\n",
    "    by_organ_dice[organ].append(dice)"
   ]
  },
  {
   "cell_type": "code",
   "execution_count": 105,
   "metadata": {},
   "outputs": [
    {
     "name": "stdout",
     "output_type": "stream",
     "text": [
      "0.7726242259511327\n",
      "kidney              : 0.95377\n",
      "prostate            : 0.82359\n",
      "largeintestine      : 0.89240\n",
      "spleen              : 0.79488\n",
      "lung                : 0.15948\n"
     ]
    }
   ],
   "source": [
    "print(np.mean(dices))\n",
    "for key, value in by_organ_dice.items():\n",
    "    print('{:20}: {:6.5f}'.format(key, np.mean(value)))"
   ]
  },
  {
   "cell_type": "code",
   "execution_count": 85,
   "metadata": {},
   "outputs": [
    {
     "name": "stdout",
     "output_type": "stream",
     "text": [
      "0.7760055727847982\n",
      "kidney              : 0.95051\n",
      "prostate            : 0.82773\n",
      "largeintestine      : 0.89371\n",
      "spleen              : 0.81414\n",
      "lung                : 0.16111\n"
     ]
    }
   ],
   "source": [
    "print(np.mean(dices))\n",
    "for key, value in by_organ_dice.items():\n",
    "    print('{:20}: {:6.5f}'.format(key, np.mean(value)))"
   ]
  },
  {
   "cell_type": "code",
   "execution_count": 75,
   "metadata": {},
   "outputs": [
    {
     "name": "stdout",
     "output_type": "stream",
     "text": [
      "0.7745120943796698\n",
      "kidney              : 0.95295\n",
      "prostate            : 0.81402\n",
      "largeintestine      : 0.89369\n",
      "spleen              : 0.80159\n",
      "lung                : 0.18441\n"
     ]
    }
   ],
   "source": [
    "print(np.mean(dices))\n",
    "for key, value in by_organ_dice.items():\n",
    "    print('{:20}: {:6.5f}'.format(key, np.mean(value)))"
   ]
  },
  {
   "cell_type": "markdown",
   "metadata": {},
   "source": [
    "#### one example"
   ]
  },
  {
   "cell_type": "code",
   "execution_count": 58,
   "metadata": {},
   "outputs": [],
   "source": [
    "pred_mask, gt_mask = infer_id(predictor, '10912', organ='prostate', pixel_size=0.4)"
   ]
  },
  {
   "cell_type": "code",
   "execution_count": 60,
   "metadata": {},
   "outputs": [
    {
     "data": {
      "text/plain": [
       "0.6158939680755389"
      ]
     },
     "execution_count": 60,
     "metadata": {},
     "output_type": "execute_result"
    }
   ],
   "source": [
    "dice_coef2(gt_mask, pred_mask)"
   ]
  },
  {
   "cell_type": "markdown",
   "metadata": {},
   "source": [
    "# for every checkpoint"
   ]
  },
  {
   "cell_type": "code",
   "execution_count": 125,
   "metadata": {},
   "outputs": [
    {
     "name": "stdout",
     "output_type": "stream",
     "text": [
      "./checkpoint_fold_1/effunet_ep_000_dice_0.103782_loss_1.510475.pt\n"
     ]
    },
    {
     "name": "stderr",
     "output_type": "stream",
     "text": [
      "100%|██████████| 70/70 [02:51<00:00,  2.45s/it]\n"
     ]
    },
    {
     "name": "stdout",
     "output_type": "stream",
     "text": [
      "./checkpoint_fold_1/effunet_ep_005_dice_00000nan_loss_0.467563.pt\n"
     ]
    },
    {
     "name": "stderr",
     "output_type": "stream",
     "text": [
      "100%|██████████| 70/70 [02:48<00:00,  2.40s/it]\n"
     ]
    },
    {
     "name": "stdout",
     "output_type": "stream",
     "text": [
      "./checkpoint_fold_1/effunet_ep_010_dice_00000nan_loss_0.177200.pt\n"
     ]
    },
    {
     "name": "stderr",
     "output_type": "stream",
     "text": [
      "100%|██████████| 70/70 [02:47<00:00,  2.40s/it]\n"
     ]
    },
    {
     "name": "stdout",
     "output_type": "stream",
     "text": [
      "./checkpoint_fold_1/effunet_ep_015_dice_00000nan_loss_0.131337.pt\n"
     ]
    },
    {
     "name": "stderr",
     "output_type": "stream",
     "text": [
      "100%|██████████| 70/70 [02:48<00:00,  2.41s/it]\n"
     ]
    },
    {
     "name": "stdout",
     "output_type": "stream",
     "text": [
      "./checkpoint_fold_1/effunet_ep_020_dice_00000nan_loss_0.109862.pt\n"
     ]
    },
    {
     "name": "stderr",
     "output_type": "stream",
     "text": [
      "100%|██████████| 70/70 [02:46<00:00,  2.39s/it]\n"
     ]
    },
    {
     "name": "stdout",
     "output_type": "stream",
     "text": [
      "./checkpoint_fold_1/effunet_ep_025_dice_00000nan_loss_0.104543.pt\n"
     ]
    },
    {
     "name": "stderr",
     "output_type": "stream",
     "text": [
      "100%|██████████| 70/70 [02:47<00:00,  2.40s/it]\n"
     ]
    },
    {
     "name": "stdout",
     "output_type": "stream",
     "text": [
      "./checkpoint_fold_1/effunet_ep_030_dice_00000nan_loss_0.093857.pt\n"
     ]
    },
    {
     "name": "stderr",
     "output_type": "stream",
     "text": [
      "100%|██████████| 70/70 [02:48<00:00,  2.40s/it]\n"
     ]
    },
    {
     "name": "stdout",
     "output_type": "stream",
     "text": [
      "./checkpoint_fold_1/effunet_ep_035_dice_00000nan_loss_0.100730.pt\n"
     ]
    },
    {
     "name": "stderr",
     "output_type": "stream",
     "text": [
      "100%|██████████| 70/70 [02:46<00:00,  2.37s/it]\n"
     ]
    },
    {
     "name": "stdout",
     "output_type": "stream",
     "text": [
      "./checkpoint_fold_1/effunet_ep_040_dice_00000nan_loss_0.098407_last_ce.pt\n"
     ]
    },
    {
     "name": "stderr",
     "output_type": "stream",
     "text": [
      "100%|██████████| 70/70 [02:46<00:00,  2.38s/it]\n"
     ]
    },
    {
     "name": "stdout",
     "output_type": "stream",
     "text": [
      "./checkpoint_fold_1/effunet_ep_050_dice_00000nan_loss_0.122789.pt\n"
     ]
    },
    {
     "name": "stderr",
     "output_type": "stream",
     "text": [
      "100%|██████████| 70/70 [02:46<00:00,  2.38s/it]\n"
     ]
    },
    {
     "name": "stdout",
     "output_type": "stream",
     "text": [
      "./checkpoint_fold_1/effunet_ep_055_dice_00000nan_loss_0.120702.pt\n"
     ]
    },
    {
     "name": "stderr",
     "output_type": "stream",
     "text": [
      "100%|██████████| 70/70 [02:47<00:00,  2.39s/it]\n"
     ]
    },
    {
     "name": "stdout",
     "output_type": "stream",
     "text": [
      "./checkpoint_fold_1/effunet_ep_060_dice_00000nan_loss_0.121754_last_beta.pt\n"
     ]
    },
    {
     "name": "stderr",
     "output_type": "stream",
     "text": [
      "100%|██████████| 70/70 [02:46<00:00,  2.37s/it]\n"
     ]
    },
    {
     "name": "stdout",
     "output_type": "stream",
     "text": [
      "./checkpoint_fold_1/effunet_ep_065_dice_00000nan_loss_0.063564.pt\n"
     ]
    },
    {
     "name": "stderr",
     "output_type": "stream",
     "text": [
      "100%|██████████| 70/70 [02:48<00:00,  2.40s/it]\n"
     ]
    },
    {
     "name": "stdout",
     "output_type": "stream",
     "text": [
      "./checkpoint_fold_1/effunet_ep_070_dice_00000nan_loss_0.061283.pt\n"
     ]
    },
    {
     "name": "stderr",
     "output_type": "stream",
     "text": [
      "100%|██████████| 70/70 [02:48<00:00,  2.40s/it]\n"
     ]
    },
    {
     "name": "stdout",
     "output_type": "stream",
     "text": [
      "./checkpoint_fold_1/effunet_ep_075_dice_00000nan_loss_0.063800.pt\n"
     ]
    },
    {
     "name": "stderr",
     "output_type": "stream",
     "text": [
      "100%|██████████| 70/70 [02:48<00:00,  2.40s/it]\n"
     ]
    },
    {
     "name": "stdout",
     "output_type": "stream",
     "text": [
      "./checkpoint_fold_1/effunet_ep_080_dice_00000nan_loss_0.062619.pt\n"
     ]
    },
    {
     "name": "stderr",
     "output_type": "stream",
     "text": [
      "100%|██████████| 70/70 [02:47<00:00,  2.39s/it]\n"
     ]
    },
    {
     "name": "stdout",
     "output_type": "stream",
     "text": [
      "./checkpoint_fold_1/effunet_ep_085_dice_00000nan_loss_0.062776.pt\n"
     ]
    },
    {
     "name": "stderr",
     "output_type": "stream",
     "text": [
      "100%|██████████| 70/70 [02:48<00:00,  2.41s/it]\n"
     ]
    },
    {
     "name": "stdout",
     "output_type": "stream",
     "text": [
      "./checkpoint_fold_1/effunet_ep_090_dice_00000nan_loss_0.062684.pt\n"
     ]
    },
    {
     "name": "stderr",
     "output_type": "stream",
     "text": [
      "100%|██████████| 70/70 [02:48<00:00,  2.41s/it]\n"
     ]
    },
    {
     "name": "stdout",
     "output_type": "stream",
     "text": [
      "./checkpoint_fold_1/effunet_ep_095_dice_00000nan_loss_0.066268.pt\n"
     ]
    },
    {
     "name": "stderr",
     "output_type": "stream",
     "text": [
      "100%|██████████| 70/70 [02:47<00:00,  2.39s/it]\n"
     ]
    },
    {
     "name": "stdout",
     "output_type": "stream",
     "text": [
      "./checkpoint_fold_1/effunet_ep_100_dice_00000nan_loss_0.071101.pt\n"
     ]
    },
    {
     "name": "stderr",
     "output_type": "stream",
     "text": [
      "100%|██████████| 70/70 [02:48<00:00,  2.40s/it]\n"
     ]
    },
    {
     "name": "stdout",
     "output_type": "stream",
     "text": [
      "./checkpoint_fold_1/effunet_ep_105_dice_00000nan_loss_0.067602.pt\n"
     ]
    },
    {
     "name": "stderr",
     "output_type": "stream",
     "text": [
      "100%|██████████| 70/70 [02:46<00:00,  2.39s/it]\n"
     ]
    },
    {
     "name": "stdout",
     "output_type": "stream",
     "text": [
      "./checkpoint_fold_1/effunet_ep_110_dice_00000nan_loss_0.063382.pt\n"
     ]
    },
    {
     "name": "stderr",
     "output_type": "stream",
     "text": [
      "100%|██████████| 70/70 [02:48<00:00,  2.40s/it]\n"
     ]
    },
    {
     "name": "stdout",
     "output_type": "stream",
     "text": [
      "./checkpoint_fold_1/effunet_ep_115_dice_00000nan_loss_0.066153.pt\n"
     ]
    },
    {
     "name": "stderr",
     "output_type": "stream",
     "text": [
      "100%|██████████| 70/70 [02:48<00:00,  2.41s/it]\n"
     ]
    },
    {
     "name": "stdout",
     "output_type": "stream",
     "text": [
      "./checkpoint_fold_1/effunet_ep_120_dice_00000nan_loss_0.066200.pt\n"
     ]
    },
    {
     "name": "stderr",
     "output_type": "stream",
     "text": [
      "100%|██████████| 70/70 [02:46<00:00,  2.38s/it]\n"
     ]
    },
    {
     "name": "stdout",
     "output_type": "stream",
     "text": [
      "./checkpoint_fold_1/effunet_ep_125_dice_00000nan_loss_0.066990.pt\n"
     ]
    },
    {
     "name": "stderr",
     "output_type": "stream",
     "text": [
      "100%|██████████| 70/70 [02:48<00:00,  2.41s/it]\n"
     ]
    },
    {
     "name": "stdout",
     "output_type": "stream",
     "text": [
      "./checkpoint_fold_1/effunet_ep_130_dice_00000nan_loss_0.067874.pt\n"
     ]
    },
    {
     "name": "stderr",
     "output_type": "stream",
     "text": [
      "100%|██████████| 70/70 [02:47<00:00,  2.39s/it]\n"
     ]
    },
    {
     "name": "stdout",
     "output_type": "stream",
     "text": [
      "./checkpoint_fold_1/effunet_ep_135_dice_00000nan_loss_0.068974.pt\n"
     ]
    },
    {
     "name": "stderr",
     "output_type": "stream",
     "text": [
      "100%|██████████| 70/70 [02:47<00:00,  2.39s/it]\n"
     ]
    },
    {
     "name": "stdout",
     "output_type": "stream",
     "text": [
      "./checkpoint_fold_1/effunet_ep_140_dice_00000nan_loss_0.066416.pt\n"
     ]
    },
    {
     "name": "stderr",
     "output_type": "stream",
     "text": [
      "100%|██████████| 70/70 [02:48<00:00,  2.41s/it]\n"
     ]
    },
    {
     "name": "stdout",
     "output_type": "stream",
     "text": [
      "./checkpoint_fold_1/effunet_ep_145_dice_00000nan_loss_0.068467.pt\n"
     ]
    },
    {
     "name": "stderr",
     "output_type": "stream",
     "text": [
      "100%|██████████| 70/70 [02:47<00:00,  2.39s/it]\n"
     ]
    },
    {
     "name": "stdout",
     "output_type": "stream",
     "text": [
      "./checkpoint_fold_1/effunet_ep_150_dice_00000nan_loss_0.066483.pt\n"
     ]
    },
    {
     "name": "stderr",
     "output_type": "stream",
     "text": [
      "100%|██████████| 70/70 [02:47<00:00,  2.39s/it]\n"
     ]
    },
    {
     "name": "stdout",
     "output_type": "stream",
     "text": [
      "./checkpoint_fold_1/effunet_ep_155_dice_00000nan_loss_0.070858.pt\n"
     ]
    },
    {
     "name": "stderr",
     "output_type": "stream",
     "text": [
      "100%|██████████| 70/70 [02:47<00:00,  2.40s/it]\n"
     ]
    },
    {
     "name": "stdout",
     "output_type": "stream",
     "text": [
      "./checkpoint_fold_1/effunet_ep_160_dice_00000nan_loss_0.068350.pt\n"
     ]
    },
    {
     "name": "stderr",
     "output_type": "stream",
     "text": [
      "100%|██████████| 70/70 [02:48<00:00,  2.40s/it]\n"
     ]
    },
    {
     "name": "stdout",
     "output_type": "stream",
     "text": [
      "./checkpoint_fold_1/effunet_ep_165_dice_00000nan_loss_0.069572.pt\n"
     ]
    },
    {
     "name": "stderr",
     "output_type": "stream",
     "text": [
      "100%|██████████| 70/70 [02:47<00:00,  2.40s/it]\n"
     ]
    },
    {
     "name": "stdout",
     "output_type": "stream",
     "text": [
      "./checkpoint_fold_1/effunet_ep_170_dice_00000nan_loss_0.068944.pt\n"
     ]
    },
    {
     "name": "stderr",
     "output_type": "stream",
     "text": [
      "100%|██████████| 70/70 [02:46<00:00,  2.38s/it]\n"
     ]
    },
    {
     "name": "stdout",
     "output_type": "stream",
     "text": [
      "./checkpoint_fold_1/effunet_ep_175_dice_00000nan_loss_0.069365.pt\n"
     ]
    },
    {
     "name": "stderr",
     "output_type": "stream",
     "text": [
      "100%|██████████| 70/70 [02:48<00:00,  2.40s/it]\n"
     ]
    },
    {
     "name": "stdout",
     "output_type": "stream",
     "text": [
      "./checkpoint_fold_1/effunet_ep_180_dice_00000nan_loss_0.068904.pt\n"
     ]
    },
    {
     "name": "stderr",
     "output_type": "stream",
     "text": [
      "100%|██████████| 70/70 [02:48<00:00,  2.40s/it]\n"
     ]
    },
    {
     "name": "stdout",
     "output_type": "stream",
     "text": [
      "./checkpoint_fold_1/effunet_ep_185_dice_00000nan_loss_0.069502.pt\n"
     ]
    },
    {
     "name": "stderr",
     "output_type": "stream",
     "text": [
      "100%|██████████| 70/70 [02:47<00:00,  2.40s/it]\n"
     ]
    },
    {
     "name": "stdout",
     "output_type": "stream",
     "text": [
      "./checkpoint_fold_1/effunet_ep_190_dice_00000nan_loss_0.072079.pt\n"
     ]
    },
    {
     "name": "stderr",
     "output_type": "stream",
     "text": [
      "100%|██████████| 70/70 [02:46<00:00,  2.37s/it]\n"
     ]
    },
    {
     "name": "stdout",
     "output_type": "stream",
     "text": [
      "./checkpoint_fold_1/effunet_ep_195_dice_00000nan_loss_0.070590.pt\n"
     ]
    },
    {
     "name": "stderr",
     "output_type": "stream",
     "text": [
      "100%|██████████| 70/70 [02:48<00:00,  2.40s/it]\n"
     ]
    },
    {
     "name": "stdout",
     "output_type": "stream",
     "text": [
      "./checkpoint_fold_1/effunet_ep_200_dice_00000nan_loss_0.071793.pt\n"
     ]
    },
    {
     "name": "stderr",
     "output_type": "stream",
     "text": [
      "100%|██████████| 70/70 [02:46<00:00,  2.38s/it]\n"
     ]
    },
    {
     "name": "stdout",
     "output_type": "stream",
     "text": [
      "./checkpoint_fold_1/effunet_ep_205_dice_00000nan_loss_0.071014.pt\n"
     ]
    },
    {
     "name": "stderr",
     "output_type": "stream",
     "text": [
      "100%|██████████| 70/70 [02:47<00:00,  2.39s/it]\n"
     ]
    },
    {
     "name": "stdout",
     "output_type": "stream",
     "text": [
      "./checkpoint_fold_1/effunet_ep_210_dice_00000nan_loss_0.069990.pt\n"
     ]
    },
    {
     "name": "stderr",
     "output_type": "stream",
     "text": [
      "100%|██████████| 70/70 [02:48<00:00,  2.40s/it]\n"
     ]
    },
    {
     "name": "stdout",
     "output_type": "stream",
     "text": [
      "./checkpoint_fold_1/effunet_ep_215_dice_00000nan_loss_0.072089.pt\n"
     ]
    },
    {
     "name": "stderr",
     "output_type": "stream",
     "text": [
      "100%|██████████| 70/70 [02:50<00:00,  2.43s/it]\n"
     ]
    },
    {
     "name": "stdout",
     "output_type": "stream",
     "text": [
      "./checkpoint_fold_1/effunet_ep_220_dice_00000nan_loss_0.071574.pt\n"
     ]
    },
    {
     "name": "stderr",
     "output_type": "stream",
     "text": [
      "100%|██████████| 70/70 [02:52<00:00,  2.46s/it]\n"
     ]
    },
    {
     "name": "stdout",
     "output_type": "stream",
     "text": [
      "./checkpoint_fold_1/effunet_ep_225_dice_00000nan_loss_0.075993.pt\n"
     ]
    },
    {
     "name": "stderr",
     "output_type": "stream",
     "text": [
      "100%|██████████| 70/70 [02:52<00:00,  2.47s/it]\n"
     ]
    },
    {
     "name": "stdout",
     "output_type": "stream",
     "text": [
      "./checkpoint_fold_1/effunet_ep_230_dice_00000nan_loss_0.072008.pt\n"
     ]
    },
    {
     "name": "stderr",
     "output_type": "stream",
     "text": [
      "100%|██████████| 70/70 [02:52<00:00,  2.47s/it]\n"
     ]
    },
    {
     "name": "stdout",
     "output_type": "stream",
     "text": [
      "./checkpoint_fold_1/effunet_ep_235_dice_00000nan_loss_0.072051.pt\n"
     ]
    },
    {
     "name": "stderr",
     "output_type": "stream",
     "text": [
      "100%|██████████| 70/70 [02:53<00:00,  2.48s/it]\n"
     ]
    },
    {
     "name": "stdout",
     "output_type": "stream",
     "text": [
      "./checkpoint_fold_1/effunet_ep_240_dice_00000nan_loss_0.072853.pt\n"
     ]
    },
    {
     "name": "stderr",
     "output_type": "stream",
     "text": [
      "100%|██████████| 70/70 [02:52<00:00,  2.47s/it]\n"
     ]
    },
    {
     "name": "stdout",
     "output_type": "stream",
     "text": [
      "./checkpoint_fold_1/effunet_ep_245_dice_00000nan_loss_0.071735.pt\n"
     ]
    },
    {
     "name": "stderr",
     "output_type": "stream",
     "text": [
      "100%|██████████| 70/70 [02:53<00:00,  2.48s/it]\n"
     ]
    },
    {
     "name": "stdout",
     "output_type": "stream",
     "text": [
      "./checkpoint_fold_1/effunet_ep_250_dice_00000nan_loss_0.071283.pt\n"
     ]
    },
    {
     "name": "stderr",
     "output_type": "stream",
     "text": [
      "100%|██████████| 70/70 [02:52<00:00,  2.46s/it]\n"
     ]
    },
    {
     "name": "stdout",
     "output_type": "stream",
     "text": [
      "./checkpoint_fold_1/effunet_ep_255_dice_00000nan_loss_0.072170.pt\n"
     ]
    },
    {
     "name": "stderr",
     "output_type": "stream",
     "text": [
      " 49%|████▊     | 34/70 [01:24<01:29,  2.50s/it]\n"
     ]
    },
    {
     "ename": "KeyboardInterrupt",
     "evalue": "",
     "output_type": "error",
     "traceback": [
      "\u001b[0;31m---------------------------------------------------------------------------\u001b[0m",
      "\u001b[0;31mKeyboardInterrupt\u001b[0m                         Traceback (most recent call last)",
      "\u001b[0;32m<ipython-input-125-874898f64605>\u001b[0m in \u001b[0;36m<module>\u001b[0;34m\u001b[0m\n\u001b[1;32m     19\u001b[0m             \u001b[0morgan\u001b[0m \u001b[0;34m=\u001b[0m \u001b[0mrow\u001b[0m\u001b[0;34m[\u001b[0m\u001b[0;34m'organ'\u001b[0m\u001b[0;34m]\u001b[0m\u001b[0;34m\u001b[0m\u001b[0;34m\u001b[0m\u001b[0m\n\u001b[1;32m     20\u001b[0m             \u001b[0mpixel_size\u001b[0m \u001b[0;34m=\u001b[0m \u001b[0mrow\u001b[0m\u001b[0;34m[\u001b[0m\u001b[0;34m'pixel_size'\u001b[0m\u001b[0;34m]\u001b[0m\u001b[0;34m\u001b[0m\u001b[0;34m\u001b[0m\u001b[0m\n\u001b[0;32m---> 21\u001b[0;31m             \u001b[0mpred_mask\u001b[0m\u001b[0;34m,\u001b[0m \u001b[0mgt_mask\u001b[0m \u001b[0;34m=\u001b[0m \u001b[0minfer_id\u001b[0m\u001b[0;34m(\u001b[0m\u001b[0mpredictor\u001b[0m\u001b[0;34m,\u001b[0m \u001b[0mid\u001b[0m\u001b[0;34m,\u001b[0m \u001b[0morgan\u001b[0m\u001b[0;34m=\u001b[0m\u001b[0morgan\u001b[0m\u001b[0;34m,\u001b[0m \u001b[0mpixel_size\u001b[0m\u001b[0;34m=\u001b[0m\u001b[0mpixel_size\u001b[0m\u001b[0;34m)\u001b[0m\u001b[0;34m\u001b[0m\u001b[0;34m\u001b[0m\u001b[0m\n\u001b[0m\u001b[1;32m     22\u001b[0m             \u001b[0mdice\u001b[0m \u001b[0;34m=\u001b[0m \u001b[0mdice_coef2\u001b[0m\u001b[0;34m(\u001b[0m\u001b[0mgt_mask\u001b[0m\u001b[0;34m,\u001b[0m \u001b[0mpred_mask\u001b[0m\u001b[0;34m)\u001b[0m\u001b[0;34m\u001b[0m\u001b[0;34m\u001b[0m\u001b[0m\n\u001b[1;32m     23\u001b[0m             \u001b[0mdices\u001b[0m\u001b[0;34m.\u001b[0m\u001b[0mappend\u001b[0m\u001b[0;34m(\u001b[0m\u001b[0mdice\u001b[0m\u001b[0;34m)\u001b[0m\u001b[0;34m\u001b[0m\u001b[0;34m\u001b[0m\u001b[0m\n",
      "\u001b[0;32m<ipython-input-102-f81096907944>\u001b[0m in \u001b[0;36minfer_id\u001b[0;34m(predictor, id, organ, pixel_size)\u001b[0m\n\u001b[1;32m     23\u001b[0m                 \u001b[0mimage_tensor\u001b[0m\u001b[0;34m,\u001b[0m \u001b[0mroi_size\u001b[0m\u001b[0;34m=\u001b[0m\u001b[0;34m(\u001b[0m\u001b[0;36m512\u001b[0m\u001b[0;34m,\u001b[0m \u001b[0;36m512\u001b[0m\u001b[0;34m)\u001b[0m\u001b[0;34m,\u001b[0m \u001b[0msw_batch_size\u001b[0m\u001b[0;34m=\u001b[0m\u001b[0;36m2\u001b[0m\u001b[0;34m,\u001b[0m \u001b[0mpredictor\u001b[0m\u001b[0;34m=\u001b[0m\u001b[0mpredictor\u001b[0m\u001b[0;34m,\u001b[0m\u001b[0;34m\u001b[0m\u001b[0;34m\u001b[0m\u001b[0m\n\u001b[1;32m     24\u001b[0m                 \u001b[0moverlap\u001b[0m\u001b[0;34m=\u001b[0m\u001b[0;36m0.25\u001b[0m\u001b[0;34m,\u001b[0m \u001b[0mmode\u001b[0m\u001b[0;34m=\u001b[0m\u001b[0mBlendMode\u001b[0m\u001b[0;34m.\u001b[0m\u001b[0mCONSTANT\u001b[0m\u001b[0;34m,\u001b[0m \u001b[0msigma_scale\u001b[0m\u001b[0;34m=\u001b[0m\u001b[0;36m0.125\u001b[0m\u001b[0;34m,\u001b[0m\u001b[0;34m\u001b[0m\u001b[0;34m\u001b[0m\u001b[0m\n\u001b[0;32m---> 25\u001b[0;31m                 \u001b[0mpadding_mode\u001b[0m\u001b[0;34m=\u001b[0m\u001b[0mPytorchPadMode\u001b[0m\u001b[0;34m.\u001b[0m\u001b[0mCONSTANT\u001b[0m\u001b[0;34m,\u001b[0m \u001b[0mcval\u001b[0m\u001b[0;34m=\u001b[0m\u001b[0;36m0.0\u001b[0m\u001b[0;34m,\u001b[0m\u001b[0;34m\u001b[0m\u001b[0;34m\u001b[0m\u001b[0m\n\u001b[0m\u001b[1;32m     26\u001b[0m             )\n\u001b[1;32m     27\u001b[0m \u001b[0;34m\u001b[0m\u001b[0m\n",
      "\u001b[0;32m/opt/conda/lib/python3.6/site-packages/monai/inferers/utils.py\u001b[0m in \u001b[0;36msliding_window_inference\u001b[0;34m(inputs, roi_size, sw_batch_size, predictor, overlap, mode, sigma_scale, padding_mode, cval, sw_device, device, *args, **kwargs)\u001b[0m\n\u001b[1;32m    128\u001b[0m         ]\n\u001b[1;32m    129\u001b[0m         \u001b[0mwindow_data\u001b[0m \u001b[0;34m=\u001b[0m \u001b[0mtorch\u001b[0m\u001b[0;34m.\u001b[0m\u001b[0mcat\u001b[0m\u001b[0;34m(\u001b[0m\u001b[0;34m[\u001b[0m\u001b[0minputs\u001b[0m\u001b[0;34m[\u001b[0m\u001b[0mwin_slice\u001b[0m\u001b[0;34m]\u001b[0m \u001b[0;32mfor\u001b[0m \u001b[0mwin_slice\u001b[0m \u001b[0;32min\u001b[0m \u001b[0munravel_slice\u001b[0m\u001b[0;34m]\u001b[0m\u001b[0;34m)\u001b[0m\u001b[0;34m.\u001b[0m\u001b[0mto\u001b[0m\u001b[0;34m(\u001b[0m\u001b[0msw_device\u001b[0m\u001b[0;34m)\u001b[0m\u001b[0;34m\u001b[0m\u001b[0;34m\u001b[0m\u001b[0m\n\u001b[0;32m--> 130\u001b[0;31m         \u001b[0mseg_prob\u001b[0m \u001b[0;34m=\u001b[0m \u001b[0mpredictor\u001b[0m\u001b[0;34m(\u001b[0m\u001b[0mwindow_data\u001b[0m\u001b[0;34m,\u001b[0m \u001b[0;34m*\u001b[0m\u001b[0margs\u001b[0m\u001b[0;34m,\u001b[0m \u001b[0;34m**\u001b[0m\u001b[0mkwargs\u001b[0m\u001b[0;34m)\u001b[0m\u001b[0;34m.\u001b[0m\u001b[0mto\u001b[0m\u001b[0;34m(\u001b[0m\u001b[0mdevice\u001b[0m\u001b[0;34m)\u001b[0m  \u001b[0;31m# batched patch segmentation\u001b[0m\u001b[0;34m\u001b[0m\u001b[0;34m\u001b[0m\u001b[0m\n\u001b[0m\u001b[1;32m    131\u001b[0m \u001b[0;34m\u001b[0m\u001b[0m\n\u001b[1;32m    132\u001b[0m         \u001b[0;32mif\u001b[0m \u001b[0;32mnot\u001b[0m \u001b[0m_initialized\u001b[0m\u001b[0;34m:\u001b[0m  \u001b[0;31m# init. buffer at the first iteration\u001b[0m\u001b[0;34m\u001b[0m\u001b[0;34m\u001b[0m\u001b[0m\n",
      "\u001b[0;32m/opt/conda/lib/python3.6/site-packages/torch/nn/modules/module.py\u001b[0m in \u001b[0;36m_call_impl\u001b[0;34m(self, *input, **kwargs)\u001b[0m\n\u001b[1;32m   1100\u001b[0m         if not (self._backward_hooks or self._forward_hooks or self._forward_pre_hooks or _global_backward_hooks\n\u001b[1;32m   1101\u001b[0m                 or _global_forward_hooks or _global_forward_pre_hooks):\n\u001b[0;32m-> 1102\u001b[0;31m             \u001b[0;32mreturn\u001b[0m \u001b[0mforward_call\u001b[0m\u001b[0;34m(\u001b[0m\u001b[0;34m*\u001b[0m\u001b[0minput\u001b[0m\u001b[0;34m,\u001b[0m \u001b[0;34m**\u001b[0m\u001b[0mkwargs\u001b[0m\u001b[0;34m)\u001b[0m\u001b[0;34m\u001b[0m\u001b[0;34m\u001b[0m\u001b[0m\n\u001b[0m\u001b[1;32m   1103\u001b[0m         \u001b[0;31m# Do not call functions when jit is used\u001b[0m\u001b[0;34m\u001b[0m\u001b[0;34m\u001b[0m\u001b[0;34m\u001b[0m\u001b[0m\n\u001b[1;32m   1104\u001b[0m         \u001b[0mfull_backward_hooks\u001b[0m\u001b[0;34m,\u001b[0m \u001b[0mnon_full_backward_hooks\u001b[0m \u001b[0;34m=\u001b[0m \u001b[0;34m[\u001b[0m\u001b[0;34m]\u001b[0m\u001b[0;34m,\u001b[0m \u001b[0;34m[\u001b[0m\u001b[0;34m]\u001b[0m\u001b[0;34m\u001b[0m\u001b[0;34m\u001b[0m\u001b[0m\n",
      "\u001b[0;32m<ipython-input-99-b078cf8aeaec>\u001b[0m in \u001b[0;36mforward\u001b[0;34m(self, x)\u001b[0m\n\u001b[1;32m      5\u001b[0m \u001b[0;34m\u001b[0m\u001b[0m\n\u001b[1;32m      6\u001b[0m     \u001b[0;32mdef\u001b[0m \u001b[0mforward\u001b[0m\u001b[0;34m(\u001b[0m\u001b[0mself\u001b[0m\u001b[0;34m,\u001b[0m \u001b[0mx\u001b[0m\u001b[0;34m)\u001b[0m\u001b[0;34m:\u001b[0m\u001b[0;34m\u001b[0m\u001b[0;34m\u001b[0m\u001b[0m\n\u001b[0;32m----> 7\u001b[0;31m         \u001b[0mout\u001b[0m \u001b[0;34m=\u001b[0m \u001b[0mself\u001b[0m\u001b[0;34m.\u001b[0m\u001b[0mmodel\u001b[0m\u001b[0;34m(\u001b[0m\u001b[0mx\u001b[0m\u001b[0;34m)\u001b[0m\u001b[0;34m\u001b[0m\u001b[0;34m\u001b[0m\u001b[0m\n\u001b[0m\u001b[1;32m      8\u001b[0m         \u001b[0mprob\u001b[0m \u001b[0;34m=\u001b[0m \u001b[0mF\u001b[0m\u001b[0;34m.\u001b[0m\u001b[0msoftmax\u001b[0m\u001b[0;34m(\u001b[0m\u001b[0mout\u001b[0m\u001b[0;34m[\u001b[0m\u001b[0;34m'logits'\u001b[0m\u001b[0;34m]\u001b[0m\u001b[0;34m,\u001b[0m \u001b[0mdim\u001b[0m\u001b[0;34m=\u001b[0m\u001b[0;36m1\u001b[0m\u001b[0;34m)\u001b[0m\u001b[0;34m\u001b[0m\u001b[0;34m\u001b[0m\u001b[0m\n\u001b[1;32m      9\u001b[0m         \u001b[0;32mreturn\u001b[0m \u001b[0mprob\u001b[0m\u001b[0;34m\u001b[0m\u001b[0;34m\u001b[0m\u001b[0m\n",
      "\u001b[0;32m/opt/conda/lib/python3.6/site-packages/torch/nn/modules/module.py\u001b[0m in \u001b[0;36m_call_impl\u001b[0;34m(self, *input, **kwargs)\u001b[0m\n\u001b[1;32m   1100\u001b[0m         if not (self._backward_hooks or self._forward_hooks or self._forward_pre_hooks or _global_backward_hooks\n\u001b[1;32m   1101\u001b[0m                 or _global_forward_hooks or _global_forward_pre_hooks):\n\u001b[0;32m-> 1102\u001b[0;31m             \u001b[0;32mreturn\u001b[0m \u001b[0mforward_call\u001b[0m\u001b[0;34m(\u001b[0m\u001b[0;34m*\u001b[0m\u001b[0minput\u001b[0m\u001b[0;34m,\u001b[0m \u001b[0;34m**\u001b[0m\u001b[0mkwargs\u001b[0m\u001b[0;34m)\u001b[0m\u001b[0;34m\u001b[0m\u001b[0;34m\u001b[0m\u001b[0m\n\u001b[0m\u001b[1;32m   1103\u001b[0m         \u001b[0;31m# Do not call functions when jit is used\u001b[0m\u001b[0;34m\u001b[0m\u001b[0;34m\u001b[0m\u001b[0;34m\u001b[0m\u001b[0m\n\u001b[1;32m   1104\u001b[0m         \u001b[0mfull_backward_hooks\u001b[0m\u001b[0;34m,\u001b[0m \u001b[0mnon_full_backward_hooks\u001b[0m \u001b[0;34m=\u001b[0m \u001b[0;34m[\u001b[0m\u001b[0;34m]\u001b[0m\u001b[0;34m,\u001b[0m \u001b[0;34m[\u001b[0m\u001b[0;34m]\u001b[0m\u001b[0;34m\u001b[0m\u001b[0;34m\u001b[0m\u001b[0m\n",
      "\u001b[0;32m<ipython-input-5-a3ee30b3d70a>\u001b[0m in \u001b[0;36mforward\u001b[0;34m(self, x)\u001b[0m\n\u001b[1;32m     12\u001b[0m \u001b[0;34m\u001b[0m\u001b[0m\n\u001b[1;32m     13\u001b[0m     \u001b[0;32mdef\u001b[0m \u001b[0mforward\u001b[0m\u001b[0;34m(\u001b[0m\u001b[0mself\u001b[0m\u001b[0;34m,\u001b[0m \u001b[0mx\u001b[0m\u001b[0;34m)\u001b[0m\u001b[0;34m:\u001b[0m\u001b[0;34m\u001b[0m\u001b[0;34m\u001b[0m\u001b[0m\n\u001b[0;32m---> 14\u001b[0;31m         \u001b[0mdata\u001b[0m \u001b[0;34m=\u001b[0m \u001b[0mself\u001b[0m\u001b[0;34m.\u001b[0m\u001b[0mmodel\u001b[0m\u001b[0;34m(\u001b[0m\u001b[0mx\u001b[0m\u001b[0;34m)\u001b[0m\u001b[0;34m\u001b[0m\u001b[0;34m\u001b[0m\u001b[0m\n\u001b[0m\u001b[1;32m     15\u001b[0m         \u001b[0maux2\u001b[0m \u001b[0;34m=\u001b[0m \u001b[0mself\u001b[0m\u001b[0;34m.\u001b[0m\u001b[0maux2head\u001b[0m\u001b[0;34m(\u001b[0m\u001b[0mdata\u001b[0m\u001b[0;34m[\u001b[0m\u001b[0;34m'aux2'\u001b[0m\u001b[0;34m]\u001b[0m\u001b[0;34m)\u001b[0m\u001b[0;34m\u001b[0m\u001b[0;34m\u001b[0m\u001b[0m\n\u001b[1;32m     16\u001b[0m         \u001b[0maux3\u001b[0m \u001b[0;34m=\u001b[0m \u001b[0mself\u001b[0m\u001b[0;34m.\u001b[0m\u001b[0maux3head\u001b[0m\u001b[0;34m(\u001b[0m\u001b[0mdata\u001b[0m\u001b[0;34m[\u001b[0m\u001b[0;34m'aux3'\u001b[0m\u001b[0;34m]\u001b[0m\u001b[0;34m)\u001b[0m\u001b[0;34m\u001b[0m\u001b[0;34m\u001b[0m\u001b[0m\n",
      "\u001b[0;32m/opt/conda/lib/python3.6/site-packages/torch/nn/modules/module.py\u001b[0m in \u001b[0;36m_call_impl\u001b[0;34m(self, *input, **kwargs)\u001b[0m\n\u001b[1;32m   1100\u001b[0m         if not (self._backward_hooks or self._forward_hooks or self._forward_pre_hooks or _global_backward_hooks\n\u001b[1;32m   1101\u001b[0m                 or _global_forward_hooks or _global_forward_pre_hooks):\n\u001b[0;32m-> 1102\u001b[0;31m             \u001b[0;32mreturn\u001b[0m \u001b[0mforward_call\u001b[0m\u001b[0;34m(\u001b[0m\u001b[0;34m*\u001b[0m\u001b[0minput\u001b[0m\u001b[0;34m,\u001b[0m \u001b[0;34m**\u001b[0m\u001b[0mkwargs\u001b[0m\u001b[0;34m)\u001b[0m\u001b[0;34m\u001b[0m\u001b[0;34m\u001b[0m\u001b[0m\n\u001b[0m\u001b[1;32m   1103\u001b[0m         \u001b[0;31m# Do not call functions when jit is used\u001b[0m\u001b[0;34m\u001b[0m\u001b[0;34m\u001b[0m\u001b[0;34m\u001b[0m\u001b[0m\n\u001b[1;32m   1104\u001b[0m         \u001b[0mfull_backward_hooks\u001b[0m\u001b[0;34m,\u001b[0m \u001b[0mnon_full_backward_hooks\u001b[0m \u001b[0;34m=\u001b[0m \u001b[0;34m[\u001b[0m\u001b[0;34m]\u001b[0m\u001b[0;34m,\u001b[0m \u001b[0;34m[\u001b[0m\u001b[0;34m]\u001b[0m\u001b[0;34m\u001b[0m\u001b[0;34m\u001b[0m\u001b[0m\n",
      "\u001b[0;32m/workspace/nfs/cando/epockonechny/other/pockonechnyy/HUBMAP/cubmap_crack/eunet-patches/customeunet/efficientunet.py\u001b[0m in \u001b[0;36mforward\u001b[0;34m(self, x)\u001b[0m\n\u001b[1;32m    100\u001b[0m         \u001b[0minput_\u001b[0m \u001b[0;34m=\u001b[0m \u001b[0mx\u001b[0m\u001b[0;34m\u001b[0m\u001b[0;34m\u001b[0m\u001b[0m\n\u001b[1;32m    101\u001b[0m \u001b[0;34m\u001b[0m\u001b[0m\n\u001b[0;32m--> 102\u001b[0;31m         \u001b[0mblocks\u001b[0m \u001b[0;34m=\u001b[0m \u001b[0mget_blocks_to_be_concat\u001b[0m\u001b[0;34m(\u001b[0m\u001b[0mself\u001b[0m\u001b[0;34m.\u001b[0m\u001b[0mencoder\u001b[0m\u001b[0;34m,\u001b[0m \u001b[0mx\u001b[0m\u001b[0;34m)\u001b[0m\u001b[0;34m\u001b[0m\u001b[0;34m\u001b[0m\u001b[0m\n\u001b[0m\u001b[1;32m    103\u001b[0m         \u001b[0m_\u001b[0m\u001b[0;34m,\u001b[0m \u001b[0mx\u001b[0m \u001b[0;34m=\u001b[0m \u001b[0mblocks\u001b[0m\u001b[0;34m.\u001b[0m\u001b[0mpopitem\u001b[0m\u001b[0;34m(\u001b[0m\u001b[0;34m)\u001b[0m\u001b[0;34m\u001b[0m\u001b[0;34m\u001b[0m\u001b[0m\n\u001b[1;32m    104\u001b[0m \u001b[0;34m\u001b[0m\u001b[0m\n",
      "\u001b[0;32m/workspace/nfs/cando/epockonechny/other/pockonechnyy/HUBMAP/cubmap_crack/eunet-patches/customeunet/efficientunet.py\u001b[0m in \u001b[0;36mget_blocks_to_be_concat\u001b[0;34m(model, x)\u001b[0m\n\u001b[1;32m     51\u001b[0m \u001b[0;34m\u001b[0m\u001b[0m\n\u001b[1;32m     52\u001b[0m     \u001b[0;31m# make a forward pass to trigger the hooks\u001b[0m\u001b[0;34m\u001b[0m\u001b[0;34m\u001b[0m\u001b[0;34m\u001b[0m\u001b[0m\n\u001b[0;32m---> 53\u001b[0;31m     \u001b[0mmodel\u001b[0m\u001b[0;34m(\u001b[0m\u001b[0mx\u001b[0m\u001b[0;34m)\u001b[0m\u001b[0;34m\u001b[0m\u001b[0;34m\u001b[0m\u001b[0m\n\u001b[0m\u001b[1;32m     54\u001b[0m \u001b[0;34m\u001b[0m\u001b[0m\n\u001b[1;32m     55\u001b[0m     \u001b[0;31m# remove these hooks\u001b[0m\u001b[0;34m\u001b[0m\u001b[0;34m\u001b[0m\u001b[0;34m\u001b[0m\u001b[0m\n",
      "\u001b[0;32m/opt/conda/lib/python3.6/site-packages/torch/nn/modules/module.py\u001b[0m in \u001b[0;36m_call_impl\u001b[0;34m(self, *input, **kwargs)\u001b[0m\n\u001b[1;32m   1100\u001b[0m         if not (self._backward_hooks or self._forward_hooks or self._forward_pre_hooks or _global_backward_hooks\n\u001b[1;32m   1101\u001b[0m                 or _global_forward_hooks or _global_forward_pre_hooks):\n\u001b[0;32m-> 1102\u001b[0;31m             \u001b[0;32mreturn\u001b[0m \u001b[0mforward_call\u001b[0m\u001b[0;34m(\u001b[0m\u001b[0;34m*\u001b[0m\u001b[0minput\u001b[0m\u001b[0;34m,\u001b[0m \u001b[0;34m**\u001b[0m\u001b[0mkwargs\u001b[0m\u001b[0;34m)\u001b[0m\u001b[0;34m\u001b[0m\u001b[0;34m\u001b[0m\u001b[0m\n\u001b[0m\u001b[1;32m   1103\u001b[0m         \u001b[0;31m# Do not call functions when jit is used\u001b[0m\u001b[0;34m\u001b[0m\u001b[0;34m\u001b[0m\u001b[0;34m\u001b[0m\u001b[0m\n\u001b[1;32m   1104\u001b[0m         \u001b[0mfull_backward_hooks\u001b[0m\u001b[0;34m,\u001b[0m \u001b[0mnon_full_backward_hooks\u001b[0m \u001b[0;34m=\u001b[0m \u001b[0;34m[\u001b[0m\u001b[0;34m]\u001b[0m\u001b[0;34m,\u001b[0m \u001b[0;34m[\u001b[0m\u001b[0;34m]\u001b[0m\u001b[0;34m\u001b[0m\u001b[0;34m\u001b[0m\u001b[0m\n",
      "\u001b[0;32m/workspace/nfs/cando/epockonechny/other/pockonechnyy/HUBMAP/cubmap_crack/eunet-patches/customeunet/efficientnet.py\u001b[0m in \u001b[0;36mforward\u001b[0;34m(self, x)\u001b[0m\n\u001b[1;32m    134\u001b[0m                     \u001b[0;32mif\u001b[0m \u001b[0mdrop_connect_rate\u001b[0m\u001b[0;34m:\u001b[0m\u001b[0;34m\u001b[0m\u001b[0;34m\u001b[0m\u001b[0m\n\u001b[1;32m    135\u001b[0m                         \u001b[0mdrop_connect_rate\u001b[0m \u001b[0;34m*=\u001b[0m \u001b[0midx\u001b[0m \u001b[0;34m/\u001b[0m \u001b[0mlen\u001b[0m\u001b[0;34m(\u001b[0m\u001b[0mself\u001b[0m\u001b[0;34m.\u001b[0m\u001b[0mblocks\u001b[0m\u001b[0;34m)\u001b[0m\u001b[0;34m\u001b[0m\u001b[0;34m\u001b[0m\u001b[0m\n\u001b[0;32m--> 136\u001b[0;31m                     \u001b[0mx\u001b[0m \u001b[0;34m=\u001b[0m \u001b[0mblock\u001b[0m\u001b[0;34m(\u001b[0m\u001b[0mx\u001b[0m\u001b[0;34m,\u001b[0m \u001b[0mdrop_connect_rate\u001b[0m\u001b[0;34m)\u001b[0m\u001b[0;34m\u001b[0m\u001b[0;34m\u001b[0m\u001b[0m\n\u001b[0m\u001b[1;32m    137\u001b[0m \u001b[0;34m\u001b[0m\u001b[0m\n\u001b[1;32m    138\u001b[0m                 \u001b[0;31m# Head\u001b[0m\u001b[0;34m\u001b[0m\u001b[0;34m\u001b[0m\u001b[0;34m\u001b[0m\u001b[0m\n",
      "\u001b[0;32m/opt/conda/lib/python3.6/site-packages/torch/nn/modules/module.py\u001b[0m in \u001b[0;36m_call_impl\u001b[0;34m(self, *input, **kwargs)\u001b[0m\n\u001b[1;32m   1118\u001b[0m             \u001b[0minput\u001b[0m \u001b[0;34m=\u001b[0m \u001b[0mbw_hook\u001b[0m\u001b[0;34m.\u001b[0m\u001b[0msetup_input_hook\u001b[0m\u001b[0;34m(\u001b[0m\u001b[0minput\u001b[0m\u001b[0;34m)\u001b[0m\u001b[0;34m\u001b[0m\u001b[0;34m\u001b[0m\u001b[0m\n\u001b[1;32m   1119\u001b[0m \u001b[0;34m\u001b[0m\u001b[0m\n\u001b[0;32m-> 1120\u001b[0;31m         \u001b[0mresult\u001b[0m \u001b[0;34m=\u001b[0m \u001b[0mforward_call\u001b[0m\u001b[0;34m(\u001b[0m\u001b[0;34m*\u001b[0m\u001b[0minput\u001b[0m\u001b[0;34m,\u001b[0m \u001b[0;34m**\u001b[0m\u001b[0mkwargs\u001b[0m\u001b[0;34m)\u001b[0m\u001b[0;34m\u001b[0m\u001b[0;34m\u001b[0m\u001b[0m\n\u001b[0m\u001b[1;32m   1121\u001b[0m         \u001b[0;32mif\u001b[0m \u001b[0m_global_forward_hooks\u001b[0m \u001b[0;32mor\u001b[0m \u001b[0mself\u001b[0m\u001b[0;34m.\u001b[0m\u001b[0m_forward_hooks\u001b[0m\u001b[0;34m:\u001b[0m\u001b[0;34m\u001b[0m\u001b[0;34m\u001b[0m\u001b[0m\n\u001b[1;32m   1122\u001b[0m             \u001b[0;32mfor\u001b[0m \u001b[0mhook\u001b[0m \u001b[0;32min\u001b[0m \u001b[0;34m(\u001b[0m\u001b[0;34m*\u001b[0m\u001b[0m_global_forward_hooks\u001b[0m\u001b[0;34m.\u001b[0m\u001b[0mvalues\u001b[0m\u001b[0;34m(\u001b[0m\u001b[0;34m)\u001b[0m\u001b[0;34m,\u001b[0m \u001b[0;34m*\u001b[0m\u001b[0mself\u001b[0m\u001b[0;34m.\u001b[0m\u001b[0m_forward_hooks\u001b[0m\u001b[0;34m.\u001b[0m\u001b[0mvalues\u001b[0m\u001b[0;34m(\u001b[0m\u001b[0;34m)\u001b[0m\u001b[0;34m)\u001b[0m\u001b[0;34m:\u001b[0m\u001b[0;34m\u001b[0m\u001b[0;34m\u001b[0m\u001b[0m\n",
      "\u001b[0;32m/workspace/nfs/cando/epockonechny/other/pockonechnyy/HUBMAP/cubmap_crack/eunet-patches/customeunet/layers.py\u001b[0m in \u001b[0;36mforward\u001b[0;34m(self, x, drop_connect_rate)\u001b[0m\n\u001b[1;32m    140\u001b[0m         \u001b[0;32mif\u001b[0m \u001b[0mself\u001b[0m\u001b[0;34m.\u001b[0m\u001b[0mhas_se\u001b[0m\u001b[0;34m:\u001b[0m\u001b[0;34m\u001b[0m\u001b[0;34m\u001b[0m\u001b[0m\n\u001b[1;32m    141\u001b[0m             \u001b[0mx_squeezed\u001b[0m \u001b[0;34m=\u001b[0m \u001b[0mF\u001b[0m\u001b[0;34m.\u001b[0m\u001b[0madaptive_avg_pool2d\u001b[0m\u001b[0;34m(\u001b[0m\u001b[0mx\u001b[0m\u001b[0;34m,\u001b[0m \u001b[0;36m1\u001b[0m\u001b[0;34m)\u001b[0m\u001b[0;34m\u001b[0m\u001b[0;34m\u001b[0m\u001b[0m\n\u001b[0;32m--> 142\u001b[0;31m             \u001b[0mx_squeezed\u001b[0m \u001b[0;34m=\u001b[0m \u001b[0mself\u001b[0m\u001b[0;34m.\u001b[0m\u001b[0m_se_expand\u001b[0m\u001b[0;34m(\u001b[0m\u001b[0mself\u001b[0m\u001b[0;34m.\u001b[0m\u001b[0mswish\u001b[0m\u001b[0;34m(\u001b[0m\u001b[0mself\u001b[0m\u001b[0;34m.\u001b[0m\u001b[0m_se_reduce\u001b[0m\u001b[0;34m(\u001b[0m\u001b[0mx_squeezed\u001b[0m\u001b[0;34m)\u001b[0m\u001b[0;34m)\u001b[0m\u001b[0;34m)\u001b[0m\u001b[0;34m\u001b[0m\u001b[0;34m\u001b[0m\u001b[0m\n\u001b[0m\u001b[1;32m    143\u001b[0m             \u001b[0mx\u001b[0m \u001b[0;34m=\u001b[0m \u001b[0mtorch\u001b[0m\u001b[0;34m.\u001b[0m\u001b[0msigmoid\u001b[0m\u001b[0;34m(\u001b[0m\u001b[0mx_squeezed\u001b[0m\u001b[0;34m)\u001b[0m \u001b[0;34m*\u001b[0m \u001b[0mx\u001b[0m\u001b[0;34m\u001b[0m\u001b[0;34m\u001b[0m\u001b[0m\n\u001b[1;32m    144\u001b[0m \u001b[0;34m\u001b[0m\u001b[0m\n",
      "\u001b[0;32m/opt/conda/lib/python3.6/site-packages/torch/nn/modules/module.py\u001b[0m in \u001b[0;36m__getattr__\u001b[0;34m(self, name)\u001b[0m\n\u001b[1;32m   1162\u001b[0m             \u001b[0mself\u001b[0m\u001b[0;34m.\u001b[0m\u001b[0m_is_full_backward_hook\u001b[0m \u001b[0;34m=\u001b[0m \u001b[0;32mNone\u001b[0m\u001b[0;34m\u001b[0m\u001b[0;34m\u001b[0m\u001b[0m\n\u001b[1;32m   1163\u001b[0m \u001b[0;34m\u001b[0m\u001b[0m\n\u001b[0;32m-> 1164\u001b[0;31m     \u001b[0;32mdef\u001b[0m \u001b[0m__getattr__\u001b[0m\u001b[0;34m(\u001b[0m\u001b[0mself\u001b[0m\u001b[0;34m,\u001b[0m \u001b[0mname\u001b[0m\u001b[0;34m:\u001b[0m \u001b[0mstr\u001b[0m\u001b[0;34m)\u001b[0m \u001b[0;34m->\u001b[0m \u001b[0mUnion\u001b[0m\u001b[0;34m[\u001b[0m\u001b[0mTensor\u001b[0m\u001b[0;34m,\u001b[0m \u001b[0;34m'Module'\u001b[0m\u001b[0;34m]\u001b[0m\u001b[0;34m:\u001b[0m\u001b[0;34m\u001b[0m\u001b[0;34m\u001b[0m\u001b[0m\n\u001b[0m\u001b[1;32m   1165\u001b[0m         \u001b[0;32mif\u001b[0m \u001b[0;34m'_parameters'\u001b[0m \u001b[0;32min\u001b[0m \u001b[0mself\u001b[0m\u001b[0;34m.\u001b[0m\u001b[0m__dict__\u001b[0m\u001b[0;34m:\u001b[0m\u001b[0;34m\u001b[0m\u001b[0;34m\u001b[0m\u001b[0m\n\u001b[1;32m   1166\u001b[0m             \u001b[0m_parameters\u001b[0m \u001b[0;34m=\u001b[0m \u001b[0mself\u001b[0m\u001b[0;34m.\u001b[0m\u001b[0m__dict__\u001b[0m\u001b[0;34m[\u001b[0m\u001b[0;34m'_parameters'\u001b[0m\u001b[0;34m]\u001b[0m\u001b[0;34m\u001b[0m\u001b[0;34m\u001b[0m\u001b[0m\n",
      "\u001b[0;31mKeyboardInterrupt\u001b[0m: "
     ]
    }
   ],
   "source": [
    "ch_dicts = []\n",
    "\n",
    "for fname in sorted(glob('./checkpoint_fold_1/effunet_ep_*')):\n",
    "    print(fname)\n",
    "    model = EfficientUnetAUX(backbone='efficientnet-b7', n_classes=6).to(device)\n",
    "    \n",
    "    model.load_state_dict(torch.load(fname, map_location=device))\n",
    "    \n",
    "    _ = model.eval()\n",
    "    \n",
    "    predictor = Predictor(model)\n",
    "    \n",
    "    dices = []\n",
    "    by_organ_dice = {key:[] for key in ORGAN2ID.keys()}\n",
    "    with torch.no_grad():\n",
    "\n",
    "        for index, row in tqdm(val_df.iterrows(), total=len(val_df)):\n",
    "            id = row['id']\n",
    "            organ = row['organ']\n",
    "            pixel_size = row['pixel_size']\n",
    "            pred_mask, gt_mask = infer_id(predictor, id, organ=organ, pixel_size=pixel_size)\n",
    "            dice = dice_coef2(gt_mask, pred_mask)\n",
    "            dices.append(dice)\n",
    "            by_organ_dice[organ].append(dice)\n",
    "\n",
    "    new_record = dict()\n",
    "    new_record['dices'] = dices\n",
    "    new_record['by_organ'] = by_organ_dice\n",
    "    new_record['fname'] = fname\n",
    "    ch_dicts.append(new_record)\n",
    "#     break"
   ]
  },
  {
   "cell_type": "code",
   "execution_count": 126,
   "metadata": {},
   "outputs": [
    {
     "data": {
      "text/plain": [
       "50"
      ]
     },
     "execution_count": 126,
     "metadata": {},
     "output_type": "execute_result"
    }
   ],
   "source": [
    "len(ch_dicts)"
   ]
  },
  {
   "cell_type": "code",
   "execution_count": 127,
   "metadata": {},
   "outputs": [],
   "source": [
    "import pickle"
   ]
  },
  {
   "cell_type": "code",
   "execution_count": 128,
   "metadata": {},
   "outputs": [],
   "source": [
    "pickle.dump(ch_dicts, open('./fold_1_actual_dice.pickle', 'wb'))"
   ]
  },
  {
   "cell_type": "code",
   "execution_count": 119,
   "metadata": {},
   "outputs": [
    {
     "data": {
      "text/plain": [
       "{'dices': [0.5603259784281955,\n",
       "  0.6856943634744527,\n",
       "  0.9628358120893038,\n",
       "  0.9325434969692731,\n",
       "  0.05146969471936055,\n",
       "  0.06495190627079081,\n",
       "  0.8527913975733034,\n",
       "  0.08962395692558509,\n",
       "  0.6630763713837944,\n",
       "  0.9676943156187435,\n",
       "  0.9461319835148861,\n",
       "  0.9552594468587217,\n",
       "  0.4035103602087814,\n",
       "  0.9039736398226964,\n",
       "  0.8361056184528791,\n",
       "  0.9376677223903901,\n",
       "  0.8897391544904679,\n",
       "  0.7825411845481473,\n",
       "  0.746325715742078,\n",
       "  0.9179712186049871,\n",
       "  0.7567346199773249,\n",
       "  0.9654239942442248,\n",
       "  0.9747315076151745,\n",
       "  0.9814766501434907,\n",
       "  0.9846843725158476,\n",
       "  0.7803198424014118,\n",
       "  0.9531853933484218,\n",
       "  0.9535989255606486,\n",
       "  0.7529337590367468,\n",
       "  0.9653698572745044,\n",
       "  0.7548395056527352,\n",
       "  0.9553681532002465,\n",
       "  0.9029355691919712,\n",
       "  0.7900597653501017,\n",
       "  0.005211580040996266,\n",
       "  0.9216327866170395,\n",
       "  0.9363481041452332,\n",
       "  0.979750864092092,\n",
       "  0.9718019456947873,\n",
       "  0.900868369703754,\n",
       "  0.9672330735527315,\n",
       "  0.036320876785965614,\n",
       "  0.8329305777865915,\n",
       "  0.9690809029007423,\n",
       "  0.9543863282749702,\n",
       "  0.0,\n",
       "  0.5507768636918766,\n",
       "  0.9581587558947691,\n",
       "  0.8134533136520192,\n",
       "  0.9891288016998991,\n",
       "  0.016440781948398955,\n",
       "  0.9188491982735585,\n",
       "  0.9300377742126278,\n",
       "  0.835067629417003,\n",
       "  0.8788805727610202,\n",
       "  0.9416635967363283,\n",
       "  0.9251059758646436,\n",
       "  0.9436153434073772,\n",
       "  0.9050829031784511,\n",
       "  0.4745997931994327,\n",
       "  0.8980639797533974,\n",
       "  0.905232636472866,\n",
       "  0.9179302403808833,\n",
       "  0.9470315610717835,\n",
       "  0.7994547831216655,\n",
       "  0.09962255544785906,\n",
       "  0.9498016622591613,\n",
       "  0.9808889469330896,\n",
       "  0.9224729536626672,\n",
       "  0.48487453034390576],\n",
       " 'by_organ': {'kidney': [0.9628358120893038,\n",
       "   0.9676943156187435,\n",
       "   0.9552594468587217,\n",
       "   0.9039736398226964,\n",
       "   0.9179712186049871,\n",
       "   0.9747315076151745,\n",
       "   0.9814766501434907,\n",
       "   0.9846843725158476,\n",
       "   0.9535989255606486,\n",
       "   0.9216327866170395,\n",
       "   0.979750864092092,\n",
       "   0.9718019456947873,\n",
       "   0.9672330735527315,\n",
       "   0.9543863282749702,\n",
       "   0.9581587558947691,\n",
       "   0.9891288016998991,\n",
       "   0.9050829031784511,\n",
       "   0.8980639797533974,\n",
       "   0.9470315610717835,\n",
       "   0.9808889469330896],\n",
       "  'prostate': [0.5603259784281955,\n",
       "   0.9325434969692731,\n",
       "   0.8527913975733034,\n",
       "   0.4035103602087814,\n",
       "   0.9376677223903901,\n",
       "   0.7825411845481473,\n",
       "   0.9531853933484218,\n",
       "   0.9653698572745044,\n",
       "   0.9553681532002465,\n",
       "   0.8329305777865915,\n",
       "   0.9690809029007423,\n",
       "   0.5507768636918766,\n",
       "   0.9416635967363283,\n",
       "   0.9251059758646436,\n",
       "   0.9436153434073772,\n",
       "   0.4745997931994327,\n",
       "   0.9179302403808833,\n",
       "   0.7994547831216655,\n",
       "   0.9498016622591613],\n",
       "  'largeintestine': [0.9461319835148861,\n",
       "   0.8897391544904679,\n",
       "   0.9654239942442248,\n",
       "   0.7548395056527352,\n",
       "   0.7900597653501017,\n",
       "   0.9363481041452332,\n",
       "   0.900868369703754,\n",
       "   0.9188491982735585,\n",
       "   0.9300377742126278,\n",
       "   0.8788805727610202,\n",
       "   0.905232636472866],\n",
       "  'spleen': [0.6856943634744527,\n",
       "   0.6630763713837944,\n",
       "   0.8361056184528791,\n",
       "   0.7567346199773249,\n",
       "   0.7803198424014118,\n",
       "   0.7529337590367468,\n",
       "   0.9029355691919712,\n",
       "   0.8134533136520192,\n",
       "   0.835067629417003,\n",
       "   0.9224729536626672],\n",
       "  'lung': [0.05146969471936055,\n",
       "   0.06495190627079081,\n",
       "   0.08962395692558509,\n",
       "   0.746325715742078,\n",
       "   0.005211580040996266,\n",
       "   0.036320876785965614,\n",
       "   0.0,\n",
       "   0.016440781948398955,\n",
       "   0.09962255544785906,\n",
       "   0.48487453034390576]},\n",
       " 'fname': './checkpoint_fold_1/effunet_ep_000_dice_0.103782_loss_1.510475.pt'}"
      ]
     },
     "execution_count": 119,
     "metadata": {},
     "output_type": "execute_result"
    }
   ],
   "source": [
    "el"
   ]
  },
  {
   "cell_type": "code",
   "execution_count": 129,
   "metadata": {},
   "outputs": [],
   "source": [
    "epochs = []\n",
    "mean_dices = []\n",
    "organ_mean_dices = {key:[] for key in ORGAN2ID.keys()}\n",
    "for el in ch_dicts:\n",
    "    epoch = os.path.basename(el['fname']).split('_')[2]\n",
    "    epoch = int(epoch)\n",
    "    epochs.append(epoch)\n",
    "    mean_dices.append(np.mean(el['dices']))\n",
    "    for key in organ_mean_dices.keys():\n",
    "        organ_mean_dices[key].append(np.mean(el['by_organ'][key]))"
   ]
  },
  {
   "cell_type": "code",
   "execution_count": 136,
   "metadata": {},
   "outputs": [
    {
     "data": {
      "text/plain": [
       "0.7856218847734873"
      ]
     },
     "execution_count": 136,
     "metadata": {},
     "output_type": "execute_result"
    }
   ],
   "source": [
    "max(mean_dices)"
   ]
  },
  {
   "cell_type": "code",
   "execution_count": 130,
   "metadata": {},
   "outputs": [
    {
     "data": {
      "image/png": "[encoded data removed]",
      "text/plain": [
       "<Figure size 864x864 with 1 Axes>"
      ]
     },
     "metadata": {
      "needs_background": "light"
     },
     "output_type": "display_data"
    }
   ],
   "source": [
    "plt.figure(figsize=(12, 12))\n",
    "plt.plot(epochs, mean_dices, color='black', label='all')\n",
    "for key in organ_mean_dices.keys():\n",
    "    plt.plot(epochs, organ_mean_dices[key], label=key)\n",
    "    \n",
    "plt.grid(which='both')\n",
    "plt.legend()\n",
    "plt.show()"
   ]
  },
  {
   "cell_type": "code",
   "execution_count": 131,
   "metadata": {},
   "outputs": [
    {
     "data": {
      "text/plain": [
       "(351, 11)"
      ]
     },
     "execution_count": 131,
     "metadata": {},
     "output_type": "execute_result"
    }
   ],
   "source": [
    "train_df.shape"
   ]
  },
  {
   "cell_type": "code",
   "execution_count": 132,
   "metadata": {},
   "outputs": [],
   "source": [
    "from collections import Counter"
   ]
  },
  {
   "cell_type": "code",
   "execution_count": 135,
   "metadata": {},
   "outputs": [
    {
     "data": {
      "text/plain": [
       "Counter({'prostate': 93,\n",
       "         'spleen': 53,\n",
       "         'lung': 48,\n",
       "         'kidney': 99,\n",
       "         'largeintestine': 58})"
      ]
     },
     "execution_count": 135,
     "metadata": {},
     "output_type": "execute_result"
    }
   ],
   "source": [
    "Counter(train_df['organ'])"
   ]
  },
  {
   "cell_type": "code",
   "execution_count": null,
   "metadata": {},
   "outputs": [],
   "source": []
  }
 ],
 "metadata": {
  "kernelspec": {
   "display_name": "Python 3",
   "language": "python",
   "name": "python3"
  },
  "language_info": {
   "codemirror_mode": {
    "name": "ipython",
    "version": 3
   },
   "file_extension": ".py",
   "mimetype": "text/x-python",
   "name": "python",
   "nbconvert_exporter": "python",
   "pygments_lexer": "ipython3",
   "version": "3.6.10"
  }
 },
 "nbformat": 4,
 "nbformat_minor": 4
}
