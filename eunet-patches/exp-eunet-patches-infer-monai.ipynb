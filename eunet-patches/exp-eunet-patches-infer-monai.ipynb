{
 "cells": [
  {
   "cell_type": "markdown",
   "metadata": {},
   "source": [
    "# CLEAN BUILD FROM SCRATCH EFFNET-UNET b7 on patches"
   ]
  },
  {
   "cell_type": "code",
   "execution_count": 1,
   "metadata": {},
   "outputs": [],
   "source": [
    "CURRENT_FOLD = 1"
   ]
  },
  {
   "cell_type": "markdown",
   "metadata": {},
   "source": [
    "# imports"
   ]
  },
  {
   "cell_type": "code",
   "execution_count": 2,
   "metadata": {},
   "outputs": [],
   "source": [
    "import random\n",
    "\n",
    "import numpy as np\n",
    "import pandas as pd\n",
    "import cv2 as cv\n",
    "import os\n",
    "\n",
    "from matplotlib import pyplot as plt\n",
    "from glob import glob\n",
    "from sklearn.model_selection import StratifiedKFold\n",
    "from tqdm import tqdm\n",
    "from IPython.display import clear_output\n",
    "\n",
    "import albumentations as A\n",
    "import albumentations.pytorch\n",
    "\n",
    "import torch\n",
    "import torch.nn as nn\n",
    "import torch.nn.functional as F\n",
    "from torch.utils.data import Dataset\n",
    "from torch.utils.data import DataLoader"
   ]
  },
  {
   "cell_type": "code",
   "execution_count": 3,
   "metadata": {},
   "outputs": [],
   "source": [
    "from customeunet.utils import *\n",
    "from customeunet.layers import *\n",
    "from customeunet.efficientnet import *\n",
    "from customeunet.efficientunet import *"
   ]
  },
  {
   "cell_type": "markdown",
   "metadata": {},
   "source": [
    "# model"
   ]
  },
  {
   "cell_type": "code",
   "execution_count": 4,
   "metadata": {},
   "outputs": [],
   "source": [
    "def AUXhead(in_channels, mid_channels, out_channels, upsample=2):\n",
    "    return nn.Sequential(\n",
    "        nn.Conv2d(in_channels, mid_channels, kernel_size=3, stride=1, padding=1),\n",
    "        nn.BatchNorm2d(mid_channels),\n",
    "        nn.ReLU(inplace=True),\n",
    "        nn.Conv2d(mid_channels, out_channels, kernel_size=3, stride=1, padding=1),\n",
    "        nn.Upsample(scale_factor=upsample, mode='bilinear')\n",
    "    )"
   ]
  },
  {
   "cell_type": "code",
   "execution_count": 5,
   "metadata": {},
   "outputs": [],
   "source": [
    "class EfficientUnetAUX(nn.Module):\n",
    "    def __init__(self, backbone, n_classes=2, concat_input=True):\n",
    "        super().__init__()\n",
    "        \n",
    "        self.backbone = backbone\n",
    "        \n",
    "        self.encoder = EfficientNet.encoder(backbone, pretrained=True)\n",
    "        self.model = EfficientUnet(self.encoder, out_channels=n_classes, concat_input=True)\n",
    "        \n",
    "        self.aux3head = AUXhead(128, 256, n_classes, 4)\n",
    "        self.aux2head = AUXhead(256, 256, n_classes, 8)\n",
    "        \n",
    "    def forward(self, x):\n",
    "        data = self.model(x)\n",
    "        aux2 = self.aux2head(data['aux2'])\n",
    "        aux3 = self.aux3head(data['aux3'])\n",
    "        out = {\n",
    "            'logits': data['x'],\n",
    "            'aux2': aux2,\n",
    "            'aux3': aux3,\n",
    "        }\n",
    "        return out"
   ]
  },
  {
   "cell_type": "code",
   "execution_count": 6,
   "metadata": {},
   "outputs": [],
   "source": [
    "model = EfficientUnetAUX(backbone='efficientnet-b7', n_classes=6)"
   ]
  },
  {
   "cell_type": "markdown",
   "metadata": {},
   "source": [
    "# data"
   ]
  },
  {
   "cell_type": "code",
   "execution_count": 7,
   "metadata": {},
   "outputs": [],
   "source": [
    "ORGAN2ID = {\n",
    "    'kidney' : 0,\n",
    "    'prostate' : 1,\n",
    "    'largeintestine' : 2,\n",
    "    'spleen' : 3,\n",
    "    'lung' : 4\n",
    "}\n",
    "ID2ORGAN = {v: k for k, v in ORGAN2ID.items()}"
   ]
  },
  {
   "cell_type": "markdown",
   "metadata": {},
   "source": [
    "## data 512"
   ]
  },
  {
   "cell_type": "code",
   "execution_count": 8,
   "metadata": {},
   "outputs": [],
   "source": [
    "# img256 = cv.imread('./../data/train_data_eunet_patches/256/train/10044_0000.png')\n",
    "# img512 = cv.imread('./../data/train_data_eunet_patches/512/train/10044_0000.png')"
   ]
  },
  {
   "cell_type": "code",
   "execution_count": 9,
   "metadata": {},
   "outputs": [],
   "source": [
    "TRAIN_CSV = './../data/train.csv'\n",
    "TEST_CSV = './../data/test.csv'\n",
    "TRAIN_IMAGES_DIR = './../data/train_data_eunet_patches/512/train/'\n",
    "TRAIN_MASKS_DIR = './../data/train_data_eunet_patches/512/masks/'\n",
    "\n",
    "N_CROSS_VALID_SPLITS = 5\n",
    "RANDOM_SEED = 2022\n",
    "CURRENT_FOLD = 1\n",
    "\n",
    "SPATIAL_SIZE = 512 # размер патча\n"
   ]
  },
  {
   "cell_type": "code",
   "execution_count": 10,
   "metadata": {},
   "outputs": [],
   "source": [
    "train_df = pd.read_csv(TRAIN_CSV)"
   ]
  },
  {
   "cell_type": "code",
   "execution_count": 11,
   "metadata": {},
   "outputs": [],
   "source": [
    "def make_train_image_path(row):\n",
    "    return os.path.join(TRAIN_IMAGES_DIR, str(row['id']) + '.png')\n",
    "\n",
    "def make_train_mask_path(row):\n",
    "    return os.path.join(TRAIN_MASKS_DIR, str(row['id']) + '.png')\n",
    "\n",
    "def create_folds(df: pd.DataFrame, n_splits: int, random_seed: int) -> pd.DataFrame:\n",
    "    skf = StratifiedKFold(n_splits=n_splits, shuffle=True, random_state=random_seed)\n",
    "    for fold, (_, val_idx) in enumerate(skf.split(X=df, y=df[\"organ\"])):\n",
    "        df.loc[val_idx, \"fold\"] = int(fold)\n",
    "\n",
    "    return df"
   ]
  },
  {
   "cell_type": "code",
   "execution_count": 12,
   "metadata": {},
   "outputs": [],
   "source": [
    "train_df = create_folds(train_df, n_splits=N_CROSS_VALID_SPLITS, random_seed=RANDOM_SEED)"
   ]
  },
  {
   "cell_type": "code",
   "execution_count": 13,
   "metadata": {},
   "outputs": [],
   "source": [
    "def make_512_dataset(df):\n",
    "    new_df = []\n",
    "    for index, row in df.iterrows():\n",
    "        id = row['id']\n",
    "        glb = list(glob(TRAIN_IMAGES_DIR + '{}_*.png'.format(id)))\n",
    "        for fname in glb:\n",
    "            newrow = dict()\n",
    "            newrow['id'] = id\n",
    "            newrow['image'] = fname\n",
    "            newrow['mask'] = fname.replace('/train/', '/masks/')\n",
    "            newrow['organ'] = row['organ']\n",
    "            newrow['pixel_size'] = row['pixel_size']\n",
    "            newrow['fold'] = row['fold']\n",
    "            \n",
    "            new_df.append(newrow)\n",
    "    return pd.DataFrame(new_df)"
   ]
  },
  {
   "cell_type": "code",
   "execution_count": 14,
   "metadata": {},
   "outputs": [
    {
     "name": "stdout",
     "output_type": "stream",
     "text": [
      "(2895, 6)\n"
     ]
    },
    {
     "data": {
      "text/html": [
       "<div>\n",
       "<style scoped>\n",
       "    .dataframe tbody tr th:only-of-type {\n",
       "        vertical-align: middle;\n",
       "    }\n",
       "\n",
       "    .dataframe tbody tr th {\n",
       "        vertical-align: top;\n",
       "    }\n",
       "\n",
       "    .dataframe thead th {\n",
       "        text-align: right;\n",
       "    }\n",
       "</style>\n",
       "<table border=\"1\" class=\"dataframe\">\n",
       "  <thead>\n",
       "    <tr style=\"text-align: right;\">\n",
       "      <th></th>\n",
       "      <th>fold</th>\n",
       "      <th>id</th>\n",
       "      <th>image</th>\n",
       "      <th>mask</th>\n",
       "      <th>organ</th>\n",
       "      <th>pixel_size</th>\n",
       "    </tr>\n",
       "  </thead>\n",
       "  <tbody>\n",
       "    <tr>\n",
       "      <th>0</th>\n",
       "      <td>4.0</td>\n",
       "      <td>10044</td>\n",
       "      <td>./../data/train_data_eunet_patches/512/train/1...</td>\n",
       "      <td>./../data/train_data_eunet_patches/512/masks/1...</td>\n",
       "      <td>prostate</td>\n",
       "      <td>0.4</td>\n",
       "    </tr>\n",
       "    <tr>\n",
       "      <th>1</th>\n",
       "      <td>4.0</td>\n",
       "      <td>10044</td>\n",
       "      <td>./../data/train_data_eunet_patches/512/train/1...</td>\n",
       "      <td>./../data/train_data_eunet_patches/512/masks/1...</td>\n",
       "      <td>prostate</td>\n",
       "      <td>0.4</td>\n",
       "    </tr>\n",
       "    <tr>\n",
       "      <th>2</th>\n",
       "      <td>4.0</td>\n",
       "      <td>10044</td>\n",
       "      <td>./../data/train_data_eunet_patches/512/train/1...</td>\n",
       "      <td>./../data/train_data_eunet_patches/512/masks/1...</td>\n",
       "      <td>prostate</td>\n",
       "      <td>0.4</td>\n",
       "    </tr>\n",
       "    <tr>\n",
       "      <th>3</th>\n",
       "      <td>4.0</td>\n",
       "      <td>10044</td>\n",
       "      <td>./../data/train_data_eunet_patches/512/train/1...</td>\n",
       "      <td>./../data/train_data_eunet_patches/512/masks/1...</td>\n",
       "      <td>prostate</td>\n",
       "      <td>0.4</td>\n",
       "    </tr>\n",
       "    <tr>\n",
       "      <th>4</th>\n",
       "      <td>4.0</td>\n",
       "      <td>10044</td>\n",
       "      <td>./../data/train_data_eunet_patches/512/train/1...</td>\n",
       "      <td>./../data/train_data_eunet_patches/512/masks/1...</td>\n",
       "      <td>prostate</td>\n",
       "      <td>0.4</td>\n",
       "    </tr>\n",
       "  </tbody>\n",
       "</table>\n",
       "</div>"
      ],
      "text/plain": [
       "   fold     id                                              image  \\\n",
       "0   4.0  10044  ./../data/train_data_eunet_patches/512/train/1...   \n",
       "1   4.0  10044  ./../data/train_data_eunet_patches/512/train/1...   \n",
       "2   4.0  10044  ./../data/train_data_eunet_patches/512/train/1...   \n",
       "3   4.0  10044  ./../data/train_data_eunet_patches/512/train/1...   \n",
       "4   4.0  10044  ./../data/train_data_eunet_patches/512/train/1...   \n",
       "\n",
       "                                                mask     organ  pixel_size  \n",
       "0  ./../data/train_data_eunet_patches/512/masks/1...  prostate         0.4  \n",
       "1  ./../data/train_data_eunet_patches/512/masks/1...  prostate         0.4  \n",
       "2  ./../data/train_data_eunet_patches/512/masks/1...  prostate         0.4  \n",
       "3  ./../data/train_data_eunet_patches/512/masks/1...  prostate         0.4  \n",
       "4  ./../data/train_data_eunet_patches/512/masks/1...  prostate         0.4  "
      ]
     },
     "execution_count": 14,
     "metadata": {},
     "output_type": "execute_result"
    }
   ],
   "source": [
    "train_df_512 = make_512_dataset(train_df)\n",
    "print(train_df_512.shape)\n",
    "train_df_512.head()"
   ]
  },
  {
   "cell_type": "code",
   "execution_count": 15,
   "metadata": {},
   "outputs": [],
   "source": [
    "mean = np.array([0.7720342, 0.74582646, 0.76392896])\n",
    "std = np.array([0.24745085, 0.26182273, 0.25782376])"
   ]
  },
  {
   "cell_type": "code",
   "execution_count": 16,
   "metadata": {},
   "outputs": [],
   "source": [
    "# train_transform= A.Compose([\n",
    "#     A.Resize(512, 512, interpolation=cv.INTER_LINEAR),\n",
    "#     A.HorizontalFlip(p=0.5),\n",
    "#     A.VerticalFlip(p=0.5),\n",
    "#     A.HueSaturationValue(p=0.2),\n",
    "#     A.ShiftScaleRotate(shift_limit=0.02, scale_limit=(0.05, 0.6),rotate_limit=90, p=0.5),\n",
    "#     A.ElasticTransform(p=0.1, alpha=90, sigma=120 * 0.05, alpha_affine=120 * 0.03),\n",
    "#     A.GridDistortion(p=0.25),\n",
    "#     A.Blur(blur_limit=5, p=0.1),\n",
    "#     A.GaussNoise(var_limit=(20, 100), p=0.2),\n",
    "#     A.ChannelDropout(p=0.05),\n",
    "#     A.RandomGamma(p=0.1),\n",
    "#     A.RandomBrightnessContrast(p=0.2),\n",
    "#     A.Normalize(mean=mean, std=std, \n",
    "#                 max_pixel_value=255, always_apply=True),\n",
    "#     albumentations.pytorch.ToTensorV2()\n",
    "# ], p=1)"
   ]
  },
  {
   "cell_type": "code",
   "execution_count": 17,
   "metadata": {},
   "outputs": [],
   "source": [
    "test_transform = A.Compose([\n",
    "    A.Normalize(mean=mean, std=std, \n",
    "                 max_pixel_value=255, always_apply=True),\n",
    "    albumentations.pytorch.ToTensorV2()\n",
    "], p=1)"
   ]
  },
  {
   "cell_type": "code",
   "execution_count": 19,
   "metadata": {},
   "outputs": [],
   "source": [
    "def worker_init_fn(worker_id):\n",
    "    torch_seed = torch.initial_seed()\n",
    "    random.seed(torch_seed + worker_id)\n",
    "    if torch_seed >= 2**30:  # make sure torch_seed + workder_id < 2**32\n",
    "        torch_seed = torch_seed % 2**30\n",
    "    np.random.seed(torch_seed + worker_id)\n",
    "    random.seed(torch_seed + worker_id + 77777)"
   ]
  },
  {
   "cell_type": "markdown",
   "metadata": {},
   "source": [
    "# VALID"
   ]
  },
  {
   "cell_type": "code",
   "execution_count": 41,
   "metadata": {},
   "outputs": [],
   "source": [
    "def dice_coef2(y_true, y_pred):\n",
    "    y_true_f = y_true.flatten()\n",
    "    y_pred_f = y_pred.flatten()\n",
    "    union = np.sum(y_true_f) + np.sum(y_pred_f)\n",
    "    if union < 1: \n",
    "        return 1\n",
    "    intersection = np.sum(y_true_f * y_pred_f)\n",
    "#     print('UNION', union)\n",
    "    return 2. * intersection / union"
   ]
  },
  {
   "cell_type": "code",
   "execution_count": 21,
   "metadata": {},
   "outputs": [],
   "source": [
    "device = 'cuda:1'\n",
    "DEVICE = device"
   ]
  },
  {
   "cell_type": "code",
   "execution_count": 22,
   "metadata": {},
   "outputs": [],
   "source": [
    "model = EfficientUnetAUX(backbone='efficientnet-b7', n_classes=6).to(device)"
   ]
  },
  {
   "cell_type": "code",
   "execution_count": 76,
   "metadata": {},
   "outputs": [
    {
     "data": {
      "text/plain": [
       "<All keys matched successfully>"
      ]
     },
     "execution_count": 76,
     "metadata": {},
     "output_type": "execute_result"
    }
   ],
   "source": [
    "model.load_state_dict(torch.load('./checkpoint_fold_1/effunet_ep_085_dice_00000nan_loss_0.062776.pt', \n",
    "                                 map_location=device))"
   ]
  },
  {
   "cell_type": "code",
   "execution_count": 77,
   "metadata": {},
   "outputs": [],
   "source": [
    "_ = model.eval()"
   ]
  },
  {
   "cell_type": "code",
   "execution_count": 78,
   "metadata": {},
   "outputs": [],
   "source": [
    "import monai\n",
    "from monai.utils.enums import BlendMode, PytorchPadMode\n",
    "from monai.inferers import sliding_window_inference"
   ]
  },
  {
   "cell_type": "code",
   "execution_count": 79,
   "metadata": {},
   "outputs": [],
   "source": [
    "class Predictor(nn.Module):\n",
    "    def __init__(self, model):\n",
    "        super().__init__()\n",
    "        self.model = model\n",
    "    \n",
    "    def forward(self, x):\n",
    "        out = self.model(x)\n",
    "        prob = F.softmax(out['logits'], dim=1)\n",
    "        return prob"
   ]
  },
  {
   "cell_type": "code",
   "execution_count": 80,
   "metadata": {},
   "outputs": [],
   "source": [
    "predictor = Predictor(model)"
   ]
  },
  {
   "cell_type": "code",
   "execution_count": 81,
   "metadata": {},
   "outputs": [
    {
     "data": {
      "text/html": [
       "<div>\n",
       "<style scoped>\n",
       "    .dataframe tbody tr th:only-of-type {\n",
       "        vertical-align: middle;\n",
       "    }\n",
       "\n",
       "    .dataframe tbody tr th {\n",
       "        vertical-align: top;\n",
       "    }\n",
       "\n",
       "    .dataframe thead th {\n",
       "        text-align: right;\n",
       "    }\n",
       "</style>\n",
       "<table border=\"1\" class=\"dataframe\">\n",
       "  <thead>\n",
       "    <tr style=\"text-align: right;\">\n",
       "      <th></th>\n",
       "      <th>id</th>\n",
       "      <th>organ</th>\n",
       "      <th>data_source</th>\n",
       "      <th>img_height</th>\n",
       "      <th>img_width</th>\n",
       "      <th>pixel_size</th>\n",
       "      <th>tissue_thickness</th>\n",
       "      <th>rle</th>\n",
       "      <th>age</th>\n",
       "      <th>sex</th>\n",
       "      <th>fold</th>\n",
       "    </tr>\n",
       "  </thead>\n",
       "  <tbody>\n",
       "    <tr>\n",
       "      <th>10</th>\n",
       "      <td>10912</td>\n",
       "      <td>prostate</td>\n",
       "      <td>HPA</td>\n",
       "      <td>3000</td>\n",
       "      <td>3000</td>\n",
       "      <td>0.4</td>\n",
       "      <td>4</td>\n",
       "      <td>1147323 50 1150316 59 1153309 68 1156303 76 11...</td>\n",
       "      <td>60.0</td>\n",
       "      <td>Male</td>\n",
       "      <td>1.0</td>\n",
       "    </tr>\n",
       "    <tr>\n",
       "      <th>15</th>\n",
       "      <td>11448</td>\n",
       "      <td>spleen</td>\n",
       "      <td>HPA</td>\n",
       "      <td>3000</td>\n",
       "      <td>3000</td>\n",
       "      <td>0.4</td>\n",
       "      <td>4</td>\n",
       "      <td>3450282 28 3453278 33 3456272 53 3459271 56 34...</td>\n",
       "      <td>21.0</td>\n",
       "      <td>Female</td>\n",
       "      <td>1.0</td>\n",
       "    </tr>\n",
       "    <tr>\n",
       "      <th>16</th>\n",
       "      <td>11497</td>\n",
       "      <td>kidney</td>\n",
       "      <td>HPA</td>\n",
       "      <td>3000</td>\n",
       "      <td>3000</td>\n",
       "      <td>0.4</td>\n",
       "      <td>4</td>\n",
       "      <td>940436 51 943430 65 946427 76 949423 89 952417...</td>\n",
       "      <td>41.0</td>\n",
       "      <td>Female</td>\n",
       "      <td>1.0</td>\n",
       "    </tr>\n",
       "    <tr>\n",
       "      <th>22</th>\n",
       "      <td>1184</td>\n",
       "      <td>prostate</td>\n",
       "      <td>HPA</td>\n",
       "      <td>3000</td>\n",
       "      <td>3000</td>\n",
       "      <td>0.4</td>\n",
       "      <td>4</td>\n",
       "      <td>1916384 12 1919383 15 1922378 26 1925376 29 19...</td>\n",
       "      <td>60.0</td>\n",
       "      <td>Male</td>\n",
       "      <td>1.0</td>\n",
       "    </tr>\n",
       "    <tr>\n",
       "      <th>26</th>\n",
       "      <td>1220</td>\n",
       "      <td>lung</td>\n",
       "      <td>HPA</td>\n",
       "      <td>3000</td>\n",
       "      <td>3000</td>\n",
       "      <td>0.4</td>\n",
       "      <td>4</td>\n",
       "      <td>1429797 16 1432793 21 1435791 23 1438789 27 14...</td>\n",
       "      <td>59.0</td>\n",
       "      <td>Male</td>\n",
       "      <td>1.0</td>\n",
       "    </tr>\n",
       "  </tbody>\n",
       "</table>\n",
       "</div>"
      ],
      "text/plain": [
       "       id     organ data_source  img_height  img_width  pixel_size  \\\n",
       "10  10912  prostate         HPA        3000       3000         0.4   \n",
       "15  11448    spleen         HPA        3000       3000         0.4   \n",
       "16  11497    kidney         HPA        3000       3000         0.4   \n",
       "22   1184  prostate         HPA        3000       3000         0.4   \n",
       "26   1220      lung         HPA        3000       3000         0.4   \n",
       "\n",
       "    tissue_thickness                                                rle   age  \\\n",
       "10                 4  1147323 50 1150316 59 1153309 68 1156303 76 11...  60.0   \n",
       "15                 4  3450282 28 3453278 33 3456272 53 3459271 56 34...  21.0   \n",
       "16                 4  940436 51 943430 65 946427 76 949423 89 952417...  41.0   \n",
       "22                 4  1916384 12 1919383 15 1922378 26 1925376 29 19...  60.0   \n",
       "26                 4  1429797 16 1432793 21 1435791 23 1438789 27 14...  59.0   \n",
       "\n",
       "       sex  fold  \n",
       "10    Male   1.0  \n",
       "15  Female   1.0  \n",
       "16  Female   1.0  \n",
       "22    Male   1.0  \n",
       "26    Male   1.0  "
      ]
     },
     "execution_count": 81,
     "metadata": {},
     "output_type": "execute_result"
    }
   ],
   "source": [
    "train_df[train_df['fold'] == 1].head()"
   ]
  },
  {
   "cell_type": "code",
   "execution_count": 82,
   "metadata": {},
   "outputs": [],
   "source": [
    "def infer_id(predictor, id: str, organ: str, pixel_size=0.4):\n",
    "    THRESHOLD = 0.5\n",
    "    \n",
    "    image = cv.imread('./../data/train_images/{}.tiff'.format(id))\n",
    "    image = cv.cvtColor(image, cv.COLOR_BGR2RGB)\n",
    "    \n",
    "    gt_mask  = np.load('./../data/train_masks/{}.npy'.format(id))\n",
    "    \n",
    "    scale_factor = 0.5 * (pixel_size / 0.4)\n",
    "    image = cv.resize(image, None, fx=scale_factor, fy=scale_factor, interpolation=cv.INTER_AREA)\n",
    "    \n",
    "    image_rot = image.copy()\n",
    "    masks = []\n",
    "    for _ in range(4):\n",
    "        image_rot = cv.rotate(image, cv.ROTATE_90_CLOCKWISE)\n",
    "        \n",
    "        image_tensor = test_transform(image=image)['image']\n",
    "\n",
    "        image_tensor = image_tensor.unsqueeze(0).to(device)\n",
    "\n",
    "        with torch.no_grad():\n",
    "            infer_result = sliding_window_inference(\n",
    "                image_tensor, roi_size=(512, 512), sw_batch_size=2, predictor=predictor, \n",
    "                overlap=0.25, mode=BlendMode.CONSTANT, sigma_scale=0.125, \n",
    "                padding_mode=PytorchPadMode.CONSTANT, cval=0.0,       \n",
    "            )\n",
    "\n",
    "        organ_id = ORGAN2ID[organ] + 1\n",
    "        pr_mask = infer_result.detach().cpu().numpy()[0, organ_id]\n",
    "        masks.append(pr_mask)\n",
    "        \n",
    "    pr_mask = (np.array(masks).mean(axis=0) > THRESHOLD).astype(np.uint8)\n",
    "#     print(gt_mask.shape, gt_mask.dtype, pr_mask.dtype)\n",
    "    pr_mask = cv.resize(pr_mask, gt_mask.shape, cv.INTER_NEAREST)\n",
    "    \n",
    "    return pr_mask, gt_mask"
   ]
  },
  {
   "cell_type": "code",
   "execution_count": 83,
   "metadata": {},
   "outputs": [],
   "source": [
    "val_df = train_df[train_df['fold'] == 1]"
   ]
  },
  {
   "cell_type": "code",
   "execution_count": 84,
   "metadata": {},
   "outputs": [
    {
     "name": "stderr",
     "output_type": "stream",
     "text": [
      "  0%|          | 0/70 [00:00<?, ?it/s]/opt/conda/lib/python3.6/site-packages/torch/nn/functional.py:3635: UserWarning: Default upsampling behavior when mode=bilinear is changed to align_corners=False since 0.4.0. Please specify align_corners=True if the old behavior is desired. See the documentation of nn.Upsample for details.\n",
      "  \"See the documentation of nn.Upsample for details.\".format(mode)\n",
      "100%|██████████| 70/70 [02:52<00:00,  2.46s/it]\n"
     ]
    }
   ],
   "source": [
    "dices = []\n",
    "\n",
    "by_organ_dice = {key:[] for key in ORGAN2ID.keys()}\n",
    "for index, row in tqdm(val_df.iterrows(), total=len(val_df)):\n",
    "    id = row['id']\n",
    "    organ = row['organ']\n",
    "    pixel_size = row['pixel_size']\n",
    "    pred_mask, gt_mask = infer_id(predictor, id, organ=organ, pixel_size=pixel_size)\n",
    "    dice = dice_coef2(gt_mask, pred_mask)\n",
    "    dices.append(dice)\n",
    "    by_organ_dice[organ].append(dice)"
   ]
  },
  {
   "cell_type": "code",
   "execution_count": 85,
   "metadata": {},
   "outputs": [
    {
     "name": "stdout",
     "output_type": "stream",
     "text": [
      "0.7760055727847982\n",
      "kidney              : 0.95051\n",
      "prostate            : 0.82773\n",
      "largeintestine      : 0.89371\n",
      "spleen              : 0.81414\n",
      "lung                : 0.16111\n"
     ]
    }
   ],
   "source": [
    "print(np.mean(dices))\n",
    "for key, value in by_organ_dice.items():\n",
    "    print('{:20}: {:6.5f}'.format(key, np.mean(value)))"
   ]
  },
  {
   "cell_type": "code",
   "execution_count": 75,
   "metadata": {},
   "outputs": [
    {
     "name": "stdout",
     "output_type": "stream",
     "text": [
      "0.7745120943796698\n",
      "kidney              : 0.95295\n",
      "prostate            : 0.81402\n",
      "largeintestine      : 0.89369\n",
      "spleen              : 0.80159\n",
      "lung                : 0.18441\n"
     ]
    }
   ],
   "source": [
    "print(np.mean(dices))\n",
    "for key, value in by_organ_dice.items():\n",
    "    print('{:20}: {:6.5f}'.format(key, np.mean(value)))"
   ]
  },
  {
   "cell_type": "markdown",
   "metadata": {},
   "source": [
    "#### one example"
   ]
  },
  {
   "cell_type": "code",
   "execution_count": 58,
   "metadata": {},
   "outputs": [],
   "source": [
    "pred_mask, gt_mask = infer_id(predictor, '10912', organ='prostate', pixel_size=0.4)"
   ]
  },
  {
   "cell_type": "code",
   "execution_count": 60,
   "metadata": {},
   "outputs": [
    {
     "data": {
      "text/plain": [
       "0.6158939680755389"
      ]
     },
     "execution_count": 60,
     "metadata": {},
     "output_type": "execute_result"
    }
   ],
   "source": [
    "dice_coef2(gt_mask, pred_mask)"
   ]
  },
  {
   "cell_type": "code",
   "execution_count": null,
   "metadata": {},
   "outputs": [],
   "source": []
  },
  {
   "cell_type": "code",
   "execution_count": null,
   "metadata": {},
   "outputs": [],
   "source": []
  },
  {
   "cell_type": "code",
   "execution_count": null,
   "metadata": {},
   "outputs": [],
   "source": []
  },
  {
   "cell_type": "code",
   "execution_count": null,
   "metadata": {},
   "outputs": [],
   "source": []
  },
  {
   "cell_type": "code",
   "execution_count": null,
   "metadata": {},
   "outputs": [],
   "source": []
  }
 ],
 "metadata": {
  "kernelspec": {
   "display_name": "Python 3",
   "language": "python",
   "name": "python3"
  },
  "language_info": {
   "codemirror_mode": {
    "name": "ipython",
    "version": 3
   },
   "file_extension": ".py",
   "mimetype": "text/x-python",
   "name": "python",
   "nbconvert_exporter": "python",
   "pygments_lexer": "ipython3",
   "version": "3.6.10"
  }
 },
 "nbformat": 4,
 "nbformat_minor": 4
}
