{
 "cells": [
  {
   "cell_type": "markdown",
   "metadata": {},
   "source": [
    "# CLEAN BUILD FROM SCRATCH mitb2 on patches"
   ]
  },
  {
   "cell_type": "code",
   "execution_count": 1,
   "metadata": {},
   "outputs": [
    {
     "name": "stdout",
     "output_type": "stream",
     "text": [
      "Filesystem                                        Size  Used Avail Use% Mounted on\r\n",
      "overlay                                           1.8T  1.2T  448G  74% /\r\n",
      "tmpfs                                              64M     0   64M   0% /dev\r\n",
      "tmpfs                                             126G     0  126G   0% /sys/fs/cgroup\r\n",
      "tmpfs                                             126G  5.5G  121G   5% /dev/shm\r\n",
      "/dev/sda2                                         1.8T  1.2T  448G  74% /etc/hosts\r\n",
      "monster-dgx-station:/raid/cando                   5.2T  4.8T  237G  96% /workspace/nfs/cando\r\n",
      "monster-dgx-station:/raid/monsters/epockonechnyy  5.2T  4.8T  237G  96% /workspace/nfs/epockonechnyy\r\n",
      "tmpfs                                             126G   12K  126G   1% /run/secrets/kubernetes.io/serviceaccount\r\n",
      "tmpfs                                             126G   12K  126G   1% /proc/driver/nvidia\r\n",
      "tmpfs                                              26G   12M   26G   1% /run/nvidia-persistenced/socket\r\n",
      "udev                                              126G     0  126G   0% /dev/nvidia0\r\n",
      "tmpfs                                             126G     0  126G   0% /proc/acpi\r\n",
      "tmpfs                                             126G     0  126G   0% /proc/scsi\r\n",
      "tmpfs                                             126G     0  126G   0% /sys/firmware\r\n"
     ]
    }
   ],
   "source": [
    "!df -h"
   ]
  },
  {
   "cell_type": "markdown",
   "metadata": {},
   "source": [
    "# imports"
   ]
  },
  {
   "cell_type": "code",
   "execution_count": 2,
   "metadata": {},
   "outputs": [],
   "source": [
    "import random\n",
    "\n",
    "import numpy as np\n",
    "import pandas as pd\n",
    "import cv2 as cv\n",
    "import os\n",
    "\n",
    "from matplotlib import pyplot as plt\n",
    "from glob import glob\n",
    "from sklearn.model_selection import StratifiedKFold\n",
    "from tqdm import tqdm\n",
    "from IPython.display import clear_output\n",
    "\n",
    "import albumentations as A\n",
    "import albumentations.pytorch\n",
    "\n",
    "import torch\n",
    "import torch.nn as nn\n",
    "import torch.nn.functional as F\n",
    "from torch.utils.data import Dataset\n",
    "from torch.utils.data import DataLoader\n",
    "\n",
    "import torch.cuda.amp as amp\n",
    "is_amp = True"
   ]
  },
  {
   "cell_type": "code",
   "execution_count": 3,
   "metadata": {},
   "outputs": [],
   "source": [
    "torch.multiprocessing.set_start_method('spawn')"
   ]
  },
  {
   "cell_type": "markdown",
   "metadata": {},
   "source": [
    "# data"
   ]
  },
  {
   "cell_type": "code",
   "execution_count": 4,
   "metadata": {},
   "outputs": [],
   "source": [
    "ORGAN2ID = {\n",
    "    'kidney' : 0,\n",
    "    'prostate' : 1,\n",
    "    'largeintestine' : 2,\n",
    "    'spleen' : 3,\n",
    "    'lung' : 4\n",
    "}\n",
    "ID2ORGAN = {v: k for k, v in ORGAN2ID.items()}"
   ]
  },
  {
   "cell_type": "markdown",
   "metadata": {},
   "source": [
    "# model testing"
   ]
  },
  {
   "cell_type": "code",
   "execution_count": 5,
   "metadata": {},
   "outputs": [],
   "source": [
    "from model import Net\n",
    "from mit import *\n",
    "from torch.optim.swa_utils import AveragedModel, SWALR"
   ]
  },
  {
   "cell_type": "markdown",
   "metadata": {},
   "source": [
    "## data 512"
   ]
  },
  {
   "cell_type": "code",
   "execution_count": 6,
   "metadata": {},
   "outputs": [],
   "source": [
    "# img256 = cv.imread('./../data/train_data_eunet_patches/256/train/10044_0000.png')\n",
    "# img512 = cv.imread('./../data/train_data_eunet_patches/512/train/10044_0000.png')"
   ]
  },
  {
   "cell_type": "code",
   "execution_count": 7,
   "metadata": {},
   "outputs": [],
   "source": [
    "TRAIN_CSV = './../data/train.csv'\n",
    "TEST_CSV = './../data/test.csv'\n",
    "TRAIN_IMAGES_DIR = './../data/train_data_eunet_patches/512/train/'\n",
    "TRAIN_MASKS_DIR = './../data/train_data_eunet_patches/512/masks/'\n",
    "\n",
    "N_CROSS_VALID_SPLITS = 5\n",
    "RANDOM_SEED = 2022\n",
    "\n",
    "SPATIAL_SIZE = 768 # размер патча\n"
   ]
  },
  {
   "cell_type": "code",
   "execution_count": 8,
   "metadata": {},
   "outputs": [],
   "source": [
    "train_df = pd.read_csv(TRAIN_CSV)"
   ]
  },
  {
   "cell_type": "code",
   "execution_count": 9,
   "metadata": {},
   "outputs": [],
   "source": [
    "def make_train_image_path(row):\n",
    "    return os.path.join(TRAIN_IMAGES_DIR, str(row['id']) + '.png')\n",
    "\n",
    "def make_train_mask_path(row):\n",
    "    return os.path.join(TRAIN_MASKS_DIR, str(row['id']) + '.png')\n",
    "\n",
    "def create_folds(df: pd.DataFrame, n_splits: int, random_seed: int) -> pd.DataFrame:\n",
    "    skf = StratifiedKFold(n_splits=n_splits, shuffle=True, random_state=random_seed)\n",
    "    for fold, (_, val_idx) in enumerate(skf.split(X=df, y=df[\"organ\"])):\n",
    "        df.loc[val_idx, \"fold\"] = int(fold)\n",
    "\n",
    "    return df"
   ]
  },
  {
   "cell_type": "code",
   "execution_count": 10,
   "metadata": {},
   "outputs": [],
   "source": [
    "train_df = create_folds(train_df, n_splits=N_CROSS_VALID_SPLITS, random_seed=RANDOM_SEED)"
   ]
  },
  {
   "cell_type": "code",
   "execution_count": 11,
   "metadata": {},
   "outputs": [
    {
     "data": {
      "text/html": [
       "<div>\n",
       "<style scoped>\n",
       "    .dataframe tbody tr th:only-of-type {\n",
       "        vertical-align: middle;\n",
       "    }\n",
       "\n",
       "    .dataframe tbody tr th {\n",
       "        vertical-align: top;\n",
       "    }\n",
       "\n",
       "    .dataframe thead th {\n",
       "        text-align: right;\n",
       "    }\n",
       "</style>\n",
       "<table border=\"1\" class=\"dataframe\">\n",
       "  <thead>\n",
       "    <tr style=\"text-align: right;\">\n",
       "      <th></th>\n",
       "      <th>id</th>\n",
       "      <th>organ</th>\n",
       "      <th>data_source</th>\n",
       "      <th>img_height</th>\n",
       "      <th>img_width</th>\n",
       "      <th>pixel_size</th>\n",
       "      <th>tissue_thickness</th>\n",
       "      <th>rle</th>\n",
       "      <th>age</th>\n",
       "      <th>sex</th>\n",
       "      <th>fold</th>\n",
       "    </tr>\n",
       "  </thead>\n",
       "  <tbody>\n",
       "    <tr>\n",
       "      <th>0</th>\n",
       "      <td>10044</td>\n",
       "      <td>prostate</td>\n",
       "      <td>HPA</td>\n",
       "      <td>3000</td>\n",
       "      <td>3000</td>\n",
       "      <td>0.4</td>\n",
       "      <td>4</td>\n",
       "      <td>1459676 77 1462675 82 1465674 87 1468673 92 14...</td>\n",
       "      <td>37.0</td>\n",
       "      <td>Male</td>\n",
       "      <td>4.0</td>\n",
       "    </tr>\n",
       "    <tr>\n",
       "      <th>1</th>\n",
       "      <td>10274</td>\n",
       "      <td>prostate</td>\n",
       "      <td>HPA</td>\n",
       "      <td>3000</td>\n",
       "      <td>3000</td>\n",
       "      <td>0.4</td>\n",
       "      <td>4</td>\n",
       "      <td>715707 2 718705 8 721703 11 724701 18 727692 3...</td>\n",
       "      <td>76.0</td>\n",
       "      <td>Male</td>\n",
       "      <td>0.0</td>\n",
       "    </tr>\n",
       "    <tr>\n",
       "      <th>2</th>\n",
       "      <td>10392</td>\n",
       "      <td>spleen</td>\n",
       "      <td>HPA</td>\n",
       "      <td>3000</td>\n",
       "      <td>3000</td>\n",
       "      <td>0.4</td>\n",
       "      <td>4</td>\n",
       "      <td>1228631 20 1231629 24 1234624 40 1237623 47 12...</td>\n",
       "      <td>82.0</td>\n",
       "      <td>Male</td>\n",
       "      <td>0.0</td>\n",
       "    </tr>\n",
       "    <tr>\n",
       "      <th>3</th>\n",
       "      <td>10488</td>\n",
       "      <td>lung</td>\n",
       "      <td>HPA</td>\n",
       "      <td>3000</td>\n",
       "      <td>3000</td>\n",
       "      <td>0.4</td>\n",
       "      <td>4</td>\n",
       "      <td>3446519 15 3449517 17 3452514 20 3455510 24 34...</td>\n",
       "      <td>78.0</td>\n",
       "      <td>Male</td>\n",
       "      <td>0.0</td>\n",
       "    </tr>\n",
       "    <tr>\n",
       "      <th>4</th>\n",
       "      <td>10610</td>\n",
       "      <td>spleen</td>\n",
       "      <td>HPA</td>\n",
       "      <td>3000</td>\n",
       "      <td>3000</td>\n",
       "      <td>0.4</td>\n",
       "      <td>4</td>\n",
       "      <td>478925 68 481909 87 484893 105 487863 154 4908...</td>\n",
       "      <td>21.0</td>\n",
       "      <td>Female</td>\n",
       "      <td>4.0</td>\n",
       "    </tr>\n",
       "  </tbody>\n",
       "</table>\n",
       "</div>"
      ],
      "text/plain": [
       "      id     organ data_source  img_height  img_width  pixel_size  \\\n",
       "0  10044  prostate         HPA        3000       3000         0.4   \n",
       "1  10274  prostate         HPA        3000       3000         0.4   \n",
       "2  10392    spleen         HPA        3000       3000         0.4   \n",
       "3  10488      lung         HPA        3000       3000         0.4   \n",
       "4  10610    spleen         HPA        3000       3000         0.4   \n",
       "\n",
       "   tissue_thickness                                                rle   age  \\\n",
       "0                 4  1459676 77 1462675 82 1465674 87 1468673 92 14...  37.0   \n",
       "1                 4  715707 2 718705 8 721703 11 724701 18 727692 3...  76.0   \n",
       "2                 4  1228631 20 1231629 24 1234624 40 1237623 47 12...  82.0   \n",
       "3                 4  3446519 15 3449517 17 3452514 20 3455510 24 34...  78.0   \n",
       "4                 4  478925 68 481909 87 484893 105 487863 154 4908...  21.0   \n",
       "\n",
       "      sex  fold  \n",
       "0    Male   4.0  \n",
       "1    Male   0.0  \n",
       "2    Male   0.0  \n",
       "3    Male   0.0  \n",
       "4  Female   4.0  "
      ]
     },
     "execution_count": 11,
     "metadata": {},
     "output_type": "execute_result"
    }
   ],
   "source": [
    "train_df.head()"
   ]
  },
  {
   "cell_type": "code",
   "execution_count": 12,
   "metadata": {},
   "outputs": [],
   "source": [
    "def make_512_dataset(df):\n",
    "    new_df = []\n",
    "    for index, row in df.iterrows():\n",
    "        id = row['id']\n",
    "        glb = list(glob(TRAIN_IMAGES_DIR + '{}_*.png'.format(id)))\n",
    "        for fname in glb:\n",
    "            newrow = dict()\n",
    "            newrow['id'] = id\n",
    "            newrow['image'] = fname\n",
    "            newrow['mask'] = fname.replace('/train/', '/masks/')\n",
    "            newrow['organ'] = row['organ']\n",
    "            newrow['pixel_size'] = row['pixel_size']\n",
    "            newrow['fold'] = row['fold']\n",
    "            \n",
    "            new_df.append(newrow)\n",
    "    return pd.DataFrame(new_df)"
   ]
  },
  {
   "cell_type": "code",
   "execution_count": 13,
   "metadata": {},
   "outputs": [
    {
     "name": "stdout",
     "output_type": "stream",
     "text": [
      "(2895, 6)\n"
     ]
    },
    {
     "data": {
      "text/html": [
       "<div>\n",
       "<style scoped>\n",
       "    .dataframe tbody tr th:only-of-type {\n",
       "        vertical-align: middle;\n",
       "    }\n",
       "\n",
       "    .dataframe tbody tr th {\n",
       "        vertical-align: top;\n",
       "    }\n",
       "\n",
       "    .dataframe thead th {\n",
       "        text-align: right;\n",
       "    }\n",
       "</style>\n",
       "<table border=\"1\" class=\"dataframe\">\n",
       "  <thead>\n",
       "    <tr style=\"text-align: right;\">\n",
       "      <th></th>\n",
       "      <th>fold</th>\n",
       "      <th>id</th>\n",
       "      <th>image</th>\n",
       "      <th>mask</th>\n",
       "      <th>organ</th>\n",
       "      <th>pixel_size</th>\n",
       "    </tr>\n",
       "  </thead>\n",
       "  <tbody>\n",
       "    <tr>\n",
       "      <th>0</th>\n",
       "      <td>4.0</td>\n",
       "      <td>10044</td>\n",
       "      <td>./../data/train_data_eunet_patches/512/train/1...</td>\n",
       "      <td>./../data/train_data_eunet_patches/512/masks/1...</td>\n",
       "      <td>prostate</td>\n",
       "      <td>0.4</td>\n",
       "    </tr>\n",
       "    <tr>\n",
       "      <th>1</th>\n",
       "      <td>4.0</td>\n",
       "      <td>10044</td>\n",
       "      <td>./../data/train_data_eunet_patches/512/train/1...</td>\n",
       "      <td>./../data/train_data_eunet_patches/512/masks/1...</td>\n",
       "      <td>prostate</td>\n",
       "      <td>0.4</td>\n",
       "    </tr>\n",
       "    <tr>\n",
       "      <th>2</th>\n",
       "      <td>4.0</td>\n",
       "      <td>10044</td>\n",
       "      <td>./../data/train_data_eunet_patches/512/train/1...</td>\n",
       "      <td>./../data/train_data_eunet_patches/512/masks/1...</td>\n",
       "      <td>prostate</td>\n",
       "      <td>0.4</td>\n",
       "    </tr>\n",
       "    <tr>\n",
       "      <th>3</th>\n",
       "      <td>4.0</td>\n",
       "      <td>10044</td>\n",
       "      <td>./../data/train_data_eunet_patches/512/train/1...</td>\n",
       "      <td>./../data/train_data_eunet_patches/512/masks/1...</td>\n",
       "      <td>prostate</td>\n",
       "      <td>0.4</td>\n",
       "    </tr>\n",
       "    <tr>\n",
       "      <th>4</th>\n",
       "      <td>4.0</td>\n",
       "      <td>10044</td>\n",
       "      <td>./../data/train_data_eunet_patches/512/train/1...</td>\n",
       "      <td>./../data/train_data_eunet_patches/512/masks/1...</td>\n",
       "      <td>prostate</td>\n",
       "      <td>0.4</td>\n",
       "    </tr>\n",
       "  </tbody>\n",
       "</table>\n",
       "</div>"
      ],
      "text/plain": [
       "   fold     id                                              image  \\\n",
       "0   4.0  10044  ./../data/train_data_eunet_patches/512/train/1...   \n",
       "1   4.0  10044  ./../data/train_data_eunet_patches/512/train/1...   \n",
       "2   4.0  10044  ./../data/train_data_eunet_patches/512/train/1...   \n",
       "3   4.0  10044  ./../data/train_data_eunet_patches/512/train/1...   \n",
       "4   4.0  10044  ./../data/train_data_eunet_patches/512/train/1...   \n",
       "\n",
       "                                                mask     organ  pixel_size  \n",
       "0  ./../data/train_data_eunet_patches/512/masks/1...  prostate         0.4  \n",
       "1  ./../data/train_data_eunet_patches/512/masks/1...  prostate         0.4  \n",
       "2  ./../data/train_data_eunet_patches/512/masks/1...  prostate         0.4  \n",
       "3  ./../data/train_data_eunet_patches/512/masks/1...  prostate         0.4  \n",
       "4  ./../data/train_data_eunet_patches/512/masks/1...  prostate         0.4  "
      ]
     },
     "execution_count": 13,
     "metadata": {},
     "output_type": "execute_result"
    }
   ],
   "source": [
    "train_df_512 = make_512_dataset(train_df)\n",
    "print(train_df_512.shape)\n",
    "train_df_512.head()"
   ]
  },
  {
   "cell_type": "code",
   "execution_count": 14,
   "metadata": {},
   "outputs": [],
   "source": [
    "# ---------------------------------------------------------------\n",
    "# WARNING! THIS RESCALE IS INJECTED IN SWIN TRANSFORMER ALREADY!\n",
    "#   RGB LAYER\n",
    "# IT'S INPUTS HAVE TO BE IMAGE IN 0..1!\n",
    "# ---------------------------------------------------------------"
   ]
  },
  {
   "cell_type": "code",
   "execution_count": 15,
   "metadata": {},
   "outputs": [],
   "source": [
    "# mean = np.array([0.7720342, 0.74582646, 0.76392896])\n",
    "# std = np.array([0.24745085, 0.26182273, 0.25782376])"
   ]
  },
  {
   "cell_type": "code",
   "execution_count": 16,
   "metadata": {},
   "outputs": [],
   "source": [
    "train_transform= A.Compose([\n",
    "#     A.Resize(512, 512, interpolation=cv.INTER_LINEAR),\n",
    "    A.HorizontalFlip(p=0.5),\n",
    "    A.VerticalFlip(p=0.5),\n",
    "    A.RandomRotate90(p=0.5),\n",
    "    A.HueSaturationValue(p=0.25),\n",
    "    A.ShiftScaleRotate(shift_limit=0.02, scale_limit=(0.05, 0.6),rotate_limit=90, p=0.5),\n",
    "    A.ElasticTransform(p=0.1, alpha=90, sigma=120 * 0.05, alpha_affine=120 * 0.03),\n",
    "    A.GridDistortion(p=0.25),\n",
    "    A.Blur(blur_limit=5, p=0.1),\n",
    "    A.GaussNoise(var_limit=(20, 100), p=0.2),\n",
    "    A.ChannelDropout(p=0.05),\n",
    "    A.RandomGamma(p=0.1),\n",
    "    A.RandomBrightnessContrast(p=0.2),\n",
    "    A.Normalize(mean=[0, 0, 0], std=[1, 1, 1], \n",
    "                max_pixel_value=255, always_apply=True),\n",
    "    albumentations.pytorch.ToTensorV2()\n",
    "], p=1)"
   ]
  },
  {
   "cell_type": "code",
   "execution_count": 17,
   "metadata": {},
   "outputs": [],
   "source": [
    "val_transform = A.Compose([\n",
    "#     A.Resize(512, 512, interpolation = cv.INTER_LINEAR),\n",
    "    A.Normalize(mean=[0, 0, 0], std=[1, 1, 1],\n",
    "                 max_pixel_value=255, always_apply=True),\n",
    "    albumentations.pytorch.ToTensorV2()\n",
    "], p=1)"
   ]
  },
  {
   "cell_type": "code",
   "execution_count": 18,
   "metadata": {},
   "outputs": [],
   "source": [
    "class HubmapDataset512(Dataset):\n",
    "    def __init__(self, df, transform=None):\n",
    "\n",
    "        self.df = df\n",
    "        self.transform = transform\n",
    "        self.length = len(self.df)\n",
    "\n",
    "    def __str__(self):\n",
    "        string = ''\n",
    "        string += '\\tlen = %d\\n' % len(self)\n",
    "\n",
    "        d = self.df.organ.value_counts().to_dict()\n",
    "        for k in ['kidney', 'prostate', 'largeintestine', 'spleen', 'lung']:\n",
    "            string +=  '%24s %3d (%0.3f) \\n'%(k,d.get(k,0),d.get(k,0)/len(self.df))\n",
    "        return string\n",
    "\n",
    "    def __len__(self):\n",
    "        return self.length\n",
    "\n",
    "    def __getitem__(self, index):\n",
    "        print(index)\n",
    "        d = self.df.iloc[index]\n",
    "        organ = ORGAN2ID[d['organ']]\n",
    "\n",
    "        image = cv.cvtColor(cv.imread(d['image']), cv.COLOR_BGR2RGB) # .astype(np.float32) / 255.0\n",
    "        mask = cv.imread(d['mask'], cv.IMREAD_GRAYSCALE)\n",
    "\n",
    "        mask = mask / max(1, mask.max())\n",
    "        \n",
    "        mask_multiclass = mask * (organ + 1)\n",
    "        \n",
    "        data = {\n",
    "            'image': image,\n",
    "            'mask': mask_multiclass,\n",
    "            'organ': organ,\n",
    "        }\n",
    "        \n",
    "        upd_data = self.transform(image=data['image'], mask=data['mask'])\n",
    "        upd_data['image'] = upd_data['image'].to('cuda:2')\n",
    "\n",
    "        data.update(upd_data)\n",
    "        return data"
   ]
  },
  {
   "cell_type": "code",
   "execution_count": 19,
   "metadata": {},
   "outputs": [],
   "source": [
    "def worker_init_fn(worker_id):\n",
    "    torch_seed = torch.initial_seed()\n",
    "    random.seed(torch_seed + worker_id)\n",
    "    if torch_seed >= 2**30:  # make sure torch_seed + workder_id < 2**32\n",
    "        torch_seed = torch_seed % 2**30\n",
    "    np.random.seed(torch_seed + worker_id)\n",
    "    random.seed(torch_seed + worker_id + 77777)"
   ]
  },
  {
   "cell_type": "code",
   "execution_count": 20,
   "metadata": {},
   "outputs": [],
   "source": [
    "# train_dataset = HubmapDataset512(train_df_512[train_df_512['fold'] != CURRENT_FOLD], train_transform)\n",
    "# val_dataset = HubmapDataset512(train_df_512[train_df_512['fold'] == CURRENT_FOLD], val_transform)"
   ]
  },
  {
   "cell_type": "code",
   "execution_count": 21,
   "metadata": {},
   "outputs": [],
   "source": [
    "# sample = train_dataset[1]\n",
    "# print('IMAGE')\n",
    "# print(sample['image'].shape)\n",
    "# print('image values: ', float(sample['image'].min()), float(sample['image'].max()))\n",
    "# plt.imshow(sample['image'].detach().cpu().permute((1, 2, 0)))\n",
    "# plt.show()\n",
    "\n",
    "# print('MASK')\n",
    "# print(sample['mask'].shape)\n",
    "# print('mask values: ', sample['mask'].min(), sample['mask'].max())\n",
    "# plt.imshow(sample['mask'])\n",
    "# plt.show()"
   ]
  },
  {
   "cell_type": "code",
   "execution_count": 22,
   "metadata": {},
   "outputs": [],
   "source": [
    "# BATCH_SIZE = 10"
   ]
  },
  {
   "cell_type": "code",
   "execution_count": 23,
   "metadata": {},
   "outputs": [],
   "source": [
    "# loader_params = {'shuffle': True,\n",
    "#                  'num_workers': 0,\n",
    "#                  'worker_init_fn': worker_init_fn}\n",
    "# loader_train = DataLoader(train_dataset, \n",
    "#                           batch_size=BATCH_SIZE, \n",
    "#                           shuffle=True,\n",
    "#                           worker_init_fn=worker_init_fn,\n",
    "#                           num_workers=0\n",
    "#                          )\n",
    "# loader_val = DataLoader(val_dataset, \n",
    "#                         batch_size=1, \n",
    "#                         shuffle=False,\n",
    "#                         worker_init_fn=worker_init_fn,\n",
    "#                         num_workers=0\n",
    "#                        )"
   ]
  },
  {
   "cell_type": "code",
   "execution_count": 24,
   "metadata": {},
   "outputs": [],
   "source": [
    "# sample = val_dataset[2]\n",
    "# print('IMAGE')\n",
    "# print(sample['image'].shape)\n",
    "# print('image values: ', float(sample['image'].min()), float(sample['image'].max()))\n",
    "# plt.imshow(sample['image'].detach().cpu().permute((1, 2, 0)))\n",
    "# plt.show()\n",
    "\n",
    "# print('MASK')\n",
    "# print(sample['mask'].shape)\n",
    "# print('mask values: ', sample['mask'].min(), sample['mask'].max())\n",
    "# plt.imshow(sample['mask'])\n",
    "# plt.show()"
   ]
  },
  {
   "cell_type": "code",
   "execution_count": 25,
   "metadata": {},
   "outputs": [],
   "source": [
    "# !nvidia-smi"
   ]
  },
  {
   "cell_type": "markdown",
   "metadata": {},
   "source": [
    "# model"
   ]
  },
  {
   "cell_type": "code",
   "execution_count": 26,
   "metadata": {},
   "outputs": [
    {
     "name": "stdout",
     "output_type": "stream",
     "text": [
      "Tue Aug 23 11:47:47 2022       \n",
      "+-----------------------------------------------------------------------------+\n",
      "| NVIDIA-SMI 418.152.00   Driver Version: 418.152.00   CUDA Version: 11.1     |\n",
      "|-------------------------------+----------------------+----------------------+\n",
      "| GPU  Name        Persistence-M| Bus-Id        Disp.A | Volatile Uncorr. ECC |\n",
      "| Fan  Temp  Perf  Pwr:Usage/Cap|         Memory-Usage | GPU-Util  Compute M. |\n",
      "|===============================+======================+======================|\n",
      "|   0  Tesla V100-DGXS...  On   | 00000000:07:00.0 Off |                    0 |\n",
      "| N/A   60C    P0   148W / 300W |  32014MiB / 32478MiB |    100%      Default |\n",
      "+-------------------------------+----------------------+----------------------+\n",
      "|   1  Tesla V100-DGXS...  On   | 00000000:08:00.0 Off |                    0 |\n",
      "| N/A   60C    P0   184W / 300W |  25480MiB / 32478MiB |    100%      Default |\n",
      "+-------------------------------+----------------------+----------------------+\n",
      "|   2  Tesla V100-DGXS...  On   | 00000000:0E:00.0 Off |                    0 |\n",
      "| N/A   61C    P0   228W / 300W |  30339MiB / 32478MiB |     88%      Default |\n",
      "+-------------------------------+----------------------+----------------------+\n",
      "|   3  Tesla V100-DGXS...  On   | 00000000:0F:00.0 Off |                    0 |\n",
      "| N/A   53C    P0    39W / 300W |     12MiB / 32478MiB |      0%      Default |\n",
      "+-------------------------------+----------------------+----------------------+\n",
      "                                                                               \n",
      "+-----------------------------------------------------------------------------+\n",
      "| Processes:                                                       GPU Memory |\n",
      "|  GPU       PID   Type   Process name                             Usage      |\n",
      "|=============================================================================|\n",
      "+-----------------------------------------------------------------------------+\n"
     ]
    }
   ],
   "source": [
    "!nvidia-smi"
   ]
  },
  {
   "cell_type": "code",
   "execution_count": 27,
   "metadata": {},
   "outputs": [],
   "source": [
    "device = 'cuda:3'\n",
    "DEVICE = device"
   ]
  },
  {
   "cell_type": "code",
   "execution_count": 28,
   "metadata": {},
   "outputs": [],
   "source": [
    "model = Net().to(device)"
   ]
  },
  {
   "cell_type": "code",
   "execution_count": 29,
   "metadata": {},
   "outputs": [],
   "source": [
    "swa_model = AveragedModel(model)"
   ]
  },
  {
   "cell_type": "code",
   "execution_count": 29,
   "metadata": {},
   "outputs": [],
   "source": [
    "# swa_model.load_state_dict(torch.load('./../mit-b2-segformer-first-try/checkpoint_fold_3/mit-b2_swa_ep_135_corrected_bn.pt', map_location=device))"
   ]
  },
  {
   "cell_type": "code",
   "execution_count": 30,
   "metadata": {},
   "outputs": [],
   "source": [
    "# swa_model.load_state_dict(torch.load('./checkpoint_fold_3/mit-b2_swa_ep_063_dice_0.773188_fixed_bn.pt', map_location=device))"
   ]
  },
  {
   "cell_type": "code",
   "execution_count": 31,
   "metadata": {},
   "outputs": [],
   "source": [
    "# swa_model.load_state_dict(torch.load('./checkpoint_fold_3/mit-b2_swa_ep_027_dice_0.777656_fixed_bn.pt', map_location=device))"
   ]
  },
  {
   "cell_type": "code",
   "execution_count": 32,
   "metadata": {},
   "outputs": [
    {
     "data": {
      "text/plain": [
       "<All keys matched successfully>"
      ]
     },
     "execution_count": 32,
     "metadata": {},
     "output_type": "execute_result"
    }
   ],
   "source": [
    "# swa_model.load_state_dict(torch.load('./fold0_mitb2_BEST7.pt', map_location=device))\n"
   ]
  },
  {
   "cell_type": "code",
   "execution_count": 31,
   "metadata": {},
   "outputs": [
    {
     "data": {
      "text/plain": [
       "_IncompatibleKeys(missing_keys=[], unexpected_keys=['module.aux.0.1.mixing', 'module.aux.1.1.mixing', 'module.aux.2.1.mixing', 'module.aux.3.1.mixing'])"
      ]
     },
     "execution_count": 31,
     "metadata": {},
     "output_type": "execute_result"
    }
   ],
   "source": [
    "swa_model.load_state_dict(torch.load('./../mit-b2-segformer-768x768-swa/checkpoint_fold_3/mit-b2_swa_ONLY_TOP_7_BEST_fixed_bn.pt', map_location=device), strict=False)\n"
   ]
  },
  {
   "cell_type": "code",
   "execution_count": 32,
   "metadata": {},
   "outputs": [],
   "source": [
    "# model.load_state_dict(torch.load('./checkpoint_fold_3_SAM/mit-b2_ep_504_dice_0.774971.pt', map_location=device))\n",
    "# model = model.eval()"
   ]
  },
  {
   "cell_type": "code",
   "execution_count": 33,
   "metadata": {
    "scrolled": true
   },
   "outputs": [],
   "source": [
    "# torch.optim.swa_utils.update_bn(loader_train, swa_model)"
   ]
  },
  {
   "cell_type": "code",
   "execution_count": 34,
   "metadata": {},
   "outputs": [],
   "source": [
    "model = swa_model.eval()"
   ]
  },
  {
   "cell_type": "code",
   "execution_count": 35,
   "metadata": {},
   "outputs": [
    {
     "data": {
      "text/plain": [
       "25783525"
      ]
     },
     "execution_count": 35,
     "metadata": {},
     "output_type": "execute_result"
    }
   ],
   "source": [
    "sum(p.numel() for p in model.parameters() if p.requires_grad)"
   ]
  },
  {
   "cell_type": "markdown",
   "metadata": {},
   "source": [
    "# validation code"
   ]
  },
  {
   "cell_type": "code",
   "execution_count": 36,
   "metadata": {},
   "outputs": [],
   "source": [
    "import monai\n",
    "from monai.utils.enums import BlendMode, PytorchPadMode\n",
    "from monai.inferers import sliding_window_inference"
   ]
  },
  {
   "cell_type": "code",
   "execution_count": 37,
   "metadata": {},
   "outputs": [],
   "source": [
    "def dice_coef2(y_true, y_pred):\n",
    "    y_true_f = y_true.flatten()\n",
    "    y_pred_f = y_pred.flatten()\n",
    "    union = np.sum(y_true_f) + np.sum(y_pred_f)\n",
    "    if union < 1: \n",
    "        return 1\n",
    "    intersection = np.sum(y_true_f * y_pred_f)\n",
    "#     print('UNION', union)\n",
    "    return 2. * intersection / union"
   ]
  },
  {
   "cell_type": "code",
   "execution_count": 38,
   "metadata": {},
   "outputs": [],
   "source": [
    "class Predictor(nn.Module):\n",
    "    def __init__(self, model):\n",
    "        super().__init__()\n",
    "        self.model = model\n",
    "    \n",
    "    def forward(self, x):\n",
    "        out = self.model({'image' : x})\n",
    "        prob = F.softmax(out['out_logits'], dim=1)\n",
    "        return prob"
   ]
  },
  {
   "cell_type": "code",
   "execution_count": 39,
   "metadata": {},
   "outputs": [],
   "source": [
    "def infer_id(predictor, id: str, organ: str, pixel_size=0.4, threshold=0.5):\n",
    "    THRESHOLD = threshold\n",
    "    \n",
    "    image = cv.imread('./../data/train_images/{}.tiff'.format(id))\n",
    "    image = cv.cvtColor(image, cv.COLOR_BGR2RGB)\n",
    "    \n",
    "    gt_mask  = np.load('./../data/train_masks/{}.npy'.format(id))\n",
    "    \n",
    "    scale_factor = 0.5 * (pixel_size / 0.4)\n",
    "    image1 = cv.resize(image, None, fx=scale_factor, fy=scale_factor, interpolation=cv.INTER_AREA)\n",
    "    image2 = cv.resize(image, None, fx=scale_factor*1.2, fy=scale_factor*1.3, interpolation=cv.INTER_AREA)\n",
    "    \n",
    "    \n",
    "#     image_rot = image.copy()\n",
    "    masks = []\n",
    "    for cur_image in [image1]:\n",
    "        for img_flip in [None, 0, 1, -1]:\n",
    "            if img_flip is not None:\n",
    "                image = cv.flip(image1, img_flip)\n",
    "            else:\n",
    "                image = image1.copy()\n",
    "\n",
    "            image_tensor = val_transform(image=image)['image']\n",
    "\n",
    "            image_tensor = image_tensor.unsqueeze(0).to(device)\n",
    "\n",
    "            with torch.no_grad():\n",
    "                infer_result = sliding_window_inference(\n",
    "                    image_tensor, roi_size=(768, 768), sw_batch_size=2, predictor=predictor, \n",
    "                    overlap=0.25, mode=BlendMode.CONSTANT, sigma_scale=0.15, \n",
    "                    padding_mode=PytorchPadMode.CONSTANT, cval=0.0,       \n",
    "                )\n",
    "\n",
    "            organ_id = ORGAN2ID[organ] + 1\n",
    "            pr_mask = infer_result.detach().cpu().numpy()[0, organ_id]\n",
    "    #         pr_mask = infer_result.detach().cpu().numpy()[0, 1:].sum(axis=1)\n",
    "            if img_flip is not None:\n",
    "                pr_mask = cv.flip(pr_mask, img_flip)\n",
    "            masks.append(pr_mask)\n",
    "    \n",
    "    masks = [cv.resize(x, gt_mask.shape, cv.INTER_NEAREST) for x in masks]\n",
    "    pr_mask = (np.array(masks).mean(axis=0) > THRESHOLD).astype(np.uint8)\n",
    "#     print(gt_mask.shape, gt_mask.dtype, pr_mask.dtype)\n",
    "    \n",
    "    \n",
    "    return pr_mask, gt_mask"
   ]
  },
  {
   "cell_type": "code",
   "execution_count": 40,
   "metadata": {},
   "outputs": [],
   "source": [
    "def check_dice_by_thresh(val_df, model, th):\n",
    "    predictor = Predictor(model)\n",
    "    \n",
    "    dices = []\n",
    "    by_org = dict()\n",
    "    for index, row in tqdm(val_df.iterrows(), total=len(val_df)):\n",
    "        id = row['id']\n",
    "        organ = row['organ']\n",
    "        if organ not in by_org:\n",
    "            by_org[organ] = []\n",
    "            \n",
    "        pixel_size = row['pixel_size']\n",
    "        pred_mask, gt_mask = infer_id(predictor, id, organ=organ, pixel_size=pixel_size, threshold=th)\n",
    "        dice = dice_coef2(gt_mask, pred_mask)\n",
    "        dices.append(dice)\n",
    "        by_org[organ].append(dice)\n",
    "    return dices, by_org"
   ]
  },
  {
   "cell_type": "code",
   "execution_count": 42,
   "metadata": {},
   "outputs": [],
   "source": [
    "CURRENT_FOLD = 3"
   ]
  },
  {
   "cell_type": "code",
   "execution_count": 43,
   "metadata": {},
   "outputs": [],
   "source": [
    "val_df_id = train_df[train_df['fold'] == CURRENT_FOLD]"
   ]
  },
  {
   "cell_type": "code",
   "execution_count": 44,
   "metadata": {},
   "outputs": [
    {
     "name": "stderr",
     "output_type": "stream",
     "text": [
      "100%|██████████| 70/70 [02:13<00:00,  1.90s/it]\n"
     ]
    }
   ],
   "source": [
    "dcs, by_org = check_dice_by_thresh(val_df_id, model, th=0.5)"
   ]
  },
  {
   "cell_type": "code",
   "execution_count": 75,
   "metadata": {},
   "outputs": [
    {
     "data": {
      "text/plain": [
       "0.810561437487017"
      ]
     },
     "execution_count": 75,
     "metadata": {},
     "output_type": "execute_result"
    }
   ],
   "source": [
    "# constant, overlap 0.5\n",
    "np.mean(dcs)"
   ]
  },
  {
   "cell_type": "code",
   "execution_count": 64,
   "metadata": {},
   "outputs": [
    {
     "data": {
      "text/plain": [
       "0.8119577566555692"
      ]
     },
     "execution_count": 64,
     "metadata": {},
     "output_type": "execute_result"
    }
   ],
   "source": [
    "# gaussian, overlap 0.75, sigma 0.25\n",
    "np.mean(dcs)"
   ]
  },
  {
   "cell_type": "code",
   "execution_count": 58,
   "metadata": {},
   "outputs": [
    {
     "data": {
      "text/plain": [
       "0.8108245414149015"
      ]
     },
     "execution_count": 58,
     "metadata": {},
     "output_type": "execute_result"
    }
   ],
   "source": [
    "# constant, overlap 0.25\n",
    "np.mean(dcs)"
   ]
  },
  {
   "cell_type": "code",
   "execution_count": 82,
   "metadata": {},
   "outputs": [
    {
     "name": "stdout",
     "output_type": "stream",
     "text": [
      "Threshold: 0.05\n"
     ]
    },
    {
     "name": "stderr",
     "output_type": "stream",
     "text": [
      "100%|██████████| 71/71 [02:16<00:00,  1.92s/it]\n"
     ]
    },
    {
     "name": "stdout",
     "output_type": "stream",
     "text": [
      "Threshold: 0.1\n"
     ]
    },
    {
     "name": "stderr",
     "output_type": "stream",
     "text": [
      "100%|██████████| 71/71 [02:15<00:00,  1.91s/it]\n"
     ]
    },
    {
     "name": "stdout",
     "output_type": "stream",
     "text": [
      "Threshold: 0.15\n"
     ]
    },
    {
     "name": "stderr",
     "output_type": "stream",
     "text": [
      "100%|██████████| 71/71 [02:16<00:00,  1.92s/it]\n"
     ]
    },
    {
     "name": "stdout",
     "output_type": "stream",
     "text": [
      "Threshold: 0.2\n"
     ]
    },
    {
     "name": "stderr",
     "output_type": "stream",
     "text": [
      "100%|██████████| 71/71 [02:16<00:00,  1.92s/it]\n"
     ]
    },
    {
     "name": "stdout",
     "output_type": "stream",
     "text": [
      "Threshold: 0.3\n"
     ]
    },
    {
     "name": "stderr",
     "output_type": "stream",
     "text": [
      "100%|██████████| 71/71 [02:16<00:00,  1.92s/it]\n"
     ]
    },
    {
     "name": "stdout",
     "output_type": "stream",
     "text": [
      "Threshold: 0.4\n"
     ]
    },
    {
     "name": "stderr",
     "output_type": "stream",
     "text": [
      "100%|██████████| 71/71 [02:15<00:00,  1.91s/it]\n"
     ]
    },
    {
     "name": "stdout",
     "output_type": "stream",
     "text": [
      "Threshold: 0.45\n"
     ]
    },
    {
     "name": "stderr",
     "output_type": "stream",
     "text": [
      "100%|██████████| 71/71 [02:15<00:00,  1.90s/it]\n"
     ]
    },
    {
     "name": "stdout",
     "output_type": "stream",
     "text": [
      "Threshold: 0.46\n"
     ]
    },
    {
     "name": "stderr",
     "output_type": "stream",
     "text": [
      "100%|██████████| 71/71 [02:14<00:00,  1.90s/it]\n"
     ]
    },
    {
     "name": "stdout",
     "output_type": "stream",
     "text": [
      "Threshold: 0.47\n"
     ]
    },
    {
     "name": "stderr",
     "output_type": "stream",
     "text": [
      "100%|██████████| 71/71 [02:15<00:00,  1.90s/it]\n"
     ]
    },
    {
     "name": "stdout",
     "output_type": "stream",
     "text": [
      "Threshold: 0.48\n"
     ]
    },
    {
     "name": "stderr",
     "output_type": "stream",
     "text": [
      "100%|██████████| 71/71 [02:15<00:00,  1.91s/it]\n"
     ]
    },
    {
     "name": "stdout",
     "output_type": "stream",
     "text": [
      "Threshold: 0.49\n"
     ]
    },
    {
     "name": "stderr",
     "output_type": "stream",
     "text": [
      "100%|██████████| 71/71 [02:15<00:00,  1.91s/it]\n"
     ]
    },
    {
     "name": "stdout",
     "output_type": "stream",
     "text": [
      "Threshold: 0.5\n"
     ]
    },
    {
     "name": "stderr",
     "output_type": "stream",
     "text": [
      "100%|██████████| 71/71 [02:15<00:00,  1.90s/it]\n"
     ]
    },
    {
     "name": "stdout",
     "output_type": "stream",
     "text": [
      "Threshold: 0.51\n"
     ]
    },
    {
     "name": "stderr",
     "output_type": "stream",
     "text": [
      "100%|██████████| 71/71 [02:15<00:00,  1.91s/it]\n"
     ]
    },
    {
     "name": "stdout",
     "output_type": "stream",
     "text": [
      "Threshold: 0.52\n"
     ]
    },
    {
     "name": "stderr",
     "output_type": "stream",
     "text": [
      "100%|██████████| 71/71 [02:16<00:00,  1.92s/it]\n"
     ]
    },
    {
     "name": "stdout",
     "output_type": "stream",
     "text": [
      "Threshold: 0.53\n"
     ]
    },
    {
     "name": "stderr",
     "output_type": "stream",
     "text": [
      "100%|██████████| 71/71 [02:15<00:00,  1.91s/it]\n"
     ]
    },
    {
     "name": "stdout",
     "output_type": "stream",
     "text": [
      "Threshold: 0.54\n"
     ]
    },
    {
     "name": "stderr",
     "output_type": "stream",
     "text": [
      "100%|██████████| 71/71 [02:15<00:00,  1.91s/it]\n"
     ]
    },
    {
     "name": "stdout",
     "output_type": "stream",
     "text": [
      "Threshold: 0.55\n"
     ]
    },
    {
     "name": "stderr",
     "output_type": "stream",
     "text": [
      "100%|██████████| 71/71 [02:15<00:00,  1.91s/it]\n"
     ]
    },
    {
     "name": "stdout",
     "output_type": "stream",
     "text": [
      "Threshold: 0.6\n"
     ]
    },
    {
     "name": "stderr",
     "output_type": "stream",
     "text": [
      "100%|██████████| 71/71 [02:14<00:00,  1.90s/it]\n"
     ]
    },
    {
     "name": "stdout",
     "output_type": "stream",
     "text": [
      "Threshold: 0.7\n"
     ]
    },
    {
     "name": "stderr",
     "output_type": "stream",
     "text": [
      "100%|██████████| 71/71 [02:15<00:00,  1.90s/it]\n"
     ]
    },
    {
     "name": "stdout",
     "output_type": "stream",
     "text": [
      "Threshold: 0.8\n"
     ]
    },
    {
     "name": "stderr",
     "output_type": "stream",
     "text": [
      "100%|██████████| 71/71 [02:15<00:00,  1.91s/it]\n"
     ]
    }
   ],
   "source": [
    "thr2dice = dict()\n",
    "for th in [0.05, 0.1, 0.15, 0.2, 0.3, 0.4, 0.45, 0.46, 0.47, 0.48, 0.49, 0.5, 0.51, 0.52, 0.53, 0.54, 0.55, 0.6, 0.7, 0.8]:\n",
    "    print('Threshold:', th)\n",
    "    dcs, by_org = check_dice_by_thresh(val_df_id, model, th=th)\n",
    "    thr2dice[th] = (dcs, by_org)"
   ]
  },
  {
   "cell_type": "code",
   "execution_count": 85,
   "metadata": {},
   "outputs": [
    {
     "data": {
      "text/plain": [
       "{'prostate': [0.9236378767071105,\n",
       "  0.3616132529906326,\n",
       "  0.9294224711937081,\n",
       "  0.8809833679809629,\n",
       "  0.9325163305363909,\n",
       "  0.95353356924146,\n",
       "  0.8009676107614233,\n",
       "  0.9296496012404035,\n",
       "  0.8319332513695112,\n",
       "  0.9359651149951338,\n",
       "  0.7885918625500746,\n",
       "  0.19612749173066632,\n",
       "  0.7711279634701279,\n",
       "  0.9418666739721746,\n",
       "  0.9526875254047545,\n",
       "  0.6878062701526598,\n",
       "  0.9415044206210968,\n",
       "  0.2582856941417014,\n",
       "  0.47074508153520217],\n",
       " 'spleen': [0.8972069908486676,\n",
       "  0.891086604834103,\n",
       "  0.9204425398603767,\n",
       "  0.6932923307923308,\n",
       "  0.8927108530270184,\n",
       "  0.9339103749459023,\n",
       "  0.717662564460256,\n",
       "  0.8745293643590585,\n",
       "  0.8156710168741705,\n",
       "  0.8306457500492238,\n",
       "  0.7715876501165083],\n",
       " 'lung': [0.27152624480840587,\n",
       "  0.2316890344091438,\n",
       "  0.009720596100198025,\n",
       "  0.6492120346299534,\n",
       "  0.05828395022982045,\n",
       "  0.3751925882560657,\n",
       "  0.5241221458394172,\n",
       "  0.6774379542156919,\n",
       "  0.34382836628566904],\n",
       " 'largeintestine': [0.873724487954894,\n",
       "  0.935278985680381,\n",
       "  0.9112121060363247,\n",
       "  0.9211451517635711,\n",
       "  0.9132782760714834,\n",
       "  0.9056930754851075,\n",
       "  0.8186406530888226,\n",
       "  0.9222227543948267,\n",
       "  0.8453941761678769,\n",
       "  0.8850758455636505,\n",
       "  0.9133128103252884,\n",
       "  0.854222144417774],\n",
       " 'kidney': [0.9144403327178513,\n",
       "  0.9375963490910079,\n",
       "  0.9645560152674475,\n",
       "  0.9124755389787419,\n",
       "  0.9840290863364951,\n",
       "  0.9065367339050349,\n",
       "  0.9631979695431472,\n",
       "  0.970947146080361,\n",
       "  0.8788743495617524,\n",
       "  0.9083897468886689,\n",
       "  0.9720122056537509,\n",
       "  0.8973121692122916,\n",
       "  0.9762309677677518,\n",
       "  0.9414348776411091,\n",
       "  0.9588073344252991,\n",
       "  0.9494607993182892,\n",
       "  0.9393277230377458,\n",
       "  0.9685129590918985,\n",
       "  0.9336275345320767,\n",
       "  0.9632249604949064]}"
      ]
     },
     "execution_count": 85,
     "metadata": {},
     "output_type": "execute_result"
    }
   ],
   "source": [
    "thr2dice[0.2][1][]"
   ]
  },
  {
   "cell_type": "code",
   "execution_count": 89,
   "metadata": {},
   "outputs": [],
   "source": [
    "THS = []\n",
    "byorgdc = {key:[] for key in ORGAN2ID.keys()}\n",
    "for th, v in thr2dice.items():\n",
    "    THS.append(th)\n",
    "    for organ in thr2dice[th][1].keys():\n",
    "        byorgdc[organ].append(np.mean(thr2dice[th][1][organ]))"
   ]
  },
  {
   "cell_type": "code",
   "execution_count": null,
   "metadata": {},
   "outputs": [],
   "source": [
    "plt.figure(figsize=(12, 12))\n",
    "for key in byorgdc.keys():\n",
    "    plt.plot(THS, byorgdc[key], label=key, marker='o')\n",
    "plt.grid(which='both')\n",
    "plt.legend()\n",
    "plt.title('MIT-b2 fold0')\n",
    "plt.xlabel('threshold')\n",
    "plt.ylabel('dice')\n",
    "plt.show()"
   ]
  },
  {
   "cell_type": "code",
   "execution_count": 96,
   "metadata": {},
   "outputs": [
    {
     "data": {
      "image/png": "[encoded data removed]",
      "text/plain": [
       "<Figure size 864x864 with 1 Axes>"
      ]
     },
     "metadata": {
      "needs_background": "light"
     },
     "output_type": "display_data"
    }
   ],
   "source": [
    "plt.figure(figsize=(12, 12))\n",
    "for key in byorgdc.keys():\n",
    "    plt.plot(THS, byorgdc[key], label=key, marker='o')\n",
    "plt.grid(which='both')\n",
    "plt.legend()\n",
    "plt.title('MIT-b2 fold3 [0.77]')\n",
    "plt.xlabel('threshold')\n",
    "plt.ylabel('dice')\n",
    "plt.show()"
   ]
  },
  {
   "cell_type": "code",
   "execution_count": null,
   "metadata": {},
   "outputs": [],
   "source": []
  },
  {
   "cell_type": "code",
   "execution_count": null,
   "metadata": {},
   "outputs": [],
   "source": []
  },
  {
   "cell_type": "code",
   "execution_count": null,
   "metadata": {},
   "outputs": [],
   "source": []
  },
  {
   "cell_type": "code",
   "execution_count": 91,
   "metadata": {},
   "outputs": [
    {
     "name": "stderr",
     "output_type": "stream",
     "text": [
      "100%|██████████| 70/70 [02:13<00:00,  1.91s/it]\n"
     ]
    },
    {
     "data": {
      "text/plain": [
       "0.7821637880812933"
      ]
     },
     "execution_count": 91,
     "metadata": {},
     "output_type": "execute_result"
    }
   ],
   "source": [
    "#sigma 0.15 overlap 0.15 full flips\n",
    "check_dice_by_thresh(val_df_id, model, th=0.5)"
   ]
  },
  {
   "cell_type": "code",
   "execution_count": 80,
   "metadata": {},
   "outputs": [
    {
     "name": "stderr",
     "output_type": "stream",
     "text": [
      "100%|██████████| 70/70 [02:13<00:00,  1.91s/it]\n"
     ]
    },
    {
     "data": {
      "text/plain": [
       "0.7929917663609595"
      ]
     },
     "execution_count": 80,
     "metadata": {},
     "output_type": "execute_result"
    }
   ],
   "source": [
    "#sigma 0.15 overlap 0.15 full flips\n",
    "check_dice_by_thresh(val_df_id, model, th=0.5)"
   ]
  },
  {
   "cell_type": "code",
   "execution_count": 76,
   "metadata": {},
   "outputs": [
    {
     "name": "stderr",
     "output_type": "stream",
     "text": [
      "100%|██████████| 70/70 [11:33<00:00,  9.91s/it]\n"
     ]
    },
    {
     "data": {
      "text/plain": [
       "0.7894709342735096"
      ]
     },
     "execution_count": 76,
     "metadata": {},
     "output_type": "execute_result"
    }
   ],
   "source": [
    "#sigma 0.15 overlap 0.85 full flips\n",
    "check_dice_by_thresh(val_df_id, model, th=0.5)"
   ]
  },
  {
   "cell_type": "code",
   "execution_count": 71,
   "metadata": {},
   "outputs": [
    {
     "name": "stderr",
     "output_type": "stream",
     "text": [
      "100%|██████████| 70/70 [03:01<00:00,  2.59s/it]\n"
     ]
    },
    {
     "data": {
      "text/plain": [
       "0.7887417085742476"
      ]
     },
     "execution_count": 71,
     "metadata": {},
     "output_type": "execute_result"
    }
   ],
   "source": [
    "#sigma 0.15 overlap 0.85 no flips\n",
    "check_dice_by_thresh(val_df_id, model, th=0.5)"
   ]
  },
  {
   "cell_type": "code",
   "execution_count": 67,
   "metadata": {},
   "outputs": [
    {
     "name": "stderr",
     "output_type": "stream",
     "text": [
      "100%|██████████| 70/70 [01:23<00:00,  1.19s/it]\n"
     ]
    },
    {
     "data": {
      "text/plain": [
       "0.7868062105578382"
      ]
     },
     "execution_count": 67,
     "metadata": {},
     "output_type": "execute_result"
    }
   ],
   "source": [
    "#sigma 0.15 overlap 0.75 no flips\n",
    "check_dice_by_thresh(val_df_id, model, th=0.5)"
   ]
  },
  {
   "cell_type": "code",
   "execution_count": 63,
   "metadata": {},
   "outputs": [
    {
     "name": "stderr",
     "output_type": "stream",
     "text": [
      "100%|██████████| 70/70 [01:23<00:00,  1.19s/it]\n"
     ]
    },
    {
     "data": {
      "text/plain": [
       "0.7865977879675609"
      ]
     },
     "execution_count": 63,
     "metadata": {},
     "output_type": "execute_result"
    }
   ],
   "source": [
    "#sigma 0.1 overlap 0.75  no flips\n",
    "check_dice_by_thresh(val_df_id, model, th=0.5)"
   ]
  },
  {
   "cell_type": "code",
   "execution_count": 50,
   "metadata": {},
   "outputs": [
    {
     "name": "stderr",
     "output_type": "stream",
     "text": [
      "100%|██████████| 70/70 [00:41<00:00,  1.69it/s]\n"
     ]
    },
    {
     "data": {
      "text/plain": [
       "0.7860673084411489"
      ]
     },
     "execution_count": 50,
     "metadata": {},
     "output_type": "execute_result"
    }
   ],
   "source": [
    "check_dice_by_thresh(val_df_id, model, th=0.5)"
   ]
  },
  {
   "cell_type": "code",
   "execution_count": 42,
   "metadata": {},
   "outputs": [
    {
     "name": "stderr",
     "output_type": "stream",
     "text": [
      "100%|██████████| 70/70 [02:14<00:00,  1.92s/it]\n"
     ]
    },
    {
     "data": {
      "text/plain": [
       "0.7922074335294608"
      ]
     },
     "execution_count": 42,
     "metadata": {},
     "output_type": "execute_result"
    }
   ],
   "source": [
    "check_dice_by_thresh(val_df_id, model, th=0.5)"
   ]
  },
  {
   "cell_type": "code",
   "execution_count": 47,
   "metadata": {},
   "outputs": [
    {
     "name": "stderr",
     "output_type": "stream",
     "text": [
      "100%|██████████| 70/70 [04:13<00:00,  3.63s/it]\n"
     ]
    },
    {
     "data": {
      "text/plain": [
       "0.7795852306863414"
      ]
     },
     "execution_count": 47,
     "metadata": {},
     "output_type": "execute_result"
    }
   ],
   "source": [
    "check_dice_by_thresh(val_df_id, model, th=0.5)"
   ]
  },
  {
   "cell_type": "code",
   "execution_count": 39,
   "metadata": {},
   "outputs": [
    {
     "name": "stderr",
     "output_type": "stream",
     "text": [
      "100%|██████████| 70/70 [02:00<00:00,  1.72s/it]\n"
     ]
    },
    {
     "data": {
      "text/plain": [
       "0.7795096852782736"
      ]
     },
     "execution_count": 39,
     "metadata": {},
     "output_type": "execute_result"
    }
   ],
   "source": [
    "# overlap 0.25, flips\n",
    "check_dice_by_thresh(val_df_id, model, th=0.5)"
   ]
  },
  {
   "cell_type": "code",
   "execution_count": 81,
   "metadata": {},
   "outputs": [
    {
     "name": "stderr",
     "output_type": "stream",
     "text": [
      "100%|██████████| 70/70 [01:59<00:00,  1.71s/it]\n"
     ]
    },
    {
     "data": {
      "text/plain": [
       "0.7852644674540503"
      ]
     },
     "execution_count": 81,
     "metadata": {},
     "output_type": "execute_result"
    }
   ],
   "source": [
    "# overlap 0.25, flips\n",
    "check_dice_by_thresh(val_df_id, model, th=0.55)"
   ]
  },
  {
   "cell_type": "code",
   "execution_count": 54,
   "metadata": {},
   "outputs": [
    {
     "name": "stderr",
     "output_type": "stream",
     "text": [
      "100%|██████████| 70/70 [01:59<00:00,  1.70s/it]\n"
     ]
    },
    {
     "data": {
      "text/plain": [
       "0.7837059022507594"
      ]
     },
     "execution_count": 54,
     "metadata": {},
     "output_type": "execute_result"
    }
   ],
   "source": [
    "# overlap 0.25, flips\n",
    "check_dice_by_thresh(val_df_id, model, th=0.55)"
   ]
  },
  {
   "cell_type": "code",
   "execution_count": 50,
   "metadata": {},
   "outputs": [
    {
     "name": "stderr",
     "output_type": "stream",
     "text": [
      "100%|██████████| 70/70 [00:36<00:00,  1.90it/s]\n"
     ]
    },
    {
     "data": {
      "text/plain": [
       "0.7780266804372483"
      ]
     },
     "execution_count": 50,
     "metadata": {},
     "output_type": "execute_result"
    }
   ],
   "source": [
    "# overlap 0.1\n",
    "check_dice_by_thresh(val_df_id, model, th=0.55)"
   ]
  },
  {
   "cell_type": "code",
   "execution_count": 42,
   "metadata": {},
   "outputs": [
    {
     "name": "stderr",
     "output_type": "stream",
     "text": [
      "100%|██████████| 70/70 [00:37<00:00,  1.85it/s]\n"
     ]
    },
    {
     "data": {
      "text/plain": [
       "0.7739252546164157"
      ]
     },
     "execution_count": 42,
     "metadata": {},
     "output_type": "execute_result"
    }
   ],
   "source": [
    "# overlap 0.5\n",
    "check_dice_by_thresh(val_df_id, model, th=0.55)"
   ]
  },
  {
   "cell_type": "code",
   "execution_count": 38,
   "metadata": {},
   "outputs": [
    {
     "name": "stderr",
     "output_type": "stream",
     "text": [
      "100%|██████████| 70/70 [00:37<00:00,  1.89it/s]\n"
     ]
    },
    {
     "data": {
      "text/plain": [
       "0.7780303355286389"
      ]
     },
     "execution_count": 38,
     "metadata": {},
     "output_type": "execute_result"
    }
   ],
   "source": [
    "#  overlap 0.25\n",
    "check_dice_by_thresh(val_df_id, model, th=0.55)"
   ]
  },
  {
   "cell_type": "code",
   "execution_count": 49,
   "metadata": {},
   "outputs": [],
   "source": [
    "# torch.save(swa_model.state_dict(), os.path.join(\n",
    "#                     './checkpoint_fold_{}'.format(CURRENT_FOLD), \n",
    "#                     'mit-b2_swa_ep_{:03d}_corrected_bn.pt'.format(135)\n",
    "#                 )) "
   ]
  },
  {
   "cell_type": "markdown",
   "metadata": {},
   "source": [
    "#### lung"
   ]
  },
  {
   "cell_type": "code",
   "execution_count": 55,
   "metadata": {},
   "outputs": [],
   "source": [
    "df_lung = val_df_id[val_df_id['organ'] == 'lung']"
   ]
  },
  {
   "cell_type": "code",
   "execution_count": 56,
   "metadata": {},
   "outputs": [
    {
     "data": {
      "text/plain": [
       "(10, 11)"
      ]
     },
     "execution_count": 56,
     "metadata": {},
     "output_type": "execute_result"
    }
   ],
   "source": [
    "df_lung.shape"
   ]
  },
  {
   "cell_type": "code",
   "execution_count": 57,
   "metadata": {},
   "outputs": [
    {
     "name": "stderr",
     "output_type": "stream",
     "text": [
      "100%|██████████| 10/10 [00:17<00:00,  1.78s/it]\n"
     ]
    },
    {
     "name": "stdout",
     "output_type": "stream",
     "text": [
      "th = 0.05 dice = 0.24206529420240538\n"
     ]
    },
    {
     "name": "stderr",
     "output_type": "stream",
     "text": [
      "100%|██████████| 10/10 [00:17<00:00,  1.77s/it]\n"
     ]
    },
    {
     "name": "stdout",
     "output_type": "stream",
     "text": [
      "th = 0.1 dice = 0.2490360184635249\n"
     ]
    },
    {
     "name": "stderr",
     "output_type": "stream",
     "text": [
      "100%|██████████| 10/10 [00:17<00:00,  1.79s/it]\n"
     ]
    },
    {
     "name": "stdout",
     "output_type": "stream",
     "text": [
      "th = 0.15 dice = 0.2533259205852484\n"
     ]
    },
    {
     "name": "stderr",
     "output_type": "stream",
     "text": [
      "100%|██████████| 10/10 [00:17<00:00,  1.79s/it]\n"
     ]
    },
    {
     "name": "stdout",
     "output_type": "stream",
     "text": [
      "th = 0.2 dice = 0.25670378518964343\n"
     ]
    },
    {
     "name": "stderr",
     "output_type": "stream",
     "text": [
      "100%|██████████| 10/10 [00:17<00:00,  1.78s/it]\n"
     ]
    },
    {
     "name": "stdout",
     "output_type": "stream",
     "text": [
      "th = 0.3 dice = 0.2637115798437431\n"
     ]
    },
    {
     "name": "stderr",
     "output_type": "stream",
     "text": [
      "100%|██████████| 10/10 [00:17<00:00,  1.78s/it]\n"
     ]
    },
    {
     "name": "stdout",
     "output_type": "stream",
     "text": [
      "th = 0.4 dice = 0.26761964739261346\n"
     ]
    },
    {
     "name": "stderr",
     "output_type": "stream",
     "text": [
      "100%|██████████| 10/10 [00:17<00:00,  1.78s/it]\n"
     ]
    },
    {
     "name": "stdout",
     "output_type": "stream",
     "text": [
      "th = 0.5 dice = 0.2697514208423758\n"
     ]
    },
    {
     "name": "stderr",
     "output_type": "stream",
     "text": [
      "100%|██████████| 10/10 [00:17<00:00,  1.79s/it]\n"
     ]
    },
    {
     "name": "stdout",
     "output_type": "stream",
     "text": [
      "th = 0.6 dice = 0.25795674455046763\n"
     ]
    },
    {
     "name": "stderr",
     "output_type": "stream",
     "text": [
      "100%|██████████| 10/10 [00:17<00:00,  1.79s/it]\n"
     ]
    },
    {
     "name": "stdout",
     "output_type": "stream",
     "text": [
      "th = 0.7 dice = 0.2318248397882809\n"
     ]
    },
    {
     "name": "stderr",
     "output_type": "stream",
     "text": [
      "100%|██████████| 10/10 [00:18<00:00,  1.80s/it]"
     ]
    },
    {
     "name": "stdout",
     "output_type": "stream",
     "text": [
      "th = 0.8 dice = 0.19357709067613252\n"
     ]
    },
    {
     "name": "stderr",
     "output_type": "stream",
     "text": [
      "\n"
     ]
    }
   ],
   "source": [
    "for th in [0.05, 0.1, 0.15, 0.2, 0.3, 0.4, 0.5, 0.6, 0.7, 0.8]:\n",
    "    dc = check_dice_by_thresh(df_lung, model, th=th)\n",
    "    print('th =', th, 'dice =', dc)"
   ]
  },
  {
   "cell_type": "code",
   "execution_count": null,
   "metadata": {},
   "outputs": [],
   "source": []
  },
  {
   "cell_type": "code",
   "execution_count": null,
   "metadata": {},
   "outputs": [],
   "source": []
  }
 ],
 "metadata": {
  "kernelspec": {
   "display_name": "Python 3",
   "language": "python",
   "name": "python3"
  },
  "language_info": {
   "codemirror_mode": {
    "name": "ipython",
    "version": 3
   },
   "file_extension": ".py",
   "mimetype": "text/x-python",
   "name": "python",
   "nbconvert_exporter": "python",
   "pygments_lexer": "ipython3",
   "version": "3.6.10"
  }
 },
 "nbformat": 4,
 "nbformat_minor": 4
}
