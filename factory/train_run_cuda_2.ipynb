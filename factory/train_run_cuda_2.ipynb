{
 "cells": [
  {
   "cell_type": "code",
   "execution_count": 1,
   "metadata": {},
   "outputs": [
    {
     "name": "stdout",
     "output_type": "stream",
     "text": [
      "Mon Sep 12 13:10:03 2022       \n",
      "+-----------------------------------------------------------------------------+\n",
      "| NVIDIA-SMI 418.152.00   Driver Version: 418.152.00   CUDA Version: 11.1     |\n",
      "|-------------------------------+----------------------+----------------------+\n",
      "| GPU  Name        Persistence-M| Bus-Id        Disp.A | Volatile Uncorr. ECC |\n",
      "| Fan  Temp  Perf  Pwr:Usage/Cap|         Memory-Usage | GPU-Util  Compute M. |\n",
      "|===============================+======================+======================|\n",
      "|   0  Tesla V100-DGXS...  On   | 00000000:07:00.0 Off |                    0 |\n",
      "| N/A   52C    P0    74W / 300W |   6862MiB / 32478MiB |     92%      Default |\n",
      "+-------------------------------+----------------------+----------------------+\n",
      "|   1  Tesla V100-DGXS...  On   | 00000000:08:00.0 Off |                    0 |\n",
      "| N/A   48C    P0    55W / 300W |   1905MiB / 32478MiB |      0%      Default |\n",
      "+-------------------------------+----------------------+----------------------+\n",
      "|   2  Tesla V100-DGXS...  On   | 00000000:0E:00.0 Off |                    0 |\n",
      "| N/A   49C    P0    58W / 300W |     12MiB / 32478MiB |      0%      Default |\n",
      "+-------------------------------+----------------------+----------------------+\n",
      "|   3  Tesla V100-DGXS...  On   | 00000000:0F:00.0 Off |                    0 |\n",
      "| N/A   51C    P0   171W / 300W |  15885MiB / 32478MiB |     96%      Default |\n",
      "+-------------------------------+----------------------+----------------------+\n",
      "                                                                               \n",
      "+-----------------------------------------------------------------------------+\n",
      "| Processes:                                                       GPU Memory |\n",
      "|  GPU       PID   Type   Process name                             Usage      |\n",
      "|=============================================================================|\n",
      "+-----------------------------------------------------------------------------+\n"
     ]
    }
   ],
   "source": [
    "!nvidia-smi"
   ]
  },
  {
   "cell_type": "code",
   "execution_count": 2,
   "metadata": {},
   "outputs": [],
   "source": [
    "args = {\n",
    "    'comment': 'sc0.5 p768 + prostate shakal + OT + simmimv2 pretrain + harden augm',\n",
    "    'current_fold': 2,\n",
    "    'device': 'cuda:2',\n",
    "    'debug': False,\n",
    "    'short_name': 'coat-small',\n",
    "    'output_folder': './coat-sm-parallel-sc05-p768-pretrain-simmimv2-OT-prostate/',\n",
    "    'dataset': {\n",
    "        'function': 'make_768_dataset',\n",
    "        'n_cross_valid_splits': 5,\n",
    "        'random_seed': 2022,\n",
    "        'train_csv': './../data/train.csv',\n",
    "        'train_images_dir': './../data/train_images_patches_768_overlap/',\n",
    "        'train_masks_dir': './../data/train_masks_patches_768_overlap/',\n",
    "        'spatial_size': 768,\n",
    "        'dataset_class': 'hubmap_p768_organid',\n",
    "        'augmentations': {\n",
    "            'train': 'train_transform_b',\n",
    "            'val': 'val_transform_a',\n",
    "        }\n",
    "    },\n",
    "    'start_global_it': 15000,\n",
    "    'start_epoch': 12,\n",
    "    'model': {\n",
    "        'encoder': 'coat_parallel_small_organ_token',\n",
    "        'decoder': 'daformer_3x3_conv',\n",
    "        'n_classes': 6,  # may not working if changed to 1\n",
    "        'checkpoint_preload': {\n",
    "            'function': 'load_encoder_pretrained',\n",
    "            'args': {\n",
    "                'path_to_checkpoint': './coat-sm-parallel-sc05-p768-pretrain-simmimv2-OT-prostate/checkpoint_fold_2/coat-small_ep_010_dice_0.760553_LAST.pt',\n",
    "                'strict': False,\n",
    "            }\n",
    "            \n",
    "        }\n",
    "    },\n",
    "    'batch_size': 4,\n",
    "    'virtual_batch_size': 1,\n",
    "    'base_lr': 4e-5,\n",
    "    'optimizer': 'adamw',\n",
    "    'optimizer_args': {\n",
    "        'weight_decay': 5e-3,\n",
    "    },\n",
    "    'n_epochs': 50,\n",
    "    'criterion_schedule': 'criterion_schedule_1',\n",
    "    'lr_schedule_function': 'lr_function_a1',\n",
    "    'aux_losses': [\n",
    "        ('aux_serial_1', 0.2),\n",
    "        ('aux_serial_2', 0.2),\n",
    "        ('aux_serial_3', 0.2),\n",
    "        ('aux_parallel_1', 0.2),\n",
    "        ('aux_parallel_2', 0.4),\n",
    "        ('aux_parallel_3', 0.1),\n",
    "    ],\n",
    "    'validation_function': 'validate_a1',\n",
    "    'keep_last_n_checkpoints': {\n",
    "        'function': 'keep_top_n_checkpoints_coat_by_ep',\n",
    "        'n': 10,\n",
    "    },\n",
    "    'before_train': [\n",
    "#         'freeze_encoder_a',\n",
    "    ],\n",
    "    'unfreeze_encoder': {\n",
    "        'active': False,\n",
    "        'n_epoch': 4\n",
    "    },\n",
    "}"
   ]
  },
  {
   "cell_type": "code",
   "execution_count": 3,
   "metadata": {},
   "outputs": [
    {
     "name": "stderr",
     "output_type": "stream",
     "text": [
      "/opt/conda/lib/python3.6/site-packages/albumentations/augmentations/dropout/cutout.py:52: FutureWarning: Cutout has been deprecated. Please use CoarseDropout\n",
      "  FutureWarning,\n"
     ]
    }
   ],
   "source": [
    "from training.training_base import train_a1"
   ]
  },
  {
   "cell_type": "code",
   "execution_count": null,
   "metadata": {
    "scrolled": false
   },
   "outputs": [],
   "source": [
    "train_a1(args)"
   ]
  },
  {
   "cell_type": "code",
   "execution_count": null,
   "metadata": {},
   "outputs": [],
   "source": [
    "args = {\n",
    "    'comment': 'sc0.5 p768 + prostate shakal + OT + simmimv2 pretrain + harden augm',\n",
    "    'current_fold': 0,\n",
    "    'device': 'cuda:2',\n",
    "    'debug': False,\n",
    "    'short_name': 'coat-small',\n",
    "    'output_folder': './coat-sm-parallel-sc05-p768-pretrain-simmimv2-OT-prostate/',\n",
    "    'dataset': {\n",
    "        'function': 'make_768_dataset',\n",
    "        'n_cross_valid_splits': 5,\n",
    "        'random_seed': 2022,\n",
    "        'train_csv': './../data/train.csv',\n",
    "        'train_images_dir': './../data/train_images_patches_768_overlap/',\n",
    "        'train_masks_dir': './../data/train_masks_patches_768_overlap/',\n",
    "        'spatial_size': 768,\n",
    "        'dataset_class': 'hubmap_p768_organid',\n",
    "        'augmentations': {\n",
    "            'train': 'train_transform_b',\n",
    "            'val': 'val_transform_a',\n",
    "        }\n",
    "    },\n",
    "    'start_global_it': 0,\n",
    "    'start_epoch': 0,\n",
    "    'model': {\n",
    "        'encoder': 'coat_parallel_small_organ_token',\n",
    "        'decoder': 'daformer_3x3_conv',\n",
    "        'n_classes': 6,  # may not working if changed to 1\n",
    "        'checkpoint_preload': {\n",
    "            'function': 'load_encoder_pretrained',\n",
    "            'args': {\n",
    "                'path_to_checkpoint': './../coat-simmim-with-organ-token-s05-p768/checkpoint_pretrain/coat-small_ep_016.pt',\n",
    "                'strict': False,\n",
    "            }\n",
    "            \n",
    "        }\n",
    "    },\n",
    "    'batch_size': 4,\n",
    "    'virtual_batch_size': 2,\n",
    "    'base_lr': 4e-5,\n",
    "    'optimizer': 'adamw',\n",
    "    'optimizer_args': {\n",
    "        'weight_decay': 5e-3,\n",
    "    },\n",
    "    'n_epochs': 50,\n",
    "    'criterion_schedule': 'criterion_schedule_1',\n",
    "    'lr_schedule_function': 'lr_function_a1',\n",
    "    'aux_losses': [\n",
    "        ('aux_serial_1', 0.2),\n",
    "        ('aux_serial_2', 0.2),\n",
    "        ('aux_serial_3', 0.2),\n",
    "        ('aux_parallel_1', 0.2),\n",
    "        ('aux_parallel_2', 0.4),\n",
    "        ('aux_parallel_3', 0.1),\n",
    "    ],\n",
    "    'validation_function': 'validate_a1',\n",
    "    'keep_last_n_checkpoints': {\n",
    "        'function': 'keep_top_n_checkpoints_coat_by_ep',\n",
    "        'n': 10,\n",
    "    },\n",
    "    'before_train': [\n",
    "        'freeze_encoder_a',\n",
    "    ],\n",
    "    'unfreeze_encoder': {\n",
    "        'active': True,\n",
    "        'n_epoch': 4\n",
    "    },\n",
    "}"
   ]
  },
  {
   "cell_type": "code",
   "execution_count": null,
   "metadata": {},
   "outputs": [],
   "source": [
    "train_a1(args)"
   ]
  },
  {
   "cell_type": "markdown",
   "metadata": {},
   "source": [
    "# coat unet\n"
   ]
  },
  {
   "cell_type": "code",
   "execution_count": 1,
   "metadata": {},
   "outputs": [
    {
     "name": "stderr",
     "output_type": "stream",
     "text": [
      "/opt/conda/lib/python3.6/site-packages/albumentations/augmentations/dropout/cutout.py:52: FutureWarning: Cutout has been deprecated. Please use CoarseDropout\n",
      "  FutureWarning,\n"
     ]
    }
   ],
   "source": [
    "from configs.config import *\n",
    "from training.training_base import train_a1\n",
    "\n",
    "args = read_args_from_config('./configs/coat-sm-parallel-sc05-p768-pretrain-simmimv1-OT-ft-lb080.json', \n",
    "                             fold=2, device='cuda:2')\n",
    "args['model']['checkpoint_preload']['args']['path_to_checkpoint'] = \\\n",
    "    './../coat-sc05-p768-organ-token/checkpoint_fold_2/coat-small-organ-token-fold2_TOP_5_BEST.pt'"
   ]
  },
  {
   "cell_type": "code",
   "execution_count": 2,
   "metadata": {},
   "outputs": [
    {
     "data": {
      "text/plain": [
       "{'comment': 'sc0.5 p768 + OT + simmimv1 pretrain + unet decoder',\n",
       " 'current_fold': 2,\n",
       " 'device': 'cuda:2',\n",
       " 'debug': False,\n",
       " 'short_name': 'coat-small-unet',\n",
       " 'output_folder': './coat-sm-parallel-sc05-p768-pretrain-simmimv1-OT-ft-lb080/',\n",
       " 'dataset': {'function': 'make_768_dataset',\n",
       "  'n_cross_valid_splits': 5,\n",
       "  'random_seed': 2022,\n",
       "  'train_csv': './../data/train.csv',\n",
       "  'train_images_dir': './../data/train_images_patches_768_overlap/',\n",
       "  'train_masks_dir': './../data/train_masks_patches_768_overlap/',\n",
       "  'spatial_size': 768,\n",
       "  'dataset_class': 'hubmap_p768_organid',\n",
       "  'augmentations': {'train': 'train_transform_a', 'val': 'val_transform_a'}},\n",
       " 'start_global_it': 0,\n",
       " 'start_epoch': 0,\n",
       " 'model': {'encoder': 'coat_parallel_small_organ_token',\n",
       "  'decoder': 'unet_decoder',\n",
       "  'n_classes': 6,\n",
       "  'checkpoint_preload': {'function': 'load_encoder_from_swa_checkpoint',\n",
       "   'args': {'path_to_checkpoint': './../coat-sc05-p768-organ-token/checkpoint_fold_2/coat-small-organ-token-fold2_TOP_5_BEST.pt',\n",
       "    'strict': False,\n",
       "    'ignore_aux_heads': True}}},\n",
       " 'batch_size': 4,\n",
       " 'virtual_batch_size': 1,\n",
       " 'base_lr': 4e-05,\n",
       " 'optimizer': 'adamw',\n",
       " 'optimizer_args': {'weight_decay': 0.005},\n",
       " 'n_epochs': 80,\n",
       " 'criterion_schedule': 'criterion_schedule_1',\n",
       " 'lr_schedule_function': 'lr_function_a1',\n",
       " 'aux_losses': [['aux2_unet', 0.2], ['aux3_unet', 0.2]],\n",
       " 'validation_function': 'validate_a1',\n",
       " 'keep_last_n_checkpoints': {'function': 'keep_top_n_checkpoints_coat_by_ep',\n",
       "  'n': 15},\n",
       " 'before_train': ['freeze_encoder_a'],\n",
       " 'unfreeze_encoder': {'active': False, 'n_epoch': 0},\n",
       " 'swa_top_n': 5,\n",
       " 'swa_device': 'cuda:2'}"
      ]
     },
     "execution_count": 2,
     "metadata": {},
     "output_type": "execute_result"
    }
   ],
   "source": [
    "args"
   ]
  },
  {
   "cell_type": "code",
   "execution_count": null,
   "metadata": {},
   "outputs": [],
   "source": [
    "train_a1(args)"
   ]
  },
  {
   "cell_type": "code",
   "execution_count": null,
   "metadata": {},
   "outputs": [],
   "source": []
  }
 ],
 "metadata": {
  "kernelspec": {
   "display_name": "Python 3",
   "language": "python",
   "name": "python3"
  },
  "language_info": {
   "codemirror_mode": {
    "name": "ipython",
    "version": 3
   },
   "file_extension": ".py",
   "mimetype": "text/x-python",
   "name": "python",
   "nbconvert_exporter": "python",
   "pygments_lexer": "ipython3",
   "version": "3.6.10"
  }
 },
 "nbformat": 4,
 "nbformat_minor": 4
}
