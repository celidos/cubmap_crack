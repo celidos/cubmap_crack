{
 "cells": [
  {
   "cell_type": "code",
   "execution_count": 1,
   "id": "d9ca96c8-9694-40bd-91d7-4bb109866582",
   "metadata": {},
   "outputs": [],
   "source": [
    "import torch\n",
    "\n",
    "from model import Net"
   ]
  },
  {
   "cell_type": "code",
   "execution_count": 2,
   "id": "8bbc7baa-14b2-4d47-b2e6-4f6106eb186c",
   "metadata": {},
   "outputs": [],
   "source": [
    "model = Net()"
   ]
  },
  {
   "cell_type": "code",
   "execution_count": 3,
   "id": "d591ccbc-0922-4cbe-b052-be6c15e525c0",
   "metadata": {},
   "outputs": [],
   "source": [
    "sample_input = torch.randn(1, 3, 512, 512)"
   ]
  },
  {
   "cell_type": "code",
   "execution_count": 4,
   "id": "7cd976a8-be89-4f93-931f-1c8e4dffbe02",
   "metadata": {},
   "outputs": [],
   "source": [
    "res = model({'image': sample_input})"
   ]
  },
  {
   "cell_type": "code",
   "execution_count": 5,
   "id": "d84b2f16-d0aa-439b-8dc1-9ca57b18a348",
   "metadata": {},
   "outputs": [
    {
     "data": {
      "text/plain": [
       "torch.Size([1, 6, 512, 512])"
      ]
     },
     "execution_count": 5,
     "metadata": {},
     "output_type": "execute_result"
    }
   ],
   "source": [
    "res['aux0_enc_logits'].shape"
   ]
  },
  {
   "cell_type": "code",
   "execution_count": 6,
   "id": "6155fcf1-5a34-443f-893e-f4428807a7c6",
   "metadata": {},
   "outputs": [
    {
     "data": {
      "text/plain": [
       "torch.Size([1, 6, 512, 512])"
      ]
     },
     "execution_count": 6,
     "metadata": {},
     "output_type": "execute_result"
    }
   ],
   "source": [
    "res['aux1_enc_logits'].shape"
   ]
  },
  {
   "cell_type": "code",
   "execution_count": 7,
   "id": "8ce4c43b-1ee4-4f07-af21-3697f146ca68",
   "metadata": {},
   "outputs": [
    {
     "data": {
      "text/plain": [
       "torch.Size([1, 6, 512, 512])"
      ]
     },
     "execution_count": 7,
     "metadata": {},
     "output_type": "execute_result"
    }
   ],
   "source": [
    "res['aux0_dec_logits'].shape"
   ]
  },
  {
   "cell_type": "code",
   "execution_count": 8,
   "id": "592319fa-12e4-44c5-a0f6-d6ffecd0dfc0",
   "metadata": {},
   "outputs": [
    {
     "data": {
      "text/plain": [
       "torch.Size([1, 6, 512, 512])"
      ]
     },
     "execution_count": 8,
     "metadata": {},
     "output_type": "execute_result"
    }
   ],
   "source": [
    "res['aux1_dec_logits'].shape"
   ]
  },
  {
   "cell_type": "code",
   "execution_count": 9,
   "id": "bd8c604e-1a16-4c1f-8b97-8e9530b485f9",
   "metadata": {},
   "outputs": [
    {
     "data": {
      "text/plain": [
       "torch.Size([1, 6, 512, 512])"
      ]
     },
     "execution_count": 9,
     "metadata": {},
     "output_type": "execute_result"
    }
   ],
   "source": [
    "res['aux2_dec_logits'].shape"
   ]
  }
 ],
 "metadata": {
  "kernelspec": {
   "display_name": "Python 3 (ipykernel)",
   "language": "python",
   "name": "python3"
  },
  "language_info": {
   "codemirror_mode": {
    "name": "ipython",
    "version": 3
   },
   "file_extension": ".py",
   "mimetype": "text/x-python",
   "name": "python",
   "nbconvert_exporter": "python",
   "pygments_lexer": "ipython3",
   "version": "3.9.7"
  }
 },
 "nbformat": 4,
 "nbformat_minor": 5
}
