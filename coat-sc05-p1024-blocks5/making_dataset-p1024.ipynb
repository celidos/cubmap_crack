{
 "cells": [
  {
   "cell_type": "code",
   "execution_count": 21,
   "metadata": {},
   "outputs": [],
   "source": [
    "import os\n",
    "\n",
    "import numpy as np\n",
    "import pandas as pd\n",
    "import cv2 as cv\n",
    "from matplotlib import pyplot as plt\n",
    "\n",
    "from tqdm import tqdm\n",
    "from glob import glob\n",
    "\n",
    "from pathlib import Path"
   ]
  },
  {
   "cell_type": "markdown",
   "metadata": {},
   "source": [
    "# custom patched dataset"
   ]
  },
  {
   "cell_type": "code",
   "execution_count": 22,
   "metadata": {},
   "outputs": [],
   "source": [
    "SCALE_FACTOR = 0.5\n",
    "PATCH_SIZE = 1024"
   ]
  },
  {
   "cell_type": "code",
   "execution_count": 23,
   "metadata": {},
   "outputs": [],
   "source": [
    "def make_path_to_img(id: str):\n",
    "    ans = (\n",
    "        './../data/train_images/{}.tiff'.format(id),\n",
    "        './../data/train_masks/{}.npy'.format(id)\n",
    "    )\n",
    "    return ans"
   ]
  },
  {
   "cell_type": "code",
   "execution_count": 47,
   "metadata": {},
   "outputs": [],
   "source": [
    "!rm ./../data/train_masks_patches_1024_overlap/*.png"
   ]
  },
  {
   "cell_type": "code",
   "execution_count": 48,
   "metadata": {},
   "outputs": [],
   "source": [
    "!rm ./../data/train_images_patches_1024_overlap/*.png"
   ]
  },
  {
   "cell_type": "code",
   "execution_count": 31,
   "metadata": {},
   "outputs": [],
   "source": [
    "# !mkdir ./../data/train_images_patches_1024_overlap/\n",
    "# !mkdir ./../data/train_masks_patches_1024_overlap/"
   ]
  },
  {
   "cell_type": "code",
   "execution_count": 51,
   "metadata": {},
   "outputs": [],
   "source": [
    "def patchify_image(id: str, output_dir_img: str, output_dir_mask: str):\n",
    "    Path(output_dir_img).mkdir(parents=True, exist_ok=True)\n",
    "    Path(output_dir_mask).mkdir(parents=True, exist_ok=True)\n",
    "    \n",
    "    iname, mname = make_path_to_img(id)\n",
    "    \n",
    "    img = cv.imread(iname)\n",
    "    img = cv.cvtColor(img, cv.COLOR_BGR2RGB)\n",
    "    \n",
    "    mask = np.load(mname)\n",
    "    \n",
    "    img = cv.resize(img, None, fx=SCALE_FACTOR, fy=SCALE_FACTOR, interpolation=cv.INTER_AREA)\n",
    "    mask = cv.resize(mask, dsize=img.shape[:2], interpolation=cv.INTER_NEAREST)\n",
    "    \n",
    "#     thresh = img.mean(axis=2).astype(np.uint8)\n",
    "    \n",
    "#     color = np.array([0, 0, 0])\n",
    "#     img = np.stack([np.pad(img[:,:,c], PATCH_SIZE // 4, mode='constant', constant_values=color[c]) for c in range(3)], axis=2)\n",
    "\n",
    "#     mask = np.pad(mask, PATCH_SIZE // 4, mode='constant', constant_values=color[0])\n",
    "    \n",
    "#     thresh = np.pad(thresh, PATCH_SIZE // 4, mode='constant', constant_values=255)\n",
    "#     _, thresh = cv.threshold(thresh, int(thresh.mean()), 255, cv.THRESH_BINARY)\n",
    "    \n",
    "#     plt.imshow(thresh, cmap='gray')\n",
    "#     plt.show()\n",
    "    \n",
    "#     plt.imshow(img)\n",
    "#     plt.show()\n",
    "    \n",
    "#     plt.imshow(mask)\n",
    "#     plt.show()\n",
    "    \n",
    "    H, W, _ = img.shape\n",
    "    \n",
    "    patch_index = 0\n",
    "    for dy in np.round(np.linspace(0, H - PATCH_SIZE - 1, 4)).astype(np.int32):\n",
    "        for dx in np.round(np.linspace(0, W - PATCH_SIZE - 1, 4)).astype(np.int32):\n",
    "#     for dy in range(PATCH_SIZE // 8, H - PATCH_SIZE, PATCH_SIZE // 5):\n",
    "#         for dx in range(PATCH_SIZE // 8, W - PATCH_SIZE, PATCH_SIZE // 5):\n",
    "#             th_slc = thresh[dy : dy + PATCH_SIZE, dx : dx + PATCH_SIZE]\n",
    "#             th_slc = 1 - th_slc / 255\n",
    "#             th_sum = th_slc.sum()\n",
    "#             if th_sum < 1000:\n",
    "#                 continue\n",
    "            \n",
    "            \n",
    "            patch = img[dy : dy + PATCH_SIZE, dx : dx + PATCH_SIZE]\n",
    "            maskpatch = mask[dy : dy + PATCH_SIZE, dx : dx + PATCH_SIZE]\n",
    "            \n",
    "            cv.imwrite(os.path.join(output_dir_img, '{}_{:05d}.png'.format(id, patch_index)), patch[:, :, ::-1])\n",
    "            cv.imwrite(os.path.join(output_dir_mask, '{}_{:05d}.png'.format(id, patch_index)), maskpatch)\n",
    "            \n",
    "            patch_index += 1\n",
    "            \n",
    "#             print(mask.min(), mask.max())\n",
    "#             0/0"
   ]
  },
  {
   "cell_type": "code",
   "execution_count": 52,
   "metadata": {
    "scrolled": false
   },
   "outputs": [],
   "source": [
    "patchify_image(\n",
    "    '10044', \n",
    "    './../data/train_images_patches_1024_overlap/', \n",
    "    './../data/train_masks_patches_1024_overlap/'\n",
    ")"
   ]
  },
  {
   "cell_type": "code",
   "execution_count": 53,
   "metadata": {},
   "outputs": [
    {
     "name": "stderr",
     "output_type": "stream",
     "text": [
      "100%|██████████| 351/351 [09:45<00:00,  1.67s/it]\n"
     ]
    }
   ],
   "source": [
    "for fname in tqdm(glob('./../data/train_images/*.tiff')):\n",
    "    bname = os.path.basename(fname)\n",
    "    id = bname.split('.')[0]\n",
    "    patchify_image(\n",
    "        id, \n",
    "        './../data/train_images_patches_1024_overlap/', \n",
    "        './../data/train_masks_patches_1024_overlap/'\n",
    "    )    "
   ]
  },
  {
   "cell_type": "code",
   "execution_count": null,
   "metadata": {},
   "outputs": [],
   "source": []
  },
  {
   "cell_type": "code",
   "execution_count": null,
   "metadata": {},
   "outputs": [],
   "source": []
  },
  {
   "cell_type": "code",
   "execution_count": null,
   "metadata": {},
   "outputs": [],
   "source": []
  }
 ],
 "metadata": {
  "kernelspec": {
   "display_name": "Python 3",
   "language": "python",
   "name": "python3"
  },
  "language_info": {
   "codemirror_mode": {
    "name": "ipython",
    "version": 3
   },
   "file_extension": ".py",
   "mimetype": "text/x-python",
   "name": "python",
   "nbconvert_exporter": "python",
   "pygments_lexer": "ipython3",
   "version": "3.6.10"
  }
 },
 "nbformat": 4,
 "nbformat_minor": 4
}
