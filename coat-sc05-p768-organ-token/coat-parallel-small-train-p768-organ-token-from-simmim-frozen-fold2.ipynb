{
 "cells": [
  {
   "cell_type": "markdown",
   "metadata": {},
   "source": [
    "# CoaT small parallel"
   ]
  },
  {
   "cell_type": "code",
   "execution_count": 2,
   "metadata": {},
   "outputs": [
    {
     "name": "stdout",
     "output_type": "stream",
     "text": [
      "Tue Sep  6 17:31:10 2022       \n",
      "+-----------------------------------------------------------------------------+\n",
      "| NVIDIA-SMI 418.152.00   Driver Version: 418.152.00   CUDA Version: 11.1     |\n",
      "|-------------------------------+----------------------+----------------------+\n",
      "| GPU  Name        Persistence-M| Bus-Id        Disp.A | Volatile Uncorr. ECC |\n",
      "| Fan  Temp  Perf  Pwr:Usage/Cap|         Memory-Usage | GPU-Util  Compute M. |\n",
      "|===============================+======================+======================|\n",
      "|   0  Tesla V100-DGXS...  On   | 00000000:07:00.0 Off |                    0 |\n",
      "| N/A   43C    P0    40W / 300W |     57MiB / 32478MiB |      0%      Default |\n",
      "+-------------------------------+----------------------+----------------------+\n",
      "|   1  Tesla V100-DGXS...  On   | 00000000:08:00.0 Off |                    0 |\n",
      "| N/A   44C    P0    54W / 300W |   1905MiB / 32478MiB |      0%      Default |\n",
      "+-------------------------------+----------------------+----------------------+\n",
      "|   2  Tesla V100-DGXS...  On   | 00000000:0E:00.0 Off |                    0 |\n",
      "| N/A   43C    P0    37W / 300W |     12MiB / 32478MiB |      0%      Default |\n",
      "+-------------------------------+----------------------+----------------------+\n",
      "|   3  Tesla V100-DGXS...  On   | 00000000:0F:00.0 Off |                    0 |\n",
      "| N/A   43C    P0    37W / 300W |     12MiB / 32478MiB |      0%      Default |\n",
      "+-------------------------------+----------------------+----------------------+\n",
      "                                                                               \n",
      "+-----------------------------------------------------------------------------+\n",
      "| Processes:                                                       GPU Memory |\n",
      "|  GPU       PID   Type   Process name                             Usage      |\n",
      "|=============================================================================|\n",
      "+-----------------------------------------------------------------------------+\n"
     ]
    }
   ],
   "source": [
    "!nvidia-smi"
   ]
  },
  {
   "cell_type": "code",
   "execution_count": 3,
   "metadata": {},
   "outputs": [],
   "source": [
    "device = 'cuda:3'\n",
    "DEVICE = device"
   ]
  },
  {
   "cell_type": "code",
   "execution_count": 4,
   "metadata": {},
   "outputs": [],
   "source": [
    "CURRENT_FOLD = 2"
   ]
  },
  {
   "cell_type": "code",
   "execution_count": 5,
   "metadata": {},
   "outputs": [],
   "source": [
    "# !pip install timm==0.4.12"
   ]
  },
  {
   "cell_type": "markdown",
   "metadata": {},
   "source": [
    "# imports"
   ]
  },
  {
   "cell_type": "code",
   "execution_count": 6,
   "metadata": {},
   "outputs": [],
   "source": [
    "import random\n",
    "from pathlib import Path\n",
    "\n",
    "import numpy as np\n",
    "import pandas as pd\n",
    "import cv2 as cv\n",
    "import os\n",
    "\n",
    "from matplotlib import pyplot as plt\n",
    "from glob import glob\n",
    "from sklearn.model_selection import StratifiedKFold\n",
    "from tqdm import tqdm\n",
    "from IPython.display import clear_output\n",
    "\n",
    "import albumentations as A\n",
    "import albumentations.pytorch\n",
    "\n",
    "import torch\n",
    "import torch.nn as nn\n",
    "import torch.nn.functional as F\n",
    "from torch.utils.data import Dataset\n",
    "from torch.utils.data import DataLoader\n",
    "from torch.optim.swa_utils import AveragedModel, SWALR\n",
    "\n",
    "import torch.cuda.amp as amp\n",
    "is_amp = True"
   ]
  },
  {
   "cell_type": "markdown",
   "metadata": {},
   "source": [
    "# data"
   ]
  },
  {
   "cell_type": "code",
   "execution_count": 7,
   "metadata": {},
   "outputs": [],
   "source": [
    "ORGAN2ID = {\n",
    "    'kidney' : 0,\n",
    "    'prostate' : 1,\n",
    "    'largeintestine' : 2,\n",
    "    'spleen' : 3,\n",
    "    'lung' : 4\n",
    "}\n",
    "ID2ORGAN = {v: k for k, v in ORGAN2ID.items()}"
   ]
  },
  {
   "cell_type": "markdown",
   "metadata": {},
   "source": [
    "# model testing"
   ]
  },
  {
   "cell_type": "code",
   "execution_count": 8,
   "metadata": {},
   "outputs": [],
   "source": [
    "from model_coat_daformer import *\n",
    "from coat import *"
   ]
  },
  {
   "cell_type": "code",
   "execution_count": 9,
   "metadata": {},
   "outputs": [],
   "source": [
    "encoder = coat_parallel_small\n",
    "decoder = daformer_conv3x3\n",
    "\n",
    "model = Net(encoder=encoder, decoder=decoder, n_classes=6)"
   ]
  },
  {
   "cell_type": "code",
   "execution_count": 10,
   "metadata": {},
   "outputs": [],
   "source": [
    "sample_input = torch.randn(1, 3, 768, 768)"
   ]
  },
  {
   "cell_type": "code",
   "execution_count": 11,
   "metadata": {},
   "outputs": [
    {
     "name": "stderr",
     "output_type": "stream",
     "text": [
      "/opt/conda/lib/python3.6/site-packages/torch/nn/functional.py:3635: UserWarning: Default upsampling behavior when mode=bilinear is changed to align_corners=False since 0.4.0. Please specify align_corners=True if the old behavior is desired. See the documentation of nn.Upsample for details.\n",
      "  \"See the documentation of nn.Upsample for details.\".format(mode)\n"
     ]
    }
   ],
   "source": [
    "sample_output = model({'image': sample_input, 'organ': [1]})"
   ]
  },
  {
   "cell_type": "code",
   "execution_count": 12,
   "metadata": {},
   "outputs": [
    {
     "data": {
      "text/plain": [
       "dict_keys(['aux_parallel_0', 'aux_parallel_1', 'aux_parallel_2', 'aux_parallel_3', 'aux_serial_0', 'aux_serial_1', 'aux_serial_2', 'aux_serial_3', 'logits'])"
      ]
     },
     "execution_count": 12,
     "metadata": {},
     "output_type": "execute_result"
    }
   ],
   "source": [
    "sample_output.keys()"
   ]
  },
  {
   "cell_type": "code",
   "execution_count": 13,
   "metadata": {},
   "outputs": [
    {
     "name": "stdout",
     "output_type": "stream",
     "text": [
      "aux_parallel_0 torch.Size([1, 6, 192, 192])\n",
      "aux_parallel_1 torch.Size([1, 6, 96, 96])\n",
      "aux_parallel_2 torch.Size([1, 6, 48, 48])\n",
      "aux_parallel_3 torch.Size([1, 6, 24, 24])\n",
      "aux_serial_0 torch.Size([1, 6, 192, 192])\n",
      "aux_serial_1 torch.Size([1, 6, 96, 96])\n",
      "aux_serial_2 torch.Size([1, 6, 48, 48])\n",
      "aux_serial_3 torch.Size([1, 6, 24, 24])\n",
      "logits torch.Size([1, 6, 768, 768])\n"
     ]
    }
   ],
   "source": [
    "for key in sample_output.keys():\n",
    "    print(key, sample_output[key].shape)"
   ]
  },
  {
   "cell_type": "markdown",
   "metadata": {},
   "source": [
    "## data 768"
   ]
  },
  {
   "cell_type": "code",
   "execution_count": 14,
   "metadata": {},
   "outputs": [],
   "source": [
    "TRAIN_CSV = './../data/train.csv'\n",
    "TEST_CSV = './../data/test.csv'\n",
    "TRAIN_IMAGES_DIR = './../data/train_images_patches_768_overlap/'\n",
    "TRAIN_MASKS_DIR = './../data/train_masks_patches_768_overlap/'\n",
    "\n",
    "N_CROSS_VALID_SPLITS = 5\n",
    "RANDOM_SEED = 2022\n",
    "\n",
    "SPATIAL_SIZE = 768 # размер патча\n"
   ]
  },
  {
   "cell_type": "code",
   "execution_count": 15,
   "metadata": {},
   "outputs": [],
   "source": [
    "train_df = pd.read_csv(TRAIN_CSV)"
   ]
  },
  {
   "cell_type": "code",
   "execution_count": 16,
   "metadata": {},
   "outputs": [],
   "source": [
    "def make_train_image_path(row):\n",
    "    return os.path.join(TRAIN_IMAGES_DIR, str(row['id']) + '.png')\n",
    "\n",
    "def make_train_mask_path(row):\n",
    "    return os.path.join(TRAIN_MASKS_DIR, str(row['id']) + '.png')\n",
    "\n",
    "def create_folds(df: pd.DataFrame, n_splits: int, random_seed: int) -> pd.DataFrame:\n",
    "    skf = StratifiedKFold(n_splits=n_splits, shuffle=True, random_state=random_seed)\n",
    "    for fold, (_, val_idx) in enumerate(skf.split(X=df, y=df[\"organ\"])):\n",
    "        df.loc[val_idx, \"fold\"] = int(fold)\n",
    "\n",
    "    return df"
   ]
  },
  {
   "cell_type": "code",
   "execution_count": 17,
   "metadata": {},
   "outputs": [],
   "source": [
    "train_df = create_folds(train_df, n_splits=N_CROSS_VALID_SPLITS, random_seed=RANDOM_SEED)"
   ]
  },
  {
   "cell_type": "code",
   "execution_count": 18,
   "metadata": {},
   "outputs": [
    {
     "data": {
      "text/html": [
       "<div>\n",
       "<style scoped>\n",
       "    .dataframe tbody tr th:only-of-type {\n",
       "        vertical-align: middle;\n",
       "    }\n",
       "\n",
       "    .dataframe tbody tr th {\n",
       "        vertical-align: top;\n",
       "    }\n",
       "\n",
       "    .dataframe thead th {\n",
       "        text-align: right;\n",
       "    }\n",
       "</style>\n",
       "<table border=\"1\" class=\"dataframe\">\n",
       "  <thead>\n",
       "    <tr style=\"text-align: right;\">\n",
       "      <th></th>\n",
       "      <th>id</th>\n",
       "      <th>organ</th>\n",
       "      <th>data_source</th>\n",
       "      <th>img_height</th>\n",
       "      <th>img_width</th>\n",
       "      <th>pixel_size</th>\n",
       "      <th>tissue_thickness</th>\n",
       "      <th>rle</th>\n",
       "      <th>age</th>\n",
       "      <th>sex</th>\n",
       "      <th>fold</th>\n",
       "    </tr>\n",
       "  </thead>\n",
       "  <tbody>\n",
       "    <tr>\n",
       "      <th>0</th>\n",
       "      <td>10044</td>\n",
       "      <td>prostate</td>\n",
       "      <td>HPA</td>\n",
       "      <td>3000</td>\n",
       "      <td>3000</td>\n",
       "      <td>0.4</td>\n",
       "      <td>4</td>\n",
       "      <td>1459676 77 1462675 82 1465674 87 1468673 92 14...</td>\n",
       "      <td>37.0</td>\n",
       "      <td>Male</td>\n",
       "      <td>4.0</td>\n",
       "    </tr>\n",
       "    <tr>\n",
       "      <th>1</th>\n",
       "      <td>10274</td>\n",
       "      <td>prostate</td>\n",
       "      <td>HPA</td>\n",
       "      <td>3000</td>\n",
       "      <td>3000</td>\n",
       "      <td>0.4</td>\n",
       "      <td>4</td>\n",
       "      <td>715707 2 718705 8 721703 11 724701 18 727692 3...</td>\n",
       "      <td>76.0</td>\n",
       "      <td>Male</td>\n",
       "      <td>0.0</td>\n",
       "    </tr>\n",
       "    <tr>\n",
       "      <th>2</th>\n",
       "      <td>10392</td>\n",
       "      <td>spleen</td>\n",
       "      <td>HPA</td>\n",
       "      <td>3000</td>\n",
       "      <td>3000</td>\n",
       "      <td>0.4</td>\n",
       "      <td>4</td>\n",
       "      <td>1228631 20 1231629 24 1234624 40 1237623 47 12...</td>\n",
       "      <td>82.0</td>\n",
       "      <td>Male</td>\n",
       "      <td>0.0</td>\n",
       "    </tr>\n",
       "    <tr>\n",
       "      <th>3</th>\n",
       "      <td>10488</td>\n",
       "      <td>lung</td>\n",
       "      <td>HPA</td>\n",
       "      <td>3000</td>\n",
       "      <td>3000</td>\n",
       "      <td>0.4</td>\n",
       "      <td>4</td>\n",
       "      <td>3446519 15 3449517 17 3452514 20 3455510 24 34...</td>\n",
       "      <td>78.0</td>\n",
       "      <td>Male</td>\n",
       "      <td>0.0</td>\n",
       "    </tr>\n",
       "    <tr>\n",
       "      <th>4</th>\n",
       "      <td>10610</td>\n",
       "      <td>spleen</td>\n",
       "      <td>HPA</td>\n",
       "      <td>3000</td>\n",
       "      <td>3000</td>\n",
       "      <td>0.4</td>\n",
       "      <td>4</td>\n",
       "      <td>478925 68 481909 87 484893 105 487863 154 4908...</td>\n",
       "      <td>21.0</td>\n",
       "      <td>Female</td>\n",
       "      <td>4.0</td>\n",
       "    </tr>\n",
       "  </tbody>\n",
       "</table>\n",
       "</div>"
      ],
      "text/plain": [
       "      id     organ data_source  img_height  img_width  pixel_size  \\\n",
       "0  10044  prostate         HPA        3000       3000         0.4   \n",
       "1  10274  prostate         HPA        3000       3000         0.4   \n",
       "2  10392    spleen         HPA        3000       3000         0.4   \n",
       "3  10488      lung         HPA        3000       3000         0.4   \n",
       "4  10610    spleen         HPA        3000       3000         0.4   \n",
       "\n",
       "   tissue_thickness                                                rle   age  \\\n",
       "0                 4  1459676 77 1462675 82 1465674 87 1468673 92 14...  37.0   \n",
       "1                 4  715707 2 718705 8 721703 11 724701 18 727692 3...  76.0   \n",
       "2                 4  1228631 20 1231629 24 1234624 40 1237623 47 12...  82.0   \n",
       "3                 4  3446519 15 3449517 17 3452514 20 3455510 24 34...  78.0   \n",
       "4                 4  478925 68 481909 87 484893 105 487863 154 4908...  21.0   \n",
       "\n",
       "      sex  fold  \n",
       "0    Male   4.0  \n",
       "1    Male   0.0  \n",
       "2    Male   0.0  \n",
       "3    Male   0.0  \n",
       "4  Female   4.0  "
      ]
     },
     "execution_count": 18,
     "metadata": {},
     "output_type": "execute_result"
    }
   ],
   "source": [
    "train_df.head()"
   ]
  },
  {
   "cell_type": "code",
   "execution_count": 19,
   "metadata": {},
   "outputs": [],
   "source": [
    "def make_768_dataset(df):\n",
    "    new_df = []\n",
    "    for index, row in df.iterrows():\n",
    "        id = row['id']\n",
    "        glb = list(glob(TRAIN_IMAGES_DIR + '{}_*.png'.format(id)))\n",
    "        for fname in glb:\n",
    "            newrow = dict()\n",
    "            newrow['id'] = id\n",
    "            newrow['image'] = fname\n",
    "            newrow['mask'] = fname.replace('train_images_', 'train_masks_')\n",
    "            newrow['organ'] = row['organ']\n",
    "            newrow['pixel_size'] = row['pixel_size']\n",
    "            newrow['fold'] = row['fold']\n",
    "            \n",
    "            new_df.append(newrow)\n",
    "    return pd.DataFrame(new_df)"
   ]
  },
  {
   "cell_type": "code",
   "execution_count": 20,
   "metadata": {},
   "outputs": [
    {
     "name": "stdout",
     "output_type": "stream",
     "text": [
      "(8658, 6)\n"
     ]
    },
    {
     "data": {
      "text/html": [
       "<div>\n",
       "<style scoped>\n",
       "    .dataframe tbody tr th:only-of-type {\n",
       "        vertical-align: middle;\n",
       "    }\n",
       "\n",
       "    .dataframe tbody tr th {\n",
       "        vertical-align: top;\n",
       "    }\n",
       "\n",
       "    .dataframe thead th {\n",
       "        text-align: right;\n",
       "    }\n",
       "</style>\n",
       "<table border=\"1\" class=\"dataframe\">\n",
       "  <thead>\n",
       "    <tr style=\"text-align: right;\">\n",
       "      <th></th>\n",
       "      <th>fold</th>\n",
       "      <th>id</th>\n",
       "      <th>image</th>\n",
       "      <th>mask</th>\n",
       "      <th>organ</th>\n",
       "      <th>pixel_size</th>\n",
       "    </tr>\n",
       "  </thead>\n",
       "  <tbody>\n",
       "    <tr>\n",
       "      <th>0</th>\n",
       "      <td>4.0</td>\n",
       "      <td>10044</td>\n",
       "      <td>./../data/train_images_patches_768_overlap/100...</td>\n",
       "      <td>./../data/train_masks_patches_768_overlap/1004...</td>\n",
       "      <td>prostate</td>\n",
       "      <td>0.4</td>\n",
       "    </tr>\n",
       "    <tr>\n",
       "      <th>1</th>\n",
       "      <td>4.0</td>\n",
       "      <td>10044</td>\n",
       "      <td>./../data/train_images_patches_768_overlap/100...</td>\n",
       "      <td>./../data/train_masks_patches_768_overlap/1004...</td>\n",
       "      <td>prostate</td>\n",
       "      <td>0.4</td>\n",
       "    </tr>\n",
       "    <tr>\n",
       "      <th>2</th>\n",
       "      <td>4.0</td>\n",
       "      <td>10044</td>\n",
       "      <td>./../data/train_images_patches_768_overlap/100...</td>\n",
       "      <td>./../data/train_masks_patches_768_overlap/1004...</td>\n",
       "      <td>prostate</td>\n",
       "      <td>0.4</td>\n",
       "    </tr>\n",
       "    <tr>\n",
       "      <th>3</th>\n",
       "      <td>4.0</td>\n",
       "      <td>10044</td>\n",
       "      <td>./../data/train_images_patches_768_overlap/100...</td>\n",
       "      <td>./../data/train_masks_patches_768_overlap/1004...</td>\n",
       "      <td>prostate</td>\n",
       "      <td>0.4</td>\n",
       "    </tr>\n",
       "    <tr>\n",
       "      <th>4</th>\n",
       "      <td>4.0</td>\n",
       "      <td>10044</td>\n",
       "      <td>./../data/train_images_patches_768_overlap/100...</td>\n",
       "      <td>./../data/train_masks_patches_768_overlap/1004...</td>\n",
       "      <td>prostate</td>\n",
       "      <td>0.4</td>\n",
       "    </tr>\n",
       "  </tbody>\n",
       "</table>\n",
       "</div>"
      ],
      "text/plain": [
       "   fold     id                                              image  \\\n",
       "0   4.0  10044  ./../data/train_images_patches_768_overlap/100...   \n",
       "1   4.0  10044  ./../data/train_images_patches_768_overlap/100...   \n",
       "2   4.0  10044  ./../data/train_images_patches_768_overlap/100...   \n",
       "3   4.0  10044  ./../data/train_images_patches_768_overlap/100...   \n",
       "4   4.0  10044  ./../data/train_images_patches_768_overlap/100...   \n",
       "\n",
       "                                                mask     organ  pixel_size  \n",
       "0  ./../data/train_masks_patches_768_overlap/1004...  prostate         0.4  \n",
       "1  ./../data/train_masks_patches_768_overlap/1004...  prostate         0.4  \n",
       "2  ./../data/train_masks_patches_768_overlap/1004...  prostate         0.4  \n",
       "3  ./../data/train_masks_patches_768_overlap/1004...  prostate         0.4  \n",
       "4  ./../data/train_masks_patches_768_overlap/1004...  prostate         0.4  "
      ]
     },
     "execution_count": 20,
     "metadata": {},
     "output_type": "execute_result"
    }
   ],
   "source": [
    "train_df_768 = make_768_dataset(train_df)\n",
    "print(train_df_768.shape)\n",
    "train_df_768.head()"
   ]
  },
  {
   "cell_type": "code",
   "execution_count": 21,
   "metadata": {},
   "outputs": [
    {
     "data": {
      "text/plain": [
       "'./../data/train_images_patches_768_overlap/10044_00013.png'"
      ]
     },
     "execution_count": 21,
     "metadata": {},
     "output_type": "execute_result"
    }
   ],
   "source": [
    "train_df_768.iloc[0]['image']"
   ]
  },
  {
   "cell_type": "code",
   "execution_count": 22,
   "metadata": {},
   "outputs": [
    {
     "data": {
      "text/plain": [
       "'./../data/train_masks_patches_768_overlap/10044_00013.png'"
      ]
     },
     "execution_count": 22,
     "metadata": {},
     "output_type": "execute_result"
    }
   ],
   "source": [
    "train_df_768.iloc[0]['mask']"
   ]
  },
  {
   "cell_type": "code",
   "execution_count": 23,
   "metadata": {},
   "outputs": [
    {
     "data": {
      "text/plain": [
       "10044"
      ]
     },
     "execution_count": 23,
     "metadata": {},
     "output_type": "execute_result"
    }
   ],
   "source": [
    "train_df_768.iloc[0]['id']"
   ]
  },
  {
   "cell_type": "code",
   "execution_count": 24,
   "metadata": {},
   "outputs": [],
   "source": [
    "# ---------------------------------------------------------------\n",
    "# WARNING! THIS RESCALE IS INJECTED IN SWIN TRANSFORMER ALREADY!\n",
    "#   RGB LAYER\n",
    "# IT'S INPUTS HAVE TO BE IMAGE IN 0..1!\n",
    "# ---------------------------------------------------------------"
   ]
  },
  {
   "cell_type": "code",
   "execution_count": 25,
   "metadata": {},
   "outputs": [],
   "source": [
    "mean = np.array([0.0, 0.0, 0.0])\n",
    "std = np.array([1.0, 1.0, 1.0])"
   ]
  },
  {
   "cell_type": "code",
   "execution_count": 26,
   "metadata": {},
   "outputs": [],
   "source": [
    "train_transform= A.Compose([\n",
    "#     A.Resize(512, 512, interpolation=cv.INTER_LINEAR),\n",
    "    A.HorizontalFlip(p=0.5),\n",
    "    A.VerticalFlip(p=0.5),\n",
    "    A.RandomRotate90(p=0.5),\n",
    "    A.HueSaturationValue(p=0.25),\n",
    "    A.ShiftScaleRotate(shift_limit=0.02, scale_limit=(-0.1, 0.7),rotate_limit=90, p=0.5),\n",
    "    A.ElasticTransform(p=0.2, alpha=90, sigma=120 * 0.05, alpha_affine=120 * 0.03),\n",
    "    A.ElasticTransform(p=0.5, alpha=90, sigma=120*0.7, alpha_affine=120 * 0.8),\n",
    "    \n",
    "    A.GridDistortion(p=0.25),\n",
    "    A.Blur(blur_limit=7, p=0.1),\n",
    "    A.GaussNoise(var_limit=(20, 100), p=0.4),\n",
    "    A.ChannelDropout(p=0.05),\n",
    "    A.RandomGamma(p=0.1),\n",
    "    A.RandomBrightnessContrast(p=0.2),\n",
    "    A.Normalize(mean=[0, 0, 0], std=[1, 1, 1], \n",
    "                max_pixel_value=255, always_apply=True),\n",
    "    albumentations.pytorch.ToTensorV2()\n",
    "], p=1)"
   ]
  },
  {
   "cell_type": "code",
   "execution_count": 27,
   "metadata": {},
   "outputs": [],
   "source": [
    "val_transform = A.Compose([\n",
    "#     A.Resize(512, 512, interpolation = cv.INTER_LINEAR),\n",
    "    A.Normalize(mean=[0, 0, 0], std=[1, 1, 1],\n",
    "                 max_pixel_value=255, always_apply=True),\n",
    "    albumentations.pytorch.ToTensorV2()\n",
    "], p=1)"
   ]
  },
  {
   "cell_type": "code",
   "execution_count": 28,
   "metadata": {},
   "outputs": [],
   "source": [
    "class HubmapDataset768(Dataset):\n",
    "    def __init__(self, df, transform=None):\n",
    "\n",
    "        self.df = df\n",
    "        self.transform = transform\n",
    "        self.length = len(self.df)\n",
    "\n",
    "    def __str__(self):\n",
    "        string = ''\n",
    "        string += '\\tlen = %d\\n' % len(self)\n",
    "\n",
    "        d = self.df.organ.value_counts().to_dict()\n",
    "        for k in ['kidney', 'prostate', 'largeintestine', 'spleen', 'lung']:\n",
    "            string +=  '%24s %3d (%0.3f) \\n'%(k,d.get(k,0),d.get(k,0)/len(self.df))\n",
    "        return string\n",
    "\n",
    "    def __len__(self):\n",
    "        return self.length\n",
    "\n",
    "    def __getitem__(self, index):\n",
    "        d = self.df.iloc[index]\n",
    "        organ = ORGAN2ID[d['organ']]\n",
    "\n",
    "        image = cv.cvtColor(cv.imread(d['image']), cv.COLOR_BGR2RGB) # .astype(np.float32) / 255.0\n",
    "        mask = cv.imread(d['mask'], cv.IMREAD_GRAYSCALE)\n",
    "\n",
    "        mask = mask / max(1, mask.max())\n",
    "        \n",
    "        mask_multiclass = mask * (organ + 1)\n",
    "        \n",
    "        data = {\n",
    "            'image': image,\n",
    "            'mask': mask_multiclass,\n",
    "            'organ': organ,\n",
    "        }\n",
    "        \n",
    "        upd_data = self.transform(image=data['image'], mask=data['mask'])\n",
    "\n",
    "        data.update(upd_data)\n",
    "        return data"
   ]
  },
  {
   "cell_type": "code",
   "execution_count": 29,
   "metadata": {},
   "outputs": [],
   "source": [
    "def worker_init_fn(worker_id):\n",
    "    torch_seed = torch.initial_seed()\n",
    "    random.seed(torch_seed + worker_id)\n",
    "    if torch_seed >= 2**30:  # make sure torch_seed + workder_id < 2**32\n",
    "        torch_seed = torch_seed % 2**30\n",
    "    np.random.seed(torch_seed + worker_id)\n",
    "    random.seed(torch_seed + worker_id + 77777)"
   ]
  },
  {
   "cell_type": "code",
   "execution_count": 30,
   "metadata": {},
   "outputs": [],
   "source": [
    "train_dataset = HubmapDataset768(train_df_768[train_df_768['fold'] != CURRENT_FOLD], train_transform)\n",
    "val_dataset = HubmapDataset768(train_df_768[train_df_768['fold'] == CURRENT_FOLD], val_transform)"
   ]
  },
  {
   "cell_type": "code",
   "execution_count": 31,
   "metadata": {},
   "outputs": [
    {
     "name": "stdout",
     "output_type": "stream",
     "text": [
      "IMAGE\n",
      "torch.Size([3, 768, 768])\n",
      "image values:  0.0 1.0\n"
     ]
    },
    {
     "data": {
      "image/png": "[encoded data removed]",
      "text/plain": [
       "<Figure size 432x288 with 1 Axes>"
      ]
     },
     "metadata": {
      "needs_background": "light"
     },
     "output_type": "display_data"
    },
    {
     "name": "stdout",
     "output_type": "stream",
     "text": [
      "MASK\n",
      "torch.Size([768, 768])\n",
      "mask values:  tensor(0., dtype=torch.float64) tensor(2., dtype=torch.float64)\n"
     ]
    },
    {
     "data": {
      "image/png": "[encoded data removed]",
      "text/plain": [
       "<Figure size 432x288 with 1 Axes>"
      ]
     },
     "metadata": {
      "needs_background": "light"
     },
     "output_type": "display_data"
    }
   ],
   "source": [
    "sample = train_dataset[1]\n",
    "print('IMAGE')\n",
    "print(sample['image'].shape)\n",
    "print('image values: ', float(sample['image'].min()), float(sample['image'].max()))\n",
    "plt.imshow(sample['image'].permute((1, 2, 0)))\n",
    "plt.show()\n",
    "\n",
    "print('MASK')\n",
    "print(sample['mask'].shape)\n",
    "print('mask values: ', sample['mask'].min(), sample['mask'].max())\n",
    "plt.imshow(sample['mask'])\n",
    "plt.show()"
   ]
  },
  {
   "cell_type": "code",
   "execution_count": 32,
   "metadata": {},
   "outputs": [],
   "source": [
    "BATCH_SIZE = 4"
   ]
  },
  {
   "cell_type": "code",
   "execution_count": 33,
   "metadata": {},
   "outputs": [],
   "source": [
    "loader_params = {'shuffle': True,\n",
    "                 'num_workers': 0,\n",
    "                 'worker_init_fn': worker_init_fn}\n",
    "loader_train = DataLoader(train_dataset, \n",
    "                          batch_size=BATCH_SIZE, \n",
    "                          shuffle=True,\n",
    "                          worker_init_fn=worker_init_fn,\n",
    "                          num_workers=12\n",
    "                         )\n",
    "loader_val = DataLoader(val_dataset, \n",
    "                        batch_size=1, \n",
    "                        shuffle=False,\n",
    "                        worker_init_fn=worker_init_fn,\n",
    "                        num_workers=0\n",
    "                       )"
   ]
  },
  {
   "cell_type": "code",
   "execution_count": 34,
   "metadata": {},
   "outputs": [
    {
     "name": "stdout",
     "output_type": "stream",
     "text": [
      "IMAGE\n",
      "torch.Size([3, 768, 768])\n",
      "image values:  0.0 0.960784375667572\n"
     ]
    },
    {
     "data": {
      "image/png": "[encoded data removed]",
      "text/plain": [
       "<Figure size 432x288 with 1 Axes>"
      ]
     },
     "metadata": {
      "needs_background": "light"
     },
     "output_type": "display_data"
    },
    {
     "name": "stdout",
     "output_type": "stream",
     "text": [
      "MASK\n",
      "torch.Size([768, 768])\n",
      "mask values:  tensor(0., dtype=torch.float64) tensor(3., dtype=torch.float64)\n"
     ]
    },
    {
     "data": {
      "image/png": "[encoded data removed]",
      "text/plain": [
       "<Figure size 432x288 with 1 Axes>"
      ]
     },
     "metadata": {
      "needs_background": "light"
     },
     "output_type": "display_data"
    }
   ],
   "source": [
    "sample = val_dataset[2]\n",
    "print('IMAGE')\n",
    "print(sample['image'].shape)\n",
    "print('image values: ', float(sample['image'].min()), float(sample['image'].max()))\n",
    "plt.imshow(sample['image'].permute((1, 2, 0)))\n",
    "plt.show()\n",
    "\n",
    "print('MASK')\n",
    "print(sample['mask'].shape)\n",
    "print('mask values: ', sample['mask'].min(), sample['mask'].max())\n",
    "plt.imshow(sample['mask'])\n",
    "plt.show()"
   ]
  },
  {
   "cell_type": "markdown",
   "metadata": {},
   "source": [
    "# model"
   ]
  },
  {
   "cell_type": "code",
   "execution_count": 35,
   "metadata": {},
   "outputs": [
    {
     "name": "stdout",
     "output_type": "stream",
     "text": [
      "Tue Sep  6 17:31:40 2022       \n",
      "+-----------------------------------------------------------------------------+\n",
      "| NVIDIA-SMI 418.152.00   Driver Version: 418.152.00   CUDA Version: 11.1     |\n",
      "|-------------------------------+----------------------+----------------------+\n",
      "| GPU  Name        Persistence-M| Bus-Id        Disp.A | Volatile Uncorr. ECC |\n",
      "| Fan  Temp  Perf  Pwr:Usage/Cap|         Memory-Usage | GPU-Util  Compute M. |\n",
      "|===============================+======================+======================|\n",
      "|   0  Tesla V100-DGXS...  On   | 00000000:07:00.0 Off |                    0 |\n",
      "| N/A   43C    P0    40W / 300W |     57MiB / 32478MiB |      0%      Default |\n",
      "+-------------------------------+----------------------+----------------------+\n",
      "|   1  Tesla V100-DGXS...  On   | 00000000:08:00.0 Off |                    0 |\n",
      "| N/A   44C    P0    54W / 300W |   1905MiB / 32478MiB |      0%      Default |\n",
      "+-------------------------------+----------------------+----------------------+\n",
      "|   2  Tesla V100-DGXS...  On   | 00000000:0E:00.0 Off |                    0 |\n",
      "| N/A   43C    P0    37W / 300W |     12MiB / 32478MiB |      0%      Default |\n",
      "+-------------------------------+----------------------+----------------------+\n",
      "|   3  Tesla V100-DGXS...  On   | 00000000:0F:00.0 Off |                    0 |\n",
      "| N/A   43C    P0    37W / 300W |     12MiB / 32478MiB |      0%      Default |\n",
      "+-------------------------------+----------------------+----------------------+\n",
      "                                                                               \n",
      "+-----------------------------------------------------------------------------+\n",
      "| Processes:                                                       GPU Memory |\n",
      "|  GPU       PID   Type   Process name                             Usage      |\n",
      "|=============================================================================|\n",
      "+-----------------------------------------------------------------------------+\n"
     ]
    }
   ],
   "source": [
    "!nvidia-smi"
   ]
  },
  {
   "cell_type": "code",
   "execution_count": null,
   "metadata": {},
   "outputs": [],
   "source": []
  },
  {
   "cell_type": "code",
   "execution_count": 36,
   "metadata": {},
   "outputs": [],
   "source": [
    "encoder = coat_parallel_small\n",
    "decoder = daformer_conv3x3\n",
    "\n",
    "model = Net(encoder=encoder, decoder=decoder, n_classes=6).to(device)"
   ]
  },
  {
   "cell_type": "code",
   "execution_count": 37,
   "metadata": {},
   "outputs": [],
   "source": [
    "# model.encoder.load_state_dict(torch.load('./../coat-first-try/coat_small_7479cf9b.pth')['model'], strict=False)"
   ]
  },
  {
   "cell_type": "code",
   "execution_count": 38,
   "metadata": {},
   "outputs": [],
   "source": [
    "# model.load_state_dict(torch.load('./checkpoint_fold_3/mit-b2_ep_006_dice_0.762341.pt'))"
   ]
  },
  {
   "cell_type": "code",
   "execution_count": 39,
   "metadata": {},
   "outputs": [],
   "source": [
    "# state_dict = torch.load('./../coat-simmim-with-organ-token-s05-p768/checkpoint_pretrain_fold_3/coat-small_ep_024_lastest.pt')"
   ]
  },
  {
   "cell_type": "code",
   "execution_count": 40,
   "metadata": {},
   "outputs": [],
   "source": [
    "# state_dict.keys()"
   ]
  },
  {
   "cell_type": "code",
   "execution_count": 41,
   "metadata": {},
   "outputs": [
    {
     "data": {
      "text/plain": [
       "_IncompatibleKeys(missing_keys=['decoder.mlp.0.0.weight', 'decoder.mlp.0.1.weight', 'decoder.mlp.0.1.bias', 'decoder.mlp.0.1.running_mean', 'decoder.mlp.0.1.running_var', 'decoder.mlp.1.0.weight', 'decoder.mlp.1.1.weight', 'decoder.mlp.1.1.bias', 'decoder.mlp.1.1.running_mean', 'decoder.mlp.1.1.running_var', 'decoder.mlp.1.3.mixing', 'decoder.mlp.2.0.weight', 'decoder.mlp.2.1.weight', 'decoder.mlp.2.1.bias', 'decoder.mlp.2.1.running_mean', 'decoder.mlp.2.1.running_var', 'decoder.mlp.2.3.mixing', 'decoder.mlp.3.0.weight', 'decoder.mlp.3.1.weight', 'decoder.mlp.3.1.bias', 'decoder.mlp.3.1.running_mean', 'decoder.mlp.3.1.running_var', 'decoder.mlp.3.3.mixing', 'decoder.fuse.0.weight', 'decoder.fuse.1.weight', 'decoder.fuse.1.bias', 'decoder.fuse.1.running_mean', 'decoder.fuse.1.running_var', 'logit.0.weight', 'logit.0.bias', 'logit.1.mixing', 'aux_heads_serial.0.0.weight', 'aux_heads_serial.0.0.bias', 'aux_heads_serial.0.1.weight', 'aux_heads_serial.0.1.bias', 'aux_heads_serial.0.1.running_mean', 'aux_heads_serial.0.1.running_var', 'aux_heads_serial.0.3.weight', 'aux_heads_serial.0.3.bias', 'aux_heads_serial.1.0.weight', 'aux_heads_serial.1.0.bias', 'aux_heads_serial.1.1.weight', 'aux_heads_serial.1.1.bias', 'aux_heads_serial.1.1.running_mean', 'aux_heads_serial.1.1.running_var', 'aux_heads_serial.1.3.weight', 'aux_heads_serial.1.3.bias', 'aux_heads_serial.2.0.weight', 'aux_heads_serial.2.0.bias', 'aux_heads_serial.2.1.weight', 'aux_heads_serial.2.1.bias', 'aux_heads_serial.2.1.running_mean', 'aux_heads_serial.2.1.running_var', 'aux_heads_serial.2.3.weight', 'aux_heads_serial.2.3.bias', 'aux_heads_serial.3.0.weight', 'aux_heads_serial.3.0.bias', 'aux_heads_serial.3.1.weight', 'aux_heads_serial.3.1.bias', 'aux_heads_serial.3.1.running_mean', 'aux_heads_serial.3.1.running_var', 'aux_heads_serial.3.3.weight', 'aux_heads_serial.3.3.bias', 'aux_heads_parallel.0.0.weight', 'aux_heads_parallel.0.0.bias', 'aux_heads_parallel.0.1.weight', 'aux_heads_parallel.0.1.bias', 'aux_heads_parallel.0.1.running_mean', 'aux_heads_parallel.0.1.running_var', 'aux_heads_parallel.0.3.weight', 'aux_heads_parallel.0.3.bias', 'aux_heads_parallel.1.0.weight', 'aux_heads_parallel.1.0.bias', 'aux_heads_parallel.1.1.weight', 'aux_heads_parallel.1.1.bias', 'aux_heads_parallel.1.1.running_mean', 'aux_heads_parallel.1.1.running_var', 'aux_heads_parallel.1.3.weight', 'aux_heads_parallel.1.3.bias', 'aux_heads_parallel.2.0.weight', 'aux_heads_parallel.2.0.bias', 'aux_heads_parallel.2.1.weight', 'aux_heads_parallel.2.1.bias', 'aux_heads_parallel.2.1.running_mean', 'aux_heads_parallel.2.1.running_var', 'aux_heads_parallel.2.3.weight', 'aux_heads_parallel.2.3.bias', 'aux_heads_parallel.3.0.weight', 'aux_heads_parallel.3.0.bias', 'aux_heads_parallel.3.1.weight', 'aux_heads_parallel.3.1.bias', 'aux_heads_parallel.3.1.running_mean', 'aux_heads_parallel.3.1.running_var', 'aux_heads_parallel.3.3.weight', 'aux_heads_parallel.3.3.bias'], unexpected_keys=['encoder.mask_token', 'decoder.0.weight', 'decoder.0.bias', 'decoder.3.weight', 'decoder.3.bias'])"
      ]
     },
     "execution_count": 41,
     "metadata": {},
     "output_type": "execute_result"
    }
   ],
   "source": [
    "# pretrain decoder with frozen encoder\n",
    "model.load_state_dict(torch.load('./../coat-simmim-with-organ-token-s05-p768/checkpoint_pretrain_fold_3/coat-small_ep_024_lastest.pt'), strict=False)"
   ]
  },
  {
   "cell_type": "code",
   "execution_count": 42,
   "metadata": {},
   "outputs": [],
   "source": [
    "# full train decoder with encoder\n",
    "# model.load_state_dict(torch.load('./checkpoint_fold_3/coat-small_freezed_enc_ep_003_dice_0.686496.pt'), strict=False)"
   ]
  },
  {
   "cell_type": "code",
   "execution_count": 43,
   "metadata": {},
   "outputs": [
    {
     "data": {
      "text/plain": [
       "31852122"
      ]
     },
     "execution_count": 43,
     "metadata": {},
     "output_type": "execute_result"
    }
   ],
   "source": [
    "sum(p.numel() for p in model.parameters() if p.requires_grad)"
   ]
  },
  {
   "cell_type": "code",
   "execution_count": 44,
   "metadata": {},
   "outputs": [],
   "source": [
    "# pretrain decoder with frozen encoder\n",
    "for param in model.rgb.parameters():\n",
    "    param.requires_grad = False"
   ]
  },
  {
   "cell_type": "code",
   "execution_count": 45,
   "metadata": {},
   "outputs": [],
   "source": [
    "# pretrain decoder with frozen encoder\n",
    "for param in model.encoder.parameters():\n",
    "    param.requires_grad = False"
   ]
  },
  {
   "cell_type": "code",
   "execution_count": 46,
   "metadata": {},
   "outputs": [
    {
     "data": {
      "text/plain": [
       "10475578"
      ]
     },
     "execution_count": 46,
     "metadata": {},
     "output_type": "execute_result"
    }
   ],
   "source": [
    "sum(p.numel() for p in model.parameters() if p.requires_grad)"
   ]
  },
  {
   "cell_type": "code",
   "execution_count": null,
   "metadata": {},
   "outputs": [],
   "source": []
  },
  {
   "cell_type": "markdown",
   "metadata": {},
   "source": [
    "# lr schedule"
   ]
  },
  {
   "cell_type": "code",
   "execution_count": 47,
   "metadata": {},
   "outputs": [],
   "source": [
    "def lr_function(step):\n",
    "    start_lr = 1e-5; min_lr = 1e-5; max_lr = 5e-4    #A\n",
    "    rampup_epochs = 1500; sustain_epochs = 20000; exp_decay = .99997    #B\n",
    " \n",
    "    def lr(epoch, start_lr, min_lr, max_lr, rampup_epochs,\n",
    "           sustain_epochs, exp_decay):\n",
    "        if epoch < rampup_epochs:    #C\n",
    "            lr = ((max_lr - start_lr) / rampup_epochs\n",
    "                        * epoch + start_lr)\n",
    "        elif epoch < rampup_epochs + sustain_epochs:    #D\n",
    "            lr = max_lr\n",
    "        else:    #E\n",
    "#             lr = max((max_lr - min_lr) *\n",
    "#                       exp_decay**(epoch - rampup_epochs -\n",
    "#                                     sustain_epochs)* (0.8+0.00*np.sin(epoch / 100)), 0) + min_lr\n",
    "            lr = 0.00025\n",
    "        return lr\n",
    " \n",
    "    return lr(step, start_lr, min_lr, max_lr, rampup_epochs, sustain_epochs, exp_decay) / max_lr"
   ]
  },
  {
   "cell_type": "code",
   "execution_count": 48,
   "metadata": {},
   "outputs": [
    {
     "data": {
      "image/png": "[encoded data removed]",
      "text/plain": [
       "<Figure size 432x288 with 1 Axes>"
      ]
     },
     "metadata": {
      "needs_background": "light"
     },
     "output_type": "display_data"
    }
   ],
   "source": [
    "xxx = []\n",
    "for i in range(30000):\n",
    "    xxx.append(lr_function(i))\n",
    "    \n",
    "plt.plot(xxx)\n",
    "plt.grid()\n",
    "plt.show()"
   ]
  },
  {
   "cell_type": "markdown",
   "metadata": {},
   "source": [
    "# Criterions"
   ]
  },
  {
   "cell_type": "code",
   "execution_count": 49,
   "metadata": {},
   "outputs": [],
   "source": [
    "# !pip install --upgrade timm"
   ]
  },
  {
   "cell_type": "code",
   "execution_count": 50,
   "metadata": {},
   "outputs": [],
   "source": [
    "import segmentation_models_pytorch as smp"
   ]
  },
  {
   "cell_type": "code",
   "execution_count": 51,
   "metadata": {},
   "outputs": [],
   "source": [
    "# def criterion_aux_loss(logit, mask):\n",
    "#     mask = F.interpolate(mask,size=logit.shape[-2:], mode='nearest')\n",
    "#     print(logit.shape, mask.shape)\n",
    "#     loss = F.cross_entropy(logit, mask)\n",
    "#     return loss"
   ]
  },
  {
   "cell_type": "code",
   "execution_count": 52,
   "metadata": {},
   "outputs": [],
   "source": [
    "kl_loss = nn.KLDivLoss(reduction=\"mean\")"
   ]
  },
  {
   "cell_type": "code",
   "execution_count": 53,
   "metadata": {},
   "outputs": [],
   "source": [
    "def criterion_aux_scaled(preds, masks, organs):\n",
    "    B = preds.shape[0]\n",
    "    pred_shape = tuple(np.array(preds.shape[-2:]))\n",
    "    masks_np = masks.detach().cpu().numpy().astype(np.float32).transpose((1, 2, 0)) # H W B\n",
    "#     print(masks_np.shape)\n",
    "    \n",
    "#     print(masks_np.shape, masks_np.max())\n",
    "    masks_np = masks_np / (masks_np.max() + 1e-8)\n",
    "#     plt.figure(figsize=(9, 9))\n",
    "#     plt.imshow(masks_np[:, :, 0])\n",
    "#     plt.show()\n",
    "#     print(masks_np.max())\n",
    "    \n",
    "#     print(pred_shape)\n",
    "    \n",
    "    masks_np = cv.resize(masks_np, dsize=pred_shape, interpolation=cv.INTER_AREA)\n",
    "    \n",
    "    if len(masks_np.shape) < 3:\n",
    "        masks_np = masks_np[:, :, None]\n",
    "#     print(masks_np.shape)\n",
    "    masks_rescaled = torch.tensor(masks_np).permute((2, 0, 1)).unsqueeze(1)\n",
    "    \n",
    "    scales = torch.eye(6)[np.array(organs) + 1].unsqueeze(2).unsqueeze(3)\n",
    "    scales_back = torch.eye(6)[[0] * B].unsqueeze(2).unsqueeze(3)\n",
    "    \n",
    "#     print('!!')\n",
    "#     print(scales.shape)\n",
    "#     print(scales_back.shape)\n",
    "#     print(masks_rescaled.shape)\n",
    "    \n",
    "#     new_masks = torch.zeros(B, 6, *pred_shape, dtype=torch.float16)\n",
    "    \n",
    "    masks_out = (masks_rescaled * scales + (1 - masks_rescaled) * scales_back).to(device)\n",
    "    \n",
    "    input_aux = F.log_softmax(preds, dim=1).to(device)\n",
    "    loss = kl_loss(input_aux, masks_out)\n",
    "    \n",
    "    return loss"
   ]
  },
  {
   "cell_type": "code",
   "execution_count": 54,
   "metadata": {},
   "outputs": [],
   "source": [
    "ce_loss = nn.CrossEntropyLoss(label_smoothing=0.05).to(device)"
   ]
  },
  {
   "cell_type": "code",
   "execution_count": 55,
   "metadata": {},
   "outputs": [],
   "source": [
    "criterion_aux_loss = ce_loss"
   ]
  },
  {
   "cell_type": "code",
   "execution_count": 56,
   "metadata": {},
   "outputs": [],
   "source": [
    "criterion_tversky_punish_fn = smp.losses.TverskyLoss(\n",
    "    mode='multiclass', classes=None, log_loss=False, \n",
    "    from_logits=True, smooth=1e-6, ignore_index=None, \n",
    "    eps=1e-07, alpha=0.3, beta=0.7, gamma=3/4\n",
    ")\n",
    "\n",
    "criterion_tversky_punish_fp = smp.losses.TverskyLoss(\n",
    "    mode='multiclass', classes=None, log_loss=False, \n",
    "    from_logits=True, smooth=1e-6, ignore_index=None, \n",
    "    eps=1e-07, alpha=0.7, beta=0.3, gamma=3/4\n",
    ")"
   ]
  },
  {
   "cell_type": "code",
   "execution_count": 57,
   "metadata": {},
   "outputs": [],
   "source": [
    "criterion_dice = smp.losses.TverskyLoss(\n",
    "    mode='multiclass', classes=None, log_loss=False, \n",
    "    from_logits=True, smooth=0.01, ignore_index=None, \n",
    "    eps=1e-07, alpha=0.5, beta=0.5, gamma=1\n",
    ")"
   ]
  },
  {
   "cell_type": "code",
   "execution_count": 58,
   "metadata": {},
   "outputs": [],
   "source": [
    "def criterion_image_1(predicts, masks):\n",
    "    return 0.3 * ce_loss(predicts, masks) + 0.7 * criterion_tversky_punish_fn(predicts, masks)"
   ]
  },
  {
   "cell_type": "code",
   "execution_count": 59,
   "metadata": {},
   "outputs": [],
   "source": [
    "def criterion_image_2(predicts, masks):\n",
    "    return 0.3 * ce_loss(predicts, masks) + 0.7 * criterion_tversky_punish_fp(predicts, masks)"
   ]
  },
  {
   "cell_type": "code",
   "execution_count": 60,
   "metadata": {},
   "outputs": [],
   "source": [
    "def criterion_image_3(predicts, masks):\n",
    "    return 0.4 * ce_loss(predicts, masks) + 0.6 * criterion_dice(predicts, masks)"
   ]
  },
  {
   "cell_type": "code",
   "execution_count": 61,
   "metadata": {},
   "outputs": [],
   "source": [
    "def criterion_schedule(epoch):\n",
    "#     if epoch < 40:\n",
    "    criterion_image = criterion_image_3\n",
    "    criterion_aux = criterion_aux_scaled\n",
    "#     elif 40 <= epoch <= 70:\n",
    "#         criterion_image = criterion_image_1\n",
    "#         criterion_aux = criterion_aux_loss\n",
    "#     elif 70 <= epoch <= 80:\n",
    "#         criterion_image = criterion_image_2\n",
    "#         criterion_aux = criterion_aux_loss\n",
    "#     else:\n",
    "#         criterion_image = criterion_image_3\n",
    "#         criterion_aux = criterion_aux_loss\n",
    "        \n",
    "    return criterion_image, criterion_aux"
   ]
  },
  {
   "cell_type": "markdown",
   "metadata": {},
   "source": [
    "# validation code"
   ]
  },
  {
   "cell_type": "code",
   "execution_count": 62,
   "metadata": {},
   "outputs": [],
   "source": [
    "import monai\n",
    "from monai.utils.enums import BlendMode, PytorchPadMode\n",
    "from monai.inferers import sliding_window_inference"
   ]
  },
  {
   "cell_type": "code",
   "execution_count": 63,
   "metadata": {},
   "outputs": [],
   "source": [
    "def dice_coef2(y_true, y_pred):\n",
    "    y_true_f = y_true.flatten()\n",
    "    y_pred_f = y_pred.flatten()\n",
    "    union = np.sum(y_true_f) + np.sum(y_pred_f)\n",
    "    if union < 1: \n",
    "        return 1\n",
    "    intersection = np.sum(y_true_f * y_pred_f)\n",
    "#     print('UNION', union)\n",
    "    return 2. * intersection / union"
   ]
  },
  {
   "cell_type": "code",
   "execution_count": 64,
   "metadata": {},
   "outputs": [],
   "source": [
    "class Predictor(nn.Module):\n",
    "    def __init__(self, model):\n",
    "        super().__init__()\n",
    "        self.model = model\n",
    "        self.organ = None\n",
    "    \n",
    "    def forward(self, x):\n",
    "        out = self.model({'image': x, 'organ': [ORGAN2ID[self.organ]]})\n",
    "        prob = F.softmax(out['logits'], dim=1)\n",
    "        return prob"
   ]
  },
  {
   "cell_type": "code",
   "execution_count": 65,
   "metadata": {},
   "outputs": [],
   "source": [
    "def infer_id(predictor, id: str, organ: str, pixel_size=0.4):\n",
    "    THRESHOLD = 0.5\n",
    "    \n",
    "    image = cv.imread('./../data/train_images/{}.tiff'.format(id))\n",
    "    image = cv.cvtColor(image, cv.COLOR_BGR2RGB)\n",
    "    \n",
    "    gt_mask  = np.load('./../data/train_masks/{}.npy'.format(id))\n",
    "    \n",
    "    scale_factor = 0.5 * (pixel_size / 0.4)\n",
    "    image = cv.resize(image, None, fx=scale_factor, fy=scale_factor, interpolation=cv.INTER_AREA)\n",
    "    \n",
    "#     image_rot = image.copy()\n",
    "    masks = []\n",
    "    for _ in range(1):\n",
    "#         image_rot = cv.rotate(image, cv.ROTATE_90_CLOCKWISE)\n",
    "        \n",
    "        image_tensor = val_transform(image=image)['image']\n",
    "\n",
    "        image_tensor = image_tensor.unsqueeze(0).to(device)\n",
    "        predictor.organ = organ\n",
    "\n",
    "        with torch.no_grad():\n",
    "            infer_result = sliding_window_inference(\n",
    "                image_tensor, roi_size=(768, 768), sw_batch_size=1, predictor=predictor, \n",
    "                overlap=0.25, mode=BlendMode.CONSTANT, sigma_scale=0.125, \n",
    "                padding_mode=PytorchPadMode.CONSTANT, cval=0.0,       \n",
    "            )\n",
    "\n",
    "        organ_id = ORGAN2ID[organ] + 1\n",
    "        pr_mask = infer_result.detach().cpu().numpy()[0, organ_id]\n",
    "        masks.append(pr_mask)\n",
    "        \n",
    "    pr_mask = (np.array(masks).mean(axis=0) > THRESHOLD).astype(np.uint8)\n",
    "#     print(gt_mask.shape, gt_mask.dtype, pr_mask.dtype)\n",
    "    pr_mask = cv.resize(pr_mask, gt_mask.shape, cv.INTER_NEAREST)\n",
    "    \n",
    "    return pr_mask, gt_mask"
   ]
  },
  {
   "cell_type": "code",
   "execution_count": 66,
   "metadata": {},
   "outputs": [],
   "source": [
    "def validate(val_df, model):\n",
    "    predictor = Predictor(model)\n",
    "    \n",
    "    dices = []\n",
    "    \n",
    "    by_organ_dice = {key:[] for key in ORGAN2ID.keys()}\n",
    "    for index, row in tqdm(val_df.iterrows(), total=len(val_df)):\n",
    "        id = row['id']\n",
    "        organ = row['organ']\n",
    "        pixel_size = row['pixel_size']\n",
    "        pred_mask, gt_mask = infer_id(predictor, id, organ=organ, pixel_size=pixel_size)\n",
    "        dice = dice_coef2(gt_mask, pred_mask)\n",
    "        dices.append(dice)\n",
    "        by_organ_dice[organ].append(dice)\n",
    "    new_record = dict()\n",
    "    new_record['dices'] = dices\n",
    "    new_record['by_organ'] = by_organ_dice\n",
    "    return new_record"
   ]
  },
  {
   "cell_type": "markdown",
   "metadata": {},
   "source": [
    "# training"
   ]
  },
  {
   "cell_type": "code",
   "execution_count": 67,
   "metadata": {},
   "outputs": [],
   "source": [
    "val_df_id = train_df[train_df['fold'] == CURRENT_FOLD]"
   ]
  },
  {
   "cell_type": "code",
   "execution_count": 68,
   "metadata": {},
   "outputs": [],
   "source": [
    "learning_rate = 4e-5\n",
    "optimizer = torch.optim.AdamW(model.parameters(), lr=learning_rate, weight_decay=5e-3)"
   ]
  },
  {
   "cell_type": "code",
   "execution_count": 69,
   "metadata": {},
   "outputs": [],
   "source": [
    "scaler = amp.GradScaler(enabled = is_amp)"
   ]
  },
  {
   "cell_type": "code",
   "execution_count": 70,
   "metadata": {},
   "outputs": [],
   "source": [
    "scheduler_warmup = torch.optim.lr_scheduler.LambdaLR(optimizer, lr_function)"
   ]
  },
  {
   "cell_type": "code",
   "execution_count": 71,
   "metadata": {},
   "outputs": [],
   "source": [
    "# swa_scheduler = SWALR(optimizer, anneal_strategy=\"linear\", anneal_epochs=5, swa_lr=0.00001)"
   ]
  },
  {
   "cell_type": "code",
   "execution_count": 72,
   "metadata": {},
   "outputs": [],
   "source": [
    "train_loss = []\n",
    "accuracy = [] \n",
    "lr_hist = []"
   ]
  },
  {
   "cell_type": "code",
   "execution_count": 73,
   "metadata": {},
   "outputs": [],
   "source": [
    "Path('./checkpoint_fold_{}'.format(CURRENT_FOLD)).mkdir(parents=True, exist_ok=True)"
   ]
  },
  {
   "cell_type": "code",
   "execution_count": 74,
   "metadata": {},
   "outputs": [
    {
     "data": {
      "text/plain": [
       "86"
      ]
     },
     "execution_count": 74,
     "metadata": {},
     "output_type": "execute_result"
    }
   ],
   "source": [
    "logfile = open('./checkpoint_fold_{}'.format(CURRENT_FOLD) + '/log.train.txt', mode='a')\n",
    "logfile.write('\\n--- [START %s] %s\\n\\n' % ('mit-b2', '-' * 64))"
   ]
  },
  {
   "cell_type": "code",
   "execution_count": 75,
   "metadata": {},
   "outputs": [],
   "source": [
    "def log(string):\n",
    "    print(string)\n",
    "    logfile.write(string + '\\n')"
   ]
  },
  {
   "cell_type": "code",
   "execution_count": 76,
   "metadata": {},
   "outputs": [],
   "source": [
    "# SWA_START = 12"
   ]
  },
  {
   "cell_type": "code",
   "execution_count": 77,
   "metadata": {},
   "outputs": [],
   "source": [
    "N_EPOCHS = 120\n",
    "global_it = 0\n",
    "VIRTUAL_BATCH_SIZE = 2"
   ]
  },
  {
   "cell_type": "code",
   "execution_count": null,
   "metadata": {},
   "outputs": [],
   "source": [
    "for epoch in range(0, N_EPOCHS):\n",
    "    criterion_image, criterion_aux = criterion_schedule(epoch)\n",
    "    \n",
    "    model.train()\n",
    "    \n",
    "    batch_train_loss = []\n",
    "    \n",
    "    for iteration, batch in enumerate(loader_train):\n",
    "        global_it += 1\n",
    "        \n",
    "        batch['image'] = batch['image'].half().to(device)\n",
    "        batch['mask' ] = batch['mask' ].to(device, dtype=torch.long)\n",
    "#         batch['organ'] = batch['organ'].cuda()\n",
    "\n",
    "        with amp.autocast(enabled = is_amp):\n",
    "            output = model(batch)\n",
    "\n",
    "            loss_logit      = criterion_image(output['logits'],   batch['mask'])\n",
    "#             loss_aux0  = criterion_aux  (output['aux0_logits'],  batch['mask']).mean()\n",
    "            loss_s_aux1  = criterion_aux  (output['aux_serial_1'],  batch['mask'], batch['organ']).mean()\n",
    "            loss_s_aux2  = criterion_aux  (output['aux_serial_2'],  batch['mask'], batch['organ']).mean()\n",
    "            loss_s_aux3  = criterion_aux  (output['aux_serial_3'],  batch['mask'], batch['organ']).mean()\n",
    "        \n",
    "            loss_p_aux1  = criterion_aux  (output['aux_parallel_1'],  batch['mask'], batch['organ']).mean()\n",
    "            loss_p_aux2  = criterion_aux  (output['aux_parallel_2'],  batch['mask'], batch['organ']).mean()\n",
    "            loss_p_aux3  = criterion_aux  (output['aux_parallel_2'],  batch['mask'], batch['organ']).mean()\n",
    "            \n",
    "        \n",
    "#             loss_s_aux3  = criterion_aux  (output['aux_serial_2'],  batch['mask']).mean()\n",
    "        \n",
    "        optimizer.zero_grad()\n",
    "#         loss = loss0 + 0.4 * loss_aux0 + 0.1 * loss_aux1 + 0.005 * loss_aux2\n",
    "        loss = loss_logit + \\\n",
    "            0.2 * loss_s_aux1 + 0.2 * loss_s_aux2 + 0.2 * loss_s_aux3 + \\\n",
    "            0.2 * loss_p_aux1 + 0.2 * loss_p_aux2 + 0.2 * loss_p_aux3\n",
    "        \n",
    "        \n",
    "        scaler.scale(loss).backward()\n",
    "\n",
    "        scaler.unscale_(optimizer)\n",
    "        scaler.step(optimizer)\n",
    "        scaler.update()\n",
    "\n",
    "        \n",
    "        # ---\n",
    "                 \n",
    "        batch_train_loss.append(loss.item())          \n",
    "        \n",
    "        if global_it % VIRTUAL_BATCH_SIZE == 0:\n",
    "            train_loss.append(np.mean(batch_train_loss))\n",
    "            batch_train_loss = []\n",
    "            lr_hist.append(optimizer.param_groups[0]['lr'])\n",
    "            scheduler_warmup.step()\n",
    "                    \n",
    "        if global_it % (VIRTUAL_BATCH_SIZE * 5) == 0:\n",
    "            log('==> Epoch {} ({:03d}/{:03d}) | loss: {:.5f}'.format(epoch, iteration, len(loader_train), loss.item()))\n",
    "\n",
    "\n",
    "        if iteration % (VIRTUAL_BATCH_SIZE * 40) == 0:\n",
    "            clear_output()\n",
    "            \n",
    "            fig, (ax1, ax2, ax3) = plt.subplots(1, 3, figsize=(12, 4))\n",
    "            fig.suptitle('Sample image from training')\n",
    "            ax1.imshow(np.clip(batch['image'][0].detach().permute((1, 2, 0)).cpu().numpy() * std + mean, 0, 1.0))\n",
    "            ax2.imshow(batch['mask'].detach().cpu().numpy()[0])\n",
    "            pred_mask = torch.softmax(output['logits'].detach(), dim=1)[0, batch['organ'][0].item() + 1]\n",
    "            ax3.imshow(pred_mask.cpu().numpy().astype(np.float32), vmin=0.0, vmax=1.0)\n",
    "            plt.show()\n",
    "\n",
    "            plt.figure(figsize=(10, 5))\n",
    "            plt.yscale('log')\n",
    "            plt.plot(train_loss)\n",
    "            plt.grid()\n",
    "            plt.show()\n",
    "              \n",
    "            plt.figure(figsize=(10, 4))\n",
    "            plt.plot(lr_hist, color='red')\n",
    "            plt.title('lr')\n",
    "            plt.grid()\n",
    "            plt.show()\n",
    "        \n",
    "    # val -------------------------------\n",
    "    if epoch % 1 == 0:\n",
    "        log('Eval')\n",
    "        model.eval()\n",
    "\n",
    "        with torch.no_grad():\n",
    "            val_res = validate(val_df_id, model)\n",
    "            val_dice = np.mean(val_res['dices'])\n",
    "            log('DICE: {}'.format(val_dice))\n",
    "            for key, value in val_res['by_organ'].items():\n",
    "                log('{:20}: {:6.5f}'.format(key, np.mean(value)))\n",
    "\n",
    "            torch.save(model.state_dict(), os.path.join(\n",
    "                './checkpoint_fold_{}'.format(CURRENT_FOLD), \n",
    "                'coat-small_ep_{:03d}_dice_{:08.6f}.pt'.format(epoch, val_dice)\n",
    "            )) \n",
    "#             if epoch > SWA_START:\n",
    "#                 torch.save(swa_model.state_dict(), os.path.join(\n",
    "#                     './checkpoint_fold_{}'.format(CURRENT_FOLD), \n",
    "#                     'mit-b2_swa_ep_{:03d}_dice_{:08.6f}.pt'.format(epoch, val_dice)\n",
    "#                 )) \n",
    "            logfile.flush()\n",
    "    \n",
    "    if epoch == 3:\n",
    "        # pretrain decoder with frozen encoder\n",
    "        \n",
    "        for param in model.rgb.parameters():\n",
    "            param.requires_grad = True\n",
    "        for param in model.encoder.parameters():\n",
    "            param.requires_grad = True"
   ]
  },
  {
   "cell_type": "markdown",
   "metadata": {},
   "source": [
    "#### kek"
   ]
  },
  {
   "cell_type": "markdown",
   "metadata": {},
   "source": [
    "# SWA for CoaT is very special due to shared weights"
   ]
  },
  {
   "cell_type": "markdown",
   "metadata": {},
   "source": [
    "###  to be done"
   ]
  },
  {
   "cell_type": "code",
   "execution_count": 77,
   "metadata": {},
   "outputs": [
    {
     "name": "stdout",
     "output_type": "stream",
     "text": [
      "Eval\n"
     ]
    },
    {
     "name": "stderr",
     "output_type": "stream",
     "text": [
      "100%|██████████| 70/70 [01:39<00:00,  1.42s/it]\n"
     ]
    },
    {
     "name": "stdout",
     "output_type": "stream",
     "text": [
      "DICE: 0.7216385114663681\n",
      "kidney              : 0.87799\n",
      "prostate            : 0.82552\n",
      "largeintestine      : 0.85965\n",
      "spleen              : 0.62392\n",
      "lung                : 0.17946\n"
     ]
    }
   ],
   "source": [
    "log('Eval')\n",
    "model.eval()\n",
    "\n",
    "with torch.no_grad():\n",
    "    val_res = validate(val_df_id, model)\n",
    "    val_dice = np.mean(val_res['dices'])\n",
    "    log('DICE: {}'.format(val_dice))\n",
    "    for key, value in val_res['by_organ'].items():\n",
    "        log('{:20}: {:6.5f}'.format(key, np.mean(value)))\n",
    "\n",
    "    torch.save(model.state_dict(), os.path.join(\n",
    "        './checkpoint_fold_{}'.format(CURRENT_FOLD), \n",
    "        'coat-small_ep_{:03d}_dice_{:08.6f}.pt'.format(epoch, val_dice)\n",
    "    )) \n",
    "\n",
    "    logfile.flush()"
   ]
  },
  {
   "cell_type": "code",
   "execution_count": null,
   "metadata": {},
   "outputs": [],
   "source": []
  }
 ],
 "metadata": {
  "kernelspec": {
   "display_name": "Python 3",
   "language": "python",
   "name": "python3"
  },
  "language_info": {
   "codemirror_mode": {
    "name": "ipython",
    "version": 3
   },
   "file_extension": ".py",
   "mimetype": "text/x-python",
   "name": "python",
   "nbconvert_exporter": "python",
   "pygments_lexer": "ipython3",
   "version": "3.6.10"
  }
 },
 "nbformat": 4,
 "nbformat_minor": 4
}
